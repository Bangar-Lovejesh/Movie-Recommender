{
 "cells": [
  {
   "cell_type": "markdown",
   "source": [
    "# Data preparation notebook for recommender project"
   ],
   "metadata": {
    "collapsed": false
   },
   "id": "756f42ea9db3e076"
  },
  {
   "cell_type": "code",
   "outputs": [],
   "source": [
    "import ast\n",
    "from pathlib import Path\n",
    "\n",
    "import numpy as np\n",
    "\n",
    "# You need a kaggle account to use this\n",
    "# https://pypi.org/project/opendatasets/\n",
    "import opendatasets as od\n",
    "import pandas as pd\n",
    "from sentence_transformers import SentenceTransformer, util\n",
    "from sklearn.metrics.pairwise import cosine_similarity\n",
    "from sklearn.preprocessing import MultiLabelBinarizer"
   ],
   "metadata": {
    "collapsed": false,
    "ExecuteTime": {
     "end_time": "2024-01-03T21:47:53.843545895Z",
     "start_time": "2024-01-03T21:47:52.035426012Z"
    }
   },
   "id": "8286ccb0b1c61341",
   "execution_count": 1
  },
  {
   "cell_type": "code",
   "outputs": [
    {
     "name": "stdout",
     "output_type": "stream",
     "text": [
      "Skipping, found downloaded files in \"./netflix-shows\" (use force=True to force download)\n",
      "Skipping, found downloaded files in \"./the-movies-dataset\" (use force=True to force download)\n"
     ]
    }
   ],
   "source": [
    "od.download(\"https://www.kaggle.com/datasets/shivamb/netflix-shows\")\n",
    "od.download(\"https://www.kaggle.com/datasets/rounakbanik/the-movies-dataset\")"
   ],
   "metadata": {
    "collapsed": false,
    "ExecuteTime": {
     "end_time": "2024-01-03T21:47:53.845433718Z",
     "start_time": "2024-01-03T21:47:53.843479003Z"
    }
   },
   "id": "be3ca0c5c71695d6",
   "execution_count": 2
  },
  {
   "cell_type": "code",
   "outputs": [],
   "source": [
    "netflix_movies = pd.read_csv(\n",
    "    \"./netflix-shows/netflix_titles.csv\", usecols=[\"title\", \"type\", \"release_year\"]\n",
    ")\n",
    "netflix_movies = netflix_movies[netflix_movies[\"type\"] == \"Movie\"]"
   ],
   "metadata": {
    "collapsed": false,
    "ExecuteTime": {
     "end_time": "2024-01-03T21:47:53.846167305Z",
     "start_time": "2024-01-03T21:47:53.843698978Z"
    }
   },
   "id": "69677dd4746f9f93",
   "execution_count": 3
  },
  {
   "cell_type": "code",
   "outputs": [],
   "source": [
    "cols_to_read = [\n",
    "    \"id\",\n",
    "    \"title\",\n",
    "    \"overview\",\n",
    "    \"release_date\",\n",
    "    \"original_language\",\n",
    "    \"genres\",\n",
    "    \"vote_average\",\n",
    "]\n",
    "df_raw = pd.read_csv(\n",
    "    \"./the-movies-dataset/movies_metadata.csv\", usecols=cols_to_read\n",
    ").loc[\n",
    "    :,\n",
    "    [\n",
    "        \"id\",\n",
    "        \"title\",\n",
    "        \"release_date\",\n",
    "        \"original_language\",\n",
    "        \"genres\",\n",
    "        \"overview\",\n",
    "        \"vote_average\",\n",
    "    ],\n",
    "]\n",
    "\n",
    "df = df_raw.copy()[~df_raw.duplicated()]"
   ],
   "metadata": {
    "collapsed": false,
    "ExecuteTime": {
     "end_time": "2024-01-03T21:47:54.133842843Z",
     "start_time": "2024-01-03T21:47:53.843781670Z"
    }
   },
   "id": "6ad0a3c49a746305",
   "execution_count": 4
  },
  {
   "cell_type": "code",
   "outputs": [
    {
     "data": {
      "text/plain": "(45436, 7)"
     },
     "execution_count": 5,
     "metadata": {},
     "output_type": "execute_result"
    }
   ],
   "source": [
    "df.shape"
   ],
   "metadata": {
    "collapsed": false,
    "ExecuteTime": {
     "end_time": "2024-01-03T21:47:54.143745398Z",
     "start_time": "2024-01-03T21:47:54.137436974Z"
    }
   },
   "id": "7d11aeaa89c5d6b0",
   "execution_count": 5
  },
  {
   "cell_type": "code",
   "outputs": [],
   "source": [
    "df[\"release_date\"] = pd.to_datetime(df[\"release_date\"], errors=\"coerce\").dropna()\n",
    "df[\"release_year\"] = df[\"release_date\"].dt.strftime(\"%Y\")"
   ],
   "metadata": {
    "collapsed": false,
    "ExecuteTime": {
     "end_time": "2024-01-03T21:47:54.265865489Z",
     "start_time": "2024-01-03T21:47:54.140521754Z"
    }
   },
   "id": "2ba1a23302fc5e85",
   "execution_count": 6
  },
  {
   "cell_type": "code",
   "outputs": [],
   "source": [
    "def get_genre_values(row):\n",
    "    row = ast.literal_eval(row)\n",
    "    genre_list = [val[\"name\"] for val in row]\n",
    "    if len(genre_list) == 0:\n",
    "        return [\"Unknown\"]\n",
    "    return genre_list"
   ],
   "metadata": {
    "collapsed": false,
    "ExecuteTime": {
     "end_time": "2024-01-03T21:47:54.311618347Z",
     "start_time": "2024-01-03T21:47:54.267462385Z"
    }
   },
   "id": "61bb0372f85dbb1e",
   "execution_count": 7
  },
  {
   "cell_type": "code",
   "outputs": [],
   "source": [
    "df = df.loc[df[cols_to_read[:-1]].dropna().index].reset_index(drop=True)\n",
    "\n",
    "df[\"id\"] = df[\"id\"].astype(int)"
   ],
   "metadata": {
    "collapsed": false,
    "ExecuteTime": {
     "end_time": "2024-01-03T21:47:54.312601509Z",
     "start_time": "2024-01-03T21:47:54.311536485Z"
    }
   },
   "id": "7b661feed9a61e33",
   "execution_count": 8
  },
  {
   "cell_type": "code",
   "outputs": [
    {
     "data": {
      "text/plain": "(44395, 8)"
     },
     "execution_count": 9,
     "metadata": {},
     "output_type": "execute_result"
    }
   ],
   "source": [
    "df.shape"
   ],
   "metadata": {
    "collapsed": false,
    "ExecuteTime": {
     "end_time": "2024-01-03T21:47:54.314130414Z",
     "start_time": "2024-01-03T21:47:54.311716520Z"
    }
   },
   "id": "48c08267d13f15d5",
   "execution_count": 9
  },
  {
   "cell_type": "code",
   "outputs": [
    {
     "data": {
      "text/plain": "(44395, 9)"
     },
     "execution_count": 10,
     "metadata": {},
     "output_type": "execute_result"
    }
   ],
   "source": [
    "df = pd.merge(\n",
    "    df,\n",
    "    pd.read_csv(\"./the-movies-dataset/keywords.csv\").drop_duplicates(),\n",
    "    how=\"left\",\n",
    "    on=[\"id\"],\n",
    ")\n",
    "df[\"keywords\"] = df.keywords.fillna(\"[]\")\n",
    "df.shape"
   ],
   "metadata": {
    "collapsed": false,
    "ExecuteTime": {
     "end_time": "2024-01-03T21:47:54.391611212Z",
     "start_time": "2024-01-03T21:47:54.311884463Z"
    }
   },
   "id": "eeb761209d05d248",
   "execution_count": 10
  },
  {
   "cell_type": "code",
   "outputs": [],
   "source": [
    "df[\"genres\"] = df[\"genres\"].apply(get_genre_values)"
   ],
   "metadata": {
    "collapsed": false,
    "ExecuteTime": {
     "end_time": "2024-01-03T21:47:55.012461672Z",
     "start_time": "2024-01-03T21:47:54.395482880Z"
    }
   },
   "id": "f23724a7db826bad",
   "execution_count": 11
  },
  {
   "cell_type": "code",
   "outputs": [],
   "source": [
    "df[\"keywords\"] = df[\"keywords\"].apply(get_genre_values)"
   ],
   "metadata": {
    "collapsed": false,
    "ExecuteTime": {
     "end_time": "2024-01-03T21:47:56.055927446Z",
     "start_time": "2024-01-03T21:47:55.028303501Z"
    }
   },
   "id": "f8ce3a65ab77bb3b",
   "execution_count": 12
  },
  {
   "cell_type": "code",
   "outputs": [],
   "source": [
    "df[\"keywords\"] = df.loc[:, [\"keywords\"]].apply(\n",
    "    lambda x: \", \".join(x.keywords) if \"Unknown\" not in x.keywords else \"\",\n",
    "    axis=1,\n",
    ")\n",
    "\n",
    "idx_no_kw = df[df[\"keywords\"] == \"\"].index"
   ],
   "metadata": {
    "collapsed": false,
    "ExecuteTime": {
     "end_time": "2024-01-03T21:47:56.395317452Z",
     "start_time": "2024-01-03T21:47:56.067996550Z"
    }
   },
   "id": "1323476c73a663d2",
   "execution_count": 13
  },
  {
   "cell_type": "code",
   "outputs": [
    {
     "data": {
      "text/plain": "      id                        title release_date original_language  \\\n0    862                    Toy Story   1995-10-30                en   \n1   8844                      Jumanji   1995-12-15                en   \n2  15602             Grumpier Old Men   1995-12-22                en   \n3  31357            Waiting to Exhale   1995-12-22                en   \n4  11862  Father of the Bride Part II   1995-02-10                en   \n\n                         genres  \\\n0   [Animation, Comedy, Family]   \n1  [Adventure, Fantasy, Family]   \n2             [Romance, Comedy]   \n3      [Comedy, Drama, Romance]   \n4                      [Comedy]   \n\n                                            overview  vote_average  \\\n0  Led by Woody, Andy's toys live happily in his ...           7.7   \n1  When siblings Judy and Peter discover an encha...           6.9   \n2  A family wedding reignites the ancient feud be...           6.5   \n3  Cheated on, mistreated and stepped on, the wom...           6.1   \n4  Just when George Banks has recovered from his ...           5.7   \n\n  release_year                                           keywords  \n0         1995  jealousy, toy, boy, friendship, friends, rival...  \n1         1995  board game, disappearance, based on children's...  \n2         1995  fishing, best friend, duringcreditsstinger, ol...  \n3         1995  based on novel, interracial relationship, sing...  \n4         1995  baby, midlife crisis, confidence, aging, daugh...  ",
      "text/html": "<div>\n<style scoped>\n    .dataframe tbody tr th:only-of-type {\n        vertical-align: middle;\n    }\n\n    .dataframe tbody tr th {\n        vertical-align: top;\n    }\n\n    .dataframe thead th {\n        text-align: right;\n    }\n</style>\n<table border=\"1\" class=\"dataframe\">\n  <thead>\n    <tr style=\"text-align: right;\">\n      <th></th>\n      <th>id</th>\n      <th>title</th>\n      <th>release_date</th>\n      <th>original_language</th>\n      <th>genres</th>\n      <th>overview</th>\n      <th>vote_average</th>\n      <th>release_year</th>\n      <th>keywords</th>\n    </tr>\n  </thead>\n  <tbody>\n    <tr>\n      <th>0</th>\n      <td>862</td>\n      <td>Toy Story</td>\n      <td>1995-10-30</td>\n      <td>en</td>\n      <td>[Animation, Comedy, Family]</td>\n      <td>Led by Woody, Andy's toys live happily in his ...</td>\n      <td>7.7</td>\n      <td>1995</td>\n      <td>jealousy, toy, boy, friendship, friends, rival...</td>\n    </tr>\n    <tr>\n      <th>1</th>\n      <td>8844</td>\n      <td>Jumanji</td>\n      <td>1995-12-15</td>\n      <td>en</td>\n      <td>[Adventure, Fantasy, Family]</td>\n      <td>When siblings Judy and Peter discover an encha...</td>\n      <td>6.9</td>\n      <td>1995</td>\n      <td>board game, disappearance, based on children's...</td>\n    </tr>\n    <tr>\n      <th>2</th>\n      <td>15602</td>\n      <td>Grumpier Old Men</td>\n      <td>1995-12-22</td>\n      <td>en</td>\n      <td>[Romance, Comedy]</td>\n      <td>A family wedding reignites the ancient feud be...</td>\n      <td>6.5</td>\n      <td>1995</td>\n      <td>fishing, best friend, duringcreditsstinger, ol...</td>\n    </tr>\n    <tr>\n      <th>3</th>\n      <td>31357</td>\n      <td>Waiting to Exhale</td>\n      <td>1995-12-22</td>\n      <td>en</td>\n      <td>[Comedy, Drama, Romance]</td>\n      <td>Cheated on, mistreated and stepped on, the wom...</td>\n      <td>6.1</td>\n      <td>1995</td>\n      <td>based on novel, interracial relationship, sing...</td>\n    </tr>\n    <tr>\n      <th>4</th>\n      <td>11862</td>\n      <td>Father of the Bride Part II</td>\n      <td>1995-02-10</td>\n      <td>en</td>\n      <td>[Comedy]</td>\n      <td>Just when George Banks has recovered from his ...</td>\n      <td>5.7</td>\n      <td>1995</td>\n      <td>baby, midlife crisis, confidence, aging, daugh...</td>\n    </tr>\n  </tbody>\n</table>\n</div>"
     },
     "execution_count": 14,
     "metadata": {},
     "output_type": "execute_result"
    }
   ],
   "source": [
    "df.head()"
   ],
   "metadata": {
    "collapsed": false,
    "ExecuteTime": {
     "end_time": "2024-01-03T21:47:56.406272500Z",
     "start_time": "2024-01-03T21:47:56.398426682Z"
    }
   },
   "id": "f07434818b996cb7",
   "execution_count": 14
  },
  {
   "cell_type": "code",
   "outputs": [],
   "source": [
    "df = df.sort_values(by=\"release_date\").reset_index(drop=True)\n",
    "df[\"title_dated\"] = df[\"title\"].copy()\n",
    "df.loc[df.title.duplicated(), \"title_dated\"] = df.loc[\n",
    "    df.title.duplicated(), [\"title_dated\"]\n",
    "].apply(\n",
    "    lambda x: \" \".join([x[\"title_dated\"], f\"({str(df['release_year'][x.name])})\"]),\n",
    "    axis=1,\n",
    ")"
   ],
   "metadata": {
    "collapsed": false,
    "ExecuteTime": {
     "end_time": "2024-01-03T21:47:56.509574725Z",
     "start_time": "2024-01-03T21:47:56.406593797Z"
    }
   },
   "id": "d92b71d45b29afc2",
   "execution_count": 15
  },
  {
   "cell_type": "code",
   "outputs": [],
   "source": [
    "duplicate_title_and_year = df.loc[df.title.duplicated(), \"title\"].index"
   ],
   "metadata": {
    "collapsed": false,
    "ExecuteTime": {
     "end_time": "2024-01-03T21:47:56.510508506Z",
     "start_time": "2024-01-03T21:47:56.473485475Z"
    }
   },
   "id": "fcb15c59955cda2c",
   "execution_count": 16
  },
  {
   "cell_type": "code",
   "outputs": [],
   "source": [
    "df.loc[df.title.duplicated(), \"title_dated\"] = df.loc[\n",
    "    df.title.duplicated(), [\"title_dated\"]\n",
    "].apply(\n",
    "    lambda x: x[\"title_dated\"].replace(\n",
    "        f\"({str(df['release_year'][x.name])})\",\n",
    "        f\"({str(df['release_date'][x.name].strftime('%Y-%m'))})\",\n",
    "    ),\n",
    "    axis=1,\n",
    ")"
   ],
   "metadata": {
    "collapsed": false,
    "ExecuteTime": {
     "end_time": "2024-01-03T21:47:56.546977134Z",
     "start_time": "2024-01-03T21:47:56.476126715Z"
    }
   },
   "id": "c6e6782d33cf0085",
   "execution_count": 17
  },
  {
   "cell_type": "code",
   "outputs": [],
   "source": [
    "netflix_movies[\"release_year\"] = netflix_movies[\"release_year\"].astype(str)\n",
    "df_combined = pd.merge(\n",
    "    df, netflix_movies[[\"title\", \"release_year\"]], on=[\"title\", \"release_year\"]\n",
    ")\n",
    "df_combined = df_combined[\n",
    "    ~df_combined[[\"title\", \"release_year\", \"overview\"]].duplicated()\n",
    "].reset_index(drop=True)"
   ],
   "metadata": {
    "collapsed": false,
    "ExecuteTime": {
     "end_time": "2024-01-03T21:47:56.603530328Z",
     "start_time": "2024-01-03T21:47:56.556806647Z"
    }
   },
   "id": "b4b9dab746d233c",
   "execution_count": 18
  },
  {
   "cell_type": "code",
   "outputs": [
    {
     "name": "stdout",
     "output_type": "stream",
     "text": [
      "['Documentary', 'War', 'History', 'Drama', 'Comedy', 'Music', 'Romance', 'Adventure', 'Science Fiction', 'Action', 'Crime', 'Thriller', 'Family', 'Horror', 'Mystery', 'Fantasy', 'Western', 'Animation', 'Foreign', 'TV Movie']\n"
     ]
    }
   ],
   "source": [
    "all_genres = list(df_combined[\"genres\"].explode().unique())\n",
    "all_genres.remove(\"Unknown\")\n",
    "print(all_genres)"
   ],
   "metadata": {
    "collapsed": false,
    "ExecuteTime": {
     "end_time": "2024-01-03T21:47:56.605128214Z",
     "start_time": "2024-01-03T21:47:56.603489657Z"
    }
   },
   "id": "d790d0d81a5e459a",
   "execution_count": 19
  },
  {
   "cell_type": "code",
   "outputs": [
    {
     "data": {
      "text/plain": "           id                title release_date original_language  \\\n54     104471   The Haunted Castle   1897-01-01                fr   \n83     193411             The Kiss   1900-03-09                en   \n223     92349           Cinderella   1914-12-28                en   \n228     87300  Alice in Wonderland   1915-01-15                en   \n317    174928               Carmen   1918-12-20                de   \n...       ...                  ...          ...               ...   \n44333  463906            The Saint   2017-07-11                en   \n44339  428501       City of Ghosts   2017-07-14                en   \n44340  459950                 Feed   2017-07-18                en   \n44341  374720              Dunkirk   2017-07-19                en   \n44359  353491       The Dark Tower   2017-08-03                en   \n\n                                                  genres  \\\n54                                              [Horror]   \n83                                             [Romance]   \n223                                     [Fantasy, Drama]   \n228                                    [Family, Fantasy]   \n317                                              [Drama]   \n...                                                  ...   \n44333                         [Action, Adventure, Crime]   \n44339                                      [Documentary]   \n44340                                            [Drama]   \n44341            [Action, Drama, History, Thriller, War]   \n44359  [Action, Western, Science Fiction, Fantasy, Ho...   \n\n                                                overview  vote_average  \\\n54     A man has an encounter with several spooky app...           5.6   \n83     Nothing new, but an old thing done over again ...           4.5   \n223    Based on Charles Perrault's fairy tale: Cinder...           5.4   \n228    A German adaptation of the classic Lewis Carro...           5.5   \n317    The tragic story of Don Jose, a Spanish cavalr...           4.8   \n...                                                  ...           ...   \n44333  International master thief, Simon Templar, als...           5.8   \n44339  With unprecedented access, this documentary fo...           2.0   \n44340  Olivia and Matthew Grey, 18-year-old twins bor...           7.3   \n44341  The miraculous evacuation of Allied soldiers f...           7.5   \n44359  The last Gunslinger, Roland Deschain, has been...           5.7   \n\n      release_year                                           keywords  \\\n54            1897  french, horror, silent film, ghost, georges me...   \n83            1900         kiss, remake, kissing, couple, silent film   \n223           1914                                                      \n228           1915                 dream, alice in wonderland, rabbit   \n317           1918                             gypsy, smuggler, short   \n...            ...                                                ...   \n44333         2017                                          the saint   \n44339         2017                                                      \n44340         2017  twins, valedictorian, eating disorder, highsch...   \n44341         2017  france, beach, world war ii, evacuation, germa...   \n44359         2017                         gunslinger, based on novel   \n\n                         title_dated  \n54      The Haunted Castle (1897-01)  \n83                The Kiss (1900-03)  \n223             Cinderella (1914-12)  \n228    Alice in Wonderland (1915-01)  \n317                 Carmen (1918-12)  \n...                              ...  \n44333            The Saint (2017-07)  \n44339       City of Ghosts (2017-07)  \n44340                 Feed (2017-07)  \n44341              Dunkirk (2017-07)  \n44359       The Dark Tower (2017-08)  \n\n[3102 rows x 10 columns]",
      "text/html": "<div>\n<style scoped>\n    .dataframe tbody tr th:only-of-type {\n        vertical-align: middle;\n    }\n\n    .dataframe tbody tr th {\n        vertical-align: top;\n    }\n\n    .dataframe thead th {\n        text-align: right;\n    }\n</style>\n<table border=\"1\" class=\"dataframe\">\n  <thead>\n    <tr style=\"text-align: right;\">\n      <th></th>\n      <th>id</th>\n      <th>title</th>\n      <th>release_date</th>\n      <th>original_language</th>\n      <th>genres</th>\n      <th>overview</th>\n      <th>vote_average</th>\n      <th>release_year</th>\n      <th>keywords</th>\n      <th>title_dated</th>\n    </tr>\n  </thead>\n  <tbody>\n    <tr>\n      <th>54</th>\n      <td>104471</td>\n      <td>The Haunted Castle</td>\n      <td>1897-01-01</td>\n      <td>fr</td>\n      <td>[Horror]</td>\n      <td>A man has an encounter with several spooky app...</td>\n      <td>5.6</td>\n      <td>1897</td>\n      <td>french, horror, silent film, ghost, georges me...</td>\n      <td>The Haunted Castle (1897-01)</td>\n    </tr>\n    <tr>\n      <th>83</th>\n      <td>193411</td>\n      <td>The Kiss</td>\n      <td>1900-03-09</td>\n      <td>en</td>\n      <td>[Romance]</td>\n      <td>Nothing new, but an old thing done over again ...</td>\n      <td>4.5</td>\n      <td>1900</td>\n      <td>kiss, remake, kissing, couple, silent film</td>\n      <td>The Kiss (1900-03)</td>\n    </tr>\n    <tr>\n      <th>223</th>\n      <td>92349</td>\n      <td>Cinderella</td>\n      <td>1914-12-28</td>\n      <td>en</td>\n      <td>[Fantasy, Drama]</td>\n      <td>Based on Charles Perrault's fairy tale: Cinder...</td>\n      <td>5.4</td>\n      <td>1914</td>\n      <td></td>\n      <td>Cinderella (1914-12)</td>\n    </tr>\n    <tr>\n      <th>228</th>\n      <td>87300</td>\n      <td>Alice in Wonderland</td>\n      <td>1915-01-15</td>\n      <td>en</td>\n      <td>[Family, Fantasy]</td>\n      <td>A German adaptation of the classic Lewis Carro...</td>\n      <td>5.5</td>\n      <td>1915</td>\n      <td>dream, alice in wonderland, rabbit</td>\n      <td>Alice in Wonderland (1915-01)</td>\n    </tr>\n    <tr>\n      <th>317</th>\n      <td>174928</td>\n      <td>Carmen</td>\n      <td>1918-12-20</td>\n      <td>de</td>\n      <td>[Drama]</td>\n      <td>The tragic story of Don Jose, a Spanish cavalr...</td>\n      <td>4.8</td>\n      <td>1918</td>\n      <td>gypsy, smuggler, short</td>\n      <td>Carmen (1918-12)</td>\n    </tr>\n    <tr>\n      <th>...</th>\n      <td>...</td>\n      <td>...</td>\n      <td>...</td>\n      <td>...</td>\n      <td>...</td>\n      <td>...</td>\n      <td>...</td>\n      <td>...</td>\n      <td>...</td>\n      <td>...</td>\n    </tr>\n    <tr>\n      <th>44333</th>\n      <td>463906</td>\n      <td>The Saint</td>\n      <td>2017-07-11</td>\n      <td>en</td>\n      <td>[Action, Adventure, Crime]</td>\n      <td>International master thief, Simon Templar, als...</td>\n      <td>5.8</td>\n      <td>2017</td>\n      <td>the saint</td>\n      <td>The Saint (2017-07)</td>\n    </tr>\n    <tr>\n      <th>44339</th>\n      <td>428501</td>\n      <td>City of Ghosts</td>\n      <td>2017-07-14</td>\n      <td>en</td>\n      <td>[Documentary]</td>\n      <td>With unprecedented access, this documentary fo...</td>\n      <td>2.0</td>\n      <td>2017</td>\n      <td></td>\n      <td>City of Ghosts (2017-07)</td>\n    </tr>\n    <tr>\n      <th>44340</th>\n      <td>459950</td>\n      <td>Feed</td>\n      <td>2017-07-18</td>\n      <td>en</td>\n      <td>[Drama]</td>\n      <td>Olivia and Matthew Grey, 18-year-old twins bor...</td>\n      <td>7.3</td>\n      <td>2017</td>\n      <td>twins, valedictorian, eating disorder, highsch...</td>\n      <td>Feed (2017-07)</td>\n    </tr>\n    <tr>\n      <th>44341</th>\n      <td>374720</td>\n      <td>Dunkirk</td>\n      <td>2017-07-19</td>\n      <td>en</td>\n      <td>[Action, Drama, History, Thriller, War]</td>\n      <td>The miraculous evacuation of Allied soldiers f...</td>\n      <td>7.5</td>\n      <td>2017</td>\n      <td>france, beach, world war ii, evacuation, germa...</td>\n      <td>Dunkirk (2017-07)</td>\n    </tr>\n    <tr>\n      <th>44359</th>\n      <td>353491</td>\n      <td>The Dark Tower</td>\n      <td>2017-08-03</td>\n      <td>en</td>\n      <td>[Action, Western, Science Fiction, Fantasy, Ho...</td>\n      <td>The last Gunslinger, Roland Deschain, has been...</td>\n      <td>5.7</td>\n      <td>2017</td>\n      <td>gunslinger, based on novel</td>\n      <td>The Dark Tower (2017-08)</td>\n    </tr>\n  </tbody>\n</table>\n<p>3102 rows × 10 columns</p>\n</div>"
     },
     "execution_count": 20,
     "metadata": {},
     "output_type": "execute_result"
    }
   ],
   "source": [
    "df.loc[duplicate_title_and_year]"
   ],
   "metadata": {
    "collapsed": false,
    "ExecuteTime": {
     "end_time": "2024-01-03T21:47:56.606265809Z",
     "start_time": "2024-01-03T21:47:56.603674191Z"
    }
   },
   "id": "7884d757e33db931",
   "execution_count": 20
  },
  {
   "cell_type": "code",
   "outputs": [
    {
     "name": "stderr",
     "output_type": "stream",
     "text": [
      "/home/ubunbu/PycharmProjects/Movie-Recommender/venv/lib/python3.10/site-packages/sklearn/preprocessing/_label.py:900: UserWarning: unknown class(es) ['Unknown'] will be ignored\n",
      "  warnings.warn(\n"
     ]
    }
   ],
   "source": [
    "mlb = MultiLabelBinarizer(classes=all_genres)\n",
    "binary_labels_all = mlb.fit_transform(df[\"genres\"])\n",
    "\n",
    "\n",
    "mlb = MultiLabelBinarizer(classes=all_genres)\n",
    "binary_labels_netflix = mlb.fit_transform(df_combined[\"genres\"])\n",
    "genres = mlb.classes_"
   ],
   "metadata": {
    "collapsed": false,
    "ExecuteTime": {
     "end_time": "2024-01-03T21:47:56.872266538Z",
     "start_time": "2024-01-03T21:47:56.603858545Z"
    }
   },
   "id": "e0f157ade52ba120",
   "execution_count": 21
  },
  {
   "cell_type": "code",
   "outputs": [],
   "source": [
    "genre_similarity = cosine_similarity(binary_labels_all, binary_labels_netflix)"
   ],
   "metadata": {
    "collapsed": false,
    "ExecuteTime": {
     "end_time": "2024-01-03T21:47:56.953198606Z",
     "start_time": "2024-01-03T21:47:56.653359989Z"
    }
   },
   "id": "71a454f0c0eb702",
   "execution_count": 22
  },
  {
   "cell_type": "code",
   "outputs": [
    {
     "data": {
      "text/plain": "(44395, 1723)"
     },
     "execution_count": 23,
     "metadata": {},
     "output_type": "execute_result"
    }
   ],
   "source": [
    "genre_similarity.shape"
   ],
   "metadata": {
    "collapsed": false,
    "ExecuteTime": {
     "end_time": "2024-01-03T21:47:56.955457637Z",
     "start_time": "2024-01-03T21:47:56.872054253Z"
    }
   },
   "id": "6733c1c20d9145e1",
   "execution_count": 23
  },
  {
   "cell_type": "code",
   "outputs": [
    {
     "data": {
      "text/plain": "Batches:   0%|          | 0/1388 [00:00<?, ?it/s]",
      "application/vnd.jupyter.widget-view+json": {
       "version_major": 2,
       "version_minor": 0,
       "model_id": "035bf5ce148e4c9ab9b9eb5c04c2b1d6"
      }
     },
     "metadata": {},
     "output_type": "display_data"
    },
    {
     "data": {
      "text/plain": "Batches:   0%|          | 0/1388 [00:00<?, ?it/s]",
      "application/vnd.jupyter.widget-view+json": {
       "version_major": 2,
       "version_minor": 0,
       "model_id": "17a918788f904b12a6efd20f8c5a3c09"
      }
     },
     "metadata": {},
     "output_type": "display_data"
    }
   ],
   "source": [
    "model = SentenceTransformer(\"all-mpnet-base-v2\")\n",
    "embeddings_overview = model.encode(\n",
    "    df.overview.to_numpy().astype(str), show_progress_bar=True, convert_to_numpy=True\n",
    ")\n",
    "embeddings_keywords = model.encode(\n",
    "    df.keywords.to_numpy().astype(str), show_progress_bar=True, convert_to_numpy=True\n",
    ")"
   ],
   "metadata": {
    "collapsed": false,
    "ExecuteTime": {
     "end_time": "2024-01-03T21:49:21.579059993Z",
     "start_time": "2024-01-03T21:47:56.875953132Z"
    }
   },
   "id": "577a339496c5fe7",
   "execution_count": 24
  },
  {
   "cell_type": "code",
   "outputs": [
    {
     "name": "stdout",
     "output_type": "stream",
     "text": [
      "(44395, 768) (44395, 768)\n"
     ]
    }
   ],
   "source": [
    "print(embeddings_overview.shape, embeddings_keywords.shape)"
   ],
   "metadata": {
    "collapsed": false,
    "ExecuteTime": {
     "end_time": "2024-01-03T21:49:21.653261876Z",
     "start_time": "2024-01-03T21:49:21.581003848Z"
    }
   },
   "id": "84bf1fb5153b88ae",
   "execution_count": 25
  },
  {
   "cell_type": "code",
   "outputs": [],
   "source": [
    "indices_shared = df[df.id.isin(df_combined.id)].index\n",
    "embeddings_overview_netflix = embeddings_overview[indices_shared]\n",
    "embeddings_keywords_netflix = embeddings_keywords[indices_shared]\n",
    "similarity_netflix = genre_similarity[indices_shared]"
   ],
   "metadata": {
    "collapsed": false,
    "ExecuteTime": {
     "end_time": "2024-01-03T21:49:21.655894484Z",
     "start_time": "2024-01-03T21:49:21.626243842Z"
    }
   },
   "id": "efd4faab186b7686",
   "execution_count": 26
  },
  {
   "cell_type": "code",
   "outputs": [],
   "source": [
    "similarity_encoding_overview = util.cos_sim(\n",
    "    embeddings_overview, embeddings_overview_netflix\n",
    ")\n",
    "similarity_encoding_keywords = util.cos_sim(\n",
    "    embeddings_keywords, embeddings_keywords_netflix\n",
    ")"
   ],
   "metadata": {
    "collapsed": false,
    "ExecuteTime": {
     "end_time": "2024-01-03T21:49:22.177758492Z",
     "start_time": "2024-01-03T21:49:21.627560466Z"
    }
   },
   "id": "c3f8da5d28597512",
   "execution_count": 27
  },
  {
   "cell_type": "code",
   "outputs": [],
   "source": [
    "similarity_encoding_overview[indices_shared, np.arange(len(indices_shared))] = -100\n",
    "similarity_encoding_keywords[idx_no_kw] = 0\n",
    "similarity_encoding_keywords[indices_shared, np.arange(len(indices_shared))] = -100\n",
    "genre_similarity[indices_shared, np.arange(len(indices_shared))] = -1"
   ],
   "metadata": {
    "collapsed": false,
    "ExecuteTime": {
     "end_time": "2024-01-03T21:50:45.601125367Z",
     "start_time": "2024-01-03T21:50:45.588751549Z"
    }
   },
   "id": "4a94cfeced4d8eaf",
   "execution_count": 30
  },
  {
   "cell_type": "code",
   "outputs": [],
   "source": [
    "with open(r\"./genre_similarity.npy\", \"wb\") as f:\n",
    "    np.save(f, genre_similarity)"
   ],
   "metadata": {
    "collapsed": false,
    "ExecuteTime": {
     "end_time": "2024-01-03T21:50:59.264628778Z",
     "start_time": "2024-01-03T21:50:58.671085080Z"
    }
   },
   "id": "558140e7633aa6e7",
   "execution_count": 33
  },
  {
   "cell_type": "code",
   "outputs": [],
   "source": [
    "with open(r\"./embeddings_overview.npy\", \"wb\") as f:\n",
    "    np.save(f, embeddings_overview)\n",
    "\n",
    "with open(r\"./embeddings_keywords.npy\", \"wb\") as f:\n",
    "    np.save(f, embeddings_keywords)"
   ],
   "metadata": {
    "collapsed": false,
    "ExecuteTime": {
     "end_time": "2024-01-03T21:50:59.527051715Z",
     "start_time": "2024-01-03T21:50:59.265685544Z"
    }
   },
   "id": "7c05d2929f502a49",
   "execution_count": 34
  },
  {
   "cell_type": "code",
   "outputs": [],
   "source": [
    "with open(r\"./similarity_encoding_overview.npy\", \"wb\") as f:\n",
    "    np.save(f, similarity_encoding_overview)\n",
    "\n",
    "with open(r\"./similarity_encoding_keywords.npy\", \"wb\") as f:\n",
    "    np.save(f, similarity_encoding_keywords)"
   ],
   "metadata": {
    "collapsed": false,
    "ExecuteTime": {
     "end_time": "2024-01-03T21:51:00.168352701Z",
     "start_time": "2024-01-03T21:50:59.528367582Z"
    }
   },
   "id": "dbe9bdac09ab538d",
   "execution_count": 35
  },
  {
   "cell_type": "code",
   "outputs": [
    {
     "data": {
      "text/plain": "torch.Size([44395, 1723])"
     },
     "execution_count": 62,
     "metadata": {},
     "output_type": "execute_result"
    }
   ],
   "source": [
    "similarity_encoding_keywords.shape"
   ],
   "metadata": {
    "collapsed": false,
    "ExecuteTime": {
     "end_time": "2024-01-03T22:11:15.499575682Z",
     "start_time": "2024-01-03T22:11:15.453680572Z"
    }
   },
   "id": "e50fcc4407d28c57",
   "execution_count": 62
  },
  {
   "cell_type": "code",
   "outputs": [],
   "source": [
    "Path(\"./custom_csv\").mkdir(parents=True, exist_ok=True)\n",
    "df.to_csv(\"./custom_csv/movies_cleaned.csv\")\n",
    "df_combined.to_csv(\"./custom_csv/movies_combined.csv\")"
   ],
   "metadata": {
    "collapsed": false,
    "ExecuteTime": {
     "end_time": "2024-01-03T21:51:00.566424313Z",
     "start_time": "2024-01-03T21:51:00.169338767Z"
    }
   },
   "id": "3ba3b97ad4df8c59",
   "execution_count": 36
  },
  {
   "cell_type": "code",
   "outputs": [
    {
     "data": {
      "text/plain": "24243    The Lord of the Rings: The Return of the King\nName: title, dtype: object"
     },
     "execution_count": 41,
     "metadata": {},
     "output_type": "execute_result"
    }
   ],
   "source": [
    "df[\"title\"][df.title == \"The Lord of the Rings: The Return of the King\"]"
   ],
   "metadata": {
    "collapsed": false,
    "ExecuteTime": {
     "end_time": "2024-01-03T21:51:56.207645887Z",
     "start_time": "2024-01-03T21:51:56.166565998Z"
    }
   },
   "id": "d2448806117dc067",
   "execution_count": 41
  },
  {
   "cell_type": "code",
   "outputs": [],
   "source": [
    "movie_number = 24243"
   ],
   "metadata": {
    "collapsed": false,
    "ExecuteTime": {
     "end_time": "2024-01-03T21:52:27.587471423Z",
     "start_time": "2024-01-03T21:52:27.546894915Z"
    }
   },
   "id": "3f63529058f753f8",
   "execution_count": 46
  },
  {
   "cell_type": "code",
   "outputs": [
    {
     "name": "stdout",
     "output_type": "stream",
     "text": [
      "The Lord of the Rings: The Return of the King \n",
      "====\n",
      " ['Adventure', 'Fantasy', 'Action'] \n",
      "====\n",
      " elves, orcs, middle-earth (tolkien), based on novel, suspicion, bravery, war, honor, troll, brutality, violence, ghost, end of trilogy, quest, sword and sorcery \n",
      "====\n"
     ]
    },
    {
     "data": {
      "text/plain": "          id                                             title release_date  \\\n364      121             The Lord of the Rings: The Two Towers   2002-12-18   \n1695  451644             Dragonheart: Battle for the Heartfire   2017-06-13   \n757    10196                                The Last Airbender   2010-06-30   \n1374  263341  Crouching Tiger, Hidden Dragon: Sword of Destiny   2016-02-18   \n1454  390734                     Kingsglaive: Final Fantasy XV   2016-07-09   \n...      ...                                               ...          ...   \n110    14733                              Bill Hicks: Sane Man   1989-12-01   \n1401  390293                                              Bugs   2016-04-16   \n1385  376570                                              Hush   2016-03-12   \n400    21542                           Love Don't Cost a Thing   2003-12-12   \n397      122     The Lord of the Rings: The Return of the King   2003-12-01   \n\n     original_language                                             genres  \\\n364                 en                       [Adventure, Fantasy, Action]   \n1695                en                                        [Adventure]   \n757                 en               [Action, Adventure, Family, Fantasy]   \n1374                en                         [Action, Adventure, Drama]   \n1454                ja  [Action, Animation, Adventure, Drama, Fantasy,...   \n...                ...                                                ...   \n110                 en                                           [Comedy]   \n1401                da                                      [Documentary]   \n1385                en                                 [Horror, Thriller]   \n400                 en                   [Comedy, Drama, Family, Romance]   \n397                 en                       [Adventure, Fantasy, Action]   \n\n                                               overview  vote_average  \\\n364   Frodo and Sam are trekking to Mordor to destro...           8.0   \n1695  When the King Gareth dies, his potential heirs...           5.7   \n757   The story follows the adventures of Aang, a yo...           4.7   \n1374  A story of lost love, young love, a legendary ...           6.0   \n1454  The magical kingdom of Lucis is home to the wo...           6.8   \n...                                                 ...           ...   \n110   The amazing comedian Bill Hicks passed away in...           8.2   \n1401  Although scientists and agribusiness have star...           0.0   \n1385  A deaf woman is stalked by a psychotic killer ...           6.9   \n400   High school loser (Cannon) pays a cheerleader ...           5.4   \n397   Aragorn is revealed as the heir to the ancient...           8.1   \n\n     release_year                                           keywords  \\\n364          2002  elves, orcs, middle-earth (tolkien), hobbit, b...   \n1695         2017                                            dragons   \n757          2010  fire, ice, war ship, prince, kingdom, water, v...   \n1374         2016                                martial arts, wuxia   \n1454         2016    fight, cgi, based on video game, warrior, anime   \n...           ...                                                ...   \n110          1989  comedian, honesty, stand-up comedy, cult comed...   \n1401         2016                            food, sustainable, bugs   \n1385         2016  deaf-mute, knife, computer, alone, murder, mut...   \n400          2003                                     woman director   \n397          2003  elves, orcs, middle-earth (tolkien), based on ...   \n\n                                           title_dated  \n364              The Lord of the Rings: The Two Towers  \n1695             Dragonheart: Battle for the Heartfire  \n757                                 The Last Airbender  \n1374  Crouching Tiger, Hidden Dragon: Sword of Destiny  \n1454                     Kingsglaive: Final Fantasy XV  \n...                                                ...  \n110                               Bill Hicks: Sane Man  \n1401                                              Bugs  \n1385                                    Hush (2016-03)  \n400                            Love Don't Cost a Thing  \n397      The Lord of the Rings: The Return of the King  \n\n[1723 rows x 10 columns]",
      "text/html": "<div>\n<style scoped>\n    .dataframe tbody tr th:only-of-type {\n        vertical-align: middle;\n    }\n\n    .dataframe tbody tr th {\n        vertical-align: top;\n    }\n\n    .dataframe thead th {\n        text-align: right;\n    }\n</style>\n<table border=\"1\" class=\"dataframe\">\n  <thead>\n    <tr style=\"text-align: right;\">\n      <th></th>\n      <th>id</th>\n      <th>title</th>\n      <th>release_date</th>\n      <th>original_language</th>\n      <th>genres</th>\n      <th>overview</th>\n      <th>vote_average</th>\n      <th>release_year</th>\n      <th>keywords</th>\n      <th>title_dated</th>\n    </tr>\n  </thead>\n  <tbody>\n    <tr>\n      <th>364</th>\n      <td>121</td>\n      <td>The Lord of the Rings: The Two Towers</td>\n      <td>2002-12-18</td>\n      <td>en</td>\n      <td>[Adventure, Fantasy, Action]</td>\n      <td>Frodo and Sam are trekking to Mordor to destro...</td>\n      <td>8.0</td>\n      <td>2002</td>\n      <td>elves, orcs, middle-earth (tolkien), hobbit, b...</td>\n      <td>The Lord of the Rings: The Two Towers</td>\n    </tr>\n    <tr>\n      <th>1695</th>\n      <td>451644</td>\n      <td>Dragonheart: Battle for the Heartfire</td>\n      <td>2017-06-13</td>\n      <td>en</td>\n      <td>[Adventure]</td>\n      <td>When the King Gareth dies, his potential heirs...</td>\n      <td>5.7</td>\n      <td>2017</td>\n      <td>dragons</td>\n      <td>Dragonheart: Battle for the Heartfire</td>\n    </tr>\n    <tr>\n      <th>757</th>\n      <td>10196</td>\n      <td>The Last Airbender</td>\n      <td>2010-06-30</td>\n      <td>en</td>\n      <td>[Action, Adventure, Family, Fantasy]</td>\n      <td>The story follows the adventures of Aang, a yo...</td>\n      <td>4.7</td>\n      <td>2010</td>\n      <td>fire, ice, war ship, prince, kingdom, water, v...</td>\n      <td>The Last Airbender</td>\n    </tr>\n    <tr>\n      <th>1374</th>\n      <td>263341</td>\n      <td>Crouching Tiger, Hidden Dragon: Sword of Destiny</td>\n      <td>2016-02-18</td>\n      <td>en</td>\n      <td>[Action, Adventure, Drama]</td>\n      <td>A story of lost love, young love, a legendary ...</td>\n      <td>6.0</td>\n      <td>2016</td>\n      <td>martial arts, wuxia</td>\n      <td>Crouching Tiger, Hidden Dragon: Sword of Destiny</td>\n    </tr>\n    <tr>\n      <th>1454</th>\n      <td>390734</td>\n      <td>Kingsglaive: Final Fantasy XV</td>\n      <td>2016-07-09</td>\n      <td>ja</td>\n      <td>[Action, Animation, Adventure, Drama, Fantasy,...</td>\n      <td>The magical kingdom of Lucis is home to the wo...</td>\n      <td>6.8</td>\n      <td>2016</td>\n      <td>fight, cgi, based on video game, warrior, anime</td>\n      <td>Kingsglaive: Final Fantasy XV</td>\n    </tr>\n    <tr>\n      <th>...</th>\n      <td>...</td>\n      <td>...</td>\n      <td>...</td>\n      <td>...</td>\n      <td>...</td>\n      <td>...</td>\n      <td>...</td>\n      <td>...</td>\n      <td>...</td>\n      <td>...</td>\n    </tr>\n    <tr>\n      <th>110</th>\n      <td>14733</td>\n      <td>Bill Hicks: Sane Man</td>\n      <td>1989-12-01</td>\n      <td>en</td>\n      <td>[Comedy]</td>\n      <td>The amazing comedian Bill Hicks passed away in...</td>\n      <td>8.2</td>\n      <td>1989</td>\n      <td>comedian, honesty, stand-up comedy, cult comed...</td>\n      <td>Bill Hicks: Sane Man</td>\n    </tr>\n    <tr>\n      <th>1401</th>\n      <td>390293</td>\n      <td>Bugs</td>\n      <td>2016-04-16</td>\n      <td>da</td>\n      <td>[Documentary]</td>\n      <td>Although scientists and agribusiness have star...</td>\n      <td>0.0</td>\n      <td>2016</td>\n      <td>food, sustainable, bugs</td>\n      <td>Bugs</td>\n    </tr>\n    <tr>\n      <th>1385</th>\n      <td>376570</td>\n      <td>Hush</td>\n      <td>2016-03-12</td>\n      <td>en</td>\n      <td>[Horror, Thriller]</td>\n      <td>A deaf woman is stalked by a psychotic killer ...</td>\n      <td>6.9</td>\n      <td>2016</td>\n      <td>deaf-mute, knife, computer, alone, murder, mut...</td>\n      <td>Hush (2016-03)</td>\n    </tr>\n    <tr>\n      <th>400</th>\n      <td>21542</td>\n      <td>Love Don't Cost a Thing</td>\n      <td>2003-12-12</td>\n      <td>en</td>\n      <td>[Comedy, Drama, Family, Romance]</td>\n      <td>High school loser (Cannon) pays a cheerleader ...</td>\n      <td>5.4</td>\n      <td>2003</td>\n      <td>woman director</td>\n      <td>Love Don't Cost a Thing</td>\n    </tr>\n    <tr>\n      <th>397</th>\n      <td>122</td>\n      <td>The Lord of the Rings: The Return of the King</td>\n      <td>2003-12-01</td>\n      <td>en</td>\n      <td>[Adventure, Fantasy, Action]</td>\n      <td>Aragorn is revealed as the heir to the ancient...</td>\n      <td>8.1</td>\n      <td>2003</td>\n      <td>elves, orcs, middle-earth (tolkien), based on ...</td>\n      <td>The Lord of the Rings: The Return of the King</td>\n    </tr>\n  </tbody>\n</table>\n<p>1723 rows × 10 columns</p>\n</div>"
     },
     "execution_count": 47,
     "metadata": {},
     "output_type": "execute_result"
    }
   ],
   "source": [
    "top_ten = reversed(similarity_encoding_overview[movie_number].argsort())\n",
    "print(\n",
    "    df[\"title\"][movie_number],\n",
    "    \"\\n====\\n\",\n",
    "    df[\"genres\"][movie_number],\n",
    "    \"\\n====\\n\",\n",
    "    df[\"keywords\"][movie_number],\n",
    "    \"\\n====\\n\",\n",
    ")\n",
    "\n",
    "df_combined.loc[top_ten]"
   ],
   "metadata": {
    "collapsed": false,
    "ExecuteTime": {
     "end_time": "2024-01-03T21:52:27.710761688Z",
     "start_time": "2024-01-03T21:52:27.691080455Z"
    }
   },
   "id": "4a63d477ce225658",
   "execution_count": 47
  },
  {
   "cell_type": "code",
   "outputs": [
    {
     "name": "stdout",
     "output_type": "stream",
     "text": [
      "The Lord of the Rings: The Return of the King \n",
      "====\n",
      " ['Adventure', 'Fantasy', 'Action'] \n",
      "====\n",
      " elves, orcs, middle-earth (tolkien), based on novel, suspicion, bravery, war, honor, troll, brutality, violence, ghost, end of trilogy, quest, sword and sorcery \n",
      "====\n"
     ]
    },
    {
     "data": {
      "text/plain": "          id                                          title release_date  \\\n364      121          The Lord of the Rings: The Two Towers   2002-12-18   \n895    62764                                  Mirror Mirror   2012-03-15   \n544     2270                                       Stardust   2007-08-09   \n564     2310                                        Beowulf   2007-11-05   \n1171   68737                                    Seventh Son   2014-12-12   \n...      ...                                            ...          ...   \n720    20504                                The Book of Eli   2010-01-14   \n682    19905                The Goods: Live Hard, Sell Hard   2009-08-14   \n1123  286521                                   5 Flights Up   2014-09-05   \n1500  397717                                          Barry   2016-09-10   \n397      122  The Lord of the Rings: The Return of the King   2003-12-01   \n\n     original_language                                             genres  \\\n364                 en                       [Adventure, Fantasy, Action]   \n895                 en  [Adventure, Fantasy, Drama, Comedy, Science Fi...   \n544                 en              [Adventure, Fantasy, Romance, Family]   \n564                 en                     [Adventure, Action, Animation]   \n1171                en                               [Adventure, Fantasy]   \n...                ...                                                ...   \n720                 en                [Action, Thriller, Science Fiction]   \n682                 en                                           [Comedy]   \n1123                en                                            [Drama]   \n1500                en                                            [Drama]   \n397                 en                       [Adventure, Fantasy, Action]   \n\n                                               overview  vote_average  \\\n364   Frodo and Sam are trekking to Mordor to destro...           8.0   \n895   After she spends all her money, an evil enchan...           5.5   \n544   In a countryside town bordering on a magical l...           7.2   \n564   6th-century Scandinavian warrior, Beowulf emba...           5.5   \n1171  John Gregory, who is a seventh son of a sevent...           5.2   \n...                                                 ...           ...   \n720   A post-apocalyptic tale, in which a lone man f...           6.6   \n682   Who is Don Ready? Salesman? Lover? Song Stylis...           5.4   \n1123  A long-time married couple who've spent their ...           5.9   \n1500  A biopic of Barack Obama set during his time a...           5.1   \n397   Aragorn is revealed as the heir to the ancient...           8.1   \n\n     release_year                                           keywords  \\\n364          2002  elves, orcs, middle-earth (tolkien), hobbit, b...   \n895          2012  attempted murder, fairy tale, black magic, coc...   \n544          2007  witch, based on novel, new love, prince, beaut...   \n564          2007  denmark, nordic mythology, lie, pride and vani...   \n1171         2014  magic, chosen one, dark fantasy, witch hunter,...   \n...           ...                                                ...   \n720          2010     book, post-apocalyptic, dystopia, faith, blind   \n682          2009                               duringcreditsstinger   \n1123         2014  new york, married couple, moving out, moving, ...   \n1500         2016                     new york city, college student   \n397          2003  elves, orcs, middle-earth (tolkien), based on ...   \n\n                                        title_dated  \n364           The Lord of the Rings: The Two Towers  \n895                         Mirror Mirror (2012-03)  \n544                              Stardust (2007-08)  \n564                               Beowulf (2007-11)  \n1171                                    Seventh Son  \n...                                             ...  \n720                                 The Book of Eli  \n682                 The Goods: Live Hard, Sell Hard  \n1123                                   5 Flights Up  \n1500                                          Barry  \n397   The Lord of the Rings: The Return of the King  \n\n[1723 rows x 10 columns]",
      "text/html": "<div>\n<style scoped>\n    .dataframe tbody tr th:only-of-type {\n        vertical-align: middle;\n    }\n\n    .dataframe tbody tr th {\n        vertical-align: top;\n    }\n\n    .dataframe thead th {\n        text-align: right;\n    }\n</style>\n<table border=\"1\" class=\"dataframe\">\n  <thead>\n    <tr style=\"text-align: right;\">\n      <th></th>\n      <th>id</th>\n      <th>title</th>\n      <th>release_date</th>\n      <th>original_language</th>\n      <th>genres</th>\n      <th>overview</th>\n      <th>vote_average</th>\n      <th>release_year</th>\n      <th>keywords</th>\n      <th>title_dated</th>\n    </tr>\n  </thead>\n  <tbody>\n    <tr>\n      <th>364</th>\n      <td>121</td>\n      <td>The Lord of the Rings: The Two Towers</td>\n      <td>2002-12-18</td>\n      <td>en</td>\n      <td>[Adventure, Fantasy, Action]</td>\n      <td>Frodo and Sam are trekking to Mordor to destro...</td>\n      <td>8.0</td>\n      <td>2002</td>\n      <td>elves, orcs, middle-earth (tolkien), hobbit, b...</td>\n      <td>The Lord of the Rings: The Two Towers</td>\n    </tr>\n    <tr>\n      <th>895</th>\n      <td>62764</td>\n      <td>Mirror Mirror</td>\n      <td>2012-03-15</td>\n      <td>en</td>\n      <td>[Adventure, Fantasy, Drama, Comedy, Science Fi...</td>\n      <td>After she spends all her money, an evil enchan...</td>\n      <td>5.5</td>\n      <td>2012</td>\n      <td>attempted murder, fairy tale, black magic, coc...</td>\n      <td>Mirror Mirror (2012-03)</td>\n    </tr>\n    <tr>\n      <th>544</th>\n      <td>2270</td>\n      <td>Stardust</td>\n      <td>2007-08-09</td>\n      <td>en</td>\n      <td>[Adventure, Fantasy, Romance, Family]</td>\n      <td>In a countryside town bordering on a magical l...</td>\n      <td>7.2</td>\n      <td>2007</td>\n      <td>witch, based on novel, new love, prince, beaut...</td>\n      <td>Stardust (2007-08)</td>\n    </tr>\n    <tr>\n      <th>564</th>\n      <td>2310</td>\n      <td>Beowulf</td>\n      <td>2007-11-05</td>\n      <td>en</td>\n      <td>[Adventure, Action, Animation]</td>\n      <td>6th-century Scandinavian warrior, Beowulf emba...</td>\n      <td>5.5</td>\n      <td>2007</td>\n      <td>denmark, nordic mythology, lie, pride and vani...</td>\n      <td>Beowulf (2007-11)</td>\n    </tr>\n    <tr>\n      <th>1171</th>\n      <td>68737</td>\n      <td>Seventh Son</td>\n      <td>2014-12-12</td>\n      <td>en</td>\n      <td>[Adventure, Fantasy]</td>\n      <td>John Gregory, who is a seventh son of a sevent...</td>\n      <td>5.2</td>\n      <td>2014</td>\n      <td>magic, chosen one, dark fantasy, witch hunter,...</td>\n      <td>Seventh Son</td>\n    </tr>\n    <tr>\n      <th>...</th>\n      <td>...</td>\n      <td>...</td>\n      <td>...</td>\n      <td>...</td>\n      <td>...</td>\n      <td>...</td>\n      <td>...</td>\n      <td>...</td>\n      <td>...</td>\n      <td>...</td>\n    </tr>\n    <tr>\n      <th>720</th>\n      <td>20504</td>\n      <td>The Book of Eli</td>\n      <td>2010-01-14</td>\n      <td>en</td>\n      <td>[Action, Thriller, Science Fiction]</td>\n      <td>A post-apocalyptic tale, in which a lone man f...</td>\n      <td>6.6</td>\n      <td>2010</td>\n      <td>book, post-apocalyptic, dystopia, faith, blind</td>\n      <td>The Book of Eli</td>\n    </tr>\n    <tr>\n      <th>682</th>\n      <td>19905</td>\n      <td>The Goods: Live Hard, Sell Hard</td>\n      <td>2009-08-14</td>\n      <td>en</td>\n      <td>[Comedy]</td>\n      <td>Who is Don Ready? Salesman? Lover? Song Stylis...</td>\n      <td>5.4</td>\n      <td>2009</td>\n      <td>duringcreditsstinger</td>\n      <td>The Goods: Live Hard, Sell Hard</td>\n    </tr>\n    <tr>\n      <th>1123</th>\n      <td>286521</td>\n      <td>5 Flights Up</td>\n      <td>2014-09-05</td>\n      <td>en</td>\n      <td>[Drama]</td>\n      <td>A long-time married couple who've spent their ...</td>\n      <td>5.9</td>\n      <td>2014</td>\n      <td>new york, married couple, moving out, moving, ...</td>\n      <td>5 Flights Up</td>\n    </tr>\n    <tr>\n      <th>1500</th>\n      <td>397717</td>\n      <td>Barry</td>\n      <td>2016-09-10</td>\n      <td>en</td>\n      <td>[Drama]</td>\n      <td>A biopic of Barack Obama set during his time a...</td>\n      <td>5.1</td>\n      <td>2016</td>\n      <td>new york city, college student</td>\n      <td>Barry</td>\n    </tr>\n    <tr>\n      <th>397</th>\n      <td>122</td>\n      <td>The Lord of the Rings: The Return of the King</td>\n      <td>2003-12-01</td>\n      <td>en</td>\n      <td>[Adventure, Fantasy, Action]</td>\n      <td>Aragorn is revealed as the heir to the ancient...</td>\n      <td>8.1</td>\n      <td>2003</td>\n      <td>elves, orcs, middle-earth (tolkien), based on ...</td>\n      <td>The Lord of the Rings: The Return of the King</td>\n    </tr>\n  </tbody>\n</table>\n<p>1723 rows × 10 columns</p>\n</div>"
     },
     "execution_count": 48,
     "metadata": {},
     "output_type": "execute_result"
    }
   ],
   "source": [
    "top_ten = reversed(similarity_encoding_keywords[movie_number].argsort())\n",
    "print(\n",
    "    df[\"title\"][movie_number],\n",
    "    \"\n",
    "====\n",
    "\",\n",
    "    df[\"genres\"][movie_number],\n",
    "    \"\n",
    "====\n",
    "\",S\n",
    "    df[\"keywords\"][movie_number],\n",
    "    \"\n",
    "====\n",
    "\")\n",
    "\n",
    "df_combined.loc[top_ten]"
   ],
   "metadata": {
    "collapsed": false,
    "ExecuteTime": {
     "end_time": "2024-01-03T21:52:43.084770077Z",
     "start_time": "2024-01-03T21:52:43.073580890Z"
    }
   },
   "id": "541a7cb0845d1ddc",
   "execution_count": 48
  },
  {
   "cell_type": "code",
   "outputs": [
    {
     "name": "stdout",
     "output_type": "stream",
     "text": [
      "The Lord of the Rings: The Return of the King \n",
      "====\n",
      " ['Adventure', 'Fantasy', 'Action'] \n",
      "====\n",
      " elves, orcs, middle-earth (tolkien), based on novel, suspicion, bravery, war, honor, troll, brutality, violence, ghost, end of trilogy, quest, sword and sorcery \n",
      "====\n"
     ]
    },
    {
     "data": {
      "text/plain": "          id                                          title release_date  \\\n801    23047                            Season of the Witch   2011-01-07   \n585     1729                          The Forbidden Kingdom   2008-04-18   \n1478  396643                                  A Flying Jatt   2016-08-25   \n741    18823                            Clash of the Titans   2010-04-01   \n535      559                                   Spider-Man 3   2007-05-01   \n...      ...                                            ...          ...   \n1097  266285                                  The Salvation   2014-05-22   \n1098  273997     Stop at Nothing: The Lance Armstrong Story   2014-05-27   \n1099  273641                                 Bad Grandpa .5   2014-06-03   \n0      56143                           The Battle of Midway   1942-09-14   \n397      122  The Lord of the Rings: The Return of the King   2003-12-01   \n\n     original_language                        genres  \\\n801                 en  [Adventure, Fantasy, Action]   \n585                 en  [Action, Adventure, Fantasy]   \n1478                hi  [Fantasy, Action, Adventure]   \n741                 en  [Adventure, Fantasy, Action]   \n535                 en  [Fantasy, Action, Adventure]   \n...                ...                           ...   \n1097                da              [Drama, Western]   \n1098                en                 [Documentary]   \n1099                en                      [Comedy]   \n0                   en            [Documentary, War]   \n397                 en  [Adventure, Fantasy, Action]   \n\n                                               overview  vote_average  \\\n801   A 14th century Crusader returns with his comra...           5.2   \n585   An American teenager who is obsessed with Hong...           6.3   \n1478  Jatt is a reluctant super hero that fights cri...           3.8   \n741   Born of a god but raised as a man, Perseus is ...           5.6   \n535   The seemingly invincible Spider-Man goes up ag...           5.9   \n...                                                 ...           ...   \n1097  In 1870s America, a peaceful American settler ...           6.2   \n1098  A portrait of the man behind the greatest frau...           7.0   \n1099  Bad Grandpa .5 gives you a whole new perspecti...           5.8   \n0     The Japanese attack on Midway in June 1942, fi...           4.7   \n397   Aragorn is revealed as the heir to the ancient...           8.1   \n\n     release_year                                           keywords  \\\n801          2011  inquisition, monk, ambush, witch, hero, fight,...   \n585          2008  tempel, shaolin, teenager, urination, staff, w...   \n1478         2016                                                      \n741          2010  hades, mythology, greek mythology, zeus, medus...   \n535          2007  dual identity, amnesia, sandstorm, love of one...   \n...           ...                                                ...   \n1097         2014  revenge, murder, mute, oil, gang, shootout, train   \n1098         2014                                                      \n1099         2014                                       mtv, jackass   \n0            1942                                                      \n397          2003  elves, orcs, middle-earth (tolkien), based on ...   \n\n                                        title_dated  \n801                             Season of the Witch  \n585                           The Forbidden Kingdom  \n1478                                  A Flying Jatt  \n741                   Clash of the Titans (2010-04)  \n535                                    Spider-Man 3  \n...                                             ...  \n1097                                  The Salvation  \n1098     Stop at Nothing: The Lance Armstrong Story  \n1099                                 Bad Grandpa .5  \n0                              The Battle of Midway  \n397   The Lord of the Rings: The Return of the King  \n\n[1723 rows x 10 columns]",
      "text/html": "<div>\n<style scoped>\n    .dataframe tbody tr th:only-of-type {\n        vertical-align: middle;\n    }\n\n    .dataframe tbody tr th {\n        vertical-align: top;\n    }\n\n    .dataframe thead th {\n        text-align: right;\n    }\n</style>\n<table border=\"1\" class=\"dataframe\">\n  <thead>\n    <tr style=\"text-align: right;\">\n      <th></th>\n      <th>id</th>\n      <th>title</th>\n      <th>release_date</th>\n      <th>original_language</th>\n      <th>genres</th>\n      <th>overview</th>\n      <th>vote_average</th>\n      <th>release_year</th>\n      <th>keywords</th>\n      <th>title_dated</th>\n    </tr>\n  </thead>\n  <tbody>\n    <tr>\n      <th>801</th>\n      <td>23047</td>\n      <td>Season of the Witch</td>\n      <td>2011-01-07</td>\n      <td>en</td>\n      <td>[Adventure, Fantasy, Action]</td>\n      <td>A 14th century Crusader returns with his comra...</td>\n      <td>5.2</td>\n      <td>2011</td>\n      <td>inquisition, monk, ambush, witch, hero, fight,...</td>\n      <td>Season of the Witch</td>\n    </tr>\n    <tr>\n      <th>585</th>\n      <td>1729</td>\n      <td>The Forbidden Kingdom</td>\n      <td>2008-04-18</td>\n      <td>en</td>\n      <td>[Action, Adventure, Fantasy]</td>\n      <td>An American teenager who is obsessed with Hong...</td>\n      <td>6.3</td>\n      <td>2008</td>\n      <td>tempel, shaolin, teenager, urination, staff, w...</td>\n      <td>The Forbidden Kingdom</td>\n    </tr>\n    <tr>\n      <th>1478</th>\n      <td>396643</td>\n      <td>A Flying Jatt</td>\n      <td>2016-08-25</td>\n      <td>hi</td>\n      <td>[Fantasy, Action, Adventure]</td>\n      <td>Jatt is a reluctant super hero that fights cri...</td>\n      <td>3.8</td>\n      <td>2016</td>\n      <td></td>\n      <td>A Flying Jatt</td>\n    </tr>\n    <tr>\n      <th>741</th>\n      <td>18823</td>\n      <td>Clash of the Titans</td>\n      <td>2010-04-01</td>\n      <td>en</td>\n      <td>[Adventure, Fantasy, Action]</td>\n      <td>Born of a god but raised as a man, Perseus is ...</td>\n      <td>5.6</td>\n      <td>2010</td>\n      <td>hades, mythology, greek mythology, zeus, medus...</td>\n      <td>Clash of the Titans (2010-04)</td>\n    </tr>\n    <tr>\n      <th>535</th>\n      <td>559</td>\n      <td>Spider-Man 3</td>\n      <td>2007-05-01</td>\n      <td>en</td>\n      <td>[Fantasy, Action, Adventure]</td>\n      <td>The seemingly invincible Spider-Man goes up ag...</td>\n      <td>5.9</td>\n      <td>2007</td>\n      <td>dual identity, amnesia, sandstorm, love of one...</td>\n      <td>Spider-Man 3</td>\n    </tr>\n    <tr>\n      <th>...</th>\n      <td>...</td>\n      <td>...</td>\n      <td>...</td>\n      <td>...</td>\n      <td>...</td>\n      <td>...</td>\n      <td>...</td>\n      <td>...</td>\n      <td>...</td>\n      <td>...</td>\n    </tr>\n    <tr>\n      <th>1097</th>\n      <td>266285</td>\n      <td>The Salvation</td>\n      <td>2014-05-22</td>\n      <td>da</td>\n      <td>[Drama, Western]</td>\n      <td>In 1870s America, a peaceful American settler ...</td>\n      <td>6.2</td>\n      <td>2014</td>\n      <td>revenge, murder, mute, oil, gang, shootout, train</td>\n      <td>The Salvation</td>\n    </tr>\n    <tr>\n      <th>1098</th>\n      <td>273997</td>\n      <td>Stop at Nothing: The Lance Armstrong Story</td>\n      <td>2014-05-27</td>\n      <td>en</td>\n      <td>[Documentary]</td>\n      <td>A portrait of the man behind the greatest frau...</td>\n      <td>7.0</td>\n      <td>2014</td>\n      <td></td>\n      <td>Stop at Nothing: The Lance Armstrong Story</td>\n    </tr>\n    <tr>\n      <th>1099</th>\n      <td>273641</td>\n      <td>Bad Grandpa .5</td>\n      <td>2014-06-03</td>\n      <td>en</td>\n      <td>[Comedy]</td>\n      <td>Bad Grandpa .5 gives you a whole new perspecti...</td>\n      <td>5.8</td>\n      <td>2014</td>\n      <td>mtv, jackass</td>\n      <td>Bad Grandpa .5</td>\n    </tr>\n    <tr>\n      <th>0</th>\n      <td>56143</td>\n      <td>The Battle of Midway</td>\n      <td>1942-09-14</td>\n      <td>en</td>\n      <td>[Documentary, War]</td>\n      <td>The Japanese attack on Midway in June 1942, fi...</td>\n      <td>4.7</td>\n      <td>1942</td>\n      <td></td>\n      <td>The Battle of Midway</td>\n    </tr>\n    <tr>\n      <th>397</th>\n      <td>122</td>\n      <td>The Lord of the Rings: The Return of the King</td>\n      <td>2003-12-01</td>\n      <td>en</td>\n      <td>[Adventure, Fantasy, Action]</td>\n      <td>Aragorn is revealed as the heir to the ancient...</td>\n      <td>8.1</td>\n      <td>2003</td>\n      <td>elves, orcs, middle-earth (tolkien), based on ...</td>\n      <td>The Lord of the Rings: The Return of the King</td>\n    </tr>\n  </tbody>\n</table>\n<p>1723 rows × 10 columns</p>\n</div>"
     },
     "execution_count": 49,
     "metadata": {},
     "output_type": "execute_result"
    }
   ],
   "source": [
    "top_ten = reversed(genre_similarity[movie_number].argsort())\n",
    "print(\n",
    "    df[\"title\"][movie_number],\n",
    "    \"\\n====\\n\",\n",
    "    df[\"genres\"][movie_number],\n",
    "    \"\\n====\\n\",\n",
    "    df[\"keywords\"][movie_number],\n",
    "    \"\\n====\\n\",\n",
    ")\n",
    "\n",
    "df_combined.loc[top_ten]"
   ],
   "metadata": {
    "collapsed": false,
    "ExecuteTime": {
     "end_time": "2024-01-03T21:53:11.141015997Z",
     "start_time": "2024-01-03T21:53:11.124296482Z"
    }
   },
   "id": "611af172404c58f1",
   "execution_count": 49
  },
  {
   "cell_type": "code",
   "outputs": [],
   "source": [
    "combined_similarity = (\n",
    "    genre_similarity * 0.5\n",
    "    + similarity_encoding_keywords.numpy()\n",
    "    + similarity_encoding_overview.numpy()\n",
    ")"
   ],
   "metadata": {
    "collapsed": false,
    "ExecuteTime": {
     "end_time": "2024-01-03T21:57:26.288639249Z",
     "start_time": "2024-01-03T21:57:25.238996730Z"
    }
   },
   "id": "d430ebdf1c67b4af",
   "execution_count": 60
  },
  {
   "cell_type": "code",
   "outputs": [
    {
     "name": "stdout",
     "output_type": "stream",
     "text": [
      "The Lord of the Rings: The Return of the King \n",
      "====\n",
      " ['Adventure', 'Fantasy', 'Action'] \n",
      "====\n",
      " elves, orcs, middle-earth (tolkien), based on novel, suspicion, bravery, war, honor, troll, brutality, violence, ghost, end of trilogy, quest, sword and sorcery \n",
      "====\n"
     ]
    },
    {
     "data": {
      "text/plain": "          id                                          title release_date  \\\n397      122  The Lord of the Rings: The Return of the King   2003-12-01   \n364      121          The Lord of the Rings: The Two Towers   2002-12-18   \n757    10196                             The Last Airbender   2010-06-30   \n1212  308504                                   Last Knights   2015-04-03   \n801    23047                            Season of the Witch   2011-01-07   \n...      ...                                            ...          ...   \n401    11820                                Mona Lisa Smile   2003-12-19   \n110    14733                           Bill Hicks: Sane Man   1989-12-01   \n1500  397717                                          Barry   2016-09-10   \n1401  390293                                           Bugs   2016-04-16   \n1385  376570                                           Hush   2016-03-12   \n\n     original_language                                genres  \\\n397                 en          [Adventure, Fantasy, Action]   \n364                 en          [Adventure, Fantasy, Action]   \n757                 en  [Action, Adventure, Family, Fantasy]   \n1212                en                   [Action, Adventure]   \n801                 en          [Adventure, Fantasy, Action]   \n...                ...                                   ...   \n401                 en                      [Drama, Romance]   \n110                 en                              [Comedy]   \n1500                en                               [Drama]   \n1401                da                         [Documentary]   \n1385                en                    [Horror, Thriller]   \n\n                                               overview  vote_average  \\\n397   Aragorn is revealed as the heir to the ancient...           8.1   \n364   Frodo and Sam are trekking to Mordor to destro...           8.0   \n757   The story follows the adventures of Aang, a yo...           4.7   \n1212  When an evil emperor executes their leader, hi...           6.2   \n801   A 14th century Crusader returns with his comra...           5.2   \n...                                                 ...           ...   \n401   The story of Katherine Ann Watson, a feminist ...           6.5   \n110   The amazing comedian Bill Hicks passed away in...           8.2   \n1500  A biopic of Barack Obama set during his time a...           5.1   \n1401  Although scientists and agribusiness have star...           0.0   \n1385  A deaf woman is stalked by a psychotic killer ...           6.9   \n\n     release_year                                           keywords  \\\n397          2003  elves, orcs, middle-earth (tolkien), based on ...   \n364          2002  elves, orcs, middle-earth (tolkien), hobbit, b...   \n757          2010  fire, ice, war ship, prince, kingdom, water, v...   \n1212         2015  loyalty, emperor, castle, sword fight, revenge...   \n801          2011  inquisition, monk, ambush, witch, hero, fight,...   \n...           ...                                                ...   \n401          2003  faculty, art history, rowing, school nurse, fe...   \n110          1989  comedian, honesty, stand-up comedy, cult comed...   \n1500         2016                     new york city, college student   \n1401         2016                            food, sustainable, bugs   \n1385         2016  deaf-mute, knife, computer, alone, murder, mut...   \n\n                                        title_dated  \n397   The Lord of the Rings: The Return of the King  \n364           The Lord of the Rings: The Two Towers  \n757                              The Last Airbender  \n1212                                   Last Knights  \n801                             Season of the Witch  \n...                                             ...  \n401                                 Mona Lisa Smile  \n110                            Bill Hicks: Sane Man  \n1500                                          Barry  \n1401                                           Bugs  \n1385                                 Hush (2016-03)  \n\n[1723 rows x 10 columns]",
      "text/html": "<div>\n<style scoped>\n    .dataframe tbody tr th:only-of-type {\n        vertical-align: middle;\n    }\n\n    .dataframe tbody tr th {\n        vertical-align: top;\n    }\n\n    .dataframe thead th {\n        text-align: right;\n    }\n</style>\n<table border=\"1\" class=\"dataframe\">\n  <thead>\n    <tr style=\"text-align: right;\">\n      <th></th>\n      <th>id</th>\n      <th>title</th>\n      <th>release_date</th>\n      <th>original_language</th>\n      <th>genres</th>\n      <th>overview</th>\n      <th>vote_average</th>\n      <th>release_year</th>\n      <th>keywords</th>\n      <th>title_dated</th>\n    </tr>\n  </thead>\n  <tbody>\n    <tr>\n      <th>397</th>\n      <td>122</td>\n      <td>The Lord of the Rings: The Return of the King</td>\n      <td>2003-12-01</td>\n      <td>en</td>\n      <td>[Adventure, Fantasy, Action]</td>\n      <td>Aragorn is revealed as the heir to the ancient...</td>\n      <td>8.1</td>\n      <td>2003</td>\n      <td>elves, orcs, middle-earth (tolkien), based on ...</td>\n      <td>The Lord of the Rings: The Return of the King</td>\n    </tr>\n    <tr>\n      <th>364</th>\n      <td>121</td>\n      <td>The Lord of the Rings: The Two Towers</td>\n      <td>2002-12-18</td>\n      <td>en</td>\n      <td>[Adventure, Fantasy, Action]</td>\n      <td>Frodo and Sam are trekking to Mordor to destro...</td>\n      <td>8.0</td>\n      <td>2002</td>\n      <td>elves, orcs, middle-earth (tolkien), hobbit, b...</td>\n      <td>The Lord of the Rings: The Two Towers</td>\n    </tr>\n    <tr>\n      <th>757</th>\n      <td>10196</td>\n      <td>The Last Airbender</td>\n      <td>2010-06-30</td>\n      <td>en</td>\n      <td>[Action, Adventure, Family, Fantasy]</td>\n      <td>The story follows the adventures of Aang, a yo...</td>\n      <td>4.7</td>\n      <td>2010</td>\n      <td>fire, ice, war ship, prince, kingdom, water, v...</td>\n      <td>The Last Airbender</td>\n    </tr>\n    <tr>\n      <th>1212</th>\n      <td>308504</td>\n      <td>Last Knights</td>\n      <td>2015-04-03</td>\n      <td>en</td>\n      <td>[Action, Adventure]</td>\n      <td>When an evil emperor executes their leader, hi...</td>\n      <td>6.2</td>\n      <td>2015</td>\n      <td>loyalty, emperor, castle, sword fight, revenge...</td>\n      <td>Last Knights</td>\n    </tr>\n    <tr>\n      <th>801</th>\n      <td>23047</td>\n      <td>Season of the Witch</td>\n      <td>2011-01-07</td>\n      <td>en</td>\n      <td>[Adventure, Fantasy, Action]</td>\n      <td>A 14th century Crusader returns with his comra...</td>\n      <td>5.2</td>\n      <td>2011</td>\n      <td>inquisition, monk, ambush, witch, hero, fight,...</td>\n      <td>Season of the Witch</td>\n    </tr>\n    <tr>\n      <th>...</th>\n      <td>...</td>\n      <td>...</td>\n      <td>...</td>\n      <td>...</td>\n      <td>...</td>\n      <td>...</td>\n      <td>...</td>\n      <td>...</td>\n      <td>...</td>\n      <td>...</td>\n    </tr>\n    <tr>\n      <th>401</th>\n      <td>11820</td>\n      <td>Mona Lisa Smile</td>\n      <td>2003-12-19</td>\n      <td>en</td>\n      <td>[Drama, Romance]</td>\n      <td>The story of Katherine Ann Watson, a feminist ...</td>\n      <td>6.5</td>\n      <td>2003</td>\n      <td>faculty, art history, rowing, school nurse, fe...</td>\n      <td>Mona Lisa Smile</td>\n    </tr>\n    <tr>\n      <th>110</th>\n      <td>14733</td>\n      <td>Bill Hicks: Sane Man</td>\n      <td>1989-12-01</td>\n      <td>en</td>\n      <td>[Comedy]</td>\n      <td>The amazing comedian Bill Hicks passed away in...</td>\n      <td>8.2</td>\n      <td>1989</td>\n      <td>comedian, honesty, stand-up comedy, cult comed...</td>\n      <td>Bill Hicks: Sane Man</td>\n    </tr>\n    <tr>\n      <th>1500</th>\n      <td>397717</td>\n      <td>Barry</td>\n      <td>2016-09-10</td>\n      <td>en</td>\n      <td>[Drama]</td>\n      <td>A biopic of Barack Obama set during his time a...</td>\n      <td>5.1</td>\n      <td>2016</td>\n      <td>new york city, college student</td>\n      <td>Barry</td>\n    </tr>\n    <tr>\n      <th>1401</th>\n      <td>390293</td>\n      <td>Bugs</td>\n      <td>2016-04-16</td>\n      <td>da</td>\n      <td>[Documentary]</td>\n      <td>Although scientists and agribusiness have star...</td>\n      <td>0.0</td>\n      <td>2016</td>\n      <td>food, sustainable, bugs</td>\n      <td>Bugs</td>\n    </tr>\n    <tr>\n      <th>1385</th>\n      <td>376570</td>\n      <td>Hush</td>\n      <td>2016-03-12</td>\n      <td>en</td>\n      <td>[Horror, Thriller]</td>\n      <td>A deaf woman is stalked by a psychotic killer ...</td>\n      <td>6.9</td>\n      <td>2016</td>\n      <td>deaf-mute, knife, computer, alone, murder, mut...</td>\n      <td>Hush (2016-03)</td>\n    </tr>\n  </tbody>\n</table>\n<p>1723 rows × 10 columns</p>\n</div>"
     },
     "execution_count": 61,
     "metadata": {},
     "output_type": "execute_result"
    }
   ],
   "source": [
    "top_ten = reversed(combined_similarity[movie_number].argsort())\n",
    "print(\n",
    "    df[\"title\"][movie_number],\n",
    "    \"\\n====\\n\",\n",
    "    df[\"genres\"][movie_number],\n",
    "    \"\\n====\\n\",\n",
    "    df[\"keywords\"][movie_number],\n",
    "    \"\\n====\\n\",\n",
    ")\n",
    "\n",
    "df_combined.loc[top_ten]"
   ],
   "metadata": {
    "collapsed": false,
    "ExecuteTime": {
     "end_time": "2024-01-03T21:57:27.092690061Z",
     "start_time": "2024-01-03T21:57:27.067152105Z"
    }
   },
   "id": "e8ca7e815b6b4e08",
   "execution_count": 61
  },
  {
   "cell_type": "code",
   "outputs": [],
   "source": [
    "# df_combined[df_combined.title == \"The Lord of the Rings: The Two Towers\"]"
   ],
   "metadata": {
    "collapsed": false,
    "ExecuteTime": {
     "start_time": "2024-01-03T21:49:22.483958933Z"
    }
   },
   "id": "e98ef656720ca0f3",
   "execution_count": null
  },
  {
   "cell_type": "code",
   "outputs": [],
   "source": [
    "# similarity_encoding[movie_number, similarity_encoding[movie_number].argsort()[-10:]]"
   ],
   "metadata": {
    "collapsed": false,
    "ExecuteTime": {
     "start_time": "2024-01-03T21:49:22.483997003Z"
    }
   },
   "id": "37fa97f03026e806",
   "execution_count": null
  },
  {
   "cell_type": "code",
   "outputs": [],
   "source": [
    "# similarity_encoding[movie_number][1597]"
   ],
   "metadata": {
    "collapsed": false,
    "ExecuteTime": {
     "start_time": "2024-01-03T21:49:22.484082933Z"
    }
   },
   "id": "6ecf7df6e361dd1",
   "execution_count": null
  },
  {
   "cell_type": "code",
   "outputs": [],
   "source": [
    "# combined_similarity = similarity_encoding + similarity"
   ],
   "metadata": {
    "collapsed": false,
    "ExecuteTime": {
     "start_time": "2024-01-03T21:49:22.484123683Z"
    }
   },
   "id": "2ac53bdd28b11684",
   "execution_count": null
  },
  {
   "cell_type": "code",
   "outputs": [],
   "source": [
    "#  print(\n",
    "#     df[\"title\"][movie_number],\n",
    "#     \"\\n====\\n\",\n",
    "#     df[\"genres\"][movie_number],\n",
    "#     \"\\n====\\n\",\n",
    "#     \"\\n\".join(df_combined.title.loc[reversed(combined_similarity[movie_number].argsort()[-10:])]),\n",
    "#     \"\\n====\\n\",\n",
    "#     \"\\n\\n\".join(df_combined.genres.loc[reversed(combined_similarity[movie_number].argsort()[-10:])].astype(str)),\n",
    "#     \"\\n====\\n\",\n",
    "#     df[\"overview\"][movie_number],\n",
    "#     \"\\n\\n\".join(df_combined.overview.loc[reversed(combined_similarity[movie_number].argsort()[-10:])]),\n",
    "#     sep=\"\\n\")"
   ],
   "metadata": {
    "collapsed": false,
    "ExecuteTime": {
     "start_time": "2024-01-03T21:49:22.484162694Z"
    }
   },
   "id": "469fad7ab51d82fe",
   "execution_count": null
  },
  {
   "cell_type": "code",
   "outputs": [],
   "source": [],
   "metadata": {
    "collapsed": false,
    "ExecuteTime": {
     "start_time": "2024-01-03T21:49:22.484207224Z"
    }
   },
   "id": "5d8d7461d03cb090"
  }
 ],
 "metadata": {
  "kernelspec": {
   "display_name": "Python 3",
   "language": "python",
   "name": "python3"
  },
  "language_info": {
   "codemirror_mode": {
    "name": "ipython",
    "version": 2
   },
   "file_extension": ".py",
   "mimetype": "text/x-python",
   "name": "python",
   "nbconvert_exporter": "python",
   "pygments_lexer": "ipython2",
   "version": "2.7.6"
  }
 },
 "nbformat": 4,
 "nbformat_minor": 5
}
