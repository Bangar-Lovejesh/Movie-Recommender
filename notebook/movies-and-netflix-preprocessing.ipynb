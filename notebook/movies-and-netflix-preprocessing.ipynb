{
 "cells": [
  {
   "cell_type": "markdown",
   "source": [
    "# Data preparation notebook for recommender project"
   ],
   "metadata": {
    "collapsed": false
   },
   "id": "756f42ea9db3e076"
  },
  {
   "cell_type": "code",
   "outputs": [],
   "source": [
    "import ast\n",
    "\n",
    "import numpy as np\n",
    "import pandas as pd\n",
    "from sentence_transformers import SentenceTransformer, util\n",
    "from sklearn.metrics.pairwise import cosine_similarity\n",
    "from sklearn.preprocessing import MultiLabelBinarizer"
   ],
   "metadata": {
    "collapsed": false,
    "ExecuteTime": {
     "end_time": "2024-01-03T17:57:36.357321400Z",
     "start_time": "2024-01-03T17:57:33.709136Z"
    }
   },
   "id": "8286ccb0b1c61341",
   "execution_count": 1
  },
  {
   "cell_type": "code",
   "outputs": [],
   "source": [
    "# # You need a kaggle account to use this\n",
    "# # https://pypi.org/project/opendatasets/\n",
    "# import opendatasets as od\n",
    "# od.download(\"https://www.kaggle.com/datasets/shivamb/netflix-shows\")\n",
    "# od.download(\"https://www.kaggle.com/datasets/rounakbanik/the-movies-dataset\")"
   ],
   "metadata": {
    "collapsed": false,
    "ExecuteTime": {
     "end_time": "2024-01-03T17:57:36.381320Z",
     "start_time": "2024-01-03T17:57:36.358321100Z"
    }
   },
   "id": "be3ca0c5c71695d6",
   "execution_count": 2
  },
  {
   "cell_type": "code",
   "outputs": [],
   "source": [
    "netflix_movies = pd.read_csv(\n",
    "    \"./netflix-shows/netflix_titles.csv\", usecols=[\"title\", \"type\", \"release_year\"]\n",
    ")\n",
    "netflix_movies = netflix_movies[netflix_movies[\"type\"] == \"Movie\"]"
   ],
   "metadata": {
    "collapsed": false,
    "ExecuteTime": {
     "end_time": "2024-01-03T17:57:36.421833700Z",
     "start_time": "2024-01-03T17:57:36.373321700Z"
    }
   },
   "id": "69677dd4746f9f93",
   "execution_count": 3
  },
  {
   "cell_type": "code",
   "outputs": [],
   "source": [
    "cols_to_read = [\n",
    "    \"id\",\n",
    "    \"title\",\n",
    "    \"overview\",\n",
    "    \"release_date\",\n",
    "    \"original_language\",\n",
    "    \"genres\",\n",
    "    \"vote_average\",\n",
    "]\n",
    "df_raw = pd.read_csv(\n",
    "    \"./the-movies-dataset/movies_metadata.csv\", usecols=cols_to_read\n",
    ").loc[\n",
    "    :,\n",
    "    [\n",
    "        \"id\",\n",
    "        \"title\",\n",
    "        \"release_date\",\n",
    "        \"original_language\",\n",
    "        \"genres\",\n",
    "        \"overview\",\n",
    "        \"vote_average\",\n",
    "    ],\n",
    "]\n",
    "\n",
    "df = df_raw.copy()[~df_raw.duplicated()]"
   ],
   "metadata": {
    "collapsed": false,
    "ExecuteTime": {
     "end_time": "2024-01-03T17:57:36.779374300Z",
     "start_time": "2024-01-03T17:57:36.419834600Z"
    }
   },
   "id": "6ad0a3c49a746305",
   "execution_count": 4
  },
  {
   "cell_type": "code",
   "outputs": [
    {
     "data": {
      "text/plain": "(45436, 7)"
     },
     "execution_count": 5,
     "metadata": {},
     "output_type": "execute_result"
    }
   ],
   "source": [
    "df.shape"
   ],
   "metadata": {
    "collapsed": false,
    "ExecuteTime": {
     "end_time": "2024-01-03T17:57:36.800383500Z",
     "start_time": "2024-01-03T17:57:36.782375900Z"
    }
   },
   "id": "7d11aeaa89c5d6b0",
   "execution_count": 5
  },
  {
   "cell_type": "code",
   "outputs": [],
   "source": [
    "df[\"release_date\"] = pd.to_datetime(df[\"release_date\"], errors=\"coerce\").dropna()\n",
    "df[\"release_year\"] = df[\"release_date\"].dt.strftime(\"%Y\")"
   ],
   "metadata": {
    "collapsed": false,
    "ExecuteTime": {
     "end_time": "2024-01-03T17:57:36.982417300Z",
     "start_time": "2024-01-03T17:57:36.800383500Z"
    }
   },
   "id": "2ba1a23302fc5e85",
   "execution_count": 6
  },
  {
   "cell_type": "code",
   "outputs": [],
   "source": [
    "def get_genre_values(row):\n",
    "    row = ast.literal_eval(row)\n",
    "    genre_list = [val[\"name\"] for val in row]\n",
    "    if len(genre_list) == 0:\n",
    "        return [\"Unknown\"]\n",
    "    return genre_list"
   ],
   "metadata": {
    "collapsed": false,
    "ExecuteTime": {
     "end_time": "2024-01-03T17:57:37.004925200Z",
     "start_time": "2024-01-03T17:57:36.984416700Z"
    }
   },
   "id": "61bb0372f85dbb1e",
   "execution_count": 7
  },
  {
   "cell_type": "code",
   "outputs": [],
   "source": [
    "df = df.loc[df[cols_to_read[:-1]].dropna().index].reset_index(drop=True)\n",
    "\n",
    "df[\"id\"] = df[\"id\"].astype(int)"
   ],
   "metadata": {
    "collapsed": false,
    "ExecuteTime": {
     "end_time": "2024-01-03T17:57:37.042932400Z",
     "start_time": "2024-01-03T17:57:36.998421400Z"
    }
   },
   "id": "7b661feed9a61e33",
   "execution_count": 8
  },
  {
   "cell_type": "code",
   "outputs": [
    {
     "data": {
      "text/plain": "(44395, 8)"
     },
     "execution_count": 9,
     "metadata": {},
     "output_type": "execute_result"
    }
   ],
   "source": [
    "df.shape"
   ],
   "metadata": {
    "collapsed": false,
    "ExecuteTime": {
     "end_time": "2024-01-03T17:57:37.067932600Z",
     "start_time": "2024-01-03T17:57:37.044931900Z"
    }
   },
   "id": "48c08267d13f15d5",
   "execution_count": 9
  },
  {
   "cell_type": "code",
   "outputs": [
    {
     "data": {
      "text/plain": "(44395, 9)"
     },
     "execution_count": 10,
     "metadata": {},
     "output_type": "execute_result"
    }
   ],
   "source": [
    "df = pd.merge(\n",
    "    df,\n",
    "    pd.read_csv(\"./the-movies-dataset/keywords.csv\").drop_duplicates(),\n",
    "    how=\"left\",\n",
    "    on=[\"id\"],\n",
    ")\n",
    "df[\"keywords\"] = df.keywords.fillna(\"[]\")\n",
    "df.shape"
   ],
   "metadata": {
    "collapsed": false,
    "ExecuteTime": {
     "end_time": "2024-01-03T17:57:37.175453500Z",
     "start_time": "2024-01-03T17:57:37.060936200Z"
    }
   },
   "id": "eeb761209d05d248",
   "execution_count": 10
  },
  {
   "cell_type": "code",
   "outputs": [],
   "source": [
    "df[\"genres\"] = df[\"genres\"].apply(get_genre_values)"
   ],
   "metadata": {
    "collapsed": false,
    "ExecuteTime": {
     "end_time": "2024-01-03T17:57:37.898648900Z",
     "start_time": "2024-01-03T17:57:37.170453900Z"
    }
   },
   "id": "f23724a7db826bad",
   "execution_count": 11
  },
  {
   "cell_type": "code",
   "outputs": [],
   "source": [
    "df[\"keywords\"] = df[\"keywords\"].apply(get_genre_values)"
   ],
   "metadata": {
    "collapsed": false,
    "ExecuteTime": {
     "end_time": "2024-01-03T17:57:39.264250100Z",
     "start_time": "2024-01-03T17:57:38.033674500Z"
    }
   },
   "id": "f8ce3a65ab77bb3b",
   "execution_count": 12
  },
  {
   "cell_type": "code",
   "outputs": [],
   "source": [
    "df[\"keywords\"] = df.loc[:, [\"keywords\"]].apply(\n",
    "    lambda x: \", \".join(x.keywords) if \"Unknown\" not in x.keywords else \"\",\n",
    "    axis=1,\n",
    ")\n",
    "\n",
    "idx_no_kw = df[df[\"keywords\"] == \"\"].index"
   ],
   "metadata": {
    "collapsed": false,
    "ExecuteTime": {
     "end_time": "2024-01-03T17:57:39.909308300Z",
     "start_time": "2024-01-03T17:57:39.305761500Z"
    }
   },
   "id": "1323476c73a663d2",
   "execution_count": 13
  },
  {
   "cell_type": "code",
   "outputs": [
    {
     "data": {
      "text/plain": "      id                        title release_date original_language  \\\n0    862                    Toy Story   1995-10-30                en   \n1   8844                      Jumanji   1995-12-15                en   \n2  15602             Grumpier Old Men   1995-12-22                en   \n3  31357            Waiting to Exhale   1995-12-22                en   \n4  11862  Father of the Bride Part II   1995-02-10                en   \n\n                         genres  \\\n0   [Animation, Comedy, Family]   \n1  [Adventure, Fantasy, Family]   \n2             [Romance, Comedy]   \n3      [Comedy, Drama, Romance]   \n4                      [Comedy]   \n\n                                            overview  vote_average  \\\n0  Led by Woody, Andy's toys live happily in his ...           7.7   \n1  When siblings Judy and Peter discover an encha...           6.9   \n2  A family wedding reignites the ancient feud be...           6.5   \n3  Cheated on, mistreated and stepped on, the wom...           6.1   \n4  Just when George Banks has recovered from his ...           5.7   \n\n  release_year                                           keywords  \n0         1995  jealousy, toy, boy, friendship, friends, rival...  \n1         1995  board game, disappearance, based on children's...  \n2         1995  fishing, best friend, duringcreditsstinger, ol...  \n3         1995  based on novel, interracial relationship, sing...  \n4         1995  baby, midlife crisis, confidence, aging, daugh...  ",
      "text/html": "<div>\n<style scoped>\n    .dataframe tbody tr th:only-of-type {\n        vertical-align: middle;\n    }\n\n    .dataframe tbody tr th {\n        vertical-align: top;\n    }\n\n    .dataframe thead th {\n        text-align: right;\n    }\n</style>\n<table border=\"1\" class=\"dataframe\">\n  <thead>\n    <tr style=\"text-align: right;\">\n      <th></th>\n      <th>id</th>\n      <th>title</th>\n      <th>release_date</th>\n      <th>original_language</th>\n      <th>genres</th>\n      <th>overview</th>\n      <th>vote_average</th>\n      <th>release_year</th>\n      <th>keywords</th>\n    </tr>\n  </thead>\n  <tbody>\n    <tr>\n      <th>0</th>\n      <td>862</td>\n      <td>Toy Story</td>\n      <td>1995-10-30</td>\n      <td>en</td>\n      <td>[Animation, Comedy, Family]</td>\n      <td>Led by Woody, Andy's toys live happily in his ...</td>\n      <td>7.7</td>\n      <td>1995</td>\n      <td>jealousy, toy, boy, friendship, friends, rival...</td>\n    </tr>\n    <tr>\n      <th>1</th>\n      <td>8844</td>\n      <td>Jumanji</td>\n      <td>1995-12-15</td>\n      <td>en</td>\n      <td>[Adventure, Fantasy, Family]</td>\n      <td>When siblings Judy and Peter discover an encha...</td>\n      <td>6.9</td>\n      <td>1995</td>\n      <td>board game, disappearance, based on children's...</td>\n    </tr>\n    <tr>\n      <th>2</th>\n      <td>15602</td>\n      <td>Grumpier Old Men</td>\n      <td>1995-12-22</td>\n      <td>en</td>\n      <td>[Romance, Comedy]</td>\n      <td>A family wedding reignites the ancient feud be...</td>\n      <td>6.5</td>\n      <td>1995</td>\n      <td>fishing, best friend, duringcreditsstinger, ol...</td>\n    </tr>\n    <tr>\n      <th>3</th>\n      <td>31357</td>\n      <td>Waiting to Exhale</td>\n      <td>1995-12-22</td>\n      <td>en</td>\n      <td>[Comedy, Drama, Romance]</td>\n      <td>Cheated on, mistreated and stepped on, the wom...</td>\n      <td>6.1</td>\n      <td>1995</td>\n      <td>based on novel, interracial relationship, sing...</td>\n    </tr>\n    <tr>\n      <th>4</th>\n      <td>11862</td>\n      <td>Father of the Bride Part II</td>\n      <td>1995-02-10</td>\n      <td>en</td>\n      <td>[Comedy]</td>\n      <td>Just when George Banks has recovered from his ...</td>\n      <td>5.7</td>\n      <td>1995</td>\n      <td>baby, midlife crisis, confidence, aging, daugh...</td>\n    </tr>\n  </tbody>\n</table>\n</div>"
     },
     "execution_count": 14,
     "metadata": {},
     "output_type": "execute_result"
    }
   ],
   "source": [
    "df.head()"
   ],
   "metadata": {
    "collapsed": false,
    "ExecuteTime": {
     "end_time": "2024-01-03T17:57:39.923308600Z",
     "start_time": "2024-01-03T17:57:39.909308300Z"
    }
   },
   "id": "f07434818b996cb7",
   "execution_count": 14
  },
  {
   "cell_type": "code",
   "outputs": [],
   "source": [
    "netflix_movies[\"release_year\"] = netflix_movies[\"release_year\"].astype(str)\n",
    "df_combined = pd.merge(\n",
    "    df, netflix_movies[[\"title\", \"release_year\"]], on=[\"title\", \"release_year\"]\n",
    ")\n",
    "df_combined = df_combined[\n",
    "    ~df_combined[[\"title\", \"release_year\", \"overview\"]].duplicated()\n",
    "].reset_index(drop=True)"
   ],
   "metadata": {
    "collapsed": false,
    "ExecuteTime": {
     "end_time": "2024-01-03T17:57:40.004315800Z",
     "start_time": "2024-01-03T17:57:39.924308100Z"
    }
   },
   "id": "b4b9dab746d233c",
   "execution_count": 15
  },
  {
   "cell_type": "code",
   "outputs": [
    {
     "name": "stdout",
     "output_type": "stream",
     "text": [
      "['Adventure', 'Action', 'Thriller', 'Comedy', 'Drama', 'Romance', 'Family', 'Animation', 'Fantasy', 'Crime', 'Mystery', 'Science Fiction', 'Western', 'History', 'War', 'Horror', 'Music', 'Documentary', 'Foreign', 'TV Movie']\n"
     ]
    }
   ],
   "source": [
    "all_genres = list(df_combined[\"genres\"].explode().unique())\n",
    "all_genres.remove(\"Unknown\")\n",
    "print(all_genres)"
   ],
   "metadata": {
    "collapsed": false,
    "ExecuteTime": {
     "end_time": "2024-01-03T17:57:40.033828200Z",
     "start_time": "2024-01-03T17:57:39.956309500Z"
    }
   },
   "id": "d790d0d81a5e459a",
   "execution_count": 16
  },
  {
   "cell_type": "code",
   "outputs": [],
   "source": [
    "df = df.sort_values(by=\"release_date\").reset_index(drop=True)\n",
    "df.loc[df.title.duplicated(), \"title\"] = df.loc[df.title.duplicated(), [\"title\"]].apply(\n",
    "    lambda x: \" \".join([x[\"title\"], f\"({str(df['release_year'][x.name])})\"]), axis=1\n",
    ")"
   ],
   "metadata": {
    "collapsed": false,
    "ExecuteTime": {
     "end_time": "2024-01-03T17:57:40.137346100Z",
     "start_time": "2024-01-03T17:57:39.973307700Z"
    }
   },
   "id": "d92b71d45b29afc2",
   "execution_count": 17
  },
  {
   "cell_type": "code",
   "outputs": [],
   "source": [
    "duplicate_title_and_year = df.loc[df.title.duplicated(), \"title\"].index"
   ],
   "metadata": {
    "collapsed": false,
    "ExecuteTime": {
     "end_time": "2024-01-03T17:57:40.138344500Z",
     "start_time": "2024-01-03T17:57:40.082827100Z"
    }
   },
   "id": "fcb15c59955cda2c",
   "execution_count": 18
  },
  {
   "cell_type": "code",
   "outputs": [],
   "source": [
    "df.loc[df.title.duplicated(), \"title\"] = df.loc[df.title.duplicated(), [\"title\"]].apply(\n",
    "    lambda x: x[\"title\"].replace(\n",
    "        f\"({str(df['release_year'][x.name])})\",\n",
    "        f\"({str(df['release_date'][x.name].strftime('%Y-%m'))})\",\n",
    "    ),\n",
    "    axis=1,\n",
    ")"
   ],
   "metadata": {
    "collapsed": false,
    "ExecuteTime": {
     "end_time": "2024-01-03T17:57:40.160346200Z",
     "start_time": "2024-01-03T17:57:40.082827100Z"
    }
   },
   "id": "c6e6782d33cf0085",
   "execution_count": 19
  },
  {
   "cell_type": "code",
   "outputs": [
    {
     "data": {
      "text/plain": "           id                                   title release_date  \\\n18699   12254                          Emma (1996-10)   1996-10-02   \n19091   13852                    The Castle (1997-04)   1997-04-10   \n19140    2966  20,000 Leagues Under the Sea (1997-05)   1997-05-11   \n21677  125705                        Hamlet (2000-12)   2000-12-10   \n25071    3056                  Frankenstein (2004-10)   2004-10-09   \n25928   39914                         Chaos (2005-08)   2005-08-10   \n27413  173288                   Black Sheep (2006-10)   2006-10-25   \n28753   59346                       Darling (2007-11)   2007-11-07   \n30220   10139                          Milk (2008-11)   2008-11-26   \n31457   26738                          Rage (2009-09)   2009-09-24   \n33660   69878                       Harvest (2011-03)   2011-03-11   \n34009   86549                        August (2011-06)   2011-06-09   \n34385  103012                         Lucky (2011-09)   2011-09-11   \n34439   74945            War of the Buttons (2011-09)   2011-09-20   \n35751  121491                      Deranged (2012-07)   2012-07-05   \n36163  133469                The Dream Team (2012-09)   2012-09-24   \n36369  133557                      The Girl (2012-10)   2012-10-22   \n36450  143800                     Aftermath (2012-11)   2012-11-09   \n38393  216440                      Paradise (2013-11)   2013-11-30   \n38490  242454                   The Suspect (2013-12)   2013-12-24   \n39330  273886                       Holiday (2014-06)   2014-06-06   \n39841  120172                 Another World (2014-09)   2014-09-14   \n40167  289416                         Grace (2014-10)   2014-10-28   \n40331  197950                The Connection (2014-12)   2014-12-03   \n41070  332976                    Absolution (2015-05)   2015-05-04   \n42287  347669                      Stranded (2015-12)   2015-12-31   \n43034  402223                    Classmates (2016-06)   2016-06-16   \n43681  429713                      The Void (2016-11)   2016-11-08   \n\n      original_language                                             genres  \\\n18699                en                 [TV Movie, Comedy, Drama, Romance]   \n19091                en                                    [Drama, Comedy]   \n19140                en      [Adventure, Fantasy, Action, Science Fiction]   \n21677                en                                            [Drama]   \n25071                en  [TV Movie, Drama, Horror, Science Fiction, Mys...   \n25928                en                         [Action, Horror, Thriller]   \n27413                de                                  [Comedy, Foreign]   \n28753                fr                                            [Drama]   \n30220                en                                   [History, Drama]   \n31457                en                                  [Thriller, Drama]   \n33660                en                                            [Drama]   \n34009                en                                            [Drama]   \n34385                en                                            [Drama]   \n34439                fr                                [Adventure, Family]   \n35751                ko                                [Thriller, Foreign]   \n36163                fr                           [Drama, Comedy, Romance]   \n36369                en                                  [TV Movie, Drama]   \n36450                pl                         [Mystery, Drama, Thriller]   \n38393                es                                          [Romance]   \n38490                ko                                 [Action, Thriller]   \n39330                hi                        [Thriller, Action, Romance]   \n39841                he                   [Action, Drama, Science Fiction]   \n40167                en                                 [Thriller, Horror]   \n40331                fr                          [Action, Crime, Thriller]   \n41070                en               [Thriller, Action, Adventure, Crime]   \n42287                es                                           [Comedy]   \n43034                ru                                  [Romance, Comedy]   \n43681                en       [Fantasy, Horror, Thriller, Science Fiction]   \n\n                                                overview  vote_average  \\\n18699  Emma Woodhouse has a rigid sense of propriety ...           6.7   \n19091  A Melbourne family is very happy living near t...           7.4   \n19140  The year is 1886, when New England's fishing h...           4.6   \n21677                           To be or not to be, etc.           0.0   \n25071  Two hundred years after Mary Shelley's novel t...           4.6   \n25928  Emily and her friend Angelica go to a rave in ...           4.4   \n27413  Black Sheep (original title: Schwarze Schafe) ...           6.6   \n28753  Darling is a woman of today. It seems to alway...           6.5   \n30220  The story of California's first openly gay ele...           7.1   \n31457  A schoolboy uses his cellphone camera to shoot...           4.2   \n33660  Gathered one summer in a beautiful shoreline t...           5.0   \n34009  August tells the story of two former lovers, T...           6.3   \n34385  A 10-year-old South African orphan leaves his ...           8.5   \n34439  Occupied France; Lebrac leads a play war betwe...           5.8   \n35751  Jae-hyuk is a pharmaceutical worker for a medi...           6.5   \n36163  A former footballer living in Brittany enlists...           4.9   \n36369  Director Alfred Hitchcock is revered as one of...           5.8   \n36450  Two brothers are trying to find out the truth ...           6.0   \n38393  Carmen and Alfredo live a happy, quiet life in...           5.3   \n38490  Dong-chul was the best special field agent in ...           6.9   \n39330  A soldier on vacation finds himself hunting do...           5.8   \n39841  The movie is a post-apocalyptic horror/science...           3.9   \n40167  A unique horror film told from the first-perso...           4.8   \n40331  Newly transferred to the bustling port city of...           7.1   \n41070  When a contract killer (Steven Seagal) encount...           4.7   \n42287  The last train travel of the year from Barcelo...           5.3   \n43034  Sochi, Russia. The day before wedding Katya fi...           4.1   \n43681  The Void is a multi volume anthology series fe...           4.0   \n\n      release_year                                           keywords  \n18699         1996                    marriage proposal, make a match  \n19091         1997  underdog, airport, court case, australian, fam...  \n19140         1997                                                     \n21677         2000                                        shakespeare  \n25071         2004                              monster, frankenstein  \n25928         2005                                                     \n27413         2006                                                     \n28753         2007                                     woman director  \n30220         2008  gay, san francisco, homophobia, mayor, biograp...  \n31457         2009                    murder, fashion, woman director  \n33660         2011                                war veteran, summer  \n34009         2011                   drama, romance, gay relationship  \n34385         2011                                                     \n34439         2011                                button, war context  \n35751         2012                            pharmaceutical industry  \n36163         2012                                                     \n36369         2012             biography, hollywood, alfred hitchcock  \n36450         2012  holocaust, country life, farm, suspense, thril...  \n38393         2013                                     woman director  \n38490         2013                                                     \n39330         2014                                       war, soldier  \n39841         2014  zombie, brutality, biological warfare, female ...  \n40167         2014  exorcism, possession, demon, exorcist, demonic...  \n40331         2014  marseille, judge, drug trade, drug trafficking...  \n41070         2015                                                     \n42287         2015                                                     \n43034         2016                                                     \n43681         2016                      dystopia, anthology, suspense  ",
      "text/html": "<div>\n<style scoped>\n    .dataframe tbody tr th:only-of-type {\n        vertical-align: middle;\n    }\n\n    .dataframe tbody tr th {\n        vertical-align: top;\n    }\n\n    .dataframe thead th {\n        text-align: right;\n    }\n</style>\n<table border=\"1\" class=\"dataframe\">\n  <thead>\n    <tr style=\"text-align: right;\">\n      <th></th>\n      <th>id</th>\n      <th>title</th>\n      <th>release_date</th>\n      <th>original_language</th>\n      <th>genres</th>\n      <th>overview</th>\n      <th>vote_average</th>\n      <th>release_year</th>\n      <th>keywords</th>\n    </tr>\n  </thead>\n  <tbody>\n    <tr>\n      <th>18699</th>\n      <td>12254</td>\n      <td>Emma (1996-10)</td>\n      <td>1996-10-02</td>\n      <td>en</td>\n      <td>[TV Movie, Comedy, Drama, Romance]</td>\n      <td>Emma Woodhouse has a rigid sense of propriety ...</td>\n      <td>6.7</td>\n      <td>1996</td>\n      <td>marriage proposal, make a match</td>\n    </tr>\n    <tr>\n      <th>19091</th>\n      <td>13852</td>\n      <td>The Castle (1997-04)</td>\n      <td>1997-04-10</td>\n      <td>en</td>\n      <td>[Drama, Comedy]</td>\n      <td>A Melbourne family is very happy living near t...</td>\n      <td>7.4</td>\n      <td>1997</td>\n      <td>underdog, airport, court case, australian, fam...</td>\n    </tr>\n    <tr>\n      <th>19140</th>\n      <td>2966</td>\n      <td>20,000 Leagues Under the Sea (1997-05)</td>\n      <td>1997-05-11</td>\n      <td>en</td>\n      <td>[Adventure, Fantasy, Action, Science Fiction]</td>\n      <td>The year is 1886, when New England's fishing h...</td>\n      <td>4.6</td>\n      <td>1997</td>\n      <td></td>\n    </tr>\n    <tr>\n      <th>21677</th>\n      <td>125705</td>\n      <td>Hamlet (2000-12)</td>\n      <td>2000-12-10</td>\n      <td>en</td>\n      <td>[Drama]</td>\n      <td>To be or not to be, etc.</td>\n      <td>0.0</td>\n      <td>2000</td>\n      <td>shakespeare</td>\n    </tr>\n    <tr>\n      <th>25071</th>\n      <td>3056</td>\n      <td>Frankenstein (2004-10)</td>\n      <td>2004-10-09</td>\n      <td>en</td>\n      <td>[TV Movie, Drama, Horror, Science Fiction, Mys...</td>\n      <td>Two hundred years after Mary Shelley's novel t...</td>\n      <td>4.6</td>\n      <td>2004</td>\n      <td>monster, frankenstein</td>\n    </tr>\n    <tr>\n      <th>25928</th>\n      <td>39914</td>\n      <td>Chaos (2005-08)</td>\n      <td>2005-08-10</td>\n      <td>en</td>\n      <td>[Action, Horror, Thriller]</td>\n      <td>Emily and her friend Angelica go to a rave in ...</td>\n      <td>4.4</td>\n      <td>2005</td>\n      <td></td>\n    </tr>\n    <tr>\n      <th>27413</th>\n      <td>173288</td>\n      <td>Black Sheep (2006-10)</td>\n      <td>2006-10-25</td>\n      <td>de</td>\n      <td>[Comedy, Foreign]</td>\n      <td>Black Sheep (original title: Schwarze Schafe) ...</td>\n      <td>6.6</td>\n      <td>2006</td>\n      <td></td>\n    </tr>\n    <tr>\n      <th>28753</th>\n      <td>59346</td>\n      <td>Darling (2007-11)</td>\n      <td>2007-11-07</td>\n      <td>fr</td>\n      <td>[Drama]</td>\n      <td>Darling is a woman of today. It seems to alway...</td>\n      <td>6.5</td>\n      <td>2007</td>\n      <td>woman director</td>\n    </tr>\n    <tr>\n      <th>30220</th>\n      <td>10139</td>\n      <td>Milk (2008-11)</td>\n      <td>2008-11-26</td>\n      <td>en</td>\n      <td>[History, Drama]</td>\n      <td>The story of California's first openly gay ele...</td>\n      <td>7.1</td>\n      <td>2008</td>\n      <td>gay, san francisco, homophobia, mayor, biograp...</td>\n    </tr>\n    <tr>\n      <th>31457</th>\n      <td>26738</td>\n      <td>Rage (2009-09)</td>\n      <td>2009-09-24</td>\n      <td>en</td>\n      <td>[Thriller, Drama]</td>\n      <td>A schoolboy uses his cellphone camera to shoot...</td>\n      <td>4.2</td>\n      <td>2009</td>\n      <td>murder, fashion, woman director</td>\n    </tr>\n    <tr>\n      <th>33660</th>\n      <td>69878</td>\n      <td>Harvest (2011-03)</td>\n      <td>2011-03-11</td>\n      <td>en</td>\n      <td>[Drama]</td>\n      <td>Gathered one summer in a beautiful shoreline t...</td>\n      <td>5.0</td>\n      <td>2011</td>\n      <td>war veteran, summer</td>\n    </tr>\n    <tr>\n      <th>34009</th>\n      <td>86549</td>\n      <td>August (2011-06)</td>\n      <td>2011-06-09</td>\n      <td>en</td>\n      <td>[Drama]</td>\n      <td>August tells the story of two former lovers, T...</td>\n      <td>6.3</td>\n      <td>2011</td>\n      <td>drama, romance, gay relationship</td>\n    </tr>\n    <tr>\n      <th>34385</th>\n      <td>103012</td>\n      <td>Lucky (2011-09)</td>\n      <td>2011-09-11</td>\n      <td>en</td>\n      <td>[Drama]</td>\n      <td>A 10-year-old South African orphan leaves his ...</td>\n      <td>8.5</td>\n      <td>2011</td>\n      <td></td>\n    </tr>\n    <tr>\n      <th>34439</th>\n      <td>74945</td>\n      <td>War of the Buttons (2011-09)</td>\n      <td>2011-09-20</td>\n      <td>fr</td>\n      <td>[Adventure, Family]</td>\n      <td>Occupied France; Lebrac leads a play war betwe...</td>\n      <td>5.8</td>\n      <td>2011</td>\n      <td>button, war context</td>\n    </tr>\n    <tr>\n      <th>35751</th>\n      <td>121491</td>\n      <td>Deranged (2012-07)</td>\n      <td>2012-07-05</td>\n      <td>ko</td>\n      <td>[Thriller, Foreign]</td>\n      <td>Jae-hyuk is a pharmaceutical worker for a medi...</td>\n      <td>6.5</td>\n      <td>2012</td>\n      <td>pharmaceutical industry</td>\n    </tr>\n    <tr>\n      <th>36163</th>\n      <td>133469</td>\n      <td>The Dream Team (2012-09)</td>\n      <td>2012-09-24</td>\n      <td>fr</td>\n      <td>[Drama, Comedy, Romance]</td>\n      <td>A former footballer living in Brittany enlists...</td>\n      <td>4.9</td>\n      <td>2012</td>\n      <td></td>\n    </tr>\n    <tr>\n      <th>36369</th>\n      <td>133557</td>\n      <td>The Girl (2012-10)</td>\n      <td>2012-10-22</td>\n      <td>en</td>\n      <td>[TV Movie, Drama]</td>\n      <td>Director Alfred Hitchcock is revered as one of...</td>\n      <td>5.8</td>\n      <td>2012</td>\n      <td>biography, hollywood, alfred hitchcock</td>\n    </tr>\n    <tr>\n      <th>36450</th>\n      <td>143800</td>\n      <td>Aftermath (2012-11)</td>\n      <td>2012-11-09</td>\n      <td>pl</td>\n      <td>[Mystery, Drama, Thriller]</td>\n      <td>Two brothers are trying to find out the truth ...</td>\n      <td>6.0</td>\n      <td>2012</td>\n      <td>holocaust, country life, farm, suspense, thril...</td>\n    </tr>\n    <tr>\n      <th>38393</th>\n      <td>216440</td>\n      <td>Paradise (2013-11)</td>\n      <td>2013-11-30</td>\n      <td>es</td>\n      <td>[Romance]</td>\n      <td>Carmen and Alfredo live a happy, quiet life in...</td>\n      <td>5.3</td>\n      <td>2013</td>\n      <td>woman director</td>\n    </tr>\n    <tr>\n      <th>38490</th>\n      <td>242454</td>\n      <td>The Suspect (2013-12)</td>\n      <td>2013-12-24</td>\n      <td>ko</td>\n      <td>[Action, Thriller]</td>\n      <td>Dong-chul was the best special field agent in ...</td>\n      <td>6.9</td>\n      <td>2013</td>\n      <td></td>\n    </tr>\n    <tr>\n      <th>39330</th>\n      <td>273886</td>\n      <td>Holiday (2014-06)</td>\n      <td>2014-06-06</td>\n      <td>hi</td>\n      <td>[Thriller, Action, Romance]</td>\n      <td>A soldier on vacation finds himself hunting do...</td>\n      <td>5.8</td>\n      <td>2014</td>\n      <td>war, soldier</td>\n    </tr>\n    <tr>\n      <th>39841</th>\n      <td>120172</td>\n      <td>Another World (2014-09)</td>\n      <td>2014-09-14</td>\n      <td>he</td>\n      <td>[Action, Drama, Science Fiction]</td>\n      <td>The movie is a post-apocalyptic horror/science...</td>\n      <td>3.9</td>\n      <td>2014</td>\n      <td>zombie, brutality, biological warfare, female ...</td>\n    </tr>\n    <tr>\n      <th>40167</th>\n      <td>289416</td>\n      <td>Grace (2014-10)</td>\n      <td>2014-10-28</td>\n      <td>en</td>\n      <td>[Thriller, Horror]</td>\n      <td>A unique horror film told from the first-perso...</td>\n      <td>4.8</td>\n      <td>2014</td>\n      <td>exorcism, possession, demon, exorcist, demonic...</td>\n    </tr>\n    <tr>\n      <th>40331</th>\n      <td>197950</td>\n      <td>The Connection (2014-12)</td>\n      <td>2014-12-03</td>\n      <td>fr</td>\n      <td>[Action, Crime, Thriller]</td>\n      <td>Newly transferred to the bustling port city of...</td>\n      <td>7.1</td>\n      <td>2014</td>\n      <td>marseille, judge, drug trade, drug trafficking...</td>\n    </tr>\n    <tr>\n      <th>41070</th>\n      <td>332976</td>\n      <td>Absolution (2015-05)</td>\n      <td>2015-05-04</td>\n      <td>en</td>\n      <td>[Thriller, Action, Adventure, Crime]</td>\n      <td>When a contract killer (Steven Seagal) encount...</td>\n      <td>4.7</td>\n      <td>2015</td>\n      <td></td>\n    </tr>\n    <tr>\n      <th>42287</th>\n      <td>347669</td>\n      <td>Stranded (2015-12)</td>\n      <td>2015-12-31</td>\n      <td>es</td>\n      <td>[Comedy]</td>\n      <td>The last train travel of the year from Barcelo...</td>\n      <td>5.3</td>\n      <td>2015</td>\n      <td></td>\n    </tr>\n    <tr>\n      <th>43034</th>\n      <td>402223</td>\n      <td>Classmates (2016-06)</td>\n      <td>2016-06-16</td>\n      <td>ru</td>\n      <td>[Romance, Comedy]</td>\n      <td>Sochi, Russia. The day before wedding Katya fi...</td>\n      <td>4.1</td>\n      <td>2016</td>\n      <td></td>\n    </tr>\n    <tr>\n      <th>43681</th>\n      <td>429713</td>\n      <td>The Void (2016-11)</td>\n      <td>2016-11-08</td>\n      <td>en</td>\n      <td>[Fantasy, Horror, Thriller, Science Fiction]</td>\n      <td>The Void is a multi volume anthology series fe...</td>\n      <td>4.0</td>\n      <td>2016</td>\n      <td>dystopia, anthology, suspense</td>\n    </tr>\n  </tbody>\n</table>\n</div>"
     },
     "execution_count": 20,
     "metadata": {},
     "output_type": "execute_result"
    }
   ],
   "source": [
    "df.loc[duplicate_title_and_year]"
   ],
   "metadata": {
    "collapsed": false,
    "ExecuteTime": {
     "end_time": "2024-01-03T17:57:40.164347500Z",
     "start_time": "2024-01-03T17:57:40.113354100Z"
    }
   },
   "id": "7884d757e33db931",
   "execution_count": 20
  },
  {
   "cell_type": "code",
   "outputs": [
    {
     "name": "stderr",
     "output_type": "stream",
     "text": [
      "C:\\Users\\Al\\PycharmProjects\\Movie-Recommender\\.venv\\lib\\site-packages\\sklearn\\preprocessing\\_label.py:900: UserWarning: unknown class(es) ['Unknown'] will be ignored\n",
      "  warnings.warn(\n"
     ]
    }
   ],
   "source": [
    "mlb = MultiLabelBinarizer(classes=all_genres)\n",
    "binary_labels_all = mlb.fit_transform(df[\"genres\"])\n",
    "\n",
    "\n",
    "mlb = MultiLabelBinarizer(classes=all_genres)\n",
    "binary_labels_netflix = mlb.fit_transform(df_combined[\"genres\"])\n",
    "genres = mlb.classes_"
   ],
   "metadata": {
    "collapsed": false,
    "ExecuteTime": {
     "end_time": "2024-01-03T17:57:40.269866Z",
     "start_time": "2024-01-03T17:57:40.144346400Z"
    }
   },
   "id": "e0f157ade52ba120",
   "execution_count": 21
  },
  {
   "cell_type": "code",
   "outputs": [],
   "source": [
    "genre_similarity = cosine_similarity(binary_labels_all, binary_labels_netflix)"
   ],
   "metadata": {
    "collapsed": false,
    "ExecuteTime": {
     "end_time": "2024-01-03T17:57:40.519429500Z",
     "start_time": "2024-01-03T17:57:40.206868500Z"
    }
   },
   "id": "71a454f0c0eb702",
   "execution_count": 22
  },
  {
   "cell_type": "code",
   "outputs": [
    {
     "data": {
      "text/plain": "(44395, 1723)"
     },
     "execution_count": 23,
     "metadata": {},
     "output_type": "execute_result"
    }
   ],
   "source": [
    "genre_similarity.shape"
   ],
   "metadata": {
    "collapsed": false,
    "ExecuteTime": {
     "end_time": "2024-01-03T17:57:40.537433100Z",
     "start_time": "2024-01-03T17:57:40.522430700Z"
    }
   },
   "id": "6733c1c20d9145e1",
   "execution_count": 23
  },
  {
   "cell_type": "code",
   "outputs": [
    {
     "data": {
      "text/plain": ".gitattributes:   0%|          | 0.00/1.18k [00:00<?, ?B/s]",
      "application/vnd.jupyter.widget-view+json": {
       "version_major": 2,
       "version_minor": 0,
       "model_id": "ca0a2997c1d64ebf822d2a15b45099dd"
      }
     },
     "metadata": {},
     "output_type": "display_data"
    },
    {
     "data": {
      "text/plain": "1_Pooling/config.json:   0%|          | 0.00/190 [00:00<?, ?B/s]",
      "application/vnd.jupyter.widget-view+json": {
       "version_major": 2,
       "version_minor": 0,
       "model_id": "7d91411afee34a0a943f990f1d78b5d7"
      }
     },
     "metadata": {},
     "output_type": "display_data"
    },
    {
     "data": {
      "text/plain": "README.md:   0%|          | 0.00/10.6k [00:00<?, ?B/s]",
      "application/vnd.jupyter.widget-view+json": {
       "version_major": 2,
       "version_minor": 0,
       "model_id": "3fb90b6379814e86a38ed224183bd8cb"
      }
     },
     "metadata": {},
     "output_type": "display_data"
    },
    {
     "data": {
      "text/plain": "config.json:   0%|          | 0.00/571 [00:00<?, ?B/s]",
      "application/vnd.jupyter.widget-view+json": {
       "version_major": 2,
       "version_minor": 0,
       "model_id": "4fed753cd91b4c8a8eb373e169968afa"
      }
     },
     "metadata": {},
     "output_type": "display_data"
    },
    {
     "data": {
      "text/plain": "config_sentence_transformers.json:   0%|          | 0.00/116 [00:00<?, ?B/s]",
      "application/vnd.jupyter.widget-view+json": {
       "version_major": 2,
       "version_minor": 0,
       "model_id": "502af28d27db493e88f89374e05c1764"
      }
     },
     "metadata": {},
     "output_type": "display_data"
    },
    {
     "data": {
      "text/plain": "data_config.json:   0%|          | 0.00/39.3k [00:00<?, ?B/s]",
      "application/vnd.jupyter.widget-view+json": {
       "version_major": 2,
       "version_minor": 0,
       "model_id": "ebc615affbef4feb812f4d766581018c"
      }
     },
     "metadata": {},
     "output_type": "display_data"
    },
    {
     "data": {
      "text/plain": "pytorch_model.bin:   0%|          | 0.00/438M [00:00<?, ?B/s]",
      "application/vnd.jupyter.widget-view+json": {
       "version_major": 2,
       "version_minor": 0,
       "model_id": "27e56c671ad4401882d8cd474781855b"
      }
     },
     "metadata": {},
     "output_type": "display_data"
    },
    {
     "data": {
      "text/plain": "sentence_bert_config.json:   0%|          | 0.00/53.0 [00:00<?, ?B/s]",
      "application/vnd.jupyter.widget-view+json": {
       "version_major": 2,
       "version_minor": 0,
       "model_id": "8a156e37ab3d44e399e5c2532ca710e6"
      }
     },
     "metadata": {},
     "output_type": "display_data"
    },
    {
     "data": {
      "text/plain": "special_tokens_map.json:   0%|          | 0.00/239 [00:00<?, ?B/s]",
      "application/vnd.jupyter.widget-view+json": {
       "version_major": 2,
       "version_minor": 0,
       "model_id": "bf79958bfd1e455999dc7d1ad997e88e"
      }
     },
     "metadata": {},
     "output_type": "display_data"
    },
    {
     "data": {
      "text/plain": "tokenizer.json:   0%|          | 0.00/466k [00:00<?, ?B/s]",
      "application/vnd.jupyter.widget-view+json": {
       "version_major": 2,
       "version_minor": 0,
       "model_id": "d8b81da5fb6d4da6bcaa5d21fadeea65"
      }
     },
     "metadata": {},
     "output_type": "display_data"
    },
    {
     "data": {
      "text/plain": "tokenizer_config.json:   0%|          | 0.00/363 [00:00<?, ?B/s]",
      "application/vnd.jupyter.widget-view+json": {
       "version_major": 2,
       "version_minor": 0,
       "model_id": "a172829997da4450a63d6f17f1459821"
      }
     },
     "metadata": {},
     "output_type": "display_data"
    },
    {
     "data": {
      "text/plain": "train_script.py:   0%|          | 0.00/13.1k [00:00<?, ?B/s]",
      "application/vnd.jupyter.widget-view+json": {
       "version_major": 2,
       "version_minor": 0,
       "model_id": "4d8c7f36c5fa4715b930fd73bda5ca3f"
      }
     },
     "metadata": {},
     "output_type": "display_data"
    },
    {
     "data": {
      "text/plain": "vocab.txt:   0%|          | 0.00/232k [00:00<?, ?B/s]",
      "application/vnd.jupyter.widget-view+json": {
       "version_major": 2,
       "version_minor": 0,
       "model_id": "2b579645b9404c61b58cb5fcde565d0d"
      }
     },
     "metadata": {},
     "output_type": "display_data"
    },
    {
     "data": {
      "text/plain": "modules.json:   0%|          | 0.00/349 [00:00<?, ?B/s]",
      "application/vnd.jupyter.widget-view+json": {
       "version_major": 2,
       "version_minor": 0,
       "model_id": "b18b79e721ac49b2a2fa7526ed2bd50b"
      }
     },
     "metadata": {},
     "output_type": "display_data"
    },
    {
     "data": {
      "text/plain": "Batches:   0%|          | 0/1388 [00:00<?, ?it/s]",
      "application/vnd.jupyter.widget-view+json": {
       "version_major": 2,
       "version_minor": 0,
       "model_id": "9086bd946b8044b0a5869541f7fa359e"
      }
     },
     "metadata": {},
     "output_type": "display_data"
    }
   ],
   "source": [
    "model = SentenceTransformer(\"all-mpnet-base-v2\")\n",
    "embeddings_overview = model.encode(\n",
    "    df.overview.to_numpy().astype(str), show_progress_bar=True, convert_to_numpy=True\n",
    ")\n",
    "embeddings_keywords = model.encode(\n",
    "    df.keywords.to_numpy().astype(str), show_progress_bar=True, convert_to_numpy=True\n",
    ")"
   ],
   "metadata": {
    "collapsed": false,
    "is_executing": true,
    "ExecuteTime": {
     "start_time": "2024-01-03T17:57:40.536430100Z"
    }
   },
   "id": "577a339496c5fe7",
   "execution_count": null
  },
  {
   "cell_type": "code",
   "outputs": [],
   "source": [
    "print(embeddings_overview.shape, embeddings_keywords.shape)"
   ],
   "metadata": {
    "collapsed": false,
    "is_executing": true
   },
   "id": "84bf1fb5153b88ae",
   "execution_count": null
  },
  {
   "cell_type": "code",
   "outputs": [],
   "source": [
    "indices_shared = df[df.id.isin(df_combined.id)].index\n",
    "embeddings_overview_netflix = embeddings_overview[indices_shared]\n",
    "embeddings_keywords_netflix = embeddings_keywords[indices_shared]\n",
    "similarity_netflix = genre_similarity[indices_shared]"
   ],
   "metadata": {
    "collapsed": false,
    "is_executing": true
   },
   "id": "efd4faab186b7686",
   "execution_count": null
  },
  {
   "cell_type": "code",
   "outputs": [],
   "source": [
    "similarity_encoding_overview = util.cos_sim(\n",
    "    embeddings_overview, embeddings_overview_netflix\n",
    ")\n",
    "similarity_encoding_keywords = util.cos_sim(\n",
    "    embeddings_keywords, embeddings_keywords_netflix\n",
    ")"
   ],
   "metadata": {
    "collapsed": false,
    "is_executing": true
   },
   "id": "c3f8da5d28597512",
   "execution_count": null
  },
  {
   "cell_type": "code",
   "outputs": [],
   "source": [
    "similarity_encoding_overview[indices_shared, range(0, len(indices_shared))] = -100\n",
    "similarity_encoding_keywords[idx_no_kw] = 0\n",
    "similarity_encoding_keywords[indices_shared, range(0, len(indices_shared))] = -100\n",
    "genre_similarity[indices_shared, range(0, len(indices_shared))] = -1"
   ],
   "metadata": {
    "collapsed": false,
    "is_executing": true
   },
   "id": "4a94cfeced4d8eaf",
   "execution_count": null
  },
  {
   "cell_type": "code",
   "outputs": [],
   "source": [
    "with open(r\"./genre_similarity.npy\", \"wb\") as f:\n",
    "    np.save(f, genre_similarity)"
   ],
   "metadata": {
    "collapsed": false,
    "is_executing": true
   },
   "id": "558140e7633aa6e7",
   "execution_count": null
  },
  {
   "cell_type": "code",
   "outputs": [],
   "source": [
    "with open(r\"./embeddings_overview.npy\", \"wb\") as f:\n",
    "    np.save(f, embeddings_overview)\n",
    "\n",
    "with open(r\"./embeddings_keywords.npy\", \"wb\") as f:\n",
    "    np.save(f, embeddings_keywords)"
   ],
   "metadata": {
    "collapsed": false,
    "is_executing": true
   },
   "id": "7c05d2929f502a49"
  },
  {
   "cell_type": "code",
   "outputs": [],
   "source": [
    "with open(r\"./similarity_encoding_overview.npy\", \"wb\") as f:\n",
    "    np.save(f, similarity_encoding_overview)\n",
    "\n",
    "with open(r\"./similarity_encoding_keywords.npy\", \"wb\") as f:\n",
    "    np.save(f, similarity_encoding_keywords)"
   ],
   "metadata": {
    "collapsed": false,
    "is_executing": true
   },
   "id": "dbe9bdac09ab538d",
   "execution_count": null
  },
  {
   "cell_type": "code",
   "outputs": [],
   "source": [
    "df.to_csv(\"./custom_csv/movies_cleaned.csv\")\n",
    "df_combined.to_csv(\"./custom_csv/movies_combined.csv\")"
   ],
   "metadata": {
    "collapsed": false,
    "is_executing": true
   },
   "id": "3ba3b97ad4df8c59",
   "execution_count": null
  },
  {
   "cell_type": "code",
   "outputs": [],
   "source": [
    "df[\"title\"][df.title == \"The Lord of the Rings: The Fellowship of the Ring\"]"
   ],
   "metadata": {
    "collapsed": false,
    "is_executing": true
   },
   "id": "d2448806117dc067",
   "execution_count": null
  },
  {
   "cell_type": "code",
   "outputs": [],
   "source": [
    "movie_number = 4837"
   ],
   "metadata": {
    "collapsed": false,
    "is_executing": true
   },
   "id": "3f63529058f753f8",
   "execution_count": null
  },
  {
   "cell_type": "code",
   "outputs": [],
   "source": [
    "# print(\n",
    "#     df[\"title\"][movie_number],\n",
    "#     \"\\n====\\n\",\n",
    "#     df[\"genres\"][movie_number],\n",
    "#     \"\\n====\\n\",\n",
    "#     \"\\n\".join(df_combined.title.loc[reversed(similarity_encoding[movie_number].argsort()[-10:])]),\n",
    "#     \"\\n====\\n\",\n",
    "#     \"\\n\\n\".join(df_combined.genres.loc[reversed(similarity_encoding[movie_number].argsort()[-10:])].astype(str)),\n",
    "#     \"\\n====\\n\",\n",
    "#     df[\"overview\"][movie_number],\n",
    "#     \"\\n\\n\".join(df_combined.overview.loc[reversed(similarity_encoding[movie_number].argsort()[-10:])]),\n",
    "#     sep=\"\\n\")"
   ],
   "metadata": {
    "collapsed": false,
    "is_executing": true
   },
   "id": "4a63d477ce225658",
   "execution_count": null
  },
  {
   "cell_type": "code",
   "outputs": [],
   "source": [
    "# print(\n",
    "#     df[\"title\"][movie_number],\n",
    "#     \"\\n====\\n\",\n",
    "#     df[\"genres\"][movie_number],\n",
    "#     \"\\n====\\n\",\n",
    "#     \"\\n\".join(df_combined.title.loc[reversed(similarity[movie_number].argsort()[-10:])]),\n",
    "#     \"\\n====\\n\",\n",
    "#     \"\\n\\n\".join(df_combined.genres.loc[reversed(similarity[movie_number].argsort()[-10:])].astype(str)),\n",
    "#     \"\\n====\\n\",\n",
    "#     df[\"overview\"][movie_number],\n",
    "#     \"\\n\\n\".join(df_combined.overview.loc[reversed(similarity[movie_number].argsort()[-10:])]),\n",
    "#     sep=\"\\n\")"
   ],
   "metadata": {
    "collapsed": false,
    "is_executing": true
   },
   "id": "e8ca7e815b6b4e08",
   "execution_count": null
  },
  {
   "cell_type": "code",
   "outputs": [],
   "source": [
    "# df_combined[df_combined.title == \"The Lord of the Rings: The Two Towers\"]"
   ],
   "metadata": {
    "collapsed": false,
    "is_executing": true
   },
   "id": "e98ef656720ca0f3",
   "execution_count": null
  },
  {
   "cell_type": "code",
   "outputs": [],
   "source": [
    "# similarity_encoding[movie_number, similarity_encoding[movie_number].argsort()[-10:]]"
   ],
   "metadata": {
    "collapsed": false,
    "is_executing": true
   },
   "id": "37fa97f03026e806",
   "execution_count": null
  },
  {
   "cell_type": "code",
   "outputs": [],
   "source": [
    "# similarity_encoding[movie_number][1597]"
   ],
   "metadata": {
    "collapsed": false,
    "is_executing": true
   },
   "id": "6ecf7df6e361dd1",
   "execution_count": null
  },
  {
   "cell_type": "code",
   "outputs": [],
   "source": [
    "# combined_similarity = similarity_encoding + similarity"
   ],
   "metadata": {
    "collapsed": false,
    "is_executing": true
   },
   "id": "2ac53bdd28b11684",
   "execution_count": null
  },
  {
   "cell_type": "code",
   "outputs": [],
   "source": [
    "#  print(\n",
    "#     df[\"title\"][movie_number],\n",
    "#     \"\\n====\\n\",\n",
    "#     df[\"genres\"][movie_number],\n",
    "#     \"\\n====\\n\",\n",
    "#     \"\\n\".join(df_combined.title.loc[reversed(combined_similarity[movie_number].argsort()[-10:])]),\n",
    "#     \"\\n====\\n\",\n",
    "#     \"\\n\\n\".join(df_combined.genres.loc[reversed(combined_similarity[movie_number].argsort()[-10:])].astype(str)),\n",
    "#     \"\\n====\\n\",\n",
    "#     df[\"overview\"][movie_number],\n",
    "#     \"\\n\\n\".join(df_combined.overview.loc[reversed(combined_similarity[movie_number].argsort()[-10:])]),\n",
    "#     sep=\"\\n\")"
   ],
   "metadata": {
    "collapsed": false,
    "is_executing": true
   },
   "id": "469fad7ab51d82fe",
   "execution_count": null
  },
  {
   "cell_type": "code",
   "outputs": [],
   "source": [],
   "metadata": {
    "collapsed": false,
    "is_executing": true
   },
   "id": "5d8d7461d03cb090"
  }
 ],
 "metadata": {
  "kernelspec": {
   "display_name": "Python 3",
   "language": "python",
   "name": "python3"
  },
  "language_info": {
   "codemirror_mode": {
    "name": "ipython",
    "version": 2
   },
   "file_extension": ".py",
   "mimetype": "text/x-python",
   "name": "python",
   "nbconvert_exporter": "python",
   "pygments_lexer": "ipython2",
   "version": "2.7.6"
  }
 },
 "nbformat": 4,
 "nbformat_minor": 5
}
