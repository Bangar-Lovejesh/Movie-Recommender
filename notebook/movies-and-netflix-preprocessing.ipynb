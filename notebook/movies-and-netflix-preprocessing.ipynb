{
 "cells": [
  {
   "cell_type": "markdown",
   "source": [
    "# Data preparation notebook for recommender project"
   ],
   "metadata": {
    "collapsed": false
   },
   "id": "756f42ea9db3e076"
  },
  {
   "cell_type": "code",
   "outputs": [],
   "source": [
    "import ast\n",
    "from pathlib import Path\n",
    "\n",
    "import numpy as np\n",
    "\n",
    "# You need a kaggle account to use this\n",
    "# https://pypi.org/project/opendatasets/\n",
    "import opendatasets as od\n",
    "import pandas as pd\n",
    "from sentence_transformers import SentenceTransformer, util\n",
    "from sklearn.metrics.pairwise import cosine_similarity\n",
    "from sklearn.preprocessing import MultiLabelBinarizer"
   ],
   "metadata": {
    "collapsed": false,
    "ExecuteTime": {
     "end_time": "2024-01-05T17:33:00.001707436Z",
     "start_time": "2024-01-05T17:32:58.108727756Z"
    }
   },
   "id": "8286ccb0b1c61341",
   "execution_count": 1
  },
  {
   "cell_type": "code",
   "outputs": [
    {
     "name": "stdout",
     "output_type": "stream",
     "text": [
      "Skipping, found downloaded files in \"./netflix-shows\" (use force=True to force download)\n",
      "Skipping, found downloaded files in \"./the-movies-dataset\" (use force=True to force download)\n"
     ]
    }
   ],
   "source": [
    "od.download(\"https://www.kaggle.com/datasets/shivamb/netflix-shows\")\n",
    "od.download(\"https://www.kaggle.com/datasets/rounakbanik/the-movies-dataset\")"
   ],
   "metadata": {
    "collapsed": false,
    "ExecuteTime": {
     "end_time": "2024-01-05T17:33:00.003847166Z",
     "start_time": "2024-01-05T17:33:00.000981352Z"
    }
   },
   "id": "be3ca0c5c71695d6",
   "execution_count": 2
  },
  {
   "cell_type": "code",
   "outputs": [],
   "source": [
    "netflix_movies = pd.read_csv(\n",
    "    \"./netflix-shows/netflix_titles.csv\", usecols=[\"title\", \"type\", \"release_year\"]\n",
    ")\n",
    "netflix_movies = netflix_movies[netflix_movies[\"type\"] == \"Movie\"]"
   ],
   "metadata": {
    "collapsed": false,
    "ExecuteTime": {
     "end_time": "2024-01-05T17:33:00.035812847Z",
     "start_time": "2024-01-05T17:33:00.003806945Z"
    }
   },
   "id": "69677dd4746f9f93",
   "execution_count": 3
  },
  {
   "cell_type": "code",
   "outputs": [],
   "source": [
    "cols_to_read = [\n",
    "    \"id\",\n",
    "    \"title\",\n",
    "    \"overview\",\n",
    "    \"release_date\",\n",
    "    \"original_language\",\n",
    "    \"genres\",\n",
    "    \"vote_average\",\n",
    "]\n",
    "df_raw = pd.read_csv(\n",
    "    \"./the-movies-dataset/movies_metadata.csv\", usecols=cols_to_read\n",
    ").loc[\n",
    "    :,\n",
    "    [\n",
    "        \"id\",\n",
    "        \"title\",\n",
    "        \"release_date\",\n",
    "        \"original_language\",\n",
    "        \"genres\",\n",
    "        \"overview\",\n",
    "        \"vote_average\",\n",
    "    ],\n",
    "]\n",
    "\n",
    "df = df_raw.copy()[~df_raw.duplicated()]"
   ],
   "metadata": {
    "collapsed": false,
    "ExecuteTime": {
     "end_time": "2024-01-05T17:33:00.376789714Z",
     "start_time": "2024-01-05T17:33:00.035136585Z"
    }
   },
   "id": "6ad0a3c49a746305",
   "execution_count": 4
  },
  {
   "cell_type": "code",
   "outputs": [
    {
     "data": {
      "text/plain": "(45436, 7)"
     },
     "execution_count": 5,
     "metadata": {},
     "output_type": "execute_result"
    }
   ],
   "source": [
    "df.shape"
   ],
   "metadata": {
    "collapsed": false,
    "ExecuteTime": {
     "end_time": "2024-01-05T17:33:00.377922744Z",
     "start_time": "2024-01-05T17:33:00.376721532Z"
    }
   },
   "id": "7d11aeaa89c5d6b0",
   "execution_count": 5
  },
  {
   "cell_type": "code",
   "outputs": [],
   "source": [
    "df[\"release_date\"] = pd.to_datetime(df[\"release_date\"], errors=\"coerce\").dropna()\n",
    "df[\"release_year\"] = df[\"release_date\"].dt.strftime(\"%Y\")"
   ],
   "metadata": {
    "collapsed": false,
    "ExecuteTime": {
     "end_time": "2024-01-05T17:33:00.463071749Z",
     "start_time": "2024-01-05T17:33:00.376864915Z"
    }
   },
   "id": "2ba1a23302fc5e85",
   "execution_count": 6
  },
  {
   "cell_type": "code",
   "outputs": [],
   "source": [
    "def get_genre_values(row):\n",
    "    row = ast.literal_eval(row)\n",
    "    genre_list = [val[\"name\"] for val in row]\n",
    "    if len(genre_list) == 0:\n",
    "        return [\"Unknown\"]\n",
    "    return genre_list"
   ],
   "metadata": {
    "collapsed": false,
    "ExecuteTime": {
     "end_time": "2024-01-05T17:33:00.474715614Z",
     "start_time": "2024-01-05T17:33:00.464714729Z"
    }
   },
   "id": "61bb0372f85dbb1e",
   "execution_count": 7
  },
  {
   "cell_type": "code",
   "outputs": [],
   "source": [
    "df = df.loc[df[cols_to_read[:-1]].dropna().index].reset_index(drop=True)\n",
    "\n",
    "df[\"id\"] = df[\"id\"].astype(int)"
   ],
   "metadata": {
    "collapsed": false,
    "ExecuteTime": {
     "end_time": "2024-01-05T17:33:00.505302180Z",
     "start_time": "2024-01-05T17:33:00.467023271Z"
    }
   },
   "id": "7b661feed9a61e33",
   "execution_count": 8
  },
  {
   "cell_type": "code",
   "outputs": [
    {
     "data": {
      "text/plain": "(44395, 8)"
     },
     "execution_count": 9,
     "metadata": {},
     "output_type": "execute_result"
    }
   ],
   "source": [
    "df.shape"
   ],
   "metadata": {
    "collapsed": false,
    "ExecuteTime": {
     "end_time": "2024-01-05T17:33:00.506370400Z",
     "start_time": "2024-01-05T17:33:00.503407285Z"
    }
   },
   "id": "48c08267d13f15d5",
   "execution_count": 9
  },
  {
   "cell_type": "code",
   "outputs": [
    {
     "data": {
      "text/plain": "(44395, 9)"
     },
     "execution_count": 10,
     "metadata": {},
     "output_type": "execute_result"
    }
   ],
   "source": [
    "df = pd.merge(\n",
    "    df,\n",
    "    pd.read_csv(\"./the-movies-dataset/keywords.csv\").drop_duplicates(),\n",
    "    how=\"left\",\n",
    "    on=[\"id\"],\n",
    ")\n",
    "df[\"keywords\"] = df.keywords.fillna(\"[]\")\n",
    "df.shape"
   ],
   "metadata": {
    "collapsed": false,
    "ExecuteTime": {
     "end_time": "2024-01-05T17:33:00.637423574Z",
     "start_time": "2024-01-05T17:33:00.506886400Z"
    }
   },
   "id": "eeb761209d05d248",
   "execution_count": 10
  },
  {
   "cell_type": "code",
   "outputs": [],
   "source": [
    "df[\"genres\"] = df[\"genres\"].apply(get_genre_values)"
   ],
   "metadata": {
    "collapsed": false,
    "ExecuteTime": {
     "end_time": "2024-01-05T17:33:01.341531345Z",
     "start_time": "2024-01-05T17:33:00.636738051Z"
    }
   },
   "id": "f23724a7db826bad",
   "execution_count": 11
  },
  {
   "cell_type": "code",
   "outputs": [],
   "source": [
    "df[\"keywords\"] = df[\"keywords\"].apply(get_genre_values)"
   ],
   "metadata": {
    "collapsed": false,
    "ExecuteTime": {
     "end_time": "2024-01-05T17:33:02.515244213Z",
     "start_time": "2024-01-05T17:33:01.344297067Z"
    }
   },
   "id": "f8ce3a65ab77bb3b",
   "execution_count": 12
  },
  {
   "cell_type": "code",
   "outputs": [],
   "source": [
    "df[\"keywords\"] = df.loc[:, [\"keywords\"]].apply(\n",
    "    lambda x: \", \".join(x.keywords) if \"Unknown\" not in x.keywords else \"\",\n",
    "    axis=1,\n",
    ")\n",
    "\n",
    "idx_no_kw = df[df[\"keywords\"] == \"\"].index"
   ],
   "metadata": {
    "collapsed": false,
    "ExecuteTime": {
     "end_time": "2024-01-05T17:33:02.836869831Z",
     "start_time": "2024-01-05T17:33:02.516737761Z"
    }
   },
   "id": "1323476c73a663d2",
   "execution_count": 13
  },
  {
   "cell_type": "code",
   "outputs": [
    {
     "data": {
      "text/plain": "      id                        title release_date original_language  \\\n0    862                    Toy Story   1995-10-30                en   \n1   8844                      Jumanji   1995-12-15                en   \n2  15602             Grumpier Old Men   1995-12-22                en   \n3  31357            Waiting to Exhale   1995-12-22                en   \n4  11862  Father of the Bride Part II   1995-02-10                en   \n\n                         genres  \\\n0   [Animation, Comedy, Family]   \n1  [Adventure, Fantasy, Family]   \n2             [Romance, Comedy]   \n3      [Comedy, Drama, Romance]   \n4                      [Comedy]   \n\n                                            overview  vote_average  \\\n0  Led by Woody, Andy's toys live happily in his ...           7.7   \n1  When siblings Judy and Peter discover an encha...           6.9   \n2  A family wedding reignites the ancient feud be...           6.5   \n3  Cheated on, mistreated and stepped on, the wom...           6.1   \n4  Just when George Banks has recovered from his ...           5.7   \n\n  release_year                                           keywords  \n0         1995  jealousy, toy, boy, friendship, friends, rival...  \n1         1995  board game, disappearance, based on children's...  \n2         1995  fishing, best friend, duringcreditsstinger, ol...  \n3         1995  based on novel, interracial relationship, sing...  \n4         1995  baby, midlife crisis, confidence, aging, daugh...  ",
      "text/html": "<div>\n<style scoped>\n    .dataframe tbody tr th:only-of-type {\n        vertical-align: middle;\n    }\n\n    .dataframe tbody tr th {\n        vertical-align: top;\n    }\n\n    .dataframe thead th {\n        text-align: right;\n    }\n</style>\n<table border=\"1\" class=\"dataframe\">\n  <thead>\n    <tr style=\"text-align: right;\">\n      <th></th>\n      <th>id</th>\n      <th>title</th>\n      <th>release_date</th>\n      <th>original_language</th>\n      <th>genres</th>\n      <th>overview</th>\n      <th>vote_average</th>\n      <th>release_year</th>\n      <th>keywords</th>\n    </tr>\n  </thead>\n  <tbody>\n    <tr>\n      <th>0</th>\n      <td>862</td>\n      <td>Toy Story</td>\n      <td>1995-10-30</td>\n      <td>en</td>\n      <td>[Animation, Comedy, Family]</td>\n      <td>Led by Woody, Andy's toys live happily in his ...</td>\n      <td>7.7</td>\n      <td>1995</td>\n      <td>jealousy, toy, boy, friendship, friends, rival...</td>\n    </tr>\n    <tr>\n      <th>1</th>\n      <td>8844</td>\n      <td>Jumanji</td>\n      <td>1995-12-15</td>\n      <td>en</td>\n      <td>[Adventure, Fantasy, Family]</td>\n      <td>When siblings Judy and Peter discover an encha...</td>\n      <td>6.9</td>\n      <td>1995</td>\n      <td>board game, disappearance, based on children's...</td>\n    </tr>\n    <tr>\n      <th>2</th>\n      <td>15602</td>\n      <td>Grumpier Old Men</td>\n      <td>1995-12-22</td>\n      <td>en</td>\n      <td>[Romance, Comedy]</td>\n      <td>A family wedding reignites the ancient feud be...</td>\n      <td>6.5</td>\n      <td>1995</td>\n      <td>fishing, best friend, duringcreditsstinger, ol...</td>\n    </tr>\n    <tr>\n      <th>3</th>\n      <td>31357</td>\n      <td>Waiting to Exhale</td>\n      <td>1995-12-22</td>\n      <td>en</td>\n      <td>[Comedy, Drama, Romance]</td>\n      <td>Cheated on, mistreated and stepped on, the wom...</td>\n      <td>6.1</td>\n      <td>1995</td>\n      <td>based on novel, interracial relationship, sing...</td>\n    </tr>\n    <tr>\n      <th>4</th>\n      <td>11862</td>\n      <td>Father of the Bride Part II</td>\n      <td>1995-02-10</td>\n      <td>en</td>\n      <td>[Comedy]</td>\n      <td>Just when George Banks has recovered from his ...</td>\n      <td>5.7</td>\n      <td>1995</td>\n      <td>baby, midlife crisis, confidence, aging, daugh...</td>\n    </tr>\n  </tbody>\n</table>\n</div>"
     },
     "execution_count": 14,
     "metadata": {},
     "output_type": "execute_result"
    }
   ],
   "source": [
    "df.head()"
   ],
   "metadata": {
    "collapsed": false,
    "ExecuteTime": {
     "end_time": "2024-01-05T17:33:02.852252656Z",
     "start_time": "2024-01-05T17:33:02.838580003Z"
    }
   },
   "id": "f07434818b996cb7",
   "execution_count": 14
  },
  {
   "cell_type": "code",
   "outputs": [],
   "source": [
    "df = df.sort_values(by=\"release_date\").reset_index(drop=True)\n",
    "df[\"title_dated\"] = df[\"title\"].copy()\n",
    "df.loc[df.title.duplicated(), \"title_dated\"] = df.loc[\n",
    "    df.title.duplicated(), [\"title_dated\"]\n",
    "].apply(\n",
    "    lambda x: \" \".join([x[\"title_dated\"], f\"({str(df['release_year'][x.name])})\"]),\n",
    "    axis=1,\n",
    ")"
   ],
   "metadata": {
    "collapsed": false,
    "ExecuteTime": {
     "end_time": "2024-01-05T17:33:02.920377115Z",
     "start_time": "2024-01-05T17:33:02.846560020Z"
    }
   },
   "id": "d92b71d45b29afc2",
   "execution_count": 15
  },
  {
   "cell_type": "code",
   "outputs": [],
   "source": [
    "duplicate_title_and_year = df.loc[df.title.duplicated(), \"title\"].index"
   ],
   "metadata": {
    "collapsed": false,
    "ExecuteTime": {
     "end_time": "2024-01-05T17:33:02.921465576Z",
     "start_time": "2024-01-05T17:33:02.902366922Z"
    }
   },
   "id": "fcb15c59955cda2c",
   "execution_count": 16
  },
  {
   "cell_type": "code",
   "outputs": [],
   "source": [
    "df.loc[df.title.duplicated(), \"title_dated\"] = df.loc[\n",
    "    df.title.duplicated(), [\"title_dated\"]\n",
    "].apply(\n",
    "    lambda x: x[\"title_dated\"].replace(\n",
    "        f\"({str(df['release_year'][x.name])})\",\n",
    "        f\"({str(df['release_date'][x.name].strftime('%Y-%m'))})\",\n",
    "    ),\n",
    "    axis=1,\n",
    ")"
   ],
   "metadata": {
    "collapsed": false,
    "ExecuteTime": {
     "end_time": "2024-01-05T17:33:02.970300069Z",
     "start_time": "2024-01-05T17:33:02.904597773Z"
    }
   },
   "id": "c6e6782d33cf0085",
   "execution_count": 17
  },
  {
   "cell_type": "code",
   "outputs": [],
   "source": [
    "netflix_movies[\"release_year\"] = netflix_movies[\"release_year\"].astype(str)\n",
    "df_combined = pd.merge(\n",
    "    df, netflix_movies[[\"title\", \"release_year\"]], on=[\"title\", \"release_year\"]\n",
    ")\n",
    "df_combined = df_combined[\n",
    "    ~df_combined[[\"title\", \"release_year\", \"overview\"]].duplicated()\n",
    "].reset_index(drop=True)"
   ],
   "metadata": {
    "collapsed": false,
    "ExecuteTime": {
     "end_time": "2024-01-05T17:33:03.024863967Z",
     "start_time": "2024-01-05T17:33:02.981861053Z"
    }
   },
   "id": "b4b9dab746d233c",
   "execution_count": 18
  },
  {
   "cell_type": "code",
   "outputs": [
    {
     "name": "stdout",
     "output_type": "stream",
     "text": [
      "['Documentary', 'War', 'History', 'Drama', 'Comedy', 'Music', 'Romance', 'Adventure', 'Science Fiction', 'Action', 'Crime', 'Thriller', 'Family', 'Horror', 'Mystery', 'Fantasy', 'Western', 'Animation', 'Foreign', 'TV Movie']\n"
     ]
    }
   ],
   "source": [
    "all_genres = list(df_combined[\"genres\"].explode().unique())\n",
    "all_genres.remove(\"Unknown\")\n",
    "print(all_genres)"
   ],
   "metadata": {
    "collapsed": false,
    "ExecuteTime": {
     "end_time": "2024-01-05T17:33:03.025955997Z",
     "start_time": "2024-01-05T17:33:03.024791146Z"
    }
   },
   "id": "d790d0d81a5e459a",
   "execution_count": 19
  },
  {
   "cell_type": "code",
   "outputs": [
    {
     "data": {
      "text/plain": "           id                title release_date original_language  \\\n54     104471   The Haunted Castle   1897-01-01                fr   \n83     193411             The Kiss   1900-03-09                en   \n223     92349           Cinderella   1914-12-28                en   \n228     87300  Alice in Wonderland   1915-01-15                en   \n317    174928               Carmen   1918-12-20                de   \n...       ...                  ...          ...               ...   \n44333  463906            The Saint   2017-07-11                en   \n44339  428501       City of Ghosts   2017-07-14                en   \n44340  459950                 Feed   2017-07-18                en   \n44341  374720              Dunkirk   2017-07-19                en   \n44359  353491       The Dark Tower   2017-08-03                en   \n\n                                                  genres  \\\n54                                              [Horror]   \n83                                             [Romance]   \n223                                     [Fantasy, Drama]   \n228                                    [Family, Fantasy]   \n317                                              [Drama]   \n...                                                  ...   \n44333                         [Action, Adventure, Crime]   \n44339                                      [Documentary]   \n44340                                            [Drama]   \n44341            [Action, Drama, History, Thriller, War]   \n44359  [Action, Western, Science Fiction, Fantasy, Ho...   \n\n                                                overview  vote_average  \\\n54     A man has an encounter with several spooky app...           5.6   \n83     Nothing new, but an old thing done over again ...           4.5   \n223    Based on Charles Perrault's fairy tale: Cinder...           5.4   \n228    A German adaptation of the classic Lewis Carro...           5.5   \n317    The tragic story of Don Jose, a Spanish cavalr...           4.8   \n...                                                  ...           ...   \n44333  International master thief, Simon Templar, als...           5.8   \n44339  With unprecedented access, this documentary fo...           2.0   \n44340  Olivia and Matthew Grey, 18-year-old twins bor...           7.3   \n44341  The miraculous evacuation of Allied soldiers f...           7.5   \n44359  The last Gunslinger, Roland Deschain, has been...           5.7   \n\n      release_year                                           keywords  \\\n54            1897  french, horror, silent film, ghost, georges me...   \n83            1900         kiss, remake, kissing, couple, silent film   \n223           1914                                                      \n228           1915                 dream, alice in wonderland, rabbit   \n317           1918                             gypsy, smuggler, short   \n...            ...                                                ...   \n44333         2017                                          the saint   \n44339         2017                                                      \n44340         2017  twins, valedictorian, eating disorder, highsch...   \n44341         2017  france, beach, world war ii, evacuation, germa...   \n44359         2017                         gunslinger, based on novel   \n\n                         title_dated  \n54      The Haunted Castle (1897-01)  \n83                The Kiss (1900-03)  \n223             Cinderella (1914-12)  \n228    Alice in Wonderland (1915-01)  \n317                 Carmen (1918-12)  \n...                              ...  \n44333            The Saint (2017-07)  \n44339       City of Ghosts (2017-07)  \n44340                 Feed (2017-07)  \n44341              Dunkirk (2017-07)  \n44359       The Dark Tower (2017-08)  \n\n[3102 rows x 10 columns]",
      "text/html": "<div>\n<style scoped>\n    .dataframe tbody tr th:only-of-type {\n        vertical-align: middle;\n    }\n\n    .dataframe tbody tr th {\n        vertical-align: top;\n    }\n\n    .dataframe thead th {\n        text-align: right;\n    }\n</style>\n<table border=\"1\" class=\"dataframe\">\n  <thead>\n    <tr style=\"text-align: right;\">\n      <th></th>\n      <th>id</th>\n      <th>title</th>\n      <th>release_date</th>\n      <th>original_language</th>\n      <th>genres</th>\n      <th>overview</th>\n      <th>vote_average</th>\n      <th>release_year</th>\n      <th>keywords</th>\n      <th>title_dated</th>\n    </tr>\n  </thead>\n  <tbody>\n    <tr>\n      <th>54</th>\n      <td>104471</td>\n      <td>The Haunted Castle</td>\n      <td>1897-01-01</td>\n      <td>fr</td>\n      <td>[Horror]</td>\n      <td>A man has an encounter with several spooky app...</td>\n      <td>5.6</td>\n      <td>1897</td>\n      <td>french, horror, silent film, ghost, georges me...</td>\n      <td>The Haunted Castle (1897-01)</td>\n    </tr>\n    <tr>\n      <th>83</th>\n      <td>193411</td>\n      <td>The Kiss</td>\n      <td>1900-03-09</td>\n      <td>en</td>\n      <td>[Romance]</td>\n      <td>Nothing new, but an old thing done over again ...</td>\n      <td>4.5</td>\n      <td>1900</td>\n      <td>kiss, remake, kissing, couple, silent film</td>\n      <td>The Kiss (1900-03)</td>\n    </tr>\n    <tr>\n      <th>223</th>\n      <td>92349</td>\n      <td>Cinderella</td>\n      <td>1914-12-28</td>\n      <td>en</td>\n      <td>[Fantasy, Drama]</td>\n      <td>Based on Charles Perrault's fairy tale: Cinder...</td>\n      <td>5.4</td>\n      <td>1914</td>\n      <td></td>\n      <td>Cinderella (1914-12)</td>\n    </tr>\n    <tr>\n      <th>228</th>\n      <td>87300</td>\n      <td>Alice in Wonderland</td>\n      <td>1915-01-15</td>\n      <td>en</td>\n      <td>[Family, Fantasy]</td>\n      <td>A German adaptation of the classic Lewis Carro...</td>\n      <td>5.5</td>\n      <td>1915</td>\n      <td>dream, alice in wonderland, rabbit</td>\n      <td>Alice in Wonderland (1915-01)</td>\n    </tr>\n    <tr>\n      <th>317</th>\n      <td>174928</td>\n      <td>Carmen</td>\n      <td>1918-12-20</td>\n      <td>de</td>\n      <td>[Drama]</td>\n      <td>The tragic story of Don Jose, a Spanish cavalr...</td>\n      <td>4.8</td>\n      <td>1918</td>\n      <td>gypsy, smuggler, short</td>\n      <td>Carmen (1918-12)</td>\n    </tr>\n    <tr>\n      <th>...</th>\n      <td>...</td>\n      <td>...</td>\n      <td>...</td>\n      <td>...</td>\n      <td>...</td>\n      <td>...</td>\n      <td>...</td>\n      <td>...</td>\n      <td>...</td>\n      <td>...</td>\n    </tr>\n    <tr>\n      <th>44333</th>\n      <td>463906</td>\n      <td>The Saint</td>\n      <td>2017-07-11</td>\n      <td>en</td>\n      <td>[Action, Adventure, Crime]</td>\n      <td>International master thief, Simon Templar, als...</td>\n      <td>5.8</td>\n      <td>2017</td>\n      <td>the saint</td>\n      <td>The Saint (2017-07)</td>\n    </tr>\n    <tr>\n      <th>44339</th>\n      <td>428501</td>\n      <td>City of Ghosts</td>\n      <td>2017-07-14</td>\n      <td>en</td>\n      <td>[Documentary]</td>\n      <td>With unprecedented access, this documentary fo...</td>\n      <td>2.0</td>\n      <td>2017</td>\n      <td></td>\n      <td>City of Ghosts (2017-07)</td>\n    </tr>\n    <tr>\n      <th>44340</th>\n      <td>459950</td>\n      <td>Feed</td>\n      <td>2017-07-18</td>\n      <td>en</td>\n      <td>[Drama]</td>\n      <td>Olivia and Matthew Grey, 18-year-old twins bor...</td>\n      <td>7.3</td>\n      <td>2017</td>\n      <td>twins, valedictorian, eating disorder, highsch...</td>\n      <td>Feed (2017-07)</td>\n    </tr>\n    <tr>\n      <th>44341</th>\n      <td>374720</td>\n      <td>Dunkirk</td>\n      <td>2017-07-19</td>\n      <td>en</td>\n      <td>[Action, Drama, History, Thriller, War]</td>\n      <td>The miraculous evacuation of Allied soldiers f...</td>\n      <td>7.5</td>\n      <td>2017</td>\n      <td>france, beach, world war ii, evacuation, germa...</td>\n      <td>Dunkirk (2017-07)</td>\n    </tr>\n    <tr>\n      <th>44359</th>\n      <td>353491</td>\n      <td>The Dark Tower</td>\n      <td>2017-08-03</td>\n      <td>en</td>\n      <td>[Action, Western, Science Fiction, Fantasy, Ho...</td>\n      <td>The last Gunslinger, Roland Deschain, has been...</td>\n      <td>5.7</td>\n      <td>2017</td>\n      <td>gunslinger, based on novel</td>\n      <td>The Dark Tower (2017-08)</td>\n    </tr>\n  </tbody>\n</table>\n<p>3102 rows × 10 columns</p>\n</div>"
     },
     "execution_count": 20,
     "metadata": {},
     "output_type": "execute_result"
    }
   ],
   "source": [
    "df.loc[duplicate_title_and_year]"
   ],
   "metadata": {
    "collapsed": false,
    "ExecuteTime": {
     "end_time": "2024-01-05T17:33:03.027898934Z",
     "start_time": "2024-01-05T17:33:03.024900988Z"
    }
   },
   "id": "7884d757e33db931",
   "execution_count": 20
  },
  {
   "cell_type": "code",
   "outputs": [
    {
     "name": "stderr",
     "output_type": "stream",
     "text": [
      "/home/ubunbu/PycharmProjects/Movie-Recommender/venv/lib/python3.10/site-packages/sklearn/preprocessing/_label.py:900: UserWarning: unknown class(es) ['Unknown'] will be ignored\n",
      "  warnings.warn(\n"
     ]
    }
   ],
   "source": [
    "mlb = MultiLabelBinarizer(classes=all_genres)\n",
    "binary_labels_all = mlb.fit_transform(df[\"genres\"])\n",
    "\n",
    "\n",
    "mlb = MultiLabelBinarizer(classes=all_genres)\n",
    "binary_labels_netflix = mlb.fit_transform(df_combined[\"genres\"])\n",
    "genres = mlb.classes_"
   ],
   "metadata": {
    "collapsed": false,
    "ExecuteTime": {
     "end_time": "2024-01-05T17:33:03.091662704Z",
     "start_time": "2024-01-05T17:33:03.025009430Z"
    }
   },
   "id": "e0f157ade52ba120",
   "execution_count": 21
  },
  {
   "cell_type": "code",
   "outputs": [],
   "source": [
    "similarity_genre = cosine_similarity(binary_labels_all, binary_labels_netflix)"
   ],
   "metadata": {
    "collapsed": false
   },
   "id": "71a454f0c0eb702",
   "execution_count": null
  },
  {
   "cell_type": "code",
   "outputs": [],
   "source": [
    "model = SentenceTransformer(\"all-mpnet-base-v2\")\n",
    "embeddings_overview = model.encode(\n",
    "    df.overview.to_numpy().astype(str), show_progress_bar=True, convert_to_numpy=True\n",
    ")\n",
    "embeddings_keywords = model.encode(\n",
    "    df.keywords.to_numpy().astype(str), show_progress_bar=True, convert_to_numpy=True\n",
    ")"
   ],
   "metadata": {
    "collapsed": false
   },
   "id": "577a339496c5fe7",
   "execution_count": null
  },
  {
   "cell_type": "code",
   "outputs": [],
   "source": [
    "print(embeddings_overview.shape, embeddings_keywords.shape)"
   ],
   "metadata": {
    "collapsed": false
   },
   "id": "84bf1fb5153b88ae",
   "execution_count": null
  },
  {
   "cell_type": "code",
   "outputs": [],
   "source": [
    "indices_shared = df[df.id.isin(df_combined.id)].index\n",
    "embeddings_overview_netflix = embeddings_overview[indices_shared]\n",
    "embeddings_keywords_netflix = embeddings_keywords[indices_shared]\n",
    "similarity_netflix = similarity_genre[indices_shared]"
   ],
   "metadata": {
    "collapsed": false
   },
   "id": "efd4faab186b7686",
   "execution_count": null
  },
  {
   "cell_type": "code",
   "outputs": [],
   "source": [
    "similarity_embedding_overview = util.cos_sim(\n",
    "    embeddings_overview, embeddings_overview_netflix\n",
    ")\n",
    "similarity_embedding_keywords = util.cos_sim(\n",
    "    embeddings_keywords, embeddings_keywords_netflix\n",
    ")"
   ],
   "metadata": {
    "collapsed": false
   },
   "id": "c3f8da5d28597512",
   "execution_count": null
  },
  {
   "cell_type": "code",
   "outputs": [],
   "source": [
    "similarity_embedding_keywords[idx_no_kw] = 0\n",
    "for idx_combined, idx_df in enumerate(indices_shared):\n",
    "    similarity_embedding_overview[idx_df][idx_combined] = -100\n",
    "    similarity_embedding_overview[idx_df][idx_combined] = -100\n",
    "    similarity_embedding_keywords[idx_df][idx_combined] = -100\n",
    "    similarity_embedding_keywords[idx_df][idx_combined] = -100\n",
    "    similarity_genre[idx_df][idx_combined] = -1"
   ],
   "metadata": {
    "collapsed": false
   },
   "id": "42874f39d26df499",
   "execution_count": null
  },
  {
   "cell_type": "code",
   "outputs": [],
   "source": [
    "# with open(r\"./similarity_genre.npy\", \"wb\") as f:\n",
    "#     np.save(f, similarity_genre)\n",
    "with open(r\"./similarity_genre.npy\", \"rb\") as f:\n",
    "    similarity_genre = np.load(f)"
   ],
   "metadata": {
    "collapsed": false,
    "ExecuteTime": {
     "end_time": "2024-01-05T17:33:10.099800813Z",
     "start_time": "2024-01-05T17:33:09.971294547Z"
    }
   },
   "id": "558140e7633aa6e7",
   "execution_count": 22
  },
  {
   "cell_type": "code",
   "outputs": [],
   "source": [
    "# with open(r\"./embeddings_keywords.npy\", \"wb\") as f:\n",
    "#     np.save(f, embeddings_keywords)\n",
    "# with open(r\"./embeddings_overview.npy\", \"wb\") as f:\n",
    "#     np.save(f, embeddings_overview)\n",
    "#\n",
    "with open(r\"./embeddings_keywords.npy\", \"rb\") as f:\n",
    "    embeddings_keywords = np.load(f)\n",
    "with open(r\"./embeddings_overview.npy\", \"rb\") as f:\n",
    "    embeddings_overview = np.load(f)"
   ],
   "metadata": {
    "collapsed": false,
    "ExecuteTime": {
     "end_time": "2024-01-05T17:33:10.230477970Z",
     "start_time": "2024-01-05T17:33:10.171199264Z"
    }
   },
   "id": "7c05d2929f502a49",
   "execution_count": 23
  },
  {
   "cell_type": "code",
   "outputs": [],
   "source": [
    "# with open(r\"./similarity_embedding_overview.npy\", \"wb\") as f:\n",
    "#     np.save(f, similarity_embedding_overview)\n",
    "# #\n",
    "with open(r\"./similarity_embedding_overview.npy\", \"rb\") as f:\n",
    "    similarity_embedding_overview = np.load(f)"
   ],
   "metadata": {
    "collapsed": false,
    "ExecuteTime": {
     "end_time": "2024-01-05T17:33:10.382155516Z",
     "start_time": "2024-01-05T17:33:10.317595512Z"
    }
   },
   "id": "dbe9bdac09ab538d",
   "execution_count": 24
  },
  {
   "cell_type": "code",
   "outputs": [],
   "source": [
    "# with open(r\"./similarity_embedding_keywords.npy\", \"wb\") as f:\n",
    "#     np.save(f, similarity_embedding_keywords)\n",
    "# #\n",
    "with open(r\"./similarity_embedding_keywords.npy\", \"rb\") as f:\n",
    "    similarity_embedding_keywords = np.load(f)"
   ],
   "metadata": {
    "collapsed": false,
    "ExecuteTime": {
     "end_time": "2024-01-05T17:33:10.488954461Z",
     "start_time": "2024-01-05T17:33:10.460780910Z"
    }
   },
   "id": "e50fcc4407d28c57",
   "execution_count": 25
  },
  {
   "cell_type": "code",
   "outputs": [],
   "source": [
    "Path(\"./custom_csv\").mkdir(parents=True, exist_ok=True)\n",
    "df.to_csv(\"./custom_csv/movies_cleaned.csv\")\n",
    "df_combined.to_csv(\"./custom_csv/movies_combined.csv\")"
   ],
   "metadata": {
    "collapsed": false,
    "ExecuteTime": {
     "end_time": "2024-01-05T17:33:12.406851451Z",
     "start_time": "2024-01-05T17:33:12.004971689Z"
    }
   },
   "id": "3ba3b97ad4df8c59",
   "execution_count": 26
  },
  {
   "cell_type": "code",
   "outputs": [],
   "source": [
    "df = pd.read_csv(\"./custom_csv/movies_cleaned.csv\")\n",
    "df_combined = pd.read_csv(\"./custom_csv/movies_combined.csv\")"
   ],
   "metadata": {
    "collapsed": false,
    "ExecuteTime": {
     "end_time": "2024-01-05T17:33:13.576304879Z",
     "start_time": "2024-01-05T17:33:13.362857072Z"
    }
   },
   "id": "943d4d644ea9fb04",
   "execution_count": 27
  },
  {
   "cell_type": "code",
   "outputs": [],
   "source": [
    "df[df.title == \"Interstellar\"]"
   ],
   "metadata": {
    "collapsed": false
   },
   "id": "d2448806117dc067",
   "execution_count": null
  },
  {
   "cell_type": "code",
   "outputs": [],
   "source": [
    "movie_number = 40199"
   ],
   "metadata": {
    "collapsed": false,
    "ExecuteTime": {
     "end_time": "2024-01-05T17:33:17.402340477Z",
     "start_time": "2024-01-05T17:33:17.398156649Z"
    }
   },
   "id": "3f63529058f753f8",
   "execution_count": 28
  },
  {
   "cell_type": "code",
   "outputs": [
    {
     "name": "stdout",
     "output_type": "stream",
     "text": [
      "Interstellar \n",
      "====\n",
      " ['Adventure', 'Drama', 'Science Fiction'] \n",
      "====\n",
      " saving the world, artificial intelligence, father son relationship, single parent, nasa, expedition, wormhole, space travel, famine, black hole, dystopia, race against time, quantum mechanics, spaceship, space, rescue, family relationships, farmhouse, robot, astronaut, scientist, father daughter relationship, single father, farmer, space station, imax, astrophysics, zero gravity, courage, time paradox, relativity \n",
      "====\n",
      " Interstellar chronicles the adventures of a group of explorers who make use of a newly discovered wormhole to surpass the limitations on human space travel and conquer the vast distances involved in an interstellar voyage. \n",
      "====\n"
     ]
    },
    {
     "data": {
      "text/plain": "      Unnamed: 0      id               title release_date original_language  \\\n1703        1703  313943              Revolt   2017-07-01                en   \n221          221    8413       Event Horizon   1997-08-15                en   \n217          217     607        Men in Black   1997-07-02                en   \n10            10     830    Forbidden Planet   1956-03-15                en   \n316          316    9397           Evolution   2001-06-08                en   \n...          ...     ...                 ...          ...               ...   \n1214        1214  329135    O Kadhal Kanmani   2015-04-17                ta   \n162          162   53163    Love on Delivery   1994-02-04                cn   \n795          795   51450  Santa's Apprentice   2010-11-24                fr   \n1165        1165  320882      The Seven Five   2014-11-14                en   \n373          373   41901          Ishq Vishk   2003-04-10                en   \n\n                                                 genres  \\\n1703                                ['Science Fiction']   \n221            ['Horror', 'Science Fiction', 'Mystery']   \n217   ['Action', 'Adventure', 'Comedy', 'Science Fic...   \n10           ['Adventure', 'Science Fiction', 'Action']   \n316             ['Action', 'Comedy', 'Science Fiction']   \n...                                                 ...   \n1214                     ['Drama', 'Family', 'Romance']   \n162                                ['Comedy', 'Action']   \n795                             ['Family', 'Animation']   \n1165                                    ['Documentary']   \n373                      ['Drama', 'Comedy', 'Romance']   \n\n                                               overview  vote_average  \\\n1703  The story of humankind's last stand against a ...           6.0   \n221   In the year 2047 a group of astronauts are sen...           6.4   \n217   Men in Black follows the exploits of agents Ka...           6.9   \n10    Captain Adams and the crew of the Starship C57...           7.2   \n316   A comedy that follows the chaos that ensues wh...           5.7   \n...                                                 ...           ...   \n1214  Adhi and Tara are in a live-in relationship an...           5.8   \n162   Ho Kam-An is a love struck dim-sum delivery bo...           6.1   \n795   Santa doesn't want to retire, but rules are ru...           4.9   \n1165  Meet the dirtiest cop in NYC history. Michael ...           7.8   \n373   Rajiv Mathur decides to go conditionally stead...           5.2   \n\n      release_year                                           keywords  \\\n1703          2017                                     alien invasion   \n221           1997  space marine, nudity, nightmare, hallucination...   \n217           1997  secret identity, sun glasses, undercover, spac...   \n10            1956  lasergun, monster, space marine, loss of fathe...   \n316           2001  grand canyon, governor, shampoo, high school t...   \n...            ...                                                ...   \n1214          2015  living together, love, open relationship, sexu...   \n162           1994                                                NaN   \n795           2010                 santa claus, gift, snow, christmas   \n1165          2014  new york, corruption, mafia, mobster, police c...   \n373           2003                                                NaN   \n\n             title_dated  \n1703              Revolt  \n221        Event Horizon  \n217         Men in Black  \n10      Forbidden Planet  \n316            Evolution  \n...                  ...  \n1214    O Kadhal Kanmani  \n162     Love on Delivery  \n795   Santa's Apprentice  \n1165      The Seven Five  \n373           Ishq Vishk  \n\n[1723 rows x 11 columns]",
      "text/html": "<div>\n<style scoped>\n    .dataframe tbody tr th:only-of-type {\n        vertical-align: middle;\n    }\n\n    .dataframe tbody tr th {\n        vertical-align: top;\n    }\n\n    .dataframe thead th {\n        text-align: right;\n    }\n</style>\n<table border=\"1\" class=\"dataframe\">\n  <thead>\n    <tr style=\"text-align: right;\">\n      <th></th>\n      <th>Unnamed: 0</th>\n      <th>id</th>\n      <th>title</th>\n      <th>release_date</th>\n      <th>original_language</th>\n      <th>genres</th>\n      <th>overview</th>\n      <th>vote_average</th>\n      <th>release_year</th>\n      <th>keywords</th>\n      <th>title_dated</th>\n    </tr>\n  </thead>\n  <tbody>\n    <tr>\n      <th>1703</th>\n      <td>1703</td>\n      <td>313943</td>\n      <td>Revolt</td>\n      <td>2017-07-01</td>\n      <td>en</td>\n      <td>['Science Fiction']</td>\n      <td>The story of humankind's last stand against a ...</td>\n      <td>6.0</td>\n      <td>2017</td>\n      <td>alien invasion</td>\n      <td>Revolt</td>\n    </tr>\n    <tr>\n      <th>221</th>\n      <td>221</td>\n      <td>8413</td>\n      <td>Event Horizon</td>\n      <td>1997-08-15</td>\n      <td>en</td>\n      <td>['Horror', 'Science Fiction', 'Mystery']</td>\n      <td>In the year 2047 a group of astronauts are sen...</td>\n      <td>6.4</td>\n      <td>1997</td>\n      <td>space marine, nudity, nightmare, hallucination...</td>\n      <td>Event Horizon</td>\n    </tr>\n    <tr>\n      <th>217</th>\n      <td>217</td>\n      <td>607</td>\n      <td>Men in Black</td>\n      <td>1997-07-02</td>\n      <td>en</td>\n      <td>['Action', 'Adventure', 'Comedy', 'Science Fic...</td>\n      <td>Men in Black follows the exploits of agents Ka...</td>\n      <td>6.9</td>\n      <td>1997</td>\n      <td>secret identity, sun glasses, undercover, spac...</td>\n      <td>Men in Black</td>\n    </tr>\n    <tr>\n      <th>10</th>\n      <td>10</td>\n      <td>830</td>\n      <td>Forbidden Planet</td>\n      <td>1956-03-15</td>\n      <td>en</td>\n      <td>['Adventure', 'Science Fiction', 'Action']</td>\n      <td>Captain Adams and the crew of the Starship C57...</td>\n      <td>7.2</td>\n      <td>1956</td>\n      <td>lasergun, monster, space marine, loss of fathe...</td>\n      <td>Forbidden Planet</td>\n    </tr>\n    <tr>\n      <th>316</th>\n      <td>316</td>\n      <td>9397</td>\n      <td>Evolution</td>\n      <td>2001-06-08</td>\n      <td>en</td>\n      <td>['Action', 'Comedy', 'Science Fiction']</td>\n      <td>A comedy that follows the chaos that ensues wh...</td>\n      <td>5.7</td>\n      <td>2001</td>\n      <td>grand canyon, governor, shampoo, high school t...</td>\n      <td>Evolution</td>\n    </tr>\n    <tr>\n      <th>...</th>\n      <td>...</td>\n      <td>...</td>\n      <td>...</td>\n      <td>...</td>\n      <td>...</td>\n      <td>...</td>\n      <td>...</td>\n      <td>...</td>\n      <td>...</td>\n      <td>...</td>\n      <td>...</td>\n    </tr>\n    <tr>\n      <th>1214</th>\n      <td>1214</td>\n      <td>329135</td>\n      <td>O Kadhal Kanmani</td>\n      <td>2015-04-17</td>\n      <td>ta</td>\n      <td>['Drama', 'Family', 'Romance']</td>\n      <td>Adhi and Tara are in a live-in relationship an...</td>\n      <td>5.8</td>\n      <td>2015</td>\n      <td>living together, love, open relationship, sexu...</td>\n      <td>O Kadhal Kanmani</td>\n    </tr>\n    <tr>\n      <th>162</th>\n      <td>162</td>\n      <td>53163</td>\n      <td>Love on Delivery</td>\n      <td>1994-02-04</td>\n      <td>cn</td>\n      <td>['Comedy', 'Action']</td>\n      <td>Ho Kam-An is a love struck dim-sum delivery bo...</td>\n      <td>6.1</td>\n      <td>1994</td>\n      <td>NaN</td>\n      <td>Love on Delivery</td>\n    </tr>\n    <tr>\n      <th>795</th>\n      <td>795</td>\n      <td>51450</td>\n      <td>Santa's Apprentice</td>\n      <td>2010-11-24</td>\n      <td>fr</td>\n      <td>['Family', 'Animation']</td>\n      <td>Santa doesn't want to retire, but rules are ru...</td>\n      <td>4.9</td>\n      <td>2010</td>\n      <td>santa claus, gift, snow, christmas</td>\n      <td>Santa's Apprentice</td>\n    </tr>\n    <tr>\n      <th>1165</th>\n      <td>1165</td>\n      <td>320882</td>\n      <td>The Seven Five</td>\n      <td>2014-11-14</td>\n      <td>en</td>\n      <td>['Documentary']</td>\n      <td>Meet the dirtiest cop in NYC history. Michael ...</td>\n      <td>7.8</td>\n      <td>2014</td>\n      <td>new york, corruption, mafia, mobster, police c...</td>\n      <td>The Seven Five</td>\n    </tr>\n    <tr>\n      <th>373</th>\n      <td>373</td>\n      <td>41901</td>\n      <td>Ishq Vishk</td>\n      <td>2003-04-10</td>\n      <td>en</td>\n      <td>['Drama', 'Comedy', 'Romance']</td>\n      <td>Rajiv Mathur decides to go conditionally stead...</td>\n      <td>5.2</td>\n      <td>2003</td>\n      <td>NaN</td>\n      <td>Ishq Vishk</td>\n    </tr>\n  </tbody>\n</table>\n<p>1723 rows × 11 columns</p>\n</div>"
     },
     "execution_count": 29,
     "metadata": {},
     "output_type": "execute_result"
    }
   ],
   "source": [
    "top_ten = reversed(similarity_embedding_overview[movie_number].argsort())\n",
    "print(\n",
    "    df[\"title\"][movie_number],\n",
    "    \"\\n====\\n\",\n",
    "    df[\"genres\"][movie_number],\n",
    "    \"\\n====\\n\",\n",
    "    df[\"keywords\"][movie_number],\n",
    "    \"\\n====\\n\",\n",
    "    df[\"overview\"][movie_number],\n",
    "    \"\\n====\\n\",\n",
    ")\n",
    "\n",
    "df_combined.loc[top_ten]"
   ],
   "metadata": {
    "collapsed": false,
    "ExecuteTime": {
     "end_time": "2024-01-05T17:33:17.792499602Z",
     "start_time": "2024-01-05T17:33:17.781922197Z"
    }
   },
   "id": "4a63d477ce225658",
   "execution_count": 29
  },
  {
   "cell_type": "code",
   "outputs": [
    {
     "name": "stdout",
     "output_type": "stream",
     "text": [
      "Interstellar\n",
      "====\n",
      "['Adventure', 'Drama', 'Science Fiction']\n",
      "====\n",
      "saving the world, artificial intelligence, father son relationship, single parent, nasa, expedition, wormhole, space travel, famine, black hole, dystopia, race against time, quantum mechanics, spaceship, space, rescue, family relationships, farmhouse, robot, astronaut, scientist, father daughter relationship, single father, farmer, space station, imax, astrophysics, zero gravity, courage, time paradox, relativity\n",
      "====\n"
     ]
    },
    {
     "data": {
      "text/plain": "      Unnamed: 0      id                                      title  \\\n662          662   13475                                  Star Trek   \n10            10     830                           Forbidden Planet   \n221          221    8413                              Event Horizon   \n174          174    2164                                   Stargate   \n260          260     817      Austin Powers: The Spy Who Shagged Me   \n...          ...     ...                                        ...   \n1572        1572  339396  True Memoirs of an International Assassin   \n749          749   37821                                    Killers   \n1500        1500  397717                                      Barry   \n1394        1394  371645                  Hunt for the Wilderpeople   \n1420        1420  397093                      The Beginning of Life   \n\n     release_date original_language  \\\n662    2009-05-06                en   \n10     1956-03-15                en   \n221    1997-08-15                en   \n174    1994-10-27                en   \n260    1999-06-08                en   \n...           ...               ...   \n1572   2016-11-11                en   \n749    2010-06-04                en   \n1500   2016-09-10                en   \n1394   2016-03-31                en   \n1420   2016-05-05                pt   \n\n                                                 genres  \\\n662          ['Science Fiction', 'Action', 'Adventure']   \n10           ['Adventure', 'Science Fiction', 'Action']   \n221            ['Horror', 'Science Fiction', 'Mystery']   \n174          ['Action', 'Adventure', 'Science Fiction']   \n260   ['Adventure', 'Comedy', 'Crime', 'Science Fict...   \n...                                                 ...   \n1572                               ['Comedy', 'Action']   \n749         ['Action', 'Comedy', 'Thriller', 'Romance']   \n1500                                          ['Drama']   \n1394                   ['Drama', 'Adventure', 'Comedy']   \n1420                                    ['Documentary']   \n\n                                               overview  vote_average  \\\n662   The fate of the galaxy rests in the hands of b...           7.4   \n10    Captain Adams and the crew of the Starship C57...           7.2   \n221   In the year 2047 a group of astronauts are sen...           6.4   \n174   An interstellar teleportation device, found in...           6.8   \n260   When diabolical genius, Dr. Evil travels back ...           6.1   \n...                                                 ...           ...   \n1572  After a publisher changes a writer's debut nov...           5.8   \n749   When an elite assassin marries a beautiful com...           5.7   \n1500  A biopic of Barack Obama set during his time a...           5.1   \n1394  Ricky is a defiant young city kid who finds hi...           7.8   \n1420  One of the greatest neuroscience breakthroughs...           8.6   \n\n      release_year                                           keywords  \\\n662           2009  spacecraft, teleportation, space mission, para...   \n10            1956  lasergun, monster, space marine, loss of fathe...   \n221           1997  space marine, nudity, nightmare, hallucination...   \n174           1994  space travel, teleportation, uprising, shot to...   \n260           1999  saving the world, moon, submarine, clone, spy,...   \n...            ...                                                ...   \n1572          2016                                           assassin   \n749           2010                                           assassin   \n1500          2016                     new york city, college student   \n1394          2016                                        new zealand   \n1420          2016                                          brazilian   \n\n                                    title_dated  \n662                                   Star Trek  \n10                             Forbidden Planet  \n221                               Event Horizon  \n174                                    Stargate  \n260       Austin Powers: The Spy Who Shagged Me  \n...                                         ...  \n1572  True Memoirs of an International Assassin  \n749                                     Killers  \n1500                                      Barry  \n1394                  Hunt for the Wilderpeople  \n1420                      The Beginning of Life  \n\n[1723 rows x 11 columns]",
      "text/html": "<div>\n<style scoped>\n    .dataframe tbody tr th:only-of-type {\n        vertical-align: middle;\n    }\n\n    .dataframe tbody tr th {\n        vertical-align: top;\n    }\n\n    .dataframe thead th {\n        text-align: right;\n    }\n</style>\n<table border=\"1\" class=\"dataframe\">\n  <thead>\n    <tr style=\"text-align: right;\">\n      <th></th>\n      <th>Unnamed: 0</th>\n      <th>id</th>\n      <th>title</th>\n      <th>release_date</th>\n      <th>original_language</th>\n      <th>genres</th>\n      <th>overview</th>\n      <th>vote_average</th>\n      <th>release_year</th>\n      <th>keywords</th>\n      <th>title_dated</th>\n    </tr>\n  </thead>\n  <tbody>\n    <tr>\n      <th>662</th>\n      <td>662</td>\n      <td>13475</td>\n      <td>Star Trek</td>\n      <td>2009-05-06</td>\n      <td>en</td>\n      <td>['Science Fiction', 'Action', 'Adventure']</td>\n      <td>The fate of the galaxy rests in the hands of b...</td>\n      <td>7.4</td>\n      <td>2009</td>\n      <td>spacecraft, teleportation, space mission, para...</td>\n      <td>Star Trek</td>\n    </tr>\n    <tr>\n      <th>10</th>\n      <td>10</td>\n      <td>830</td>\n      <td>Forbidden Planet</td>\n      <td>1956-03-15</td>\n      <td>en</td>\n      <td>['Adventure', 'Science Fiction', 'Action']</td>\n      <td>Captain Adams and the crew of the Starship C57...</td>\n      <td>7.2</td>\n      <td>1956</td>\n      <td>lasergun, monster, space marine, loss of fathe...</td>\n      <td>Forbidden Planet</td>\n    </tr>\n    <tr>\n      <th>221</th>\n      <td>221</td>\n      <td>8413</td>\n      <td>Event Horizon</td>\n      <td>1997-08-15</td>\n      <td>en</td>\n      <td>['Horror', 'Science Fiction', 'Mystery']</td>\n      <td>In the year 2047 a group of astronauts are sen...</td>\n      <td>6.4</td>\n      <td>1997</td>\n      <td>space marine, nudity, nightmare, hallucination...</td>\n      <td>Event Horizon</td>\n    </tr>\n    <tr>\n      <th>174</th>\n      <td>174</td>\n      <td>2164</td>\n      <td>Stargate</td>\n      <td>1994-10-27</td>\n      <td>en</td>\n      <td>['Action', 'Adventure', 'Science Fiction']</td>\n      <td>An interstellar teleportation device, found in...</td>\n      <td>6.8</td>\n      <td>1994</td>\n      <td>space travel, teleportation, uprising, shot to...</td>\n      <td>Stargate</td>\n    </tr>\n    <tr>\n      <th>260</th>\n      <td>260</td>\n      <td>817</td>\n      <td>Austin Powers: The Spy Who Shagged Me</td>\n      <td>1999-06-08</td>\n      <td>en</td>\n      <td>['Adventure', 'Comedy', 'Crime', 'Science Fict...</td>\n      <td>When diabolical genius, Dr. Evil travels back ...</td>\n      <td>6.1</td>\n      <td>1999</td>\n      <td>saving the world, moon, submarine, clone, spy,...</td>\n      <td>Austin Powers: The Spy Who Shagged Me</td>\n    </tr>\n    <tr>\n      <th>...</th>\n      <td>...</td>\n      <td>...</td>\n      <td>...</td>\n      <td>...</td>\n      <td>...</td>\n      <td>...</td>\n      <td>...</td>\n      <td>...</td>\n      <td>...</td>\n      <td>...</td>\n      <td>...</td>\n    </tr>\n    <tr>\n      <th>1572</th>\n      <td>1572</td>\n      <td>339396</td>\n      <td>True Memoirs of an International Assassin</td>\n      <td>2016-11-11</td>\n      <td>en</td>\n      <td>['Comedy', 'Action']</td>\n      <td>After a publisher changes a writer's debut nov...</td>\n      <td>5.8</td>\n      <td>2016</td>\n      <td>assassin</td>\n      <td>True Memoirs of an International Assassin</td>\n    </tr>\n    <tr>\n      <th>749</th>\n      <td>749</td>\n      <td>37821</td>\n      <td>Killers</td>\n      <td>2010-06-04</td>\n      <td>en</td>\n      <td>['Action', 'Comedy', 'Thriller', 'Romance']</td>\n      <td>When an elite assassin marries a beautiful com...</td>\n      <td>5.7</td>\n      <td>2010</td>\n      <td>assassin</td>\n      <td>Killers</td>\n    </tr>\n    <tr>\n      <th>1500</th>\n      <td>1500</td>\n      <td>397717</td>\n      <td>Barry</td>\n      <td>2016-09-10</td>\n      <td>en</td>\n      <td>['Drama']</td>\n      <td>A biopic of Barack Obama set during his time a...</td>\n      <td>5.1</td>\n      <td>2016</td>\n      <td>new york city, college student</td>\n      <td>Barry</td>\n    </tr>\n    <tr>\n      <th>1394</th>\n      <td>1394</td>\n      <td>371645</td>\n      <td>Hunt for the Wilderpeople</td>\n      <td>2016-03-31</td>\n      <td>en</td>\n      <td>['Drama', 'Adventure', 'Comedy']</td>\n      <td>Ricky is a defiant young city kid who finds hi...</td>\n      <td>7.8</td>\n      <td>2016</td>\n      <td>new zealand</td>\n      <td>Hunt for the Wilderpeople</td>\n    </tr>\n    <tr>\n      <th>1420</th>\n      <td>1420</td>\n      <td>397093</td>\n      <td>The Beginning of Life</td>\n      <td>2016-05-05</td>\n      <td>pt</td>\n      <td>['Documentary']</td>\n      <td>One of the greatest neuroscience breakthroughs...</td>\n      <td>8.6</td>\n      <td>2016</td>\n      <td>brazilian</td>\n      <td>The Beginning of Life</td>\n    </tr>\n  </tbody>\n</table>\n<p>1723 rows × 11 columns</p>\n</div>"
     },
     "execution_count": 30,
     "metadata": {},
     "output_type": "execute_result"
    }
   ],
   "source": [
    "top_ten = reversed(similarity_embedding_keywords[movie_number].argsort())\n",
    "print(\n",
    "    df[\"title\"][movie_number],\n",
    "    \"====\",\n",
    "    df[\"genres\"][movie_number],\n",
    "    \"====\",\n",
    "    df[\"keywords\"][movie_number],\n",
    "    \"====\",\n",
    "    sep=\"\\n\",\n",
    ")\n",
    "\n",
    "df_combined.loc[top_ten]"
   ],
   "metadata": {
    "collapsed": false,
    "ExecuteTime": {
     "end_time": "2024-01-05T17:33:22.468993619Z",
     "start_time": "2024-01-05T17:33:22.453024094Z"
    }
   },
   "id": "541a7cb0845d1ddc",
   "execution_count": 30
  },
  {
   "cell_type": "code",
   "outputs": [],
   "source": [
    "combined_similarity = (\n",
    "    similarity_genre + similarity_embedding_keywords + similarity_embedding_overview\n",
    ")"
   ],
   "metadata": {
    "collapsed": false,
    "ExecuteTime": {
     "end_time": "2024-01-05T17:34:22.164798202Z",
     "start_time": "2024-01-05T17:34:22.010680983Z"
    }
   },
   "id": "d430ebdf1c67b4af",
   "execution_count": 39
  },
  {
   "cell_type": "code",
   "outputs": [
    {
     "name": "stdout",
     "output_type": "stream",
     "text": [
      "Interstellar \n",
      "====\n",
      " ['Adventure', 'Drama', 'Science Fiction'] \n",
      "====\n",
      " saving the world, artificial intelligence, father son relationship, single parent, nasa, expedition, wormhole, space travel, famine, black hole, dystopia, race against time, quantum mechanics, spaceship, space, rescue, family relationships, farmhouse, robot, astronaut, scientist, father daughter relationship, single father, farmer, space station, imax, astrophysics, zero gravity, courage, time paradox, relativity \n",
      "====\n"
     ]
    },
    {
     "data": {
      "text/plain": "      Unnamed: 0      id                            title release_date  \\\n662          662   13475                        Star Trek   2009-05-06   \n10            10     830                 Forbidden Planet   1956-03-15   \n174          174    2164                         Stargate   1994-10-27   \n1375        1375  245703                 Midnight Special   2016-02-18   \n1179        1179  264660                       Ex Machina   2015-01-21   \n...          ...     ...                              ...          ...   \n1165        1165  320882                   The Seven Five   2014-11-14   \n682          682   19905  The Goods: Live Hard, Sell Hard   2009-08-14   \n751          751   32823             Get Him to the Greek   2010-06-04   \n162          162   53163                 Love on Delivery   1994-02-04   \n1420        1420  397093            The Beginning of Life   2016-05-05   \n\n     original_language                                      genres  \\\n662                 en  ['Science Fiction', 'Action', 'Adventure']   \n10                  en  ['Adventure', 'Science Fiction', 'Action']   \n174                 en  ['Action', 'Adventure', 'Science Fiction']   \n1375                en   ['Adventure', 'Drama', 'Science Fiction']   \n1179                en                ['Drama', 'Science Fiction']   \n...                ...                                         ...   \n1165                en                             ['Documentary']   \n682                 en                                  ['Comedy']   \n751                 en                                  ['Comedy']   \n162                 cn                        ['Comedy', 'Action']   \n1420                pt                             ['Documentary']   \n\n                                               overview  vote_average  \\\n662   The fate of the galaxy rests in the hands of b...           7.4   \n10    Captain Adams and the crew of the Starship C57...           7.2   \n174   An interstellar teleportation device, found in...           6.8   \n1375  A father and son go on the run after the dad l...           6.2   \n1179  Caleb, a 26 year old coder at the world's larg...           7.6   \n...                                                 ...           ...   \n1165  Meet the dirtiest cop in NYC history. Michael ...           7.8   \n682   Who is Don Ready? Salesman? Lover? Song Stylis...           5.4   \n751   Pinnacle records has the perfect plan to get t...           5.9   \n162   Ho Kam-An is a love struck dim-sum delivery bo...           6.1   \n1420  One of the greatest neuroscience breakthroughs...           8.6   \n\n      release_year                                           keywords  \\\n662           2009  spacecraft, teleportation, space mission, para...   \n10            1956  lasergun, monster, space marine, loss of fathe...   \n174           1994  space travel, teleportation, uprising, shot to...   \n1375          2016  father son relationship, helicopter, fbi, mote...   \n1179          2015  dancing, artificial intelligence, distrust, is...   \n...            ...                                                ...   \n1165          2014  new york, corruption, mafia, mobster, police c...   \n682           2009                               duringcreditsstinger   \n751           2010                                aftercreditsstinger   \n162           1994                                                NaN   \n1420          2016                                          brazilian   \n\n                          title_dated  \n662                         Star Trek  \n10                   Forbidden Planet  \n174                          Stargate  \n1375                 Midnight Special  \n1179                       Ex Machina  \n...                               ...  \n1165                   The Seven Five  \n682   The Goods: Live Hard, Sell Hard  \n751              Get Him to the Greek  \n162                  Love on Delivery  \n1420            The Beginning of Life  \n\n[1723 rows x 11 columns]",
      "text/html": "<div>\n<style scoped>\n    .dataframe tbody tr th:only-of-type {\n        vertical-align: middle;\n    }\n\n    .dataframe tbody tr th {\n        vertical-align: top;\n    }\n\n    .dataframe thead th {\n        text-align: right;\n    }\n</style>\n<table border=\"1\" class=\"dataframe\">\n  <thead>\n    <tr style=\"text-align: right;\">\n      <th></th>\n      <th>Unnamed: 0</th>\n      <th>id</th>\n      <th>title</th>\n      <th>release_date</th>\n      <th>original_language</th>\n      <th>genres</th>\n      <th>overview</th>\n      <th>vote_average</th>\n      <th>release_year</th>\n      <th>keywords</th>\n      <th>title_dated</th>\n    </tr>\n  </thead>\n  <tbody>\n    <tr>\n      <th>662</th>\n      <td>662</td>\n      <td>13475</td>\n      <td>Star Trek</td>\n      <td>2009-05-06</td>\n      <td>en</td>\n      <td>['Science Fiction', 'Action', 'Adventure']</td>\n      <td>The fate of the galaxy rests in the hands of b...</td>\n      <td>7.4</td>\n      <td>2009</td>\n      <td>spacecraft, teleportation, space mission, para...</td>\n      <td>Star Trek</td>\n    </tr>\n    <tr>\n      <th>10</th>\n      <td>10</td>\n      <td>830</td>\n      <td>Forbidden Planet</td>\n      <td>1956-03-15</td>\n      <td>en</td>\n      <td>['Adventure', 'Science Fiction', 'Action']</td>\n      <td>Captain Adams and the crew of the Starship C57...</td>\n      <td>7.2</td>\n      <td>1956</td>\n      <td>lasergun, monster, space marine, loss of fathe...</td>\n      <td>Forbidden Planet</td>\n    </tr>\n    <tr>\n      <th>174</th>\n      <td>174</td>\n      <td>2164</td>\n      <td>Stargate</td>\n      <td>1994-10-27</td>\n      <td>en</td>\n      <td>['Action', 'Adventure', 'Science Fiction']</td>\n      <td>An interstellar teleportation device, found in...</td>\n      <td>6.8</td>\n      <td>1994</td>\n      <td>space travel, teleportation, uprising, shot to...</td>\n      <td>Stargate</td>\n    </tr>\n    <tr>\n      <th>1375</th>\n      <td>1375</td>\n      <td>245703</td>\n      <td>Midnight Special</td>\n      <td>2016-02-18</td>\n      <td>en</td>\n      <td>['Adventure', 'Drama', 'Science Fiction']</td>\n      <td>A father and son go on the run after the dad l...</td>\n      <td>6.2</td>\n      <td>2016</td>\n      <td>father son relationship, helicopter, fbi, mote...</td>\n      <td>Midnight Special</td>\n    </tr>\n    <tr>\n      <th>1179</th>\n      <td>1179</td>\n      <td>264660</td>\n      <td>Ex Machina</td>\n      <td>2015-01-21</td>\n      <td>en</td>\n      <td>['Drama', 'Science Fiction']</td>\n      <td>Caleb, a 26 year old coder at the world's larg...</td>\n      <td>7.6</td>\n      <td>2015</td>\n      <td>dancing, artificial intelligence, distrust, is...</td>\n      <td>Ex Machina</td>\n    </tr>\n    <tr>\n      <th>...</th>\n      <td>...</td>\n      <td>...</td>\n      <td>...</td>\n      <td>...</td>\n      <td>...</td>\n      <td>...</td>\n      <td>...</td>\n      <td>...</td>\n      <td>...</td>\n      <td>...</td>\n      <td>...</td>\n    </tr>\n    <tr>\n      <th>1165</th>\n      <td>1165</td>\n      <td>320882</td>\n      <td>The Seven Five</td>\n      <td>2014-11-14</td>\n      <td>en</td>\n      <td>['Documentary']</td>\n      <td>Meet the dirtiest cop in NYC history. Michael ...</td>\n      <td>7.8</td>\n      <td>2014</td>\n      <td>new york, corruption, mafia, mobster, police c...</td>\n      <td>The Seven Five</td>\n    </tr>\n    <tr>\n      <th>682</th>\n      <td>682</td>\n      <td>19905</td>\n      <td>The Goods: Live Hard, Sell Hard</td>\n      <td>2009-08-14</td>\n      <td>en</td>\n      <td>['Comedy']</td>\n      <td>Who is Don Ready? Salesman? Lover? Song Stylis...</td>\n      <td>5.4</td>\n      <td>2009</td>\n      <td>duringcreditsstinger</td>\n      <td>The Goods: Live Hard, Sell Hard</td>\n    </tr>\n    <tr>\n      <th>751</th>\n      <td>751</td>\n      <td>32823</td>\n      <td>Get Him to the Greek</td>\n      <td>2010-06-04</td>\n      <td>en</td>\n      <td>['Comedy']</td>\n      <td>Pinnacle records has the perfect plan to get t...</td>\n      <td>5.9</td>\n      <td>2010</td>\n      <td>aftercreditsstinger</td>\n      <td>Get Him to the Greek</td>\n    </tr>\n    <tr>\n      <th>162</th>\n      <td>162</td>\n      <td>53163</td>\n      <td>Love on Delivery</td>\n      <td>1994-02-04</td>\n      <td>cn</td>\n      <td>['Comedy', 'Action']</td>\n      <td>Ho Kam-An is a love struck dim-sum delivery bo...</td>\n      <td>6.1</td>\n      <td>1994</td>\n      <td>NaN</td>\n      <td>Love on Delivery</td>\n    </tr>\n    <tr>\n      <th>1420</th>\n      <td>1420</td>\n      <td>397093</td>\n      <td>The Beginning of Life</td>\n      <td>2016-05-05</td>\n      <td>pt</td>\n      <td>['Documentary']</td>\n      <td>One of the greatest neuroscience breakthroughs...</td>\n      <td>8.6</td>\n      <td>2016</td>\n      <td>brazilian</td>\n      <td>The Beginning of Life</td>\n    </tr>\n  </tbody>\n</table>\n<p>1723 rows × 11 columns</p>\n</div>"
     },
     "execution_count": 40,
     "metadata": {},
     "output_type": "execute_result"
    }
   ],
   "source": [
    "top_ten = reversed(combined_similarity[movie_number].argsort())\n",
    "print(\n",
    "    df[\"title\"][movie_number],\n",
    "    \"\\n====\\n\",\n",
    "    df[\"genres\"][movie_number],\n",
    "    \"\\n====\\n\",\n",
    "    df[\"keywords\"][movie_number],\n",
    "    \"\\n====\\n\",\n",
    ")\n",
    "\n",
    "df_combined.loc[top_ten]"
   ],
   "metadata": {
    "collapsed": false,
    "ExecuteTime": {
     "end_time": "2024-01-05T17:34:22.258192169Z",
     "start_time": "2024-01-05T17:34:22.256702072Z"
    }
   },
   "id": "e8ca7e815b6b4e08",
   "execution_count": 40
  },
  {
   "cell_type": "code",
   "outputs": [],
   "source": [
    "combined_df = pd.DataFrame(combined_similarity, columns=df_combined.id, index=df.id)"
   ],
   "metadata": {
    "collapsed": false,
    "ExecuteTime": {
     "end_time": "2024-01-05T17:35:26.351007908Z",
     "start_time": "2024-01-05T17:35:26.349774129Z"
    }
   },
   "id": "4a65e101c52ac6ae",
   "execution_count": 43
  },
  {
   "cell_type": "code",
   "outputs": [],
   "source": [
    "# import os\n",
    "# from dotenv import load_dotenv\n",
    "# from sqlalchemy import create_engine\n"
   ],
   "metadata": {
    "collapsed": false
   },
   "id": "22145c609407707f"
  },
  {
   "cell_type": "code",
   "outputs": [],
   "source": [
    "# load_dotenv(\"../.env\")\n",
    "# engine = create_engine(os.environ[\"DATABASE_URL\"])"
   ],
   "metadata": {
    "collapsed": false,
    "ExecuteTime": {
     "end_time": "2024-01-05T17:38:23.476205592Z",
     "start_time": "2024-01-05T17:38:23.396512146Z"
    }
   },
   "id": "5ec35285d126e61",
   "execution_count": 53
  },
  {
   "cell_type": "code",
   "outputs": [
    {
     "data": {
      "text/plain": "7"
     },
     "execution_count": 54,
     "metadata": {},
     "output_type": "execute_result"
    }
   ],
   "source": [
    "# combined_df.to_sql(\"combined_scores\", engine)"
   ],
   "metadata": {
    "collapsed": false,
    "ExecuteTime": {
     "end_time": "2024-01-05T18:01:40.575141951Z",
     "start_time": "2024-01-05T17:38:24.943316763Z"
    }
   },
   "id": "ee293cd4cd0dfde2",
   "execution_count": 54
  }
 ],
 "metadata": {
  "kernelspec": {
   "display_name": "Python 3",
   "language": "python",
   "name": "python3"
  },
  "language_info": {
   "codemirror_mode": {
    "name": "ipython",
    "version": 2
   },
   "file_extension": ".py",
   "mimetype": "text/x-python",
   "name": "python",
   "nbconvert_exporter": "python",
   "pygments_lexer": "ipython2",
   "version": "2.7.6"
  }
 },
 "nbformat": 4,
 "nbformat_minor": 5
}
