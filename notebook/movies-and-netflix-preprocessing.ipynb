{
 "cells": [
  {
   "cell_type": "markdown",
   "source": [
    "# Data preparation notebook for recommender project"
   ],
   "metadata": {
    "collapsed": false
   },
   "id": "756f42ea9db3e076"
  },
  {
   "cell_type": "code",
   "outputs": [],
   "source": [
    "import ast\n",
    "from pathlib import Path\n",
    "\n",
    "import numpy as np\n",
    "\n",
    "# You need a kaggle account to use this\n",
    "# https://pypi.org/project/opendatasets/\n",
    "import opendatasets as od\n",
    "import pandas as pd\n",
    "from sentence_transformers import SentenceTransformer, util\n",
    "from sklearn.metrics.pairwise import cosine_similarity\n",
    "from sklearn.preprocessing import MultiLabelBinarizer"
   ],
   "metadata": {
    "collapsed": false,
    "ExecuteTime": {
     "end_time": "2024-01-04T22:28:00.243110693Z",
     "start_time": "2024-01-04T22:27:58.218895466Z"
    }
   },
   "id": "8286ccb0b1c61341",
   "execution_count": 1
  },
  {
   "cell_type": "code",
   "outputs": [
    {
     "name": "stdout",
     "output_type": "stream",
     "text": [
      "Skipping, found downloaded files in \"./netflix-shows\" (use force=True to force download)\n",
      "Skipping, found downloaded files in \"./the-movies-dataset\" (use force=True to force download)\n"
     ]
    }
   ],
   "source": [
    "od.download(\"https://www.kaggle.com/datasets/shivamb/netflix-shows\")\n",
    "od.download(\"https://www.kaggle.com/datasets/rounakbanik/the-movies-dataset\")"
   ],
   "metadata": {
    "collapsed": false,
    "ExecuteTime": {
     "end_time": "2024-01-04T22:28:00.244373317Z",
     "start_time": "2024-01-04T22:28:00.242978972Z"
    }
   },
   "id": "be3ca0c5c71695d6",
   "execution_count": 2
  },
  {
   "cell_type": "code",
   "outputs": [],
   "source": [
    "netflix_movies = pd.read_csv(\n",
    "    \"./netflix-shows/netflix_titles.csv\", usecols=[\"title\", \"type\", \"release_year\"]\n",
    ")\n",
    "netflix_movies = netflix_movies[netflix_movies[\"type\"] == \"Movie\"]"
   ],
   "metadata": {
    "collapsed": false,
    "ExecuteTime": {
     "end_time": "2024-01-04T22:28:00.246090066Z",
     "start_time": "2024-01-04T22:28:00.243180344Z"
    }
   },
   "id": "69677dd4746f9f93",
   "execution_count": 3
  },
  {
   "cell_type": "code",
   "outputs": [],
   "source": [
    "cols_to_read = [\n",
    "    \"id\",\n",
    "    \"title\",\n",
    "    \"overview\",\n",
    "    \"release_date\",\n",
    "    \"original_language\",\n",
    "    \"genres\",\n",
    "    \"vote_average\",\n",
    "]\n",
    "df_raw = pd.read_csv(\n",
    "    \"./the-movies-dataset/movies_metadata.csv\", usecols=cols_to_read\n",
    ").loc[\n",
    "    :,\n",
    "    [\n",
    "        \"id\",\n",
    "        \"title\",\n",
    "        \"release_date\",\n",
    "        \"original_language\",\n",
    "        \"genres\",\n",
    "        \"overview\",\n",
    "        \"vote_average\",\n",
    "    ],\n",
    "]\n",
    "\n",
    "df = df_raw.copy()[~df_raw.duplicated()]"
   ],
   "metadata": {
    "collapsed": false,
    "ExecuteTime": {
     "end_time": "2024-01-04T22:28:00.537052195Z",
     "start_time": "2024-01-04T22:28:00.243273685Z"
    }
   },
   "id": "6ad0a3c49a746305",
   "execution_count": 4
  },
  {
   "cell_type": "code",
   "outputs": [
    {
     "data": {
      "text/plain": "(45436, 7)"
     },
     "execution_count": 5,
     "metadata": {},
     "output_type": "execute_result"
    }
   ],
   "source": [
    "df.shape"
   ],
   "metadata": {
    "collapsed": false,
    "ExecuteTime": {
     "end_time": "2024-01-04T22:28:00.544007853Z",
     "start_time": "2024-01-04T22:28:00.540222871Z"
    }
   },
   "id": "7d11aeaa89c5d6b0",
   "execution_count": 5
  },
  {
   "cell_type": "code",
   "outputs": [],
   "source": [
    "df[\"release_date\"] = pd.to_datetime(df[\"release_date\"], errors=\"coerce\").dropna()\n",
    "df[\"release_year\"] = df[\"release_date\"].dt.strftime(\"%Y\")"
   ],
   "metadata": {
    "collapsed": false,
    "ExecuteTime": {
     "end_time": "2024-01-04T22:28:00.676567102Z",
     "start_time": "2024-01-04T22:28:00.543424297Z"
    }
   },
   "id": "2ba1a23302fc5e85",
   "execution_count": 6
  },
  {
   "cell_type": "code",
   "outputs": [],
   "source": [
    "def get_genre_values(row):\n",
    "    row = ast.literal_eval(row)\n",
    "    genre_list = [val[\"name\"] for val in row]\n",
    "    if len(genre_list) == 0:\n",
    "        return [\"Unknown\"]\n",
    "    return genre_list"
   ],
   "metadata": {
    "collapsed": false,
    "ExecuteTime": {
     "end_time": "2024-01-04T22:28:00.720229746Z",
     "start_time": "2024-01-04T22:28:00.718940791Z"
    }
   },
   "id": "61bb0372f85dbb1e",
   "execution_count": 7
  },
  {
   "cell_type": "code",
   "outputs": [],
   "source": [
    "df = df.loc[df[cols_to_read[:-1]].dropna().index].reset_index(drop=True)\n",
    "\n",
    "df[\"id\"] = df[\"id\"].astype(int)"
   ],
   "metadata": {
    "collapsed": false,
    "ExecuteTime": {
     "end_time": "2024-01-04T22:28:00.721271567Z",
     "start_time": "2024-01-04T22:28:00.719184104Z"
    }
   },
   "id": "7b661feed9a61e33",
   "execution_count": 8
  },
  {
   "cell_type": "code",
   "outputs": [
    {
     "data": {
      "text/plain": "(44395, 8)"
     },
     "execution_count": 9,
     "metadata": {},
     "output_type": "execute_result"
    }
   ],
   "source": [
    "df.shape"
   ],
   "metadata": {
    "collapsed": false,
    "ExecuteTime": {
     "end_time": "2024-01-04T22:28:00.722349649Z",
     "start_time": "2024-01-04T22:28:00.719341016Z"
    }
   },
   "id": "48c08267d13f15d5",
   "execution_count": 9
  },
  {
   "cell_type": "code",
   "outputs": [
    {
     "data": {
      "text/plain": "(44395, 9)"
     },
     "execution_count": 10,
     "metadata": {},
     "output_type": "execute_result"
    }
   ],
   "source": [
    "df = pd.merge(\n",
    "    df,\n",
    "    pd.read_csv(\"./the-movies-dataset/keywords.csv\").drop_duplicates(),\n",
    "    how=\"left\",\n",
    "    on=[\"id\"],\n",
    ")\n",
    "df[\"keywords\"] = df.keywords.fillna(\"[]\")\n",
    "df.shape"
   ],
   "metadata": {
    "collapsed": false,
    "ExecuteTime": {
     "end_time": "2024-01-04T22:28:00.802247622Z",
     "start_time": "2024-01-04T22:28:00.719446017Z"
    }
   },
   "id": "eeb761209d05d248",
   "execution_count": 10
  },
  {
   "cell_type": "code",
   "outputs": [],
   "source": [
    "df[\"genres\"] = df[\"genres\"].apply(get_genre_values)"
   ],
   "metadata": {
    "collapsed": false,
    "ExecuteTime": {
     "end_time": "2024-01-04T22:28:01.437639933Z",
     "start_time": "2024-01-04T22:28:00.801401193Z"
    }
   },
   "id": "f23724a7db826bad",
   "execution_count": 11
  },
  {
   "cell_type": "code",
   "outputs": [],
   "source": [
    "df[\"keywords\"] = df[\"keywords\"].apply(get_genre_values)"
   ],
   "metadata": {
    "collapsed": false,
    "ExecuteTime": {
     "end_time": "2024-01-04T22:28:02.518397549Z",
     "start_time": "2024-01-04T22:28:01.438915417Z"
    }
   },
   "id": "f8ce3a65ab77bb3b",
   "execution_count": 12
  },
  {
   "cell_type": "code",
   "outputs": [],
   "source": [
    "df[\"keywords\"] = df.loc[:, [\"keywords\"]].apply(\n",
    "    lambda x: \", \".join(x.keywords) if \"Unknown\" not in x.keywords else \"\",\n",
    "    axis=1,\n",
    ")\n",
    "\n",
    "idx_no_kw = df[df[\"keywords\"] == \"\"].index"
   ],
   "metadata": {
    "collapsed": false,
    "ExecuteTime": {
     "end_time": "2024-01-04T22:28:02.856770252Z",
     "start_time": "2024-01-04T22:28:02.520373881Z"
    }
   },
   "id": "1323476c73a663d2",
   "execution_count": 13
  },
  {
   "cell_type": "code",
   "outputs": [
    {
     "data": {
      "text/plain": "      id                        title release_date original_language  \\\n0    862                    Toy Story   1995-10-30                en   \n1   8844                      Jumanji   1995-12-15                en   \n2  15602             Grumpier Old Men   1995-12-22                en   \n3  31357            Waiting to Exhale   1995-12-22                en   \n4  11862  Father of the Bride Part II   1995-02-10                en   \n\n                         genres  \\\n0   [Animation, Comedy, Family]   \n1  [Adventure, Fantasy, Family]   \n2             [Romance, Comedy]   \n3      [Comedy, Drama, Romance]   \n4                      [Comedy]   \n\n                                            overview  vote_average  \\\n0  Led by Woody, Andy's toys live happily in his ...           7.7   \n1  When siblings Judy and Peter discover an encha...           6.9   \n2  A family wedding reignites the ancient feud be...           6.5   \n3  Cheated on, mistreated and stepped on, the wom...           6.1   \n4  Just when George Banks has recovered from his ...           5.7   \n\n  release_year                                           keywords  \n0         1995  jealousy, toy, boy, friendship, friends, rival...  \n1         1995  board game, disappearance, based on children's...  \n2         1995  fishing, best friend, duringcreditsstinger, ol...  \n3         1995  based on novel, interracial relationship, sing...  \n4         1995  baby, midlife crisis, confidence, aging, daugh...  ",
      "text/html": "<div>\n<style scoped>\n    .dataframe tbody tr th:only-of-type {\n        vertical-align: middle;\n    }\n\n    .dataframe tbody tr th {\n        vertical-align: top;\n    }\n\n    .dataframe thead th {\n        text-align: right;\n    }\n</style>\n<table border=\"1\" class=\"dataframe\">\n  <thead>\n    <tr style=\"text-align: right;\">\n      <th></th>\n      <th>id</th>\n      <th>title</th>\n      <th>release_date</th>\n      <th>original_language</th>\n      <th>genres</th>\n      <th>overview</th>\n      <th>vote_average</th>\n      <th>release_year</th>\n      <th>keywords</th>\n    </tr>\n  </thead>\n  <tbody>\n    <tr>\n      <th>0</th>\n      <td>862</td>\n      <td>Toy Story</td>\n      <td>1995-10-30</td>\n      <td>en</td>\n      <td>[Animation, Comedy, Family]</td>\n      <td>Led by Woody, Andy's toys live happily in his ...</td>\n      <td>7.7</td>\n      <td>1995</td>\n      <td>jealousy, toy, boy, friendship, friends, rival...</td>\n    </tr>\n    <tr>\n      <th>1</th>\n      <td>8844</td>\n      <td>Jumanji</td>\n      <td>1995-12-15</td>\n      <td>en</td>\n      <td>[Adventure, Fantasy, Family]</td>\n      <td>When siblings Judy and Peter discover an encha...</td>\n      <td>6.9</td>\n      <td>1995</td>\n      <td>board game, disappearance, based on children's...</td>\n    </tr>\n    <tr>\n      <th>2</th>\n      <td>15602</td>\n      <td>Grumpier Old Men</td>\n      <td>1995-12-22</td>\n      <td>en</td>\n      <td>[Romance, Comedy]</td>\n      <td>A family wedding reignites the ancient feud be...</td>\n      <td>6.5</td>\n      <td>1995</td>\n      <td>fishing, best friend, duringcreditsstinger, ol...</td>\n    </tr>\n    <tr>\n      <th>3</th>\n      <td>31357</td>\n      <td>Waiting to Exhale</td>\n      <td>1995-12-22</td>\n      <td>en</td>\n      <td>[Comedy, Drama, Romance]</td>\n      <td>Cheated on, mistreated and stepped on, the wom...</td>\n      <td>6.1</td>\n      <td>1995</td>\n      <td>based on novel, interracial relationship, sing...</td>\n    </tr>\n    <tr>\n      <th>4</th>\n      <td>11862</td>\n      <td>Father of the Bride Part II</td>\n      <td>1995-02-10</td>\n      <td>en</td>\n      <td>[Comedy]</td>\n      <td>Just when George Banks has recovered from his ...</td>\n      <td>5.7</td>\n      <td>1995</td>\n      <td>baby, midlife crisis, confidence, aging, daugh...</td>\n    </tr>\n  </tbody>\n</table>\n</div>"
     },
     "execution_count": 14,
     "metadata": {},
     "output_type": "execute_result"
    }
   ],
   "source": [
    "df.head()"
   ],
   "metadata": {
    "collapsed": false,
    "ExecuteTime": {
     "end_time": "2024-01-04T22:28:02.865980946Z",
     "start_time": "2024-01-04T22:28:02.857909075Z"
    }
   },
   "id": "f07434818b996cb7",
   "execution_count": 14
  },
  {
   "cell_type": "code",
   "outputs": [],
   "source": [
    "df = df.sort_values(by=\"release_date\").reset_index(drop=True)\n",
    "df[\"title_dated\"] = df[\"title\"].copy()\n",
    "df.loc[df.title.duplicated(), \"title_dated\"] = df.loc[\n",
    "    df.title.duplicated(), [\"title_dated\"]\n",
    "].apply(\n",
    "    lambda x: \" \".join([x[\"title_dated\"], f\"({str(df['release_year'][x.name])})\"]),\n",
    "    axis=1,\n",
    ")"
   ],
   "metadata": {
    "collapsed": false,
    "ExecuteTime": {
     "end_time": "2024-01-04T22:28:02.934554241Z",
     "start_time": "2024-01-04T22:28:02.867383902Z"
    }
   },
   "id": "d92b71d45b29afc2",
   "execution_count": 15
  },
  {
   "cell_type": "code",
   "outputs": [],
   "source": [
    "duplicate_title_and_year = df.loc[df.title.duplicated(), \"title\"].index"
   ],
   "metadata": {
    "collapsed": false,
    "ExecuteTime": {
     "end_time": "2024-01-04T22:28:02.935562623Z",
     "start_time": "2024-01-04T22:28:02.931541028Z"
    }
   },
   "id": "fcb15c59955cda2c",
   "execution_count": 16
  },
  {
   "cell_type": "code",
   "outputs": [],
   "source": [
    "df.loc[df.title.duplicated(), \"title_dated\"] = df.loc[\n",
    "    df.title.duplicated(), [\"title_dated\"]\n",
    "].apply(\n",
    "    lambda x: x[\"title_dated\"].replace(\n",
    "        f\"({str(df['release_year'][x.name])})\",\n",
    "        f\"({str(df['release_date'][x.name].strftime('%Y-%m'))})\",\n",
    "    ),\n",
    "    axis=1,\n",
    ")"
   ],
   "metadata": {
    "collapsed": false,
    "ExecuteTime": {
     "end_time": "2024-01-04T22:28:03.004448601Z",
     "start_time": "2024-01-04T22:28:02.934097846Z"
    }
   },
   "id": "c6e6782d33cf0085",
   "execution_count": 17
  },
  {
   "cell_type": "code",
   "outputs": [],
   "source": [
    "netflix_movies[\"release_year\"] = netflix_movies[\"release_year\"].astype(str)\n",
    "df_combined = pd.merge(\n",
    "    df, netflix_movies[[\"title\", \"release_year\"]], on=[\"title\", \"release_year\"]\n",
    ")\n",
    "df_combined = df_combined[\n",
    "    ~df_combined[[\"title\", \"release_year\", \"overview\"]].duplicated()\n",
    "].reset_index(drop=True)"
   ],
   "metadata": {
    "collapsed": false,
    "ExecuteTime": {
     "end_time": "2024-01-04T22:28:03.063191346Z",
     "start_time": "2024-01-04T22:28:03.019029665Z"
    }
   },
   "id": "b4b9dab746d233c",
   "execution_count": 18
  },
  {
   "cell_type": "code",
   "outputs": [
    {
     "name": "stdout",
     "output_type": "stream",
     "text": [
      "['Documentary', 'War', 'History', 'Drama', 'Comedy', 'Music', 'Romance', 'Adventure', 'Science Fiction', 'Action', 'Crime', 'Thriller', 'Family', 'Horror', 'Mystery', 'Fantasy', 'Western', 'Animation', 'Foreign', 'TV Movie']\n"
     ]
    }
   ],
   "source": [
    "all_genres = list(df_combined[\"genres\"].explode().unique())\n",
    "all_genres.remove(\"Unknown\")\n",
    "print(all_genres)"
   ],
   "metadata": {
    "collapsed": false,
    "ExecuteTime": {
     "end_time": "2024-01-04T22:28:03.065285749Z",
     "start_time": "2024-01-04T22:28:03.063107565Z"
    }
   },
   "id": "d790d0d81a5e459a",
   "execution_count": 19
  },
  {
   "cell_type": "code",
   "outputs": [
    {
     "data": {
      "text/plain": "           id                title release_date original_language  \\\n54     104471   The Haunted Castle   1897-01-01                fr   \n83     193411             The Kiss   1900-03-09                en   \n223     92349           Cinderella   1914-12-28                en   \n228     87300  Alice in Wonderland   1915-01-15                en   \n317    174928               Carmen   1918-12-20                de   \n...       ...                  ...          ...               ...   \n44333  463906            The Saint   2017-07-11                en   \n44339  428501       City of Ghosts   2017-07-14                en   \n44340  459950                 Feed   2017-07-18                en   \n44341  374720              Dunkirk   2017-07-19                en   \n44359  353491       The Dark Tower   2017-08-03                en   \n\n                                                  genres  \\\n54                                              [Horror]   \n83                                             [Romance]   \n223                                     [Fantasy, Drama]   \n228                                    [Family, Fantasy]   \n317                                              [Drama]   \n...                                                  ...   \n44333                         [Action, Adventure, Crime]   \n44339                                      [Documentary]   \n44340                                            [Drama]   \n44341            [Action, Drama, History, Thriller, War]   \n44359  [Action, Western, Science Fiction, Fantasy, Ho...   \n\n                                                overview  vote_average  \\\n54     A man has an encounter with several spooky app...           5.6   \n83     Nothing new, but an old thing done over again ...           4.5   \n223    Based on Charles Perrault's fairy tale: Cinder...           5.4   \n228    A German adaptation of the classic Lewis Carro...           5.5   \n317    The tragic story of Don Jose, a Spanish cavalr...           4.8   \n...                                                  ...           ...   \n44333  International master thief, Simon Templar, als...           5.8   \n44339  With unprecedented access, this documentary fo...           2.0   \n44340  Olivia and Matthew Grey, 18-year-old twins bor...           7.3   \n44341  The miraculous evacuation of Allied soldiers f...           7.5   \n44359  The last Gunslinger, Roland Deschain, has been...           5.7   \n\n      release_year                                           keywords  \\\n54            1897  french, horror, silent film, ghost, georges me...   \n83            1900         kiss, remake, kissing, couple, silent film   \n223           1914                                                      \n228           1915                 dream, alice in wonderland, rabbit   \n317           1918                             gypsy, smuggler, short   \n...            ...                                                ...   \n44333         2017                                          the saint   \n44339         2017                                                      \n44340         2017  twins, valedictorian, eating disorder, highsch...   \n44341         2017  france, beach, world war ii, evacuation, germa...   \n44359         2017                         gunslinger, based on novel   \n\n                         title_dated  \n54      The Haunted Castle (1897-01)  \n83                The Kiss (1900-03)  \n223             Cinderella (1914-12)  \n228    Alice in Wonderland (1915-01)  \n317                 Carmen (1918-12)  \n...                              ...  \n44333            The Saint (2017-07)  \n44339       City of Ghosts (2017-07)  \n44340                 Feed (2017-07)  \n44341              Dunkirk (2017-07)  \n44359       The Dark Tower (2017-08)  \n\n[3102 rows x 10 columns]",
      "text/html": "<div>\n<style scoped>\n    .dataframe tbody tr th:only-of-type {\n        vertical-align: middle;\n    }\n\n    .dataframe tbody tr th {\n        vertical-align: top;\n    }\n\n    .dataframe thead th {\n        text-align: right;\n    }\n</style>\n<table border=\"1\" class=\"dataframe\">\n  <thead>\n    <tr style=\"text-align: right;\">\n      <th></th>\n      <th>id</th>\n      <th>title</th>\n      <th>release_date</th>\n      <th>original_language</th>\n      <th>genres</th>\n      <th>overview</th>\n      <th>vote_average</th>\n      <th>release_year</th>\n      <th>keywords</th>\n      <th>title_dated</th>\n    </tr>\n  </thead>\n  <tbody>\n    <tr>\n      <th>54</th>\n      <td>104471</td>\n      <td>The Haunted Castle</td>\n      <td>1897-01-01</td>\n      <td>fr</td>\n      <td>[Horror]</td>\n      <td>A man has an encounter with several spooky app...</td>\n      <td>5.6</td>\n      <td>1897</td>\n      <td>french, horror, silent film, ghost, georges me...</td>\n      <td>The Haunted Castle (1897-01)</td>\n    </tr>\n    <tr>\n      <th>83</th>\n      <td>193411</td>\n      <td>The Kiss</td>\n      <td>1900-03-09</td>\n      <td>en</td>\n      <td>[Romance]</td>\n      <td>Nothing new, but an old thing done over again ...</td>\n      <td>4.5</td>\n      <td>1900</td>\n      <td>kiss, remake, kissing, couple, silent film</td>\n      <td>The Kiss (1900-03)</td>\n    </tr>\n    <tr>\n      <th>223</th>\n      <td>92349</td>\n      <td>Cinderella</td>\n      <td>1914-12-28</td>\n      <td>en</td>\n      <td>[Fantasy, Drama]</td>\n      <td>Based on Charles Perrault's fairy tale: Cinder...</td>\n      <td>5.4</td>\n      <td>1914</td>\n      <td></td>\n      <td>Cinderella (1914-12)</td>\n    </tr>\n    <tr>\n      <th>228</th>\n      <td>87300</td>\n      <td>Alice in Wonderland</td>\n      <td>1915-01-15</td>\n      <td>en</td>\n      <td>[Family, Fantasy]</td>\n      <td>A German adaptation of the classic Lewis Carro...</td>\n      <td>5.5</td>\n      <td>1915</td>\n      <td>dream, alice in wonderland, rabbit</td>\n      <td>Alice in Wonderland (1915-01)</td>\n    </tr>\n    <tr>\n      <th>317</th>\n      <td>174928</td>\n      <td>Carmen</td>\n      <td>1918-12-20</td>\n      <td>de</td>\n      <td>[Drama]</td>\n      <td>The tragic story of Don Jose, a Spanish cavalr...</td>\n      <td>4.8</td>\n      <td>1918</td>\n      <td>gypsy, smuggler, short</td>\n      <td>Carmen (1918-12)</td>\n    </tr>\n    <tr>\n      <th>...</th>\n      <td>...</td>\n      <td>...</td>\n      <td>...</td>\n      <td>...</td>\n      <td>...</td>\n      <td>...</td>\n      <td>...</td>\n      <td>...</td>\n      <td>...</td>\n      <td>...</td>\n    </tr>\n    <tr>\n      <th>44333</th>\n      <td>463906</td>\n      <td>The Saint</td>\n      <td>2017-07-11</td>\n      <td>en</td>\n      <td>[Action, Adventure, Crime]</td>\n      <td>International master thief, Simon Templar, als...</td>\n      <td>5.8</td>\n      <td>2017</td>\n      <td>the saint</td>\n      <td>The Saint (2017-07)</td>\n    </tr>\n    <tr>\n      <th>44339</th>\n      <td>428501</td>\n      <td>City of Ghosts</td>\n      <td>2017-07-14</td>\n      <td>en</td>\n      <td>[Documentary]</td>\n      <td>With unprecedented access, this documentary fo...</td>\n      <td>2.0</td>\n      <td>2017</td>\n      <td></td>\n      <td>City of Ghosts (2017-07)</td>\n    </tr>\n    <tr>\n      <th>44340</th>\n      <td>459950</td>\n      <td>Feed</td>\n      <td>2017-07-18</td>\n      <td>en</td>\n      <td>[Drama]</td>\n      <td>Olivia and Matthew Grey, 18-year-old twins bor...</td>\n      <td>7.3</td>\n      <td>2017</td>\n      <td>twins, valedictorian, eating disorder, highsch...</td>\n      <td>Feed (2017-07)</td>\n    </tr>\n    <tr>\n      <th>44341</th>\n      <td>374720</td>\n      <td>Dunkirk</td>\n      <td>2017-07-19</td>\n      <td>en</td>\n      <td>[Action, Drama, History, Thriller, War]</td>\n      <td>The miraculous evacuation of Allied soldiers f...</td>\n      <td>7.5</td>\n      <td>2017</td>\n      <td>france, beach, world war ii, evacuation, germa...</td>\n      <td>Dunkirk (2017-07)</td>\n    </tr>\n    <tr>\n      <th>44359</th>\n      <td>353491</td>\n      <td>The Dark Tower</td>\n      <td>2017-08-03</td>\n      <td>en</td>\n      <td>[Action, Western, Science Fiction, Fantasy, Ho...</td>\n      <td>The last Gunslinger, Roland Deschain, has been...</td>\n      <td>5.7</td>\n      <td>2017</td>\n      <td>gunslinger, based on novel</td>\n      <td>The Dark Tower (2017-08)</td>\n    </tr>\n  </tbody>\n</table>\n<p>3102 rows × 10 columns</p>\n</div>"
     },
     "execution_count": 20,
     "metadata": {},
     "output_type": "execute_result"
    }
   ],
   "source": [
    "df.loc[duplicate_title_and_year]"
   ],
   "metadata": {
    "collapsed": false,
    "ExecuteTime": {
     "end_time": "2024-01-04T22:28:03.068925630Z",
     "start_time": "2024-01-04T22:28:03.063369408Z"
    }
   },
   "id": "7884d757e33db931",
   "execution_count": 20
  },
  {
   "cell_type": "code",
   "outputs": [
    {
     "name": "stderr",
     "output_type": "stream",
     "text": [
      "/home/ubunbu/PycharmProjects/Movie-Recommender/venv/lib/python3.10/site-packages/sklearn/preprocessing/_label.py:900: UserWarning: unknown class(es) ['Unknown'] will be ignored\n",
      "  warnings.warn(\n"
     ]
    }
   ],
   "source": [
    "mlb = MultiLabelBinarizer(classes=all_genres)\n",
    "binary_labels_all = mlb.fit_transform(df[\"genres\"])\n",
    "\n",
    "\n",
    "mlb = MultiLabelBinarizer(classes=all_genres)\n",
    "binary_labels_netflix = mlb.fit_transform(df_combined[\"genres\"])\n",
    "genres = mlb.classes_"
   ],
   "metadata": {
    "collapsed": false,
    "ExecuteTime": {
     "end_time": "2024-01-04T22:28:03.410046636Z",
     "start_time": "2024-01-04T22:28:03.106910419Z"
    }
   },
   "id": "e0f157ade52ba120",
   "execution_count": 21
  },
  {
   "cell_type": "code",
   "outputs": [],
   "source": [
    "similarity_genre = cosine_similarity(binary_labels_all, binary_labels_netflix)"
   ],
   "metadata": {
    "collapsed": false,
    "ExecuteTime": {
     "end_time": "2024-01-04T22:30:01.491086163Z",
     "start_time": "2024-01-04T22:30:01.252287964Z"
    }
   },
   "id": "71a454f0c0eb702",
   "execution_count": 29
  },
  {
   "cell_type": "code",
   "outputs": [
    {
     "data": {
      "text/plain": "Batches:   0%|          | 0/1388 [00:00<?, ?it/s]",
      "application/vnd.jupyter.widget-view+json": {
       "version_major": 2,
       "version_minor": 0,
       "model_id": "4ee32e73d9db43eca4bed26c6e303f83"
      }
     },
     "metadata": {},
     "output_type": "display_data"
    },
    {
     "data": {
      "text/plain": "Batches:   0%|          | 0/1388 [00:00<?, ?it/s]",
      "application/vnd.jupyter.widget-view+json": {
       "version_major": 2,
       "version_minor": 0,
       "model_id": "41b9c6d6e4e14765b0f0e1b907347efb"
      }
     },
     "metadata": {},
     "output_type": "display_data"
    }
   ],
   "source": [
    "model = SentenceTransformer(\"all-mpnet-base-v2\")\n",
    "embeddings_overview = model.encode(\n",
    "    df.overview.to_numpy().astype(str), show_progress_bar=True, convert_to_numpy=True\n",
    ")\n",
    "embeddings_keywords = model.encode(\n",
    "    df.keywords.to_numpy().astype(str), show_progress_bar=True, convert_to_numpy=True\n",
    ")"
   ],
   "metadata": {
    "collapsed": false,
    "ExecuteTime": {
     "end_time": "2024-01-04T22:29:27.181070286Z",
     "start_time": "2024-01-04T22:28:03.358054968Z"
    }
   },
   "id": "577a339496c5fe7",
   "execution_count": 23
  },
  {
   "cell_type": "code",
   "outputs": [
    {
     "name": "stdout",
     "output_type": "stream",
     "text": [
      "(44395, 768) (44395, 768)\n"
     ]
    }
   ],
   "source": [
    "print(embeddings_overview.shape, embeddings_keywords.shape)"
   ],
   "metadata": {
    "collapsed": false,
    "ExecuteTime": {
     "end_time": "2024-01-04T22:29:27.228402532Z",
     "start_time": "2024-01-04T22:29:27.185255524Z"
    }
   },
   "id": "84bf1fb5153b88ae",
   "execution_count": 24
  },
  {
   "cell_type": "code",
   "outputs": [],
   "source": [
    "indices_shared = df[df.id.isin(df_combined.id)].index\n",
    "embeddings_overview_netflix = embeddings_overview[indices_shared]\n",
    "embeddings_keywords_netflix = embeddings_keywords[indices_shared]\n",
    "similarity_netflix = similarity_genre[indices_shared]"
   ],
   "metadata": {
    "collapsed": false,
    "ExecuteTime": {
     "end_time": "2024-01-04T22:29:27.232700640Z",
     "start_time": "2024-01-04T22:29:27.227598733Z"
    }
   },
   "id": "efd4faab186b7686",
   "execution_count": 25
  },
  {
   "cell_type": "code",
   "outputs": [],
   "source": [
    "similarity_embedding_overview = util.cos_sim(\n",
    "    embeddings_overview, embeddings_overview_netflix\n",
    ")\n",
    "similarity_embedding_keywords = util.cos_sim(\n",
    "    embeddings_keywords, embeddings_keywords_netflix\n",
    ")"
   ],
   "metadata": {
    "collapsed": false,
    "ExecuteTime": {
     "end_time": "2024-01-04T22:29:56.977409290Z",
     "start_time": "2024-01-04T22:29:56.314843334Z"
    }
   },
   "id": "c3f8da5d28597512",
   "execution_count": 28
  },
  {
   "cell_type": "code",
   "outputs": [],
   "source": [
    "similarity_embedding_keywords[idx_no_kw] = 0\n",
    "for idx_combined, idx_df in enumerate(indices_shared):\n",
    "    similarity_embedding_overview[idx_df][idx_combined] = -100\n",
    "    similarity_embedding_overview[idx_df][idx_combined] = -100\n",
    "    similarity_embedding_keywords[idx_df][idx_combined] = -100\n",
    "    similarity_genre[idx_df][idx_combined] = -1"
   ],
   "metadata": {
    "collapsed": false,
    "ExecuteTime": {
     "end_time": "2024-01-04T22:31:22.750449367Z",
     "start_time": "2024-01-04T22:31:22.717411424Z"
    }
   },
   "id": "42874f39d26df499",
   "execution_count": 41
  },
  {
   "cell_type": "code",
   "outputs": [],
   "source": [
    "with open(r\"./similarity_genre.npy\", \"wb\") as f:\n",
    "    np.save(f, similarity_genre)\n",
    "# with open(r\"./similarity_genre.npy\", \"rb\") as f:\n",
    "#     similarity_genre = np.load(f)"
   ],
   "metadata": {
    "collapsed": false,
    "ExecuteTime": {
     "end_time": "2024-01-04T22:30:08.027868504Z",
     "start_time": "2024-01-04T22:30:07.514974919Z"
    }
   },
   "id": "558140e7633aa6e7",
   "execution_count": 31
  },
  {
   "cell_type": "code",
   "outputs": [],
   "source": [
    "with open(r\"./embeddings_overview.npy\", \"wb\") as f:\n",
    "    np.save(f, embeddings_overview)\n",
    "#\n",
    "# with open(r\"./embeddings_keywords.npy\", \"rb\") as f:\n",
    "#     embeddings_overview = np.load(f)"
   ],
   "metadata": {
    "collapsed": false,
    "ExecuteTime": {
     "end_time": "2024-01-04T22:30:08.141099044Z",
     "start_time": "2024-01-04T22:30:08.029677215Z"
    }
   },
   "id": "7c05d2929f502a49",
   "execution_count": 32
  },
  {
   "cell_type": "code",
   "outputs": [],
   "source": [
    "with open(r\"./similarity_embedding_overview.npy\", \"wb\") as f:\n",
    "    np.save(f, similarity_embedding_overview)\n",
    "#\n",
    "# with open(r\"./similarity_embedding_overview.npy\", \"rb\") as f:\n",
    "#     similarity_embedding_overview = np.load(f)"
   ],
   "metadata": {
    "collapsed": false,
    "ExecuteTime": {
     "end_time": "2024-01-04T22:30:08.786030221Z",
     "start_time": "2024-01-04T22:30:08.537978509Z"
    }
   },
   "id": "dbe9bdac09ab538d",
   "execution_count": 33
  },
  {
   "cell_type": "code",
   "outputs": [],
   "source": [
    "with open(r\"./similarity_embedding_keywords.npy\", \"wb\") as f:\n",
    "    np.save(f, similarity_embedding_keywords)\n",
    "#\n",
    "# with open(r\"./similarity_embedding_overview.npy\", \"rb\") as f:\n",
    "#     similarity_embedding_keywords = np.load(f)"
   ],
   "metadata": {
    "collapsed": false,
    "ExecuteTime": {
     "end_time": "2024-01-04T22:30:09.939234282Z",
     "start_time": "2024-01-04T22:30:09.680277806Z"
    }
   },
   "id": "e50fcc4407d28c57",
   "execution_count": 34
  },
  {
   "cell_type": "code",
   "outputs": [],
   "source": [
    "Path(\"./custom_csv\").mkdir(parents=True, exist_ok=True)\n",
    "df.to_csv(\"./custom_csv/movies_cleaned.csv\")\n",
    "df_combined.to_csv(\"./custom_csv/movies_combined.csv\")"
   ],
   "metadata": {
    "collapsed": false,
    "ExecuteTime": {
     "end_time": "2024-01-04T22:30:11.036278458Z",
     "start_time": "2024-01-04T22:30:10.651765964Z"
    }
   },
   "id": "3ba3b97ad4df8c59",
   "execution_count": 35
  },
  {
   "cell_type": "code",
   "outputs": [],
   "source": [
    "df = pd.read_csv(\"./custom_csv/movies_cleaned.csv\")\n",
    "df_combined = pd.read_csv(\"./custom_csv/movies_combined.csv\")"
   ],
   "metadata": {
    "collapsed": false,
    "ExecuteTime": {
     "end_time": "2024-01-04T22:30:12.636842293Z",
     "start_time": "2024-01-04T22:30:12.430208189Z"
    }
   },
   "id": "943d4d644ea9fb04",
   "execution_count": 36
  },
  {
   "cell_type": "code",
   "outputs": [
    {
     "data": {
      "text/plain": "24243    The Lord of the Rings: The Return of the King\nName: title, dtype: object"
     },
     "execution_count": 37,
     "metadata": {},
     "output_type": "execute_result"
    }
   ],
   "source": [
    "df[\"title\"][df.title == \"The Lord of the Rings: The Return of the King\"]"
   ],
   "metadata": {
    "collapsed": false,
    "ExecuteTime": {
     "end_time": "2024-01-04T22:30:16.102305980Z",
     "start_time": "2024-01-04T22:30:16.098155054Z"
    }
   },
   "id": "d2448806117dc067",
   "execution_count": 37
  },
  {
   "cell_type": "code",
   "outputs": [],
   "source": [
    "movie_number = 24243"
   ],
   "metadata": {
    "collapsed": false,
    "ExecuteTime": {
     "end_time": "2024-01-04T22:30:16.857608005Z",
     "start_time": "2024-01-04T22:30:16.852615178Z"
    }
   },
   "id": "3f63529058f753f8",
   "execution_count": 38
  },
  {
   "cell_type": "code",
   "outputs": [
    {
     "name": "stdout",
     "output_type": "stream",
     "text": [
      "The Lord of the Rings: The Return of the King \n",
      "====\n",
      " ['Adventure', 'Fantasy', 'Action'] \n",
      "====\n",
      " elves, orcs, middle-earth (tolkien), based on novel, suspicion, bravery, war, honor, troll, brutality, violence, ghost, end of trilogy, quest, sword and sorcery \n",
      "====\n"
     ]
    },
    {
     "data": {
      "text/plain": "      Unnamed: 0      id                                             title  \\\n364          364     121             The Lord of the Rings: The Two Towers   \n1695        1695  451644             Dragonheart: Battle for the Heartfire   \n757          757   10196                                The Last Airbender   \n1374        1374  263341  Crouching Tiger, Hidden Dragon: Sword of Destiny   \n1454        1454  390734                     Kingsglaive: Final Fantasy XV   \n...          ...     ...                                               ...   \n110          110   14733                              Bill Hicks: Sane Man   \n1401        1401  390293                                              Bugs   \n1385        1385  376570                                              Hush   \n400          400   21542                           Love Don't Cost a Thing   \n397          397     122     The Lord of the Rings: The Return of the King   \n\n     release_date original_language  \\\n364    2002-12-18                en   \n1695   2017-06-13                en   \n757    2010-06-30                en   \n1374   2016-02-18                en   \n1454   2016-07-09                ja   \n...           ...               ...   \n110    1989-12-01                en   \n1401   2016-04-16                da   \n1385   2016-03-12                en   \n400    2003-12-12                en   \n397    2003-12-01                en   \n\n                                                 genres  \\\n364                  ['Adventure', 'Fantasy', 'Action']   \n1695                                      ['Adventure']   \n757        ['Action', 'Adventure', 'Family', 'Fantasy']   \n1374                   ['Action', 'Adventure', 'Drama']   \n1454  ['Action', 'Animation', 'Adventure', 'Drama', ...   \n...                                                 ...   \n110                                          ['Comedy']   \n1401                                    ['Documentary']   \n1385                             ['Horror', 'Thriller']   \n400            ['Comedy', 'Drama', 'Family', 'Romance']   \n397                  ['Adventure', 'Fantasy', 'Action']   \n\n                                               overview  vote_average  \\\n364   Frodo and Sam are trekking to Mordor to destro...           8.0   \n1695  When the King Gareth dies, his potential heirs...           5.7   \n757   The story follows the adventures of Aang, a yo...           4.7   \n1374  A story of lost love, young love, a legendary ...           6.0   \n1454  The magical kingdom of Lucis is home to the wo...           6.8   \n...                                                 ...           ...   \n110   The amazing comedian Bill Hicks passed away in...           8.2   \n1401  Although scientists and agribusiness have star...           0.0   \n1385  A deaf woman is stalked by a psychotic killer ...           6.9   \n400   High school loser (Cannon) pays a cheerleader ...           5.4   \n397   Aragorn is revealed as the heir to the ancient...           8.1   \n\n      release_year                                           keywords  \\\n364           2002  elves, orcs, middle-earth (tolkien), hobbit, b...   \n1695          2017                                            dragons   \n757           2010  fire, ice, war ship, prince, kingdom, water, v...   \n1374          2016                                martial arts, wuxia   \n1454          2016    fight, cgi, based on video game, warrior, anime   \n...            ...                                                ...   \n110           1989  comedian, honesty, stand-up comedy, cult comed...   \n1401          2016                            food, sustainable, bugs   \n1385          2016  deaf-mute, knife, computer, alone, murder, mut...   \n400           2003                                     woman director   \n397           2003  elves, orcs, middle-earth (tolkien), based on ...   \n\n                                           title_dated  \n364              The Lord of the Rings: The Two Towers  \n1695             Dragonheart: Battle for the Heartfire  \n757                                 The Last Airbender  \n1374  Crouching Tiger, Hidden Dragon: Sword of Destiny  \n1454                     Kingsglaive: Final Fantasy XV  \n...                                                ...  \n110                               Bill Hicks: Sane Man  \n1401                                              Bugs  \n1385                                    Hush (2016-03)  \n400                            Love Don't Cost a Thing  \n397      The Lord of the Rings: The Return of the King  \n\n[1723 rows x 11 columns]",
      "text/html": "<div>\n<style scoped>\n    .dataframe tbody tr th:only-of-type {\n        vertical-align: middle;\n    }\n\n    .dataframe tbody tr th {\n        vertical-align: top;\n    }\n\n    .dataframe thead th {\n        text-align: right;\n    }\n</style>\n<table border=\"1\" class=\"dataframe\">\n  <thead>\n    <tr style=\"text-align: right;\">\n      <th></th>\n      <th>Unnamed: 0</th>\n      <th>id</th>\n      <th>title</th>\n      <th>release_date</th>\n      <th>original_language</th>\n      <th>genres</th>\n      <th>overview</th>\n      <th>vote_average</th>\n      <th>release_year</th>\n      <th>keywords</th>\n      <th>title_dated</th>\n    </tr>\n  </thead>\n  <tbody>\n    <tr>\n      <th>364</th>\n      <td>364</td>\n      <td>121</td>\n      <td>The Lord of the Rings: The Two Towers</td>\n      <td>2002-12-18</td>\n      <td>en</td>\n      <td>['Adventure', 'Fantasy', 'Action']</td>\n      <td>Frodo and Sam are trekking to Mordor to destro...</td>\n      <td>8.0</td>\n      <td>2002</td>\n      <td>elves, orcs, middle-earth (tolkien), hobbit, b...</td>\n      <td>The Lord of the Rings: The Two Towers</td>\n    </tr>\n    <tr>\n      <th>1695</th>\n      <td>1695</td>\n      <td>451644</td>\n      <td>Dragonheart: Battle for the Heartfire</td>\n      <td>2017-06-13</td>\n      <td>en</td>\n      <td>['Adventure']</td>\n      <td>When the King Gareth dies, his potential heirs...</td>\n      <td>5.7</td>\n      <td>2017</td>\n      <td>dragons</td>\n      <td>Dragonheart: Battle for the Heartfire</td>\n    </tr>\n    <tr>\n      <th>757</th>\n      <td>757</td>\n      <td>10196</td>\n      <td>The Last Airbender</td>\n      <td>2010-06-30</td>\n      <td>en</td>\n      <td>['Action', 'Adventure', 'Family', 'Fantasy']</td>\n      <td>The story follows the adventures of Aang, a yo...</td>\n      <td>4.7</td>\n      <td>2010</td>\n      <td>fire, ice, war ship, prince, kingdom, water, v...</td>\n      <td>The Last Airbender</td>\n    </tr>\n    <tr>\n      <th>1374</th>\n      <td>1374</td>\n      <td>263341</td>\n      <td>Crouching Tiger, Hidden Dragon: Sword of Destiny</td>\n      <td>2016-02-18</td>\n      <td>en</td>\n      <td>['Action', 'Adventure', 'Drama']</td>\n      <td>A story of lost love, young love, a legendary ...</td>\n      <td>6.0</td>\n      <td>2016</td>\n      <td>martial arts, wuxia</td>\n      <td>Crouching Tiger, Hidden Dragon: Sword of Destiny</td>\n    </tr>\n    <tr>\n      <th>1454</th>\n      <td>1454</td>\n      <td>390734</td>\n      <td>Kingsglaive: Final Fantasy XV</td>\n      <td>2016-07-09</td>\n      <td>ja</td>\n      <td>['Action', 'Animation', 'Adventure', 'Drama', ...</td>\n      <td>The magical kingdom of Lucis is home to the wo...</td>\n      <td>6.8</td>\n      <td>2016</td>\n      <td>fight, cgi, based on video game, warrior, anime</td>\n      <td>Kingsglaive: Final Fantasy XV</td>\n    </tr>\n    <tr>\n      <th>...</th>\n      <td>...</td>\n      <td>...</td>\n      <td>...</td>\n      <td>...</td>\n      <td>...</td>\n      <td>...</td>\n      <td>...</td>\n      <td>...</td>\n      <td>...</td>\n      <td>...</td>\n      <td>...</td>\n    </tr>\n    <tr>\n      <th>110</th>\n      <td>110</td>\n      <td>14733</td>\n      <td>Bill Hicks: Sane Man</td>\n      <td>1989-12-01</td>\n      <td>en</td>\n      <td>['Comedy']</td>\n      <td>The amazing comedian Bill Hicks passed away in...</td>\n      <td>8.2</td>\n      <td>1989</td>\n      <td>comedian, honesty, stand-up comedy, cult comed...</td>\n      <td>Bill Hicks: Sane Man</td>\n    </tr>\n    <tr>\n      <th>1401</th>\n      <td>1401</td>\n      <td>390293</td>\n      <td>Bugs</td>\n      <td>2016-04-16</td>\n      <td>da</td>\n      <td>['Documentary']</td>\n      <td>Although scientists and agribusiness have star...</td>\n      <td>0.0</td>\n      <td>2016</td>\n      <td>food, sustainable, bugs</td>\n      <td>Bugs</td>\n    </tr>\n    <tr>\n      <th>1385</th>\n      <td>1385</td>\n      <td>376570</td>\n      <td>Hush</td>\n      <td>2016-03-12</td>\n      <td>en</td>\n      <td>['Horror', 'Thriller']</td>\n      <td>A deaf woman is stalked by a psychotic killer ...</td>\n      <td>6.9</td>\n      <td>2016</td>\n      <td>deaf-mute, knife, computer, alone, murder, mut...</td>\n      <td>Hush (2016-03)</td>\n    </tr>\n    <tr>\n      <th>400</th>\n      <td>400</td>\n      <td>21542</td>\n      <td>Love Don't Cost a Thing</td>\n      <td>2003-12-12</td>\n      <td>en</td>\n      <td>['Comedy', 'Drama', 'Family', 'Romance']</td>\n      <td>High school loser (Cannon) pays a cheerleader ...</td>\n      <td>5.4</td>\n      <td>2003</td>\n      <td>woman director</td>\n      <td>Love Don't Cost a Thing</td>\n    </tr>\n    <tr>\n      <th>397</th>\n      <td>397</td>\n      <td>122</td>\n      <td>The Lord of the Rings: The Return of the King</td>\n      <td>2003-12-01</td>\n      <td>en</td>\n      <td>['Adventure', 'Fantasy', 'Action']</td>\n      <td>Aragorn is revealed as the heir to the ancient...</td>\n      <td>8.1</td>\n      <td>2003</td>\n      <td>elves, orcs, middle-earth (tolkien), based on ...</td>\n      <td>The Lord of the Rings: The Return of the King</td>\n    </tr>\n  </tbody>\n</table>\n<p>1723 rows × 11 columns</p>\n</div>"
     },
     "execution_count": 39,
     "metadata": {},
     "output_type": "execute_result"
    }
   ],
   "source": [
    "top_ten = reversed(similarity_embedding_overview[movie_number].argsort())\n",
    "print(\n",
    "    df[\"title\"][movie_number],\n",
    "    \"\\n====\\n\",\n",
    "    df[\"genres\"][movie_number],\n",
    "    \"\\n====\\n\",\n",
    "    df[\"keywords\"][movie_number],\n",
    "    \"\\n====\\n\",\n",
    ")\n",
    "\n",
    "df_combined.loc[top_ten]"
   ],
   "metadata": {
    "collapsed": false,
    "ExecuteTime": {
     "end_time": "2024-01-04T22:30:17.733749075Z",
     "start_time": "2024-01-04T22:30:17.707379347Z"
    }
   },
   "id": "4a63d477ce225658",
   "execution_count": 39
  },
  {
   "cell_type": "code",
   "outputs": [
    {
     "name": "stdout",
     "output_type": "stream",
     "text": [
      "The Lord of the Rings: The Return of the King\n",
      "====\n",
      "['Adventure', 'Fantasy', 'Action']\n",
      "====\n",
      "elves, orcs, middle-earth (tolkien), based on novel, suspicion, bravery, war, honor, troll, brutality, violence, ghost, end of trilogy, quest, sword and sorcery\n",
      "====\n"
     ]
    },
    {
     "data": {
      "text/plain": "      Unnamed: 0      id                                          title  \\\n364          364     121          The Lord of the Rings: The Two Towers   \n895          895   62764                                  Mirror Mirror   \n544          544    2270                                       Stardust   \n564          564    2310                                        Beowulf   \n1171        1171   68737                                    Seventh Son   \n...          ...     ...                                            ...   \n720          720   20504                                The Book of Eli   \n682          682   19905                The Goods: Live Hard, Sell Hard   \n1123        1123  286521                                   5 Flights Up   \n1500        1500  397717                                          Barry   \n397          397     122  The Lord of the Rings: The Return of the King   \n\n     release_date original_language  \\\n364    2002-12-18                en   \n895    2012-03-15                en   \n544    2007-08-09                en   \n564    2007-11-05                en   \n1171   2014-12-12                en   \n...           ...               ...   \n720    2010-01-14                en   \n682    2009-08-14                en   \n1123   2014-09-05                en   \n1500   2016-09-10                en   \n397    2003-12-01                en   \n\n                                                 genres  \\\n364                  ['Adventure', 'Fantasy', 'Action']   \n895   ['Adventure', 'Fantasy', 'Drama', 'Comedy', 'S...   \n544       ['Adventure', 'Fantasy', 'Romance', 'Family']   \n564                ['Adventure', 'Action', 'Animation']   \n1171                           ['Adventure', 'Fantasy']   \n...                                                 ...   \n720           ['Action', 'Thriller', 'Science Fiction']   \n682                                          ['Comedy']   \n1123                                          ['Drama']   \n1500                                          ['Drama']   \n397                  ['Adventure', 'Fantasy', 'Action']   \n\n                                               overview  vote_average  \\\n364   Frodo and Sam are trekking to Mordor to destro...           8.0   \n895   After she spends all her money, an evil enchan...           5.5   \n544   In a countryside town bordering on a magical l...           7.2   \n564   6th-century Scandinavian warrior, Beowulf emba...           5.5   \n1171  John Gregory, who is a seventh son of a sevent...           5.2   \n...                                                 ...           ...   \n720   A post-apocalyptic tale, in which a lone man f...           6.6   \n682   Who is Don Ready? Salesman? Lover? Song Stylis...           5.4   \n1123  A long-time married couple who've spent their ...           5.9   \n1500  A biopic of Barack Obama set during his time a...           5.1   \n397   Aragorn is revealed as the heir to the ancient...           8.1   \n\n      release_year                                           keywords  \\\n364           2002  elves, orcs, middle-earth (tolkien), hobbit, b...   \n895           2012  attempted murder, fairy tale, black magic, coc...   \n544           2007  witch, based on novel, new love, prince, beaut...   \n564           2007  denmark, nordic mythology, lie, pride and vani...   \n1171          2014  magic, chosen one, dark fantasy, witch hunter,...   \n...            ...                                                ...   \n720           2010     book, post-apocalyptic, dystopia, faith, blind   \n682           2009                               duringcreditsstinger   \n1123          2014  new york, married couple, moving out, moving, ...   \n1500          2016                     new york city, college student   \n397           2003  elves, orcs, middle-earth (tolkien), based on ...   \n\n                                        title_dated  \n364           The Lord of the Rings: The Two Towers  \n895                         Mirror Mirror (2012-03)  \n544                              Stardust (2007-08)  \n564                               Beowulf (2007-11)  \n1171                                    Seventh Son  \n...                                             ...  \n720                                 The Book of Eli  \n682                 The Goods: Live Hard, Sell Hard  \n1123                                   5 Flights Up  \n1500                                          Barry  \n397   The Lord of the Rings: The Return of the King  \n\n[1723 rows x 11 columns]",
      "text/html": "<div>\n<style scoped>\n    .dataframe tbody tr th:only-of-type {\n        vertical-align: middle;\n    }\n\n    .dataframe tbody tr th {\n        vertical-align: top;\n    }\n\n    .dataframe thead th {\n        text-align: right;\n    }\n</style>\n<table border=\"1\" class=\"dataframe\">\n  <thead>\n    <tr style=\"text-align: right;\">\n      <th></th>\n      <th>Unnamed: 0</th>\n      <th>id</th>\n      <th>title</th>\n      <th>release_date</th>\n      <th>original_language</th>\n      <th>genres</th>\n      <th>overview</th>\n      <th>vote_average</th>\n      <th>release_year</th>\n      <th>keywords</th>\n      <th>title_dated</th>\n    </tr>\n  </thead>\n  <tbody>\n    <tr>\n      <th>364</th>\n      <td>364</td>\n      <td>121</td>\n      <td>The Lord of the Rings: The Two Towers</td>\n      <td>2002-12-18</td>\n      <td>en</td>\n      <td>['Adventure', 'Fantasy', 'Action']</td>\n      <td>Frodo and Sam are trekking to Mordor to destro...</td>\n      <td>8.0</td>\n      <td>2002</td>\n      <td>elves, orcs, middle-earth (tolkien), hobbit, b...</td>\n      <td>The Lord of the Rings: The Two Towers</td>\n    </tr>\n    <tr>\n      <th>895</th>\n      <td>895</td>\n      <td>62764</td>\n      <td>Mirror Mirror</td>\n      <td>2012-03-15</td>\n      <td>en</td>\n      <td>['Adventure', 'Fantasy', 'Drama', 'Comedy', 'S...</td>\n      <td>After she spends all her money, an evil enchan...</td>\n      <td>5.5</td>\n      <td>2012</td>\n      <td>attempted murder, fairy tale, black magic, coc...</td>\n      <td>Mirror Mirror (2012-03)</td>\n    </tr>\n    <tr>\n      <th>544</th>\n      <td>544</td>\n      <td>2270</td>\n      <td>Stardust</td>\n      <td>2007-08-09</td>\n      <td>en</td>\n      <td>['Adventure', 'Fantasy', 'Romance', 'Family']</td>\n      <td>In a countryside town bordering on a magical l...</td>\n      <td>7.2</td>\n      <td>2007</td>\n      <td>witch, based on novel, new love, prince, beaut...</td>\n      <td>Stardust (2007-08)</td>\n    </tr>\n    <tr>\n      <th>564</th>\n      <td>564</td>\n      <td>2310</td>\n      <td>Beowulf</td>\n      <td>2007-11-05</td>\n      <td>en</td>\n      <td>['Adventure', 'Action', 'Animation']</td>\n      <td>6th-century Scandinavian warrior, Beowulf emba...</td>\n      <td>5.5</td>\n      <td>2007</td>\n      <td>denmark, nordic mythology, lie, pride and vani...</td>\n      <td>Beowulf (2007-11)</td>\n    </tr>\n    <tr>\n      <th>1171</th>\n      <td>1171</td>\n      <td>68737</td>\n      <td>Seventh Son</td>\n      <td>2014-12-12</td>\n      <td>en</td>\n      <td>['Adventure', 'Fantasy']</td>\n      <td>John Gregory, who is a seventh son of a sevent...</td>\n      <td>5.2</td>\n      <td>2014</td>\n      <td>magic, chosen one, dark fantasy, witch hunter,...</td>\n      <td>Seventh Son</td>\n    </tr>\n    <tr>\n      <th>...</th>\n      <td>...</td>\n      <td>...</td>\n      <td>...</td>\n      <td>...</td>\n      <td>...</td>\n      <td>...</td>\n      <td>...</td>\n      <td>...</td>\n      <td>...</td>\n      <td>...</td>\n      <td>...</td>\n    </tr>\n    <tr>\n      <th>720</th>\n      <td>720</td>\n      <td>20504</td>\n      <td>The Book of Eli</td>\n      <td>2010-01-14</td>\n      <td>en</td>\n      <td>['Action', 'Thriller', 'Science Fiction']</td>\n      <td>A post-apocalyptic tale, in which a lone man f...</td>\n      <td>6.6</td>\n      <td>2010</td>\n      <td>book, post-apocalyptic, dystopia, faith, blind</td>\n      <td>The Book of Eli</td>\n    </tr>\n    <tr>\n      <th>682</th>\n      <td>682</td>\n      <td>19905</td>\n      <td>The Goods: Live Hard, Sell Hard</td>\n      <td>2009-08-14</td>\n      <td>en</td>\n      <td>['Comedy']</td>\n      <td>Who is Don Ready? Salesman? Lover? Song Stylis...</td>\n      <td>5.4</td>\n      <td>2009</td>\n      <td>duringcreditsstinger</td>\n      <td>The Goods: Live Hard, Sell Hard</td>\n    </tr>\n    <tr>\n      <th>1123</th>\n      <td>1123</td>\n      <td>286521</td>\n      <td>5 Flights Up</td>\n      <td>2014-09-05</td>\n      <td>en</td>\n      <td>['Drama']</td>\n      <td>A long-time married couple who've spent their ...</td>\n      <td>5.9</td>\n      <td>2014</td>\n      <td>new york, married couple, moving out, moving, ...</td>\n      <td>5 Flights Up</td>\n    </tr>\n    <tr>\n      <th>1500</th>\n      <td>1500</td>\n      <td>397717</td>\n      <td>Barry</td>\n      <td>2016-09-10</td>\n      <td>en</td>\n      <td>['Drama']</td>\n      <td>A biopic of Barack Obama set during his time a...</td>\n      <td>5.1</td>\n      <td>2016</td>\n      <td>new york city, college student</td>\n      <td>Barry</td>\n    </tr>\n    <tr>\n      <th>397</th>\n      <td>397</td>\n      <td>122</td>\n      <td>The Lord of the Rings: The Return of the King</td>\n      <td>2003-12-01</td>\n      <td>en</td>\n      <td>['Adventure', 'Fantasy', 'Action']</td>\n      <td>Aragorn is revealed as the heir to the ancient...</td>\n      <td>8.1</td>\n      <td>2003</td>\n      <td>elves, orcs, middle-earth (tolkien), based on ...</td>\n      <td>The Lord of the Rings: The Return of the King</td>\n    </tr>\n  </tbody>\n</table>\n<p>1723 rows × 11 columns</p>\n</div>"
     },
     "execution_count": 42,
     "metadata": {},
     "output_type": "execute_result"
    }
   ],
   "source": [
    "top_ten = reversed(similarity_embedding_keywords[movie_number].argsort())\n",
    "print(\n",
    "    df[\"title\"][movie_number],\n",
    "    \"====\",\n",
    "    df[\"genres\"][movie_number],\n",
    "    \"====\",\n",
    "    df[\"keywords\"][movie_number],\n",
    "    \"====\",\n",
    "    sep=\"\\n\",\n",
    ")\n",
    "\n",
    "df_combined.loc[top_ten]"
   ],
   "metadata": {
    "collapsed": false,
    "ExecuteTime": {
     "end_time": "2024-01-04T22:31:25.863438489Z",
     "start_time": "2024-01-04T22:31:25.853065522Z"
    }
   },
   "id": "541a7cb0845d1ddc",
   "execution_count": 42
  },
  {
   "cell_type": "code",
   "outputs": [
    {
     "name": "stdout",
     "output_type": "stream",
     "text": [
      "The Lord of the Rings: The Return of the King \n",
      "====\n",
      " ['Adventure', 'Fantasy', 'Action'] \n",
      "====\n",
      " elves, orcs, middle-earth (tolkien), based on novel, suspicion, bravery, war, honor, troll, brutality, violence, ghost, end of trilogy, quest, sword and sorcery \n",
      "====\n"
     ]
    },
    {
     "data": {
      "text/plain": "      Unnamed: 0      id                                          title  \\\n801          801   23047                            Season of the Witch   \n585          585    1729                          The Forbidden Kingdom   \n1478        1478  396643                                  A Flying Jatt   \n741          741   18823                            Clash of the Titans   \n535          535     559                                   Spider-Man 3   \n...          ...     ...                                            ...   \n1097        1097  266285                                  The Salvation   \n1098        1098  273997     Stop at Nothing: The Lance Armstrong Story   \n1099        1099  273641                                 Bad Grandpa .5   \n0              0   56143                           The Battle of Midway   \n397          397     122  The Lord of the Rings: The Return of the King   \n\n     release_date original_language                              genres  \\\n801    2011-01-07                en  ['Adventure', 'Fantasy', 'Action']   \n585    2008-04-18                en  ['Action', 'Adventure', 'Fantasy']   \n1478   2016-08-25                hi  ['Fantasy', 'Action', 'Adventure']   \n741    2010-04-01                en  ['Adventure', 'Fantasy', 'Action']   \n535    2007-05-01                en  ['Fantasy', 'Action', 'Adventure']   \n...           ...               ...                                 ...   \n1097   2014-05-22                da                ['Drama', 'Western']   \n1098   2014-05-27                en                     ['Documentary']   \n1099   2014-06-03                en                          ['Comedy']   \n0      1942-09-14                en              ['Documentary', 'War']   \n397    2003-12-01                en  ['Adventure', 'Fantasy', 'Action']   \n\n                                               overview  vote_average  \\\n801   A 14th century Crusader returns with his comra...           5.2   \n585   An American teenager who is obsessed with Hong...           6.3   \n1478  Jatt is a reluctant super hero that fights cri...           3.8   \n741   Born of a god but raised as a man, Perseus is ...           5.6   \n535   The seemingly invincible Spider-Man goes up ag...           5.9   \n...                                                 ...           ...   \n1097  In 1870s America, a peaceful American settler ...           6.2   \n1098  A portrait of the man behind the greatest frau...           7.0   \n1099  Bad Grandpa .5 gives you a whole new perspecti...           5.8   \n0     The Japanese attack on Midway in June 1942, fi...           4.7   \n397   Aragorn is revealed as the heir to the ancient...           8.1   \n\n      release_year                                           keywords  \\\n801           2011  inquisition, monk, ambush, witch, hero, fight,...   \n585           2008  tempel, shaolin, teenager, urination, staff, w...   \n1478          2016                                                NaN   \n741           2010  hades, mythology, greek mythology, zeus, medus...   \n535           2007  dual identity, amnesia, sandstorm, love of one...   \n...            ...                                                ...   \n1097          2014  revenge, murder, mute, oil, gang, shootout, train   \n1098          2014                                                NaN   \n1099          2014                                       mtv, jackass   \n0             1942                                                NaN   \n397           2003  elves, orcs, middle-earth (tolkien), based on ...   \n\n                                        title_dated  \n801                             Season of the Witch  \n585                           The Forbidden Kingdom  \n1478                                  A Flying Jatt  \n741                   Clash of the Titans (2010-04)  \n535                                    Spider-Man 3  \n...                                             ...  \n1097                                  The Salvation  \n1098     Stop at Nothing: The Lance Armstrong Story  \n1099                                 Bad Grandpa .5  \n0                              The Battle of Midway  \n397   The Lord of the Rings: The Return of the King  \n\n[1723 rows x 11 columns]",
      "text/html": "<div>\n<style scoped>\n    .dataframe tbody tr th:only-of-type {\n        vertical-align: middle;\n    }\n\n    .dataframe tbody tr th {\n        vertical-align: top;\n    }\n\n    .dataframe thead th {\n        text-align: right;\n    }\n</style>\n<table border=\"1\" class=\"dataframe\">\n  <thead>\n    <tr style=\"text-align: right;\">\n      <th></th>\n      <th>Unnamed: 0</th>\n      <th>id</th>\n      <th>title</th>\n      <th>release_date</th>\n      <th>original_language</th>\n      <th>genres</th>\n      <th>overview</th>\n      <th>vote_average</th>\n      <th>release_year</th>\n      <th>keywords</th>\n      <th>title_dated</th>\n    </tr>\n  </thead>\n  <tbody>\n    <tr>\n      <th>801</th>\n      <td>801</td>\n      <td>23047</td>\n      <td>Season of the Witch</td>\n      <td>2011-01-07</td>\n      <td>en</td>\n      <td>['Adventure', 'Fantasy', 'Action']</td>\n      <td>A 14th century Crusader returns with his comra...</td>\n      <td>5.2</td>\n      <td>2011</td>\n      <td>inquisition, monk, ambush, witch, hero, fight,...</td>\n      <td>Season of the Witch</td>\n    </tr>\n    <tr>\n      <th>585</th>\n      <td>585</td>\n      <td>1729</td>\n      <td>The Forbidden Kingdom</td>\n      <td>2008-04-18</td>\n      <td>en</td>\n      <td>['Action', 'Adventure', 'Fantasy']</td>\n      <td>An American teenager who is obsessed with Hong...</td>\n      <td>6.3</td>\n      <td>2008</td>\n      <td>tempel, shaolin, teenager, urination, staff, w...</td>\n      <td>The Forbidden Kingdom</td>\n    </tr>\n    <tr>\n      <th>1478</th>\n      <td>1478</td>\n      <td>396643</td>\n      <td>A Flying Jatt</td>\n      <td>2016-08-25</td>\n      <td>hi</td>\n      <td>['Fantasy', 'Action', 'Adventure']</td>\n      <td>Jatt is a reluctant super hero that fights cri...</td>\n      <td>3.8</td>\n      <td>2016</td>\n      <td>NaN</td>\n      <td>A Flying Jatt</td>\n    </tr>\n    <tr>\n      <th>741</th>\n      <td>741</td>\n      <td>18823</td>\n      <td>Clash of the Titans</td>\n      <td>2010-04-01</td>\n      <td>en</td>\n      <td>['Adventure', 'Fantasy', 'Action']</td>\n      <td>Born of a god but raised as a man, Perseus is ...</td>\n      <td>5.6</td>\n      <td>2010</td>\n      <td>hades, mythology, greek mythology, zeus, medus...</td>\n      <td>Clash of the Titans (2010-04)</td>\n    </tr>\n    <tr>\n      <th>535</th>\n      <td>535</td>\n      <td>559</td>\n      <td>Spider-Man 3</td>\n      <td>2007-05-01</td>\n      <td>en</td>\n      <td>['Fantasy', 'Action', 'Adventure']</td>\n      <td>The seemingly invincible Spider-Man goes up ag...</td>\n      <td>5.9</td>\n      <td>2007</td>\n      <td>dual identity, amnesia, sandstorm, love of one...</td>\n      <td>Spider-Man 3</td>\n    </tr>\n    <tr>\n      <th>...</th>\n      <td>...</td>\n      <td>...</td>\n      <td>...</td>\n      <td>...</td>\n      <td>...</td>\n      <td>...</td>\n      <td>...</td>\n      <td>...</td>\n      <td>...</td>\n      <td>...</td>\n      <td>...</td>\n    </tr>\n    <tr>\n      <th>1097</th>\n      <td>1097</td>\n      <td>266285</td>\n      <td>The Salvation</td>\n      <td>2014-05-22</td>\n      <td>da</td>\n      <td>['Drama', 'Western']</td>\n      <td>In 1870s America, a peaceful American settler ...</td>\n      <td>6.2</td>\n      <td>2014</td>\n      <td>revenge, murder, mute, oil, gang, shootout, train</td>\n      <td>The Salvation</td>\n    </tr>\n    <tr>\n      <th>1098</th>\n      <td>1098</td>\n      <td>273997</td>\n      <td>Stop at Nothing: The Lance Armstrong Story</td>\n      <td>2014-05-27</td>\n      <td>en</td>\n      <td>['Documentary']</td>\n      <td>A portrait of the man behind the greatest frau...</td>\n      <td>7.0</td>\n      <td>2014</td>\n      <td>NaN</td>\n      <td>Stop at Nothing: The Lance Armstrong Story</td>\n    </tr>\n    <tr>\n      <th>1099</th>\n      <td>1099</td>\n      <td>273641</td>\n      <td>Bad Grandpa .5</td>\n      <td>2014-06-03</td>\n      <td>en</td>\n      <td>['Comedy']</td>\n      <td>Bad Grandpa .5 gives you a whole new perspecti...</td>\n      <td>5.8</td>\n      <td>2014</td>\n      <td>mtv, jackass</td>\n      <td>Bad Grandpa .5</td>\n    </tr>\n    <tr>\n      <th>0</th>\n      <td>0</td>\n      <td>56143</td>\n      <td>The Battle of Midway</td>\n      <td>1942-09-14</td>\n      <td>en</td>\n      <td>['Documentary', 'War']</td>\n      <td>The Japanese attack on Midway in June 1942, fi...</td>\n      <td>4.7</td>\n      <td>1942</td>\n      <td>NaN</td>\n      <td>The Battle of Midway</td>\n    </tr>\n    <tr>\n      <th>397</th>\n      <td>397</td>\n      <td>122</td>\n      <td>The Lord of the Rings: The Return of the King</td>\n      <td>2003-12-01</td>\n      <td>en</td>\n      <td>['Adventure', 'Fantasy', 'Action']</td>\n      <td>Aragorn is revealed as the heir to the ancient...</td>\n      <td>8.1</td>\n      <td>2003</td>\n      <td>elves, orcs, middle-earth (tolkien), based on ...</td>\n      <td>The Lord of the Rings: The Return of the King</td>\n    </tr>\n  </tbody>\n</table>\n<p>1723 rows × 11 columns</p>\n</div>"
     },
     "execution_count": 43,
     "metadata": {},
     "output_type": "execute_result"
    }
   ],
   "source": [
    "top_ten = reversed(similarity_genre[movie_number].argsort())\n",
    "print(\n",
    "    df[\"title\"][movie_number],\n",
    "    \"\\n====\\n\",\n",
    "    df[\"genres\"][movie_number],\n",
    "    \"\\n====\\n\",\n",
    "    df[\"keywords\"][movie_number],\n",
    "    \"\\n====\\n\",\n",
    ")\n",
    "\n",
    "df_combined.loc[top_ten]"
   ],
   "metadata": {
    "collapsed": false,
    "ExecuteTime": {
     "end_time": "2024-01-04T22:31:59.964213546Z",
     "start_time": "2024-01-04T22:31:59.922815769Z"
    }
   },
   "id": "611af172404c58f1",
   "execution_count": 43
  },
  {
   "cell_type": "code",
   "outputs": [],
   "source": [
    "combined_similarity = (\n",
    "    similarity_genre * 0.5\n",
    "    + similarity_embedding_keywords.numpy()\n",
    "    + similarity_embedding_overview.numpy()\n",
    ")"
   ],
   "metadata": {
    "collapsed": false,
    "ExecuteTime": {
     "end_time": "2024-01-04T22:33:06.904824323Z",
     "start_time": "2024-01-04T22:33:06.709611737Z"
    }
   },
   "id": "d430ebdf1c67b4af",
   "execution_count": 44
  },
  {
   "cell_type": "code",
   "outputs": [
    {
     "name": "stdout",
     "output_type": "stream",
     "text": [
      "The Lord of the Rings: The Return of the King \n",
      "====\n",
      " ['Adventure', 'Fantasy', 'Action'] \n",
      "====\n",
      " elves, orcs, middle-earth (tolkien), based on novel, suspicion, bravery, war, honor, troll, brutality, violence, ghost, end of trilogy, quest, sword and sorcery \n",
      "====\n"
     ]
    },
    {
     "data": {
      "text/plain": "      Unnamed: 0      id                                          title  \\\n364          364     121          The Lord of the Rings: The Two Towers   \n757          757   10196                             The Last Airbender   \n564          564    2310                                        Beowulf   \n1212        1212  308504                                   Last Knights   \n648          648   12437                 Underworld: Rise of the Lycans   \n...          ...     ...                                            ...   \n1123        1123  286521                                   5 Flights Up   \n1166        1166  300685                  Jeff Dunham: All Over the Map   \n201          201    2925                           The First Wives Club   \n1500        1500  397717                                          Barry   \n397          397     122  The Lord of the Rings: The Return of the King   \n\n     release_date original_language  \\\n364    2002-12-18                en   \n757    2010-06-30                en   \n564    2007-11-05                en   \n1212   2015-04-03                en   \n648    2009-01-22                en   \n...           ...               ...   \n1123   2014-09-05                en   \n1166   2014-11-18                en   \n201    1996-09-20                en   \n1500   2016-09-10                en   \n397    2003-12-01                en   \n\n                                                 genres  \\\n364                  ['Adventure', 'Fantasy', 'Action']   \n757        ['Action', 'Adventure', 'Family', 'Fantasy']   \n564                ['Adventure', 'Action', 'Animation']   \n1212                            ['Action', 'Adventure']   \n648   ['Fantasy', 'Action', 'Adventure', 'Science Fi...   \n...                                                 ...   \n1123                                          ['Drama']   \n1166                                         ['Comedy']   \n201                                          ['Comedy']   \n1500                                          ['Drama']   \n397                  ['Adventure', 'Fantasy', 'Action']   \n\n                                               overview  vote_average  \\\n364   Frodo and Sam are trekking to Mordor to destro...           8.0   \n757   The story follows the adventures of Aang, a yo...           4.7   \n564   6th-century Scandinavian warrior, Beowulf emba...           5.5   \n1212  When an evil emperor executes their leader, hi...           6.2   \n648   A prequel to the first two Underworld films, t...           6.2   \n...                                                 ...           ...   \n1123  A long-time married couple who've spent their ...           5.9   \n1166  Jeff Dunham and his iconic creations, Achmed t...           6.1   \n201   After years of helping their hubbies climb the...           6.5   \n1500  A biopic of Barack Obama set during his time a...           5.1   \n397   Aragorn is revealed as the heir to the ancient...           8.1   \n\n      release_year                                           keywords  \\\n364           2002  elves, orcs, middle-earth (tolkien), hobbit, b...   \n757           2010  fire, ice, war ship, prince, kingdom, water, v...   \n564           2007  denmark, nordic mythology, lie, pride and vani...   \n1212          2015  loyalty, emperor, castle, sword fight, revenge...   \n648           2009  prison, underworld, slavery, castle, vampire, ...   \n...            ...                                                ...   \n1123          2014  new york, married couple, moving out, moving, ...   \n1166          2014      ventriloquist, stand-up comedy, live audience   \n201           1996          divorce, divorced woman, reunited friends   \n1500          2016                     new york city, college student   \n397           2003  elves, orcs, middle-earth (tolkien), based on ...   \n\n                                        title_dated  \n364           The Lord of the Rings: The Two Towers  \n757                              The Last Airbender  \n564                               Beowulf (2007-11)  \n1212                                   Last Knights  \n648                  Underworld: Rise of the Lycans  \n...                                             ...  \n1123                                   5 Flights Up  \n1166                  Jeff Dunham: All Over the Map  \n201                            The First Wives Club  \n1500                                          Barry  \n397   The Lord of the Rings: The Return of the King  \n\n[1723 rows x 11 columns]",
      "text/html": "<div>\n<style scoped>\n    .dataframe tbody tr th:only-of-type {\n        vertical-align: middle;\n    }\n\n    .dataframe tbody tr th {\n        vertical-align: top;\n    }\n\n    .dataframe thead th {\n        text-align: right;\n    }\n</style>\n<table border=\"1\" class=\"dataframe\">\n  <thead>\n    <tr style=\"text-align: right;\">\n      <th></th>\n      <th>Unnamed: 0</th>\n      <th>id</th>\n      <th>title</th>\n      <th>release_date</th>\n      <th>original_language</th>\n      <th>genres</th>\n      <th>overview</th>\n      <th>vote_average</th>\n      <th>release_year</th>\n      <th>keywords</th>\n      <th>title_dated</th>\n    </tr>\n  </thead>\n  <tbody>\n    <tr>\n      <th>364</th>\n      <td>364</td>\n      <td>121</td>\n      <td>The Lord of the Rings: The Two Towers</td>\n      <td>2002-12-18</td>\n      <td>en</td>\n      <td>['Adventure', 'Fantasy', 'Action']</td>\n      <td>Frodo and Sam are trekking to Mordor to destro...</td>\n      <td>8.0</td>\n      <td>2002</td>\n      <td>elves, orcs, middle-earth (tolkien), hobbit, b...</td>\n      <td>The Lord of the Rings: The Two Towers</td>\n    </tr>\n    <tr>\n      <th>757</th>\n      <td>757</td>\n      <td>10196</td>\n      <td>The Last Airbender</td>\n      <td>2010-06-30</td>\n      <td>en</td>\n      <td>['Action', 'Adventure', 'Family', 'Fantasy']</td>\n      <td>The story follows the adventures of Aang, a yo...</td>\n      <td>4.7</td>\n      <td>2010</td>\n      <td>fire, ice, war ship, prince, kingdom, water, v...</td>\n      <td>The Last Airbender</td>\n    </tr>\n    <tr>\n      <th>564</th>\n      <td>564</td>\n      <td>2310</td>\n      <td>Beowulf</td>\n      <td>2007-11-05</td>\n      <td>en</td>\n      <td>['Adventure', 'Action', 'Animation']</td>\n      <td>6th-century Scandinavian warrior, Beowulf emba...</td>\n      <td>5.5</td>\n      <td>2007</td>\n      <td>denmark, nordic mythology, lie, pride and vani...</td>\n      <td>Beowulf (2007-11)</td>\n    </tr>\n    <tr>\n      <th>1212</th>\n      <td>1212</td>\n      <td>308504</td>\n      <td>Last Knights</td>\n      <td>2015-04-03</td>\n      <td>en</td>\n      <td>['Action', 'Adventure']</td>\n      <td>When an evil emperor executes their leader, hi...</td>\n      <td>6.2</td>\n      <td>2015</td>\n      <td>loyalty, emperor, castle, sword fight, revenge...</td>\n      <td>Last Knights</td>\n    </tr>\n    <tr>\n      <th>648</th>\n      <td>648</td>\n      <td>12437</td>\n      <td>Underworld: Rise of the Lycans</td>\n      <td>2009-01-22</td>\n      <td>en</td>\n      <td>['Fantasy', 'Action', 'Adventure', 'Science Fi...</td>\n      <td>A prequel to the first two Underworld films, t...</td>\n      <td>6.2</td>\n      <td>2009</td>\n      <td>prison, underworld, slavery, castle, vampire, ...</td>\n      <td>Underworld: Rise of the Lycans</td>\n    </tr>\n    <tr>\n      <th>...</th>\n      <td>...</td>\n      <td>...</td>\n      <td>...</td>\n      <td>...</td>\n      <td>...</td>\n      <td>...</td>\n      <td>...</td>\n      <td>...</td>\n      <td>...</td>\n      <td>...</td>\n      <td>...</td>\n    </tr>\n    <tr>\n      <th>1123</th>\n      <td>1123</td>\n      <td>286521</td>\n      <td>5 Flights Up</td>\n      <td>2014-09-05</td>\n      <td>en</td>\n      <td>['Drama']</td>\n      <td>A long-time married couple who've spent their ...</td>\n      <td>5.9</td>\n      <td>2014</td>\n      <td>new york, married couple, moving out, moving, ...</td>\n      <td>5 Flights Up</td>\n    </tr>\n    <tr>\n      <th>1166</th>\n      <td>1166</td>\n      <td>300685</td>\n      <td>Jeff Dunham: All Over the Map</td>\n      <td>2014-11-18</td>\n      <td>en</td>\n      <td>['Comedy']</td>\n      <td>Jeff Dunham and his iconic creations, Achmed t...</td>\n      <td>6.1</td>\n      <td>2014</td>\n      <td>ventriloquist, stand-up comedy, live audience</td>\n      <td>Jeff Dunham: All Over the Map</td>\n    </tr>\n    <tr>\n      <th>201</th>\n      <td>201</td>\n      <td>2925</td>\n      <td>The First Wives Club</td>\n      <td>1996-09-20</td>\n      <td>en</td>\n      <td>['Comedy']</td>\n      <td>After years of helping their hubbies climb the...</td>\n      <td>6.5</td>\n      <td>1996</td>\n      <td>divorce, divorced woman, reunited friends</td>\n      <td>The First Wives Club</td>\n    </tr>\n    <tr>\n      <th>1500</th>\n      <td>1500</td>\n      <td>397717</td>\n      <td>Barry</td>\n      <td>2016-09-10</td>\n      <td>en</td>\n      <td>['Drama']</td>\n      <td>A biopic of Barack Obama set during his time a...</td>\n      <td>5.1</td>\n      <td>2016</td>\n      <td>new york city, college student</td>\n      <td>Barry</td>\n    </tr>\n    <tr>\n      <th>397</th>\n      <td>397</td>\n      <td>122</td>\n      <td>The Lord of the Rings: The Return of the King</td>\n      <td>2003-12-01</td>\n      <td>en</td>\n      <td>['Adventure', 'Fantasy', 'Action']</td>\n      <td>Aragorn is revealed as the heir to the ancient...</td>\n      <td>8.1</td>\n      <td>2003</td>\n      <td>elves, orcs, middle-earth (tolkien), based on ...</td>\n      <td>The Lord of the Rings: The Return of the King</td>\n    </tr>\n  </tbody>\n</table>\n<p>1723 rows × 11 columns</p>\n</div>"
     },
     "execution_count": 45,
     "metadata": {},
     "output_type": "execute_result"
    }
   ],
   "source": [
    "top_ten = reversed(combined_similarity[movie_number].argsort())\n",
    "print(\n",
    "    df[\"title\"][movie_number],\n",
    "    \"\\n====\\n\",\n",
    "    df[\"genres\"][movie_number],\n",
    "    \"\\n====\\n\",\n",
    "    df[\"keywords\"][movie_number],\n",
    "    \"\\n====\\n\",\n",
    ")\n",
    "\n",
    "df_combined.loc[top_ten]"
   ],
   "metadata": {
    "collapsed": false,
    "ExecuteTime": {
     "end_time": "2024-01-04T22:33:09.522023731Z",
     "start_time": "2024-01-04T22:33:09.510990586Z"
    }
   },
   "id": "e8ca7e815b6b4e08",
   "execution_count": 45
  }
 ],
 "metadata": {
  "kernelspec": {
   "display_name": "Python 3",
   "language": "python",
   "name": "python3"
  },
  "language_info": {
   "codemirror_mode": {
    "name": "ipython",
    "version": 2
   },
   "file_extension": ".py",
   "mimetype": "text/x-python",
   "name": "python",
   "nbconvert_exporter": "python",
   "pygments_lexer": "ipython2",
   "version": "2.7.6"
  }
 },
 "nbformat": 4,
 "nbformat_minor": 5
}
