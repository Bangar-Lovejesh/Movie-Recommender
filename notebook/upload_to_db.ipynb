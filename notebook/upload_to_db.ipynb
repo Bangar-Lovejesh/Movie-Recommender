{
 "cells": [
  {
   "cell_type": "code",
   "execution_count": 1,
   "id": "initial_id",
   "metadata": {
    "collapsed": true,
    "ExecuteTime": {
     "end_time": "2024-01-06T23:30:46.902971902Z",
     "start_time": "2024-01-06T23:30:46.564644735Z"
    }
   },
   "outputs": [],
   "source": [
    "import os\n",
    "\n",
    "import numpy as np\n",
    "import pandas as pd\n",
    "from dotenv import load_dotenv\n",
    "from sqlalchemy import create_engine"
   ]
  },
  {
   "cell_type": "code",
   "outputs": [],
   "source": [
    "df_all_movies = pd.read_csv(\"./custom_csv/movies_cleaned.csv\")\n",
    "df_netflix_movies = pd.read_csv(\"./custom_csv/movies_combined.csv\")"
   ],
   "metadata": {
    "collapsed": false,
    "ExecuteTime": {
     "end_time": "2024-01-06T23:30:47.691281893Z",
     "start_time": "2024-01-06T23:30:47.448839471Z"
    }
   },
   "id": "b3c230d0a8e7862c",
   "execution_count": 2
  },
  {
   "cell_type": "code",
   "outputs": [],
   "source": [
    "with open(\"./similarity_genre.npy\", \"rb\") as f:\n",
    "    similarity_genres = np.load(f)\n",
    "\n",
    "with open(\"./similarity_embedding_keywords.npy\", \"rb\") as f:\n",
    "    similarity_embedding_keywords = np.load(f)\n",
    "\n",
    "with open(\"./similarity_embedding_overview.npy\", \"rb\") as f:\n",
    "    similarity_embedding_overview = np.load(f)"
   ],
   "metadata": {
    "collapsed": false,
    "ExecuteTime": {
     "end_time": "2024-01-06T18:07:18.518716335Z",
     "start_time": "2024-01-06T18:07:18.319198053Z"
    }
   },
   "id": "b8facfbfa572421",
   "execution_count": 3
  },
  {
   "cell_type": "code",
   "outputs": [],
   "source": [
    "df_genres = pd.DataFrame(\n",
    "    np.round(similarity_genres, 2),\n",
    "    columns=df_netflix_movies.id,\n",
    "    index=df_all_movies.id.to_numpy(),\n",
    ")\n",
    "df_overview = pd.DataFrame(\n",
    "    np.round(similarity_embedding_overview, 2),\n",
    "    columns=df_netflix_movies.id,\n",
    "    index=df_all_movies.id.to_numpy(),\n",
    ")\n",
    "df_keywords = pd.DataFrame(\n",
    "    np.round(similarity_embedding_keywords, 2),\n",
    "    columns=df_netflix_movies.id,\n",
    "    index=df_all_movies.id.to_numpy(),\n",
    ")"
   ],
   "metadata": {
    "collapsed": false,
    "ExecuteTime": {
     "end_time": "2024-01-06T18:28:00.508258538Z",
     "start_time": "2024-01-06T18:28:00.235961072Z"
    }
   },
   "id": "bfd65a54b060aef5",
   "execution_count": 8
  },
  {
   "cell_type": "code",
   "outputs": [],
   "source": [
    "load_dotenv(\"../.env\")\n",
    "engine = create_engine(os.environ[\"DATABASE_URL\"])"
   ],
   "metadata": {
    "collapsed": false,
    "ExecuteTime": {
     "end_time": "2024-01-06T23:30:56.532041672Z",
     "start_time": "2024-01-06T23:30:56.429533753Z"
    }
   },
   "id": "b22844a306b89b34",
   "execution_count": 4
  },
  {
   "cell_type": "code",
   "outputs": [
    {
     "data": {
      "text/plain": "7"
     },
     "execution_count": 7,
     "metadata": {},
     "output_type": "execute_result"
    }
   ],
   "source": [
    "df_overview.to_sql(\"overview_score\", engine)"
   ],
   "metadata": {
    "collapsed": false,
    "ExecuteTime": {
     "end_time": "2024-01-06T18:28:00.260465748Z",
     "start_time": "2024-01-06T18:07:19.165009913Z"
    }
   },
   "id": "d52585499f87a3cb",
   "execution_count": 7
  },
  {
   "cell_type": "code",
   "outputs": [
    {
     "data": {
      "text/plain": "7"
     },
     "execution_count": 9,
     "metadata": {},
     "output_type": "execute_result"
    }
   ],
   "source": [
    "df_keywords.to_sql(\"keyword_score\", engine)"
   ],
   "metadata": {
    "collapsed": false,
    "ExecuteTime": {
     "end_time": "2024-01-06T18:45:39.711841296Z",
     "start_time": "2024-01-06T18:28:00.519121020Z"
    }
   },
   "id": "c4b4635bbc1ffbed",
   "execution_count": 9
  },
  {
   "cell_type": "code",
   "outputs": [
    {
     "data": {
      "text/plain": "7"
     },
     "execution_count": 10,
     "metadata": {},
     "output_type": "execute_result"
    }
   ],
   "source": [
    "df_genres.to_sql(\"genre_score\", engine)"
   ],
   "metadata": {
    "collapsed": false,
    "ExecuteTime": {
     "end_time": "2024-01-06T18:56:45.311835220Z",
     "start_time": "2024-01-06T18:45:39.711722665Z"
    }
   },
   "id": "54b890caff9fa072",
   "execution_count": 10
  },
  {
   "cell_type": "markdown",
   "source": [],
   "metadata": {
    "collapsed": false
   },
   "id": "b0d2803859930674"
  },
  {
   "cell_type": "code",
   "outputs": [
    {
     "data": {
      "text/plain": "395"
     },
     "execution_count": 8,
     "metadata": {},
     "output_type": "execute_result"
    }
   ],
   "source": [
    "df_all_movies[[\"id\", \"title\"]].to_sql(\"id_name\", engine, index=False)"
   ],
   "metadata": {
    "collapsed": false,
    "ExecuteTime": {
     "end_time": "2024-01-06T23:33:23.335047648Z",
     "start_time": "2024-01-06T23:33:19.948815891Z"
    }
   },
   "id": "c21f89f9ba9149fe",
   "execution_count": 8
  }
 ],
 "metadata": {
  "kernelspec": {
   "display_name": "Python 3",
   "language": "python",
   "name": "python3"
  },
  "language_info": {
   "codemirror_mode": {
    "name": "ipython",
    "version": 2
   },
   "file_extension": ".py",
   "mimetype": "text/x-python",
   "name": "python",
   "nbconvert_exporter": "python",
   "pygments_lexer": "ipython2",
   "version": "2.7.6"
  }
 },
 "nbformat": 4,
 "nbformat_minor": 5
}
