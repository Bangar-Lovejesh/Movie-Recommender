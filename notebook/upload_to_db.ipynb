{
 "cells": [
  {
   "cell_type": "code",
   "execution_count": 1,
   "id": "initial_id",
   "metadata": {
    "collapsed": true,
    "ExecuteTime": {
     "end_time": "2024-01-08T07:19:47.023402666Z",
     "start_time": "2024-01-08T07:19:46.613033139Z"
    }
   },
   "outputs": [],
   "source": [
    "import os\n",
    "\n",
    "import numpy as np\n",
    "import pandas as pd\n",
    "from dotenv import load_dotenv\n",
    "from sqlalchemy import create_engine, text\n",
    "from sqlalchemy.types import ARRAY, Integer, String"
   ]
  },
  {
   "cell_type": "code",
   "outputs": [],
   "source": [
    "df_all_movies = pd.read_csv(\"./custom_csv/movies_cleaned.csv\")\n",
    "df_netflix_movies = pd.read_csv(\"./custom_csv/movies_combined.csv\")"
   ],
   "metadata": {
    "collapsed": false,
    "ExecuteTime": {
     "end_time": "2024-01-08T07:27:38.770837374Z",
     "start_time": "2024-01-08T07:27:38.543402948Z"
    }
   },
   "id": "b3c230d0a8e7862c",
   "execution_count": 38
  },
  {
   "cell_type": "code",
   "outputs": [],
   "source": [
    "with open(\"./similarity_genre.npy\", \"rb\") as f:\n",
    "    similarity_genres = np.load(f)\n",
    "\n",
    "with open(\"./similarity_embedding_keywords.npy\", \"rb\") as f:\n",
    "    similarity_embedding_keywords = np.load(f)\n",
    "\n",
    "with open(\"./similarity_embedding_overview.npy\", \"rb\") as f:\n",
    "    similarity_embedding_overview = np.load(f)"
   ],
   "metadata": {
    "collapsed": false,
    "ExecuteTime": {
     "end_time": "2024-01-07T23:31:23.802291889Z",
     "start_time": "2024-01-07T23:31:23.532230371Z"
    }
   },
   "id": "b8facfbfa572421",
   "execution_count": 3
  },
  {
   "cell_type": "code",
   "outputs": [],
   "source": [
    "df_genres = (\n",
    "    (\n",
    "        pd.DataFrame(\n",
    "            np.round(similarity_genres, 2),\n",
    "            columns=df_netflix_movies.id.to_numpy(),\n",
    "            index=df_all_movies.id.to_numpy(),\n",
    "        ).rename_axis(\"id\")\n",
    "        * 100\n",
    "    )\n",
    "    .round()\n",
    "    .astype(int)\n",
    ")\n",
    "df_overview = (\n",
    "    (\n",
    "        pd.DataFrame(\n",
    "            np.round(similarity_embedding_overview, 2),\n",
    "            columns=df_netflix_movies.id.to_numpy(),\n",
    "            index=df_all_movies.id.to_numpy(),\n",
    "        ).rename_axis(\"id\")\n",
    "        * 100\n",
    "    )\n",
    "    .round()\n",
    "    .astype(int)\n",
    ")\n",
    "df_keywords = (\n",
    "    (\n",
    "        pd.DataFrame(\n",
    "            np.round(similarity_embedding_keywords, 2),\n",
    "            columns=df_netflix_movies.id.to_numpy(),\n",
    "            index=df_all_movies.id.to_numpy(),\n",
    "        ).rename_axis(\"id\")\n",
    "        * 100\n",
    "    )\n",
    "    .round()\n",
    "    .astype(int)\n",
    ")"
   ],
   "metadata": {
    "collapsed": false,
    "ExecuteTime": {
     "end_time": "2024-01-07T23:31:25.581735875Z",
     "start_time": "2024-01-07T23:31:23.805264519Z"
    }
   },
   "id": "bfd65a54b060aef5",
   "execution_count": 4
  },
  {
   "cell_type": "markdown",
   "source": [],
   "metadata": {
    "collapsed": false
   },
   "id": "b0d2803859930674"
  },
  {
   "cell_type": "code",
   "outputs": [],
   "source": [
    "df_all_movies = df_all_movies.loc[:, [\"id\", \"title_dated\"]]\n",
    "df_all_movies.rename(columns={\"title_dated\": \"title\"}, inplace=True)"
   ],
   "metadata": {
    "collapsed": false,
    "ExecuteTime": {
     "end_time": "2024-01-07T23:31:25.594014595Z",
     "start_time": "2024-01-07T23:31:25.583003083Z"
    }
   },
   "id": "c21f89f9ba9149fe",
   "execution_count": 5
  },
  {
   "cell_type": "code",
   "outputs": [],
   "source": [
    "df_genres.index = df_genres.index.astype(str)\n",
    "df_overview.index = df_overview.index.astype(str)\n",
    "df_keywords.index = df_keywords.index.astype(str)\n",
    "df_all_movies.id = df_all_movies.id.astype(str)"
   ],
   "metadata": {
    "collapsed": false,
    "ExecuteTime": {
     "end_time": "2024-01-07T23:31:25.635382088Z",
     "start_time": "2024-01-07T23:31:25.590941613Z"
    }
   },
   "id": "2812a019692bd880",
   "execution_count": 6
  },
  {
   "cell_type": "code",
   "outputs": [],
   "source": [
    "# df_all_movies.to_csv(\"./custom_csv/titles.csv\", index=False)\n",
    "# df_genres.to_csv(\"./custom_csv/genres.csv\")\n",
    "# df_keywords.to_csv(\"./custom_csv/kw.csv\")\n",
    "# df_overview.to_csv(\"./custom_csv/ow.csv\")"
   ],
   "metadata": {
    "collapsed": false,
    "ExecuteTime": {
     "end_time": "2024-01-07T23:31:25.647521495Z",
     "start_time": "2024-01-07T23:31:25.636796587Z"
    }
   },
   "id": "ecf49071d61435ad",
   "execution_count": 7
  },
  {
   "cell_type": "code",
   "outputs": [],
   "source": [
    "df_table = pd.DataFrame(df_all_movies.id.to_numpy().astype(str), columns=[\"id\"])"
   ],
   "metadata": {
    "collapsed": false,
    "ExecuteTime": {
     "end_time": "2024-01-07T23:31:25.648487818Z",
     "start_time": "2024-01-07T23:31:25.638746114Z"
    }
   },
   "id": "e8c294432b40ca99",
   "execution_count": 8
  },
  {
   "cell_type": "code",
   "outputs": [],
   "source": [
    "df_table[\"genre\"] = 0\n",
    "df_table[\"keywords\"] = 0\n",
    "df_table[\"overview\"] = 0\n",
    "df_table[\"genre\"] = df_table.loc[:, [\"genre\"]].apply(\n",
    "    lambda x: df_genres.iloc[x.name, :].tolist(), axis=1\n",
    ")\n",
    "df_table[\"keywords\"] = (\n",
    "    df_table.loc[:, [\"keywords\"]]\n",
    "    .apply(lambda x: df_keywords.iloc[x.name, :].tolist(), axis=1)\n",
    "    .tolist()\n",
    ")\n",
    "df_table[\"overview\"] = (\n",
    "    df_table.loc[:, [\"overview\"]]\n",
    "    .apply(lambda x: df_overview.iloc[x.name, :].tolist(), axis=1)\n",
    "    .tolist()\n",
    ")"
   ],
   "metadata": {
    "collapsed": false,
    "ExecuteTime": {
     "end_time": "2024-01-07T23:31:34.105657526Z",
     "start_time": "2024-01-07T23:31:25.689002440Z"
    }
   },
   "id": "147d02a04102db24",
   "execution_count": 9
  },
  {
   "cell_type": "code",
   "outputs": [
    {
     "data": {
      "text/plain": "Index(['id', 'title'], dtype='object')"
     },
     "execution_count": 10,
     "metadata": {},
     "output_type": "execute_result"
    }
   ],
   "source": [
    "df_all_movies.columns"
   ],
   "metadata": {
    "collapsed": false,
    "ExecuteTime": {
     "end_time": "2024-01-07T23:31:34.121522967Z",
     "start_time": "2024-01-07T23:31:34.109435749Z"
    }
   },
   "id": "12e480f40c756abc",
   "execution_count": 10
  },
  {
   "cell_type": "code",
   "outputs": [],
   "source": [
    "df_table[\"title\"] = df_all_movies[\"title\"]"
   ],
   "metadata": {
    "collapsed": false,
    "ExecuteTime": {
     "end_time": "2024-01-07T23:31:34.122024584Z",
     "start_time": "2024-01-07T23:31:34.112195697Z"
    }
   },
   "id": "9d47dfa79b30f24a",
   "execution_count": 11
  },
  {
   "cell_type": "code",
   "outputs": [],
   "source": [
    "load_dotenv(\"../.env\")\n",
    "engine = create_engine(os.environ[\"DATABASE_URL\"])"
   ],
   "metadata": {
    "collapsed": false,
    "ExecuteTime": {
     "end_time": "2024-01-07T23:31:35.109784466Z",
     "start_time": "2024-01-07T23:31:34.122000083Z"
    }
   },
   "id": "5a16b372faa78099",
   "execution_count": 12
  },
  {
   "cell_type": "code",
   "outputs": [
    {
     "data": {
      "text/plain": "list"
     },
     "execution_count": 13,
     "metadata": {},
     "output_type": "execute_result"
    }
   ],
   "source": [
    "type(df_table.head().genre[0])"
   ],
   "metadata": {
    "collapsed": false,
    "ExecuteTime": {
     "end_time": "2024-01-07T23:31:35.117032206Z",
     "start_time": "2024-01-07T23:31:35.111665692Z"
    }
   },
   "id": "199e0db0525ef49b",
   "execution_count": 13
  },
  {
   "cell_type": "code",
   "outputs": [],
   "source": [
    "df_table = df_table.loc[:, [\"id\", \"title\", \"genre\", \"keywords\", \"overview\"]]"
   ],
   "metadata": {
    "collapsed": false,
    "ExecuteTime": {
     "end_time": "2024-01-07T23:31:35.124824894Z",
     "start_time": "2024-01-07T23:31:35.113737550Z"
    }
   },
   "id": "9ee6dd526613474e",
   "execution_count": 14
  },
  {
   "cell_type": "code",
   "outputs": [
    {
     "data": {
      "text/plain": "       id                        title  \\\n0  315946             Passage of Venus   \n1  194079   Sallie Gardner at a Gallop   \n2  426903              Buffalo Running   \n3  159897  Man Walking Around a Corner   \n4   96882             Accordion Player   \n\n                                               genre  \\\n0  [71, 58, 71, 58, 71, 100, 0, 0, 0, 0, 0, 0, 0,...   \n1  [71, 58, 71, 58, 71, 100, 0, 0, 0, 0, 0, 0, 0,...   \n2  [71, 58, 71, 58, 71, 100, 0, 0, 0, 0, 0, 0, 0,...   \n3  [71, 58, 71, 58, 71, 100, 0, 0, 0, 0, 0, 0, 0,...   \n4  [71, 58, 71, 58, 71, 100, 0, 0, 0, 0, 0, 0, 0,...   \n\n                                            keywords  \\\n0  [7, 7, 7, 33, 29, 11, 21, 7, 9, 7, 30, 6, 29, ...   \n1  [7, 7, 7, 33, 30, 6, 37, 7, 27, 7, 37, 23, 46,...   \n2  [13, 13, 13, 19, 16, 13, 33, 13, 29, 13, 27, 3...   \n3  [17, 17, 17, 19, 14, 13, 25, 17, 26, 17, 11, 1...   \n4  [6, 6, 6, 27, 22, 13, 19, 6, 5, 6, 8, 4, 14, 6...   \n\n                                            overview  \n0  [30, 16, 8, 1, 10, 2, 4, 47, 11, 10, 27, -4, 4...  \n1  [35, 10, 19, 17, 21, 18, 11, 32, 7, 7, 31, 2, ...  \n2  [25, 14, 22, 16, 11, 16, 7, 0, 5, 4, 1, 8, 2, ...  \n3  [29, 11, 26, 12, 21, 15, 7, 18, 4, 13, 22, 2, ...  \n4  [30, 13, 30, 17, 26, 23, 17, 19, 10, 22, 29, 1...  ",
      "text/html": "<div>\n<style scoped>\n    .dataframe tbody tr th:only-of-type {\n        vertical-align: middle;\n    }\n\n    .dataframe tbody tr th {\n        vertical-align: top;\n    }\n\n    .dataframe thead th {\n        text-align: right;\n    }\n</style>\n<table border=\"1\" class=\"dataframe\">\n  <thead>\n    <tr style=\"text-align: right;\">\n      <th></th>\n      <th>id</th>\n      <th>title</th>\n      <th>genre</th>\n      <th>keywords</th>\n      <th>overview</th>\n    </tr>\n  </thead>\n  <tbody>\n    <tr>\n      <th>0</th>\n      <td>315946</td>\n      <td>Passage of Venus</td>\n      <td>[71, 58, 71, 58, 71, 100, 0, 0, 0, 0, 0, 0, 0,...</td>\n      <td>[7, 7, 7, 33, 29, 11, 21, 7, 9, 7, 30, 6, 29, ...</td>\n      <td>[30, 16, 8, 1, 10, 2, 4, 47, 11, 10, 27, -4, 4...</td>\n    </tr>\n    <tr>\n      <th>1</th>\n      <td>194079</td>\n      <td>Sallie Gardner at a Gallop</td>\n      <td>[71, 58, 71, 58, 71, 100, 0, 0, 0, 0, 0, 0, 0,...</td>\n      <td>[7, 7, 7, 33, 30, 6, 37, 7, 27, 7, 37, 23, 46,...</td>\n      <td>[35, 10, 19, 17, 21, 18, 11, 32, 7, 7, 31, 2, ...</td>\n    </tr>\n    <tr>\n      <th>2</th>\n      <td>426903</td>\n      <td>Buffalo Running</td>\n      <td>[71, 58, 71, 58, 71, 100, 0, 0, 0, 0, 0, 0, 0,...</td>\n      <td>[13, 13, 13, 19, 16, 13, 33, 13, 29, 13, 27, 3...</td>\n      <td>[25, 14, 22, 16, 11, 16, 7, 0, 5, 4, 1, 8, 2, ...</td>\n    </tr>\n    <tr>\n      <th>3</th>\n      <td>159897</td>\n      <td>Man Walking Around a Corner</td>\n      <td>[71, 58, 71, 58, 71, 100, 0, 0, 0, 0, 0, 0, 0,...</td>\n      <td>[17, 17, 17, 19, 14, 13, 25, 17, 26, 17, 11, 1...</td>\n      <td>[29, 11, 26, 12, 21, 15, 7, 18, 4, 13, 22, 2, ...</td>\n    </tr>\n    <tr>\n      <th>4</th>\n      <td>96882</td>\n      <td>Accordion Player</td>\n      <td>[71, 58, 71, 58, 71, 100, 0, 0, 0, 0, 0, 0, 0,...</td>\n      <td>[6, 6, 6, 27, 22, 13, 19, 6, 5, 6, 8, 4, 14, 6...</td>\n      <td>[30, 13, 30, 17, 26, 23, 17, 19, 10, 22, 29, 1...</td>\n    </tr>\n  </tbody>\n</table>\n</div>"
     },
     "execution_count": 15,
     "metadata": {},
     "output_type": "execute_result"
    }
   ],
   "source": [
    "df_table.head()"
   ],
   "metadata": {
    "collapsed": false,
    "ExecuteTime": {
     "end_time": "2024-01-07T23:31:35.143884907Z",
     "start_time": "2024-01-07T23:31:35.122467581Z"
    }
   },
   "id": "24a6bbc4595983a1",
   "execution_count": 15
  },
  {
   "cell_type": "code",
   "outputs": [
    {
     "name": "stderr",
     "output_type": "stream",
     "text": [
      "/home/ubunbu/PycharmProjects/Movie-Recommender/venv/lib/python3.10/site-packages/sqlalchemy_cockroachdb/base.py:226: SAWarning: Did not recognize type 'ARRAY' of column 'genre'\n",
      "  warn(f\"Did not recognize type '{type_name}' of column '{name}'\")\n",
      "/home/ubunbu/PycharmProjects/Movie-Recommender/venv/lib/python3.10/site-packages/sqlalchemy_cockroachdb/base.py:226: SAWarning: Did not recognize type 'ARRAY' of column 'keywords'\n",
      "  warn(f\"Did not recognize type '{type_name}' of column '{name}'\")\n",
      "/home/ubunbu/PycharmProjects/Movie-Recommender/venv/lib/python3.10/site-packages/sqlalchemy_cockroachdb/base.py:226: SAWarning: Did not recognize type 'ARRAY' of column 'overview'\n",
      "  warn(f\"Did not recognize type '{type_name}' of column '{name}'\")\n"
     ]
    },
    {
     "data": {
      "text/plain": "395"
     },
     "execution_count": 16,
     "metadata": {},
     "output_type": "execute_result"
    }
   ],
   "source": [
    "df_table.to_sql(\n",
    "    \"movies_scores\",\n",
    "    engine,\n",
    "    index=False,\n",
    "    if_exists=\"replace\",\n",
    "    dtype={\n",
    "        \"id\": String,\n",
    "        \"title\": String,\n",
    "        \"genre\": ARRAY(Integer),\n",
    "        \"keywords\": ARRAY(Integer),\n",
    "        \"overview\": ARRAY(Integer),\n",
    "    },\n",
    ")"
   ],
   "metadata": {
    "collapsed": false,
    "ExecuteTime": {
     "end_time": "2024-01-07T23:45:45.193735771Z",
     "start_time": "2024-01-07T23:31:35.136029208Z"
    }
   },
   "id": "ca6abf507950e93a",
   "execution_count": 16
  },
  {
   "cell_type": "code",
   "outputs": [],
   "source": [
    "df_netflix_movies = df_netflix_movies[[\"id\", \"title_dated\", \"vote_average\"]]"
   ],
   "metadata": {
    "collapsed": false,
    "ExecuteTime": {
     "end_time": "2024-01-08T03:44:15.253193048Z",
     "start_time": "2024-01-08T03:44:15.209706278Z"
    }
   },
   "id": "d842fa4c3379c66f",
   "execution_count": 18
  },
  {
   "cell_type": "code",
   "outputs": [],
   "source": [
    "df_netflix_movies = df_netflix_movies.rename(\n",
    "    columns={\"title_dated\": \"title\", \"vote_average\": \"review_score\"}\n",
    ")"
   ],
   "metadata": {
    "collapsed": false,
    "ExecuteTime": {
     "end_time": "2024-01-08T03:46:33.645043242Z",
     "start_time": "2024-01-08T03:46:33.603476092Z"
    }
   },
   "id": "5046c1ff9f5bd077",
   "execution_count": 23
  },
  {
   "cell_type": "code",
   "outputs": [],
   "source": [
    "df_netflix_movies[\"review_score\"] = (df_netflix_movies[\"review_score\"] * 10).astype(int)"
   ],
   "metadata": {
    "collapsed": false,
    "ExecuteTime": {
     "end_time": "2024-01-08T03:47:52.133079445Z",
     "start_time": "2024-01-08T03:47:52.089169757Z"
    }
   },
   "id": "508f0f3550ff20f5",
   "execution_count": 26
  },
  {
   "cell_type": "code",
   "outputs": [
    {
     "data": {
      "text/plain": "          id                               title  review_score\n0      56143                The Battle of Midway            47\n1     112912  Why We Fight: The Battle of Russia            50\n2     257084                    Tunisian Victory             0\n3     151731                   The Negro Soldier            60\n4      84701                          San Pietro            64\n...      ...                                 ...           ...\n1718  428493                   God's Own Country            54\n1719  271404                      Beyond Skyline             0\n1720  284053                      Thor: Ragnarok             0\n1721  413992                      Sweet Virginia             0\n1722  299782          The Other Side of the Wind             0\n\n[1723 rows x 3 columns]",
      "text/html": "<div>\n<style scoped>\n    .dataframe tbody tr th:only-of-type {\n        vertical-align: middle;\n    }\n\n    .dataframe tbody tr th {\n        vertical-align: top;\n    }\n\n    .dataframe thead th {\n        text-align: right;\n    }\n</style>\n<table border=\"1\" class=\"dataframe\">\n  <thead>\n    <tr style=\"text-align: right;\">\n      <th></th>\n      <th>id</th>\n      <th>title</th>\n      <th>review_score</th>\n    </tr>\n  </thead>\n  <tbody>\n    <tr>\n      <th>0</th>\n      <td>56143</td>\n      <td>The Battle of Midway</td>\n      <td>47</td>\n    </tr>\n    <tr>\n      <th>1</th>\n      <td>112912</td>\n      <td>Why We Fight: The Battle of Russia</td>\n      <td>50</td>\n    </tr>\n    <tr>\n      <th>2</th>\n      <td>257084</td>\n      <td>Tunisian Victory</td>\n      <td>0</td>\n    </tr>\n    <tr>\n      <th>3</th>\n      <td>151731</td>\n      <td>The Negro Soldier</td>\n      <td>60</td>\n    </tr>\n    <tr>\n      <th>4</th>\n      <td>84701</td>\n      <td>San Pietro</td>\n      <td>64</td>\n    </tr>\n    <tr>\n      <th>...</th>\n      <td>...</td>\n      <td>...</td>\n      <td>...</td>\n    </tr>\n    <tr>\n      <th>1718</th>\n      <td>428493</td>\n      <td>God's Own Country</td>\n      <td>54</td>\n    </tr>\n    <tr>\n      <th>1719</th>\n      <td>271404</td>\n      <td>Beyond Skyline</td>\n      <td>0</td>\n    </tr>\n    <tr>\n      <th>1720</th>\n      <td>284053</td>\n      <td>Thor: Ragnarok</td>\n      <td>0</td>\n    </tr>\n    <tr>\n      <th>1721</th>\n      <td>413992</td>\n      <td>Sweet Virginia</td>\n      <td>0</td>\n    </tr>\n    <tr>\n      <th>1722</th>\n      <td>299782</td>\n      <td>The Other Side of the Wind</td>\n      <td>0</td>\n    </tr>\n  </tbody>\n</table>\n<p>1723 rows × 3 columns</p>\n</div>"
     },
     "execution_count": 27,
     "metadata": {},
     "output_type": "execute_result"
    }
   ],
   "source": [
    "df_netflix_movies"
   ],
   "metadata": {
    "collapsed": false,
    "ExecuteTime": {
     "end_time": "2024-01-08T03:47:55.781449909Z",
     "start_time": "2024-01-08T03:47:55.737394619Z"
    }
   },
   "id": "f456b03bfb95682c",
   "execution_count": 27
  },
  {
   "cell_type": "code",
   "outputs": [
    {
     "data": {
      "text/plain": "1723"
     },
     "execution_count": 29,
     "metadata": {},
     "output_type": "execute_result"
    }
   ],
   "source": [
    "df_netflix_movies.to_sql(\n",
    "    \"netflix\",\n",
    "    engine,\n",
    "    method=\"multi\",\n",
    "    index=True,\n",
    "    if_exists=\"replace\",\n",
    "    dtype={\"index\": Integer, \"id\": String, \"title\": String, \"vote_average\": Integer},\n",
    ")"
   ],
   "metadata": {
    "collapsed": false,
    "ExecuteTime": {
     "end_time": "2024-01-08T03:50:29.732212769Z",
     "start_time": "2024-01-08T03:50:27.568388676Z"
    }
   },
   "id": "61a684838730ee0b",
   "execution_count": 29
  },
  {
   "cell_type": "code",
   "outputs": [],
   "source": [
    "load_dotenv(\"../.env\")\n",
    "engine = create_engine(os.environ[\"DATABASE_URL\"])"
   ],
   "metadata": {
    "collapsed": false,
    "ExecuteTime": {
     "end_time": "2024-01-08T07:26:12.605092642Z",
     "start_time": "2024-01-08T07:26:12.564724057Z"
    }
   },
   "id": "ea6cd517a44bb509",
   "execution_count": 27
  },
  {
   "cell_type": "code",
   "outputs": [],
   "source": [
    "with engine.connect() as con:\n",
    "    stuff = con.execute(\n",
    "        text(\n",
    "            \"\"\"\n",
    "                        SELECT keywords, genre, overview\n",
    "                        FROM movies_scores\n",
    "                        WHERE movies_scores.id = '315946'\n",
    "                        \"\"\"\n",
    "        )\n",
    "    )"
   ],
   "metadata": {
    "collapsed": false,
    "ExecuteTime": {
     "end_time": "2024-01-08T07:26:22.289088148Z",
     "start_time": "2024-01-08T07:26:13.409923497Z"
    }
   },
   "id": "179e87e23dbbbe7f",
   "execution_count": 28
  },
  {
   "cell_type": "code",
   "outputs": [],
   "source": [
    "test = np.array(stuff.fetchone())"
   ],
   "metadata": {
    "collapsed": false,
    "ExecuteTime": {
     "end_time": "2024-01-08T07:26:22.816553374Z",
     "start_time": "2024-01-08T07:26:22.810502412Z"
    }
   },
   "id": "b6f2b7a09fa19102",
   "execution_count": 29
  },
  {
   "cell_type": "code",
   "outputs": [],
   "source": [
    "top_ten = list(np.sum(test, axis=0).argsort()[-10:].astype(str))"
   ],
   "metadata": {
    "collapsed": false,
    "ExecuteTime": {
     "end_time": "2024-01-08T07:30:13.516802451Z",
     "start_time": "2024-01-08T07:30:13.509974171Z"
    }
   },
   "id": "6a8832f7292c3069",
   "execution_count": 49
  },
  {
   "cell_type": "code",
   "outputs": [
    {
     "data": {
      "text/plain": "['1507', '1279', '1201', '1652', '1298', '1565', '1358', '1236', '548', '1489']"
     },
     "execution_count": 50,
     "metadata": {},
     "output_type": "execute_result"
    }
   ],
   "source": [
    "top_ten"
   ],
   "metadata": {
    "collapsed": false,
    "ExecuteTime": {
     "end_time": "2024-01-08T07:30:14.490083291Z",
     "start_time": "2024-01-08T07:30:14.486919209Z"
    }
   },
   "id": "9e3194c07b7c3020",
   "execution_count": 50
  },
  {
   "cell_type": "code",
   "outputs": [
    {
     "data": {
      "text/plain": "array([24, 19, 28, 26, 33, 23, 27, 19, 41, 30])"
     },
     "execution_count": 77,
     "metadata": {},
     "output_type": "execute_result"
    }
   ],
   "source": [
    "test[0, list(np.sum(test, axis=0).argsort()[-10:])]"
   ],
   "metadata": {
    "collapsed": false,
    "ExecuteTime": {
     "end_time": "2024-01-08T07:33:22.719062874Z",
     "start_time": "2024-01-08T07:33:22.715840282Z"
    }
   },
   "id": "d3addc025f1be166",
   "execution_count": 77
  },
  {
   "cell_type": "code",
   "outputs": [],
   "source": [
    "with engine.connect() as con:\n",
    "    stuff = con.execute(\n",
    "        text(\n",
    "            f\"\"\"\n",
    "                        SELECT title\n",
    "                        FROM netflix\n",
    "                        WHERE netflix.index in ({\",\".join(top_ten)})\n",
    "                        \"\"\"\n",
    "        )\n",
    "    )"
   ],
   "metadata": {
    "collapsed": false,
    "ExecuteTime": {
     "end_time": "2024-01-08T07:30:15.470005058Z",
     "start_time": "2024-01-08T07:30:15.348608609Z"
    }
   },
   "id": "dc62d36bd54ead40",
   "execution_count": 51
  },
  {
   "cell_type": "code",
   "outputs": [
    {
     "data": {
      "text/plain": "[('The Pixar Story',),\n ('Raiders!: The Story of the Greatest Fan Film Ever Made',),\n ('Catching the Sun',),\n ('Miss Sharon Jones!',),\n ('Elstree 1976',),\n ('Sky Ladder: The Art of Cai Guo-Qiang',),\n ('Into the Inferno',),\n ('Silicon Cowboys',),\n ('Harry Benson: Shoot First',),\n ('Chasing Coral',)]"
     },
     "execution_count": 52,
     "metadata": {},
     "output_type": "execute_result"
    }
   ],
   "source": [
    "stuff.all()"
   ],
   "metadata": {
    "collapsed": false,
    "ExecuteTime": {
     "end_time": "2024-01-08T07:30:20.877304606Z",
     "start_time": "2024-01-08T07:30:20.834756509Z"
    }
   },
   "id": "b2bf8c683518920e",
   "execution_count": 52
  }
 ],
 "metadata": {
  "kernelspec": {
   "display_name": "Python 3",
   "language": "python",
   "name": "python3"
  },
  "language_info": {
   "codemirror_mode": {
    "name": "ipython",
    "version": 2
   },
   "file_extension": ".py",
   "mimetype": "text/x-python",
   "name": "python",
   "nbconvert_exporter": "python",
   "pygments_lexer": "ipython2",
   "version": "2.7.6"
  }
 },
 "nbformat": 4,
 "nbformat_minor": 5
}
