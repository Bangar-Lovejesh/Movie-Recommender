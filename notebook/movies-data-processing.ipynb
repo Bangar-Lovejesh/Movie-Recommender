{
 "cells": [
  {
   "cell_type": "markdown",
   "source": [
    "# Data preparation notebook for recommender project"
   ],
   "metadata": {
    "collapsed": false
   }
  },
  {
   "cell_type": "code",
   "outputs": [],
   "source": [
    "import ast\n",
    "\n",
    "import numpy as np\n",
    "import pandas as pd\n",
    "from sentence_transformers import SentenceTransformer, util\n",
    "from sklearn.metrics.pairwise import cosine_similarity\n",
    "from sklearn.preprocessing import MultiLabelBinarizer"
   ],
   "metadata": {
    "ExecuteTime": {
     "end_time": "2024-01-02T19:28:13.722127300Z",
     "start_time": "2024-01-02T19:28:10.923411100Z"
    }
   },
   "execution_count": 1
  },
  {
   "cell_type": "code",
   "execution_count": 2,
   "metadata": {
    "ExecuteTime": {
     "end_time": "2024-01-02T19:28:13.743565300Z",
     "start_time": "2024-01-02T19:28:13.725129600Z"
    }
   },
   "outputs": [],
   "source": [
    "# You need a kaggle account to use this\n",
    "# import opendatasets as od\n",
    "# https://pypi.org/project/opendatasets/\n",
    "# od.download(\"https://www.kaggle.com/datasets/rounakbanik/the-movies-dataset\")\n"
   ]
  },
  {
   "cell_type": "code",
   "outputs": [],
   "source": [
    "def get_genre_values(row):\n",
    "    row = ast.literal_eval(row)\n",
    "    return [val[\"name\"] for val in row]"
   ],
   "metadata": {
    "collapsed": false,
    "ExecuteTime": {
     "end_time": "2024-01-02T19:28:13.759067800Z",
     "start_time": "2024-01-02T19:28:13.739567700Z"
    }
   },
   "execution_count": 3
  },
  {
   "cell_type": "code",
   "outputs": [
    {
     "data": {
      "text/plain": "(45402, 9)"
     },
     "execution_count": 4,
     "metadata": {},
     "output_type": "execute_result"
    }
   ],
   "source": [
    "cols_to_read = [\n",
    "    \"id\",\n",
    "    \"title\",\n",
    "    \"overview\",\n",
    "    \"release_date\",\n",
    "    \"original_language\",\n",
    "    \"genres\",\n",
    "    \"vote_average\",\n",
    "    \"adult\",\n",
    "]\n",
    "df = pd.read_csv(\"./the-movies-dataset/movies_metadata.csv\", usecols=cols_to_read).loc[\n",
    "    :,\n",
    "    [\n",
    "        \"id\",\n",
    "        \"title\",\n",
    "        \"release_date\",\n",
    "        \"original_language\",\n",
    "        \"genres\",\n",
    "        \"overview\",\n",
    "        \"vote_average\",\n",
    "        \"adult\",\n",
    "    ],\n",
    "]\n",
    "\n",
    "df = df.loc[df[cols_to_read[:-1]].dropna().index].reset_index(drop=True)\n",
    "\n",
    "df[\"id\"] = df[\"id\"].astype(int)\n",
    "df = pd.merge(\n",
    "    df, pd.read_csv(\"./the-movies-dataset/keywords.csv\"), how=\"inner\", on=[\"id\"]\n",
    ")\n",
    "\n",
    "\n",
    "df.shape"
   ],
   "metadata": {
    "collapsed": false,
    "ExecuteTime": {
     "end_time": "2024-01-02T19:28:14.189429100Z",
     "start_time": "2024-01-02T19:28:13.756546800Z"
    }
   },
   "execution_count": 4
  },
  {
   "cell_type": "code",
   "outputs": [
    {
     "data": {
      "text/plain": "      id                        title release_date original_language  \\\n0    862                    Toy Story   1995-10-30                en   \n1   8844                      Jumanji   1995-12-15                en   \n2  15602             Grumpier Old Men   1995-12-22                en   \n3  31357            Waiting to Exhale   1995-12-22                en   \n4  11862  Father of the Bride Part II   1995-02-10                en   \n\n                                              genres  \\\n0  [{'id': 16, 'name': 'Animation'}, {'id': 35, '...   \n1  [{'id': 12, 'name': 'Adventure'}, {'id': 14, '...   \n2  [{'id': 10749, 'name': 'Romance'}, {'id': 35, ...   \n3  [{'id': 35, 'name': 'Comedy'}, {'id': 18, 'nam...   \n4                     [{'id': 35, 'name': 'Comedy'}]   \n\n                                            overview  vote_average  adult  \\\n0  Led by Woody, Andy's toys live happily in his ...           7.7  False   \n1  When siblings Judy and Peter discover an encha...           6.9  False   \n2  A family wedding reignites the ancient feud be...           6.5  False   \n3  Cheated on, mistreated and stepped on, the wom...           6.1  False   \n4  Just when George Banks has recovered from his ...           5.7  False   \n\n                                            keywords  \n0  [{'id': 931, 'name': 'jealousy'}, {'id': 4290,...  \n1  [{'id': 10090, 'name': 'board game'}, {'id': 1...  \n2  [{'id': 1495, 'name': 'fishing'}, {'id': 12392...  \n3  [{'id': 818, 'name': 'based on novel'}, {'id':...  \n4  [{'id': 1009, 'name': 'baby'}, {'id': 1599, 'n...  ",
      "text/html": "<div>\n<style scoped>\n    .dataframe tbody tr th:only-of-type {\n        vertical-align: middle;\n    }\n\n    .dataframe tbody tr th {\n        vertical-align: top;\n    }\n\n    .dataframe thead th {\n        text-align: right;\n    }\n</style>\n<table border=\"1\" class=\"dataframe\">\n  <thead>\n    <tr style=\"text-align: right;\">\n      <th></th>\n      <th>id</th>\n      <th>title</th>\n      <th>release_date</th>\n      <th>original_language</th>\n      <th>genres</th>\n      <th>overview</th>\n      <th>vote_average</th>\n      <th>adult</th>\n      <th>keywords</th>\n    </tr>\n  </thead>\n  <tbody>\n    <tr>\n      <th>0</th>\n      <td>862</td>\n      <td>Toy Story</td>\n      <td>1995-10-30</td>\n      <td>en</td>\n      <td>[{'id': 16, 'name': 'Animation'}, {'id': 35, '...</td>\n      <td>Led by Woody, Andy's toys live happily in his ...</td>\n      <td>7.7</td>\n      <td>False</td>\n      <td>[{'id': 931, 'name': 'jealousy'}, {'id': 4290,...</td>\n    </tr>\n    <tr>\n      <th>1</th>\n      <td>8844</td>\n      <td>Jumanji</td>\n      <td>1995-12-15</td>\n      <td>en</td>\n      <td>[{'id': 12, 'name': 'Adventure'}, {'id': 14, '...</td>\n      <td>When siblings Judy and Peter discover an encha...</td>\n      <td>6.9</td>\n      <td>False</td>\n      <td>[{'id': 10090, 'name': 'board game'}, {'id': 1...</td>\n    </tr>\n    <tr>\n      <th>2</th>\n      <td>15602</td>\n      <td>Grumpier Old Men</td>\n      <td>1995-12-22</td>\n      <td>en</td>\n      <td>[{'id': 10749, 'name': 'Romance'}, {'id': 35, ...</td>\n      <td>A family wedding reignites the ancient feud be...</td>\n      <td>6.5</td>\n      <td>False</td>\n      <td>[{'id': 1495, 'name': 'fishing'}, {'id': 12392...</td>\n    </tr>\n    <tr>\n      <th>3</th>\n      <td>31357</td>\n      <td>Waiting to Exhale</td>\n      <td>1995-12-22</td>\n      <td>en</td>\n      <td>[{'id': 35, 'name': 'Comedy'}, {'id': 18, 'nam...</td>\n      <td>Cheated on, mistreated and stepped on, the wom...</td>\n      <td>6.1</td>\n      <td>False</td>\n      <td>[{'id': 818, 'name': 'based on novel'}, {'id':...</td>\n    </tr>\n    <tr>\n      <th>4</th>\n      <td>11862</td>\n      <td>Father of the Bride Part II</td>\n      <td>1995-02-10</td>\n      <td>en</td>\n      <td>[{'id': 35, 'name': 'Comedy'}]</td>\n      <td>Just when George Banks has recovered from his ...</td>\n      <td>5.7</td>\n      <td>False</td>\n      <td>[{'id': 1009, 'name': 'baby'}, {'id': 1599, 'n...</td>\n    </tr>\n  </tbody>\n</table>\n</div>"
     },
     "execution_count": 5,
     "metadata": {},
     "output_type": "execute_result"
    }
   ],
   "source": [
    "df.head()"
   ],
   "metadata": {
    "collapsed": false,
    "ExecuteTime": {
     "end_time": "2024-01-02T19:28:14.224425800Z",
     "start_time": "2024-01-02T19:28:14.191110Z"
    }
   },
   "execution_count": 5
  },
  {
   "cell_type": "code",
   "outputs": [],
   "source": [
    "wrong_genres = [\n",
    "    \"Aniplex\",\n",
    "    \"BROSTA TV\",\n",
    "    \"Carousel Productions\",\n",
    "    \"GoHands\",\n",
    "    \"Mardock Scramble Production Committee\",\n",
    "    \"Odyssey Media\",\n",
    "    \"Pulser Productions\",\n",
    "    \"Rogue State\",\n",
    "    \"Sentai Filmworks\",\n",
    "    \"Telescene Film Group Productions\",\n",
    "    \"The Cartel\",\n",
    "    \"Vision View Entertainment\",\n",
    "    \"Telescene Film Group Productions\",\n",
    "]"
   ],
   "metadata": {
    "collapsed": false,
    "ExecuteTime": {
     "end_time": "2024-01-02T19:28:14.225424700Z",
     "start_time": "2024-01-02T19:28:14.206229Z"
    }
   },
   "execution_count": 6
  },
  {
   "cell_type": "code",
   "outputs": [],
   "source": [
    "df[\"genres\"] = df[\"genres\"].apply(get_genre_values)"
   ],
   "metadata": {
    "collapsed": false,
    "ExecuteTime": {
     "end_time": "2024-01-02T19:28:15.077262300Z",
     "start_time": "2024-01-02T19:28:14.222425900Z"
    }
   },
   "execution_count": 7
  },
  {
   "cell_type": "code",
   "outputs": [],
   "source": [
    "df[\"genres\"] = df[\"genres\"].apply(\n",
    "    lambda row: [val for val in row if val not in wrong_genres]\n",
    ")"
   ],
   "metadata": {
    "collapsed": false,
    "ExecuteTime": {
     "end_time": "2024-01-02T19:28:15.856282200Z",
     "start_time": "2024-01-02T19:28:15.812599300Z"
    }
   },
   "execution_count": 8
  },
  {
   "cell_type": "code",
   "outputs": [],
   "source": [
    "no_genre_titles = df.loc[:, [\"genres\", \"id\", \"title\"]].explode(\"genres\")\n",
    "no_genre_titles = no_genre_titles[no_genre_titles[\"genres\"].isna()][\"id\"].to_numpy()\n",
    "df = df[~df[\"id\"].isin(no_genre_titles)].reset_index(drop=True)"
   ],
   "metadata": {
    "collapsed": false,
    "ExecuteTime": {
     "end_time": "2024-01-02T19:28:16.633137100Z",
     "start_time": "2024-01-02T19:28:16.591402Z"
    }
   },
   "execution_count": 9
  },
  {
   "cell_type": "code",
   "outputs": [
    {
     "name": "stdout",
     "output_type": "stream",
     "text": [
      "['Action' 'Adventure' 'Animation' 'Comedy' 'Crime' 'Documentary' 'Drama'\n",
      " 'Family' 'Fantasy' 'Foreign' 'History' 'Horror' 'Music' 'Mystery'\n",
      " 'Romance' 'Science Fiction' 'TV Movie' 'Thriller' 'War' 'Western']\n"
     ]
    }
   ],
   "source": [
    "all_genres = np.unique(np.concatenate(df[\"genres\"]))\n",
    "print(all_genres)"
   ],
   "metadata": {
    "collapsed": false,
    "ExecuteTime": {
     "end_time": "2024-01-02T19:28:17.445389600Z",
     "start_time": "2024-01-02T19:28:17.313507Z"
    }
   },
   "execution_count": 10
  },
  {
   "cell_type": "code",
   "outputs": [],
   "source": [
    "df[\"keywords\"] = df[\"keywords\"].apply(get_genre_values)"
   ],
   "metadata": {
    "collapsed": false,
    "ExecuteTime": {
     "end_time": "2024-01-02T19:28:20.209741700Z",
     "start_time": "2024-01-02T19:28:18.878629100Z"
    }
   },
   "execution_count": 11
  },
  {
   "cell_type": "code",
   "outputs": [],
   "source": [
    "df[\"overview\"] = df.loc[:, [\"overview\"]].apply(\n",
    "    lambda x: \" \".join([x[\"overview\"], \"  keywords:\"] + df.loc[x.name, \"keywords\"]),\n",
    "    axis=1,\n",
    ")"
   ],
   "metadata": {
    "collapsed": false,
    "ExecuteTime": {
     "end_time": "2024-01-02T19:28:21.273969400Z",
     "start_time": "2024-01-02T19:28:20.689367500Z"
    }
   },
   "execution_count": 12
  },
  {
   "cell_type": "code",
   "outputs": [
    {
     "data": {
      "text/plain": "\"Led by Woody, Andy's toys live happily in his room until Andy's birthday brings Buzz Lightyear onto the scene. Afraid of losing his place in Andy's heart, Woody plots against Buzz. But when circumstances separate Buzz and Woody from their owner, the duo eventually learns to put aside their differences.   keywords: jealousy toy boy friendship friends rivalry boy next door new toy toy comes to life\""
     },
     "execution_count": 13,
     "metadata": {},
     "output_type": "execute_result"
    }
   ],
   "source": [
    "df[\"overview\"].loc[0]"
   ],
   "metadata": {
    "collapsed": false,
    "ExecuteTime": {
     "end_time": "2024-01-02T19:28:21.355093500Z",
     "start_time": "2024-01-02T19:28:21.344068600Z"
    }
   },
   "execution_count": 13
  },
  {
   "cell_type": "code",
   "outputs": [
    {
     "data": {
      "text/plain": "(43195, 9)"
     },
     "execution_count": 14,
     "metadata": {},
     "output_type": "execute_result"
    }
   ],
   "source": [
    "df.shape"
   ],
   "metadata": {
    "collapsed": false,
    "ExecuteTime": {
     "end_time": "2024-01-02T19:28:23.183968600Z",
     "start_time": "2024-01-02T19:28:23.175552Z"
    }
   },
   "execution_count": 14
  },
  {
   "cell_type": "code",
   "outputs": [],
   "source": [
    "mlb = MultiLabelBinarizer(classes=df[\"genres\"].explode().unique())\n",
    "binary_labels = mlb.fit_transform(df[\"genres\"])\n",
    "genres = mlb.classes_"
   ],
   "metadata": {
    "collapsed": false,
    "ExecuteTime": {
     "end_time": "2024-01-02T19:28:24.103250100Z",
     "start_time": "2024-01-02T19:28:24.054059100Z"
    }
   },
   "execution_count": 15
  },
  {
   "cell_type": "code",
   "outputs": [],
   "source": [
    "similarity = (cosine_similarity(binary_labels) * 100).astype(int)\n",
    "np.fill_diagonal(similarity, 0)"
   ],
   "metadata": {
    "collapsed": false,
    "ExecuteTime": {
     "end_time": "2024-01-02T19:29:19.666445600Z",
     "start_time": "2024-01-02T19:28:24.931336300Z"
    }
   },
   "execution_count": 16
  },
  {
   "cell_type": "code",
   "outputs": [],
   "source": [
    "with open(r\".\\similarity.npy\", \"wb\") as f:\n",
    "    np.save(f, similarity)"
   ],
   "metadata": {
    "collapsed": false,
    "ExecuteTime": {
     "end_time": "2024-01-02T19:29:30.575550Z",
     "start_time": "2024-01-02T19:29:25.545515800Z"
    }
   },
   "execution_count": 17
  },
  {
   "cell_type": "code",
   "execution_count": 18,
   "metadata": {
    "ExecuteTime": {
     "end_time": "2024-01-02T19:41:57.278984600Z",
     "start_time": "2024-01-02T19:29:33.536328500Z"
    }
   },
   "outputs": [],
   "source": [
    "model = SentenceTransformer(\"all-MiniLM-L6-v2\")\n",
    "encoding = model.encode(df[\"overview\"].to_numpy().astype(str))"
   ]
  },
  {
   "cell_type": "code",
   "outputs": [],
   "source": [
    "with open(r\".\\encoding.npy\", \"wb\") as f:\n",
    "    np.save(f, encoding)"
   ],
   "metadata": {
    "collapsed": false,
    "ExecuteTime": {
     "end_time": "2024-01-02T19:41:57.325012600Z",
     "start_time": "2024-01-02T19:41:57.280490900Z"
    }
   },
   "execution_count": 19
  },
  {
   "cell_type": "code",
   "execution_count": 20,
   "metadata": {
    "ExecuteTime": {
     "end_time": "2024-01-02T19:42:37.531982800Z",
     "start_time": "2024-01-02T19:42:30.610532600Z"
    }
   },
   "outputs": [],
   "source": [
    "cos_sim = util.cos_sim(encoding, encoding)"
   ]
  },
  {
   "cell_type": "code",
   "execution_count": 21,
   "metadata": {
    "ExecuteTime": {
     "end_time": "2024-01-02T19:42:52.290831600Z",
     "start_time": "2024-01-02T19:42:40.193351300Z"
    }
   },
   "outputs": [],
   "source": [
    "cos_sim_np = (cos_sim * 100).numpy().astype(int)\n",
    "np.fill_diagonal(cos_sim_np, -100)"
   ]
  },
  {
   "cell_type": "code",
   "outputs": [],
   "source": [
    "with open(r\".\\cos_sim_desc.npy\", \"wb\") as f:\n",
    "    np.save(f, cos_sim)"
   ],
   "metadata": {
    "collapsed": false,
    "ExecuteTime": {
     "end_time": "2024-01-02T20:17:51.694193400Z",
     "start_time": "2024-01-02T20:17:43.619129800Z"
    }
   },
   "execution_count": 26
  },
  {
   "cell_type": "code",
   "outputs": [],
   "source": [],
   "metadata": {
    "collapsed": false
   },
   "execution_count": null
  },
  {
   "cell_type": "code",
   "outputs": [
    {
     "data": {
      "text/plain": "8649    The Hobbit\nName: title, dtype: object"
     },
     "execution_count": 24,
     "metadata": {},
     "output_type": "execute_result"
    }
   ],
   "source": [
    "df[\"title\"][df.title == \"The Hobbit\"]"
   ],
   "metadata": {
    "collapsed": false,
    "ExecuteTime": {
     "end_time": "2024-01-02T19:43:29.829783700Z",
     "start_time": "2024-01-02T19:43:29.823783400Z"
    }
   },
   "execution_count": 24
  },
  {
   "cell_type": "code",
   "execution_count": 25,
   "metadata": {
    "ExecuteTime": {
     "end_time": "2024-01-02T19:43:40.547028200Z",
     "start_time": "2024-01-02T19:43:40.535966600Z"
    }
   },
   "outputs": [
    {
     "name": "stdout",
     "output_type": "stream",
     "text": [
      "The Hobbit\n",
      "\n",
      "====\n",
      "\n",
      "The Hobbit: An Unexpected Journey\n",
      "The Hobbit: The Desolation of Smaug\n",
      "The Hobbit: The Battle of the Five Armies\n",
      "The Lord of the Rings: The Fellowship of the Ring\n",
      "The Lord of the Rings: The Two Towers\n",
      "The Lord of the Rings: The Return of the King\n",
      "The Lord of the Rings\n",
      "The Return of the King\n",
      "SAGA: Curse of the Shadow\n",
      "The Dragon Spell\n",
      "\n",
      "====\n",
      "\n",
      "Bilbo Baggins the Hobbit was just minding his own business, when his occasional visitor Gandalf the Wizard drops in one night. One by one, a whole group of dwarves drop in, and before he knows it, Bilbo has joined their quest to reclaim their kingdom, taken from them by the evil dragon Smaug. The only problem is that Gandalf has told the dwarves that Bilbo is an expert burglar, but he isn't...   keywords: elves dwarves orcs rivendell robbery gold magic spider eagle dragon\n",
      "\n",
      "====\n",
      "\n",
      "Bilbo Baggins, a hobbit enjoying his quiet life, is swept into an epic quest by Gandalf the Grey and thirteen dwarves who seek to reclaim their mountain home from Smaug, the dragon.   keywords: riddle elves dwarves orcs middle-earth (tolkien) hobbit mountain wizard journey ring goblin courage giant tunnel underground lake buried treasure climbing a tree invisibility ancient gnomes\n",
      "\n",
      "The Dwarves, Bilbo and Gandalf have successfully escaped the Misty Mountains, and Bilbo has gained the One Ring. They all continue their journey to get their gold back from the Dragon, Smaug.   keywords: elves dwarves orcs hobbit dragon wizard sword and sorcery\n",
      "\n",
      "Immediately after the events of The Desolation of Smaug, Bilbo and the dwarves try to defend Erebor's mountain of treasure from others who claim it: the men of the ruined Laketown and the elves of Mirkwood. Meanwhile an army of Orcs led by Azog the Defiler is marching on Erebor, fueled by the rise of the dark lord Sauron. Dwarves, elves and men must unite, and the hope for Middle-Earth falls into Bilbo's hands.   keywords: corruption elves dwarves orcs middle-earth (tolkien) hobbit dragon battle unlikely friendship epic battle sword and sorcery\n",
      "\n",
      "Young hobbit Frodo Baggins, after inheriting a mysterious ring from his uncle Bilbo, must leave his home in order to keep it from falling into the hands of its evil creator. Along the way, a fellowship is formed to protect the ringbearer and make sure that the ring arrives at its final destination: Mt. Doom, the only place where it can be destroyed.   keywords: elves dwarves orcs middle-earth (tolkien) hobbit based on novel mountain fireworks castle volcano password death of a friend uncle mirror wizard sword and sorcery\n",
      "\n",
      "Frodo and Sam are trekking to Mordor to destroy the One Ring of Power while Gimli, Legolas and Aragorn search for the orc-captured Merry and Pippin. All along, nefarious wizard Saruman awaits the Fellowship members at the Orthanc Tower in Isengard.   keywords: elves orcs middle-earth (tolkien) hobbit based on novel explosive cave fort army mission attack guide wizard ring sword and sorcery\n",
      "\n",
      "Aragorn is revealed as the heir to the ancient kings as he, Gandalf and the other members of the broken fellowship struggle to save Gondor from Sauron's forces. Meanwhile, Frodo and Sam bring the ring closer to the heart of Mordor, the dark lord's realm.   keywords: elves orcs middle-earth (tolkien) based on novel suspicion bravery war honor troll brutality violence ghost end of trilogy quest sword and sorcery\n",
      "\n",
      "The Fellowship of the Ring embark on a journey to destroy the One Ring and end Sauron's reign over Middle-earth.   keywords: elves dwarves hobbit mission\n",
      "\n",
      "Two Hobbits struggle to destroy the Ring in Mount Doom while their friends desperately fight evil Lord Sauron's forces in a final battle.   keywords: elves orcs hobbit shire tower\n",
      "\n",
      "A secret cabal, The Shadow, works to bring about the return of Goth Azul - the Undead God - in the rich world of SAGA, populated by elves, orcs, dwarves and dragons.  A ruthless elven bounty huntress (Nemyt) shoots down the dragon ridden by the fugitive orc shaman, Fangtor Bloodmoon. When Fangtor refuses to surrender quietly, the huntress must battle for her own life against the dangerous villain, and comes away with more than just his head.   keywords: elves dwarves orcs magic knight medieval\n",
      "\n",
      "Little Nicky, the son of the Tanner, a famous strongman, has made up his mind, that he can conquer the dragon as his father did long ago. Against prohibition of his father, Nicky has managed to get into trouble and now it depends only on his courage, whether he defeats the resurgent dragon and returns home from the magic world.   keywords:\n"
     ]
    }
   ],
   "source": [
    "print(\n",
    "    df[\"title\"][8649],\n",
    "    \"\\n====\\n\",\n",
    "    \"\\n\".join(df[\"title\"][reversed(cos_sim_np[8649].argsort()[-10:])].to_numpy()),\n",
    "    \"\\n====\\n\",\n",
    "    df[\"overview\"][8649],\n",
    "    \"\\n====\\n\",\n",
    "    \"\\n\\n\".join(df[\"overview\"][reversed(cos_sim_np[8649].argsort()[-10:])].to_numpy()),\n",
    "    sep=\"\\n\",\n",
    ")"
   ]
  },
  {
   "cell_type": "code",
   "outputs": [],
   "source": [
    "release = pd.to_datetime(df.release_date)\n",
    "release = release - release.min()"
   ],
   "metadata": {
    "collapsed": false
   },
   "execution_count": null
  },
  {
   "cell_type": "code",
   "outputs": [],
   "source": [
    "release = cosine_similarity(np.stack([release.to_numpy(), release.to_numpy()], axis=1))"
   ],
   "metadata": {
    "collapsed": false
   },
   "execution_count": null
  },
  {
   "cell_type": "code",
   "outputs": [],
   "source": [
    "release.shape"
   ],
   "metadata": {
    "collapsed": false
   },
   "execution_count": null
  },
  {
   "cell_type": "code",
   "outputs": [],
   "source": [
    "with open(r\".\\similarity.npy\", \"rb\") as f:\n",
    "    similarity = np.load(f)"
   ],
   "metadata": {
    "collapsed": false
   },
   "execution_count": null
  },
  {
   "cell_type": "code",
   "outputs": [],
   "source": [
    "np.median(cos_sim_np)"
   ],
   "metadata": {
    "collapsed": false
   },
   "execution_count": null
  },
  {
   "cell_type": "code",
   "execution_count": null,
   "metadata": {},
   "outputs": [],
   "source": [
    "sum_cos = cos_sim_np + (similarity // 4)"
   ]
  },
  {
   "cell_type": "code",
   "execution_count": null,
   "metadata": {},
   "outputs": [],
   "source": [
    "sum_cos = np.array(sum_cos)"
   ]
  },
  {
   "cell_type": "code",
   "execution_count": null,
   "metadata": {},
   "outputs": [],
   "source": [
    "sum_cos"
   ]
  },
  {
   "cell_type": "code",
   "outputs": [],
   "source": [
    "df[\"title\"][df.title == \"Maleficent\"]"
   ],
   "metadata": {
    "collapsed": false
   },
   "execution_count": null
  },
  {
   "cell_type": "code",
   "execution_count": null,
   "metadata": {},
   "outputs": [],
   "source": [
    "print(\n",
    "    df[\"title\"][8614],\n",
    "    \"\\n====\\n\",\n",
    "    \"\\n\".join(df[\"title\"][reversed(sum_cos[8614].argsort()[-15:])].to_numpy()),\n",
    "    \"\\n====\\n\",\n",
    "    df[\"overview\"][8614],\n",
    "    \"\\n====\\n\",\n",
    "    \"\\n\\n\".join(df[\"overview\"][reversed(sum_cos[8614].argsort()[-15:])].to_numpy()),\n",
    "    sep=\"\\n\",\n",
    ")"
   ]
  },
  {
   "cell_type": "code",
   "outputs": [],
   "source": [],
   "metadata": {
    "collapsed": false
   },
   "execution_count": null
  }
 ],
 "metadata": {
  "kernelspec": {
   "display_name": "Python 3",
   "language": "python",
   "name": "python3"
  },
  "language_info": {
   "codemirror_mode": {
    "name": "ipython",
    "version": 3
   },
   "file_extension": ".py",
   "mimetype": "text/x-python",
   "name": "python",
   "nbconvert_exporter": "python",
   "pygments_lexer": "ipython3",
   "version": "3.10.11"
  }
 },
 "nbformat": 4,
 "nbformat_minor": 2
}
