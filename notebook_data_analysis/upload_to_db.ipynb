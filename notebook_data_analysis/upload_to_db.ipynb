{
 "cells": [
  {
   "cell_type": "code",
   "outputs": [],
   "source": [
    "import os\n",
    "\n",
    "import numpy as np\n",
    "import pandas as pd\n",
    "from dotenv import load_dotenv\n",
    "from sqlalchemy import create_engine, text\n",
    "from sqlalchemy.types import ARRAY, Integer, String"
   ],
   "metadata": {
    "collapsed": false,
    "ExecuteTime": {
     "end_time": "2024-01-10T19:11:26.901753729Z",
     "start_time": "2024-01-10T19:11:26.601090795Z"
    }
   },
   "id": "ce365a61a466fc42",
   "execution_count": 1
  },
  {
   "cell_type": "code",
   "outputs": [],
   "source": [
    "df_all_movies = pd.read_csv(\"./custom_csv/movies_cleaned.csv\")\n",
    "df_netflix_movies = pd.read_csv(\"./custom_csv/movies_combined.csv\")"
   ],
   "metadata": {
    "collapsed": false,
    "ExecuteTime": {
     "end_time": "2024-01-10T19:11:27.556069588Z",
     "start_time": "2024-01-10T19:11:27.318939630Z"
    }
   },
   "id": "b3c230d0a8e7862c",
   "execution_count": 2
  },
  {
   "cell_type": "code",
   "outputs": [],
   "source": [
    "with open(\"./similarity_genre.npy\", \"rb\") as f:\n",
    "    similarity_genres = np.load(f)\n",
    "\n",
    "with open(\"./similarity_embedding_keywords.npy\", \"rb\") as f:\n",
    "    similarity_embedding_keywords = np.load(f)\n",
    "\n",
    "with open(\"./similarity_embedding_overview.npy\", \"rb\") as f:\n",
    "    similarity_embedding_overview = np.load(f)"
   ],
   "metadata": {
    "collapsed": false,
    "ExecuteTime": {
     "end_time": "2024-01-10T19:11:28.295122268Z",
     "start_time": "2024-01-10T19:11:28.083895774Z"
    }
   },
   "id": "b8facfbfa572421",
   "execution_count": 3
  },
  {
   "cell_type": "code",
   "outputs": [],
   "source": [
    "df_genres = (\n",
    "    (\n",
    "        pd.DataFrame(\n",
    "            np.round(similarity_genres, 2),\n",
    "            columns=df_netflix_movies.id.to_numpy(),\n",
    "            index=df_all_movies.id.to_numpy(),\n",
    "        ).rename_axis(\"id\")\n",
    "        * 100\n",
    "    )\n",
    "    .round()\n",
    "    .astype(int)\n",
    ")\n",
    "df_overview = (\n",
    "    (\n",
    "        pd.DataFrame(\n",
    "            np.round(similarity_embedding_overview, 2),\n",
    "            columns=df_netflix_movies.id.to_numpy(),\n",
    "            index=df_all_movies.id.to_numpy(),\n",
    "        ).rename_axis(\"id\")\n",
    "        * 100\n",
    "    )\n",
    "    .round()\n",
    "    .astype(int)\n",
    ")\n",
    "df_keywords = (\n",
    "    (\n",
    "        pd.DataFrame(\n",
    "            np.round(similarity_embedding_keywords, 2),\n",
    "            columns=df_netflix_movies.id.to_numpy(),\n",
    "            index=df_all_movies.id.to_numpy(),\n",
    "        ).rename_axis(\"id\")\n",
    "        * 100\n",
    "    )\n",
    "    .round()\n",
    "    .astype(int)\n",
    ")"
   ],
   "metadata": {
    "collapsed": false,
    "ExecuteTime": {
     "end_time": "2024-01-10T19:11:30.301173136Z",
     "start_time": "2024-01-10T19:11:28.564856934Z"
    }
   },
   "id": "bfd65a54b060aef5",
   "execution_count": 4
  },
  {
   "cell_type": "markdown",
   "source": [],
   "metadata": {
    "collapsed": false
   },
   "id": "b0d2803859930674"
  },
  {
   "cell_type": "code",
   "outputs": [],
   "source": [
    "df_all_movies = df_all_movies.loc[:, [\"id\", \"title_dated\"]]\n",
    "df_all_movies.rename(columns={\"title_dated\": \"title\"}, inplace=True)"
   ],
   "metadata": {
    "collapsed": false,
    "ExecuteTime": {
     "end_time": "2024-01-10T19:11:30.310794308Z",
     "start_time": "2024-01-10T19:11:30.296309225Z"
    }
   },
   "id": "c21f89f9ba9149fe",
   "execution_count": 5
  },
  {
   "cell_type": "code",
   "outputs": [],
   "source": [
    "df_genres.index = df_genres.index.astype(str)\n",
    "df_overview.index = df_overview.index.astype(str)\n",
    "df_keywords.index = df_keywords.index.astype(str)\n",
    "df_all_movies.id = df_all_movies.id.astype(str)"
   ],
   "metadata": {
    "collapsed": false,
    "ExecuteTime": {
     "end_time": "2024-01-10T19:11:30.358980990Z",
     "start_time": "2024-01-10T19:11:30.306377852Z"
    }
   },
   "id": "2812a019692bd880",
   "execution_count": 6
  },
  {
   "cell_type": "code",
   "outputs": [],
   "source": [
    "# df_all_movies.to_csv(\"./custom_csv/titles.csv\", index=False)\n",
    "# df_genres.to_csv(\"./custom_csv/genres.csv\")\n",
    "# df_keywords.to_csv(\"./custom_csv/kw.csv\")\n",
    "# df_overview.to_csv(\"./custom_csv/ow.csv\")"
   ],
   "metadata": {
    "collapsed": false,
    "ExecuteTime": {
     "end_time": "2024-01-10T19:11:30.365751844Z",
     "start_time": "2024-01-10T19:11:30.360767362Z"
    }
   },
   "id": "ecf49071d61435ad",
   "execution_count": 7
  },
  {
   "cell_type": "code",
   "outputs": [],
   "source": [
    "df_table = pd.DataFrame(df_all_movies.id.to_numpy().astype(str), columns=[\"id\"])"
   ],
   "metadata": {
    "collapsed": false,
    "ExecuteTime": {
     "end_time": "2024-01-10T19:11:30.378467653Z",
     "start_time": "2024-01-10T19:11:30.363796580Z"
    }
   },
   "id": "e8c294432b40ca99",
   "execution_count": 8
  },
  {
   "cell_type": "code",
   "outputs": [],
   "source": [
    "df_table[\"genre\"] = 0\n",
    "df_table[\"keywords\"] = 0\n",
    "df_table[\"overview\"] = 0\n",
    "df_table[\"genre\"] = df_table.loc[:, [\"genre\"]].apply(\n",
    "    lambda x: df_genres.iloc[x.name, :].tolist(), axis=1\n",
    ")\n",
    "df_table[\"keywords\"] = (\n",
    "    df_table.loc[:, [\"keywords\"]]\n",
    "    .apply(lambda x: df_keywords.iloc[x.name, :].tolist(), axis=1)\n",
    "    .tolist()\n",
    ")\n",
    "df_table[\"overview\"] = (\n",
    "    df_table.loc[:, [\"overview\"]]\n",
    "    .apply(lambda x: df_overview.iloc[x.name, :].tolist(), axis=1)\n",
    "    .tolist()\n",
    ")"
   ],
   "metadata": {
    "collapsed": false,
    "ExecuteTime": {
     "end_time": "2024-01-10T19:11:39.341787937Z",
     "start_time": "2024-01-10T19:11:30.825797813Z"
    }
   },
   "id": "147d02a04102db24",
   "execution_count": 9
  },
  {
   "cell_type": "code",
   "outputs": [
    {
     "data": {
      "text/plain": "Index(['id', 'title'], dtype='object')"
     },
     "execution_count": 10,
     "metadata": {},
     "output_type": "execute_result"
    }
   ],
   "source": [
    "df_all_movies.columns"
   ],
   "metadata": {
    "collapsed": false,
    "ExecuteTime": {
     "end_time": "2024-01-10T19:11:39.346823760Z",
     "start_time": "2024-01-10T19:11:39.344601402Z"
    }
   },
   "id": "12e480f40c756abc",
   "execution_count": 10
  },
  {
   "cell_type": "code",
   "outputs": [],
   "source": [
    "df_table[\"title\"] = df_all_movies[\"title\"]"
   ],
   "metadata": {
    "collapsed": false,
    "ExecuteTime": {
     "end_time": "2024-01-10T19:11:39.351732501Z",
     "start_time": "2024-01-10T19:11:39.347066133Z"
    }
   },
   "id": "9d47dfa79b30f24a",
   "execution_count": 11
  },
  {
   "cell_type": "code",
   "outputs": [
    {
     "data": {
      "text/plain": "       id                                              genre  \\\n0  315946  [71, 58, 71, 58, 71, 100, 0, 0, 0, 0, 0, 0, 0,...   \n1  194079  [71, 58, 71, 58, 71, 100, 0, 0, 0, 0, 0, 0, 0,...   \n2  426903  [71, 58, 71, 58, 71, 100, 0, 0, 0, 0, 0, 0, 0,...   \n3  159897  [71, 58, 71, 58, 71, 100, 0, 0, 0, 0, 0, 0, 0,...   \n4   96882  [71, 58, 71, 58, 71, 100, 0, 0, 0, 0, 0, 0, 0,...   \n\n                                            keywords  \\\n0  [7, 7, 7, 33, 29, 11, 21, 7, 9, 7, 30, 6, 29, ...   \n1  [7, 7, 7, 33, 30, 6, 37, 7, 27, 7, 37, 23, 46,...   \n2  [13, 13, 13, 19, 16, 13, 33, 13, 29, 13, 27, 3...   \n3  [17, 17, 17, 19, 14, 13, 25, 17, 26, 17, 11, 1...   \n4  [6, 6, 6, 27, 22, 13, 19, 6, 5, 6, 8, 4, 14, 6...   \n\n                                            overview  \\\n0  [30, 16, 8, 1, 10, 2, 4, 47, 11, 10, 27, -4, 4...   \n1  [35, 10, 19, 17, 21, 18, 11, 32, 7, 7, 31, 2, ...   \n2  [25, 14, 22, 16, 11, 16, 7, 0, 5, 4, 1, 8, 2, ...   \n3  [29, 11, 26, 12, 21, 15, 7, 18, 4, 13, 22, 2, ...   \n4  [30, 13, 30, 17, 26, 23, 17, 19, 10, 22, 29, 1...   \n\n                         title  \n0             Passage of Venus  \n1   Sallie Gardner at a Gallop  \n2              Buffalo Running  \n3  Man Walking Around a Corner  \n4             Accordion Player  ",
      "text/html": "<div>\n<style scoped>\n    .dataframe tbody tr th:only-of-type {\n        vertical-align: middle;\n    }\n\n    .dataframe tbody tr th {\n        vertical-align: top;\n    }\n\n    .dataframe thead th {\n        text-align: right;\n    }\n</style>\n<table border=\"1\" class=\"dataframe\">\n  <thead>\n    <tr style=\"text-align: right;\">\n      <th></th>\n      <th>id</th>\n      <th>genre</th>\n      <th>keywords</th>\n      <th>overview</th>\n      <th>title</th>\n    </tr>\n  </thead>\n  <tbody>\n    <tr>\n      <th>0</th>\n      <td>315946</td>\n      <td>[71, 58, 71, 58, 71, 100, 0, 0, 0, 0, 0, 0, 0,...</td>\n      <td>[7, 7, 7, 33, 29, 11, 21, 7, 9, 7, 30, 6, 29, ...</td>\n      <td>[30, 16, 8, 1, 10, 2, 4, 47, 11, 10, 27, -4, 4...</td>\n      <td>Passage of Venus</td>\n    </tr>\n    <tr>\n      <th>1</th>\n      <td>194079</td>\n      <td>[71, 58, 71, 58, 71, 100, 0, 0, 0, 0, 0, 0, 0,...</td>\n      <td>[7, 7, 7, 33, 30, 6, 37, 7, 27, 7, 37, 23, 46,...</td>\n      <td>[35, 10, 19, 17, 21, 18, 11, 32, 7, 7, 31, 2, ...</td>\n      <td>Sallie Gardner at a Gallop</td>\n    </tr>\n    <tr>\n      <th>2</th>\n      <td>426903</td>\n      <td>[71, 58, 71, 58, 71, 100, 0, 0, 0, 0, 0, 0, 0,...</td>\n      <td>[13, 13, 13, 19, 16, 13, 33, 13, 29, 13, 27, 3...</td>\n      <td>[25, 14, 22, 16, 11, 16, 7, 0, 5, 4, 1, 8, 2, ...</td>\n      <td>Buffalo Running</td>\n    </tr>\n    <tr>\n      <th>3</th>\n      <td>159897</td>\n      <td>[71, 58, 71, 58, 71, 100, 0, 0, 0, 0, 0, 0, 0,...</td>\n      <td>[17, 17, 17, 19, 14, 13, 25, 17, 26, 17, 11, 1...</td>\n      <td>[29, 11, 26, 12, 21, 15, 7, 18, 4, 13, 22, 2, ...</td>\n      <td>Man Walking Around a Corner</td>\n    </tr>\n    <tr>\n      <th>4</th>\n      <td>96882</td>\n      <td>[71, 58, 71, 58, 71, 100, 0, 0, 0, 0, 0, 0, 0,...</td>\n      <td>[6, 6, 6, 27, 22, 13, 19, 6, 5, 6, 8, 4, 14, 6...</td>\n      <td>[30, 13, 30, 17, 26, 23, 17, 19, 10, 22, 29, 1...</td>\n      <td>Accordion Player</td>\n    </tr>\n  </tbody>\n</table>\n</div>"
     },
     "execution_count": 17,
     "metadata": {},
     "output_type": "execute_result"
    }
   ],
   "source": [
    "# df_table.head()"
   ],
   "metadata": {
    "collapsed": false,
    "ExecuteTime": {
     "end_time": "2024-01-10T19:12:04.671687259Z",
     "start_time": "2024-01-10T19:12:04.661002586Z"
    }
   },
   "id": "55b90a8f8b2e0d79",
   "execution_count": 17
  },
  {
   "cell_type": "code",
   "outputs": [],
   "source": [
    "load_dotenv(\"./.env\")\n",
    "engine = create_engine(os.environ[\"DATABASE_URL\"])"
   ],
   "metadata": {
    "collapsed": false,
    "ExecuteTime": {
     "end_time": "2024-01-10T19:12:41.861667445Z",
     "start_time": "2024-01-10T19:12:41.848289648Z"
    }
   },
   "id": "5a16b372faa78099",
   "execution_count": 20
  },
  {
   "cell_type": "code",
   "outputs": [],
   "source": [
    "df_table = df_table.loc[:, [\"id\", \"title\", \"genre\", \"keywords\", \"overview\"]]"
   ],
   "metadata": {
    "collapsed": false,
    "ExecuteTime": {
     "end_time": "2024-01-10T19:12:48.070802347Z",
     "start_time": "2024-01-10T19:12:48.064822132Z"
    }
   },
   "id": "9ee6dd526613474e",
   "execution_count": 22
  },
  {
   "cell_type": "code",
   "outputs": [
    {
     "data": {
      "text/plain": "       id                        title  \\\n0  315946             Passage of Venus   \n1  194079   Sallie Gardner at a Gallop   \n2  426903              Buffalo Running   \n3  159897  Man Walking Around a Corner   \n4   96882             Accordion Player   \n\n                                               genre  \\\n0  [71, 58, 71, 58, 71, 100, 0, 0, 0, 0, 0, 0, 0,...   \n1  [71, 58, 71, 58, 71, 100, 0, 0, 0, 0, 0, 0, 0,...   \n2  [71, 58, 71, 58, 71, 100, 0, 0, 0, 0, 0, 0, 0,...   \n3  [71, 58, 71, 58, 71, 100, 0, 0, 0, 0, 0, 0, 0,...   \n4  [71, 58, 71, 58, 71, 100, 0, 0, 0, 0, 0, 0, 0,...   \n\n                                            keywords  \\\n0  [7, 7, 7, 33, 29, 11, 21, 7, 9, 7, 30, 6, 29, ...   \n1  [7, 7, 7, 33, 30, 6, 37, 7, 27, 7, 37, 23, 46,...   \n2  [13, 13, 13, 19, 16, 13, 33, 13, 29, 13, 27, 3...   \n3  [17, 17, 17, 19, 14, 13, 25, 17, 26, 17, 11, 1...   \n4  [6, 6, 6, 27, 22, 13, 19, 6, 5, 6, 8, 4, 14, 6...   \n\n                                            overview  \n0  [30, 16, 8, 1, 10, 2, 4, 47, 11, 10, 27, -4, 4...  \n1  [35, 10, 19, 17, 21, 18, 11, 32, 7, 7, 31, 2, ...  \n2  [25, 14, 22, 16, 11, 16, 7, 0, 5, 4, 1, 8, 2, ...  \n3  [29, 11, 26, 12, 21, 15, 7, 18, 4, 13, 22, 2, ...  \n4  [30, 13, 30, 17, 26, 23, 17, 19, 10, 22, 29, 1...  ",
      "text/html": "<div>\n<style scoped>\n    .dataframe tbody tr th:only-of-type {\n        vertical-align: middle;\n    }\n\n    .dataframe tbody tr th {\n        vertical-align: top;\n    }\n\n    .dataframe thead th {\n        text-align: right;\n    }\n</style>\n<table border=\"1\" class=\"dataframe\">\n  <thead>\n    <tr style=\"text-align: right;\">\n      <th></th>\n      <th>id</th>\n      <th>title</th>\n      <th>genre</th>\n      <th>keywords</th>\n      <th>overview</th>\n    </tr>\n  </thead>\n  <tbody>\n    <tr>\n      <th>0</th>\n      <td>315946</td>\n      <td>Passage of Venus</td>\n      <td>[71, 58, 71, 58, 71, 100, 0, 0, 0, 0, 0, 0, 0,...</td>\n      <td>[7, 7, 7, 33, 29, 11, 21, 7, 9, 7, 30, 6, 29, ...</td>\n      <td>[30, 16, 8, 1, 10, 2, 4, 47, 11, 10, 27, -4, 4...</td>\n    </tr>\n    <tr>\n      <th>1</th>\n      <td>194079</td>\n      <td>Sallie Gardner at a Gallop</td>\n      <td>[71, 58, 71, 58, 71, 100, 0, 0, 0, 0, 0, 0, 0,...</td>\n      <td>[7, 7, 7, 33, 30, 6, 37, 7, 27, 7, 37, 23, 46,...</td>\n      <td>[35, 10, 19, 17, 21, 18, 11, 32, 7, 7, 31, 2, ...</td>\n    </tr>\n    <tr>\n      <th>2</th>\n      <td>426903</td>\n      <td>Buffalo Running</td>\n      <td>[71, 58, 71, 58, 71, 100, 0, 0, 0, 0, 0, 0, 0,...</td>\n      <td>[13, 13, 13, 19, 16, 13, 33, 13, 29, 13, 27, 3...</td>\n      <td>[25, 14, 22, 16, 11, 16, 7, 0, 5, 4, 1, 8, 2, ...</td>\n    </tr>\n    <tr>\n      <th>3</th>\n      <td>159897</td>\n      <td>Man Walking Around a Corner</td>\n      <td>[71, 58, 71, 58, 71, 100, 0, 0, 0, 0, 0, 0, 0,...</td>\n      <td>[17, 17, 17, 19, 14, 13, 25, 17, 26, 17, 11, 1...</td>\n      <td>[29, 11, 26, 12, 21, 15, 7, 18, 4, 13, 22, 2, ...</td>\n    </tr>\n    <tr>\n      <th>4</th>\n      <td>96882</td>\n      <td>Accordion Player</td>\n      <td>[71, 58, 71, 58, 71, 100, 0, 0, 0, 0, 0, 0, 0,...</td>\n      <td>[6, 6, 6, 27, 22, 13, 19, 6, 5, 6, 8, 4, 14, 6...</td>\n      <td>[30, 13, 30, 17, 26, 23, 17, 19, 10, 22, 29, 1...</td>\n    </tr>\n  </tbody>\n</table>\n</div>"
     },
     "execution_count": 23,
     "metadata": {},
     "output_type": "execute_result"
    }
   ],
   "source": [
    "df_table.head()"
   ],
   "metadata": {
    "collapsed": false,
    "ExecuteTime": {
     "end_time": "2024-01-10T19:12:52.193945844Z",
     "start_time": "2024-01-10T19:12:52.191273351Z"
    }
   },
   "id": "24a6bbc4595983a1",
   "execution_count": 23
  },
  {
   "cell_type": "code",
   "outputs": [
    {
     "data": {
      "text/plain": "395"
     },
     "execution_count": 26,
     "metadata": {},
     "output_type": "execute_result"
    }
   ],
   "source": [
    "df_table.to_sql(\n",
    "    \"movies_scores\",\n",
    "    engine,\n",
    "    # method=\"multi\",\n",
    "    index=False,\n",
    "    if_exists=\"replace\",\n",
    "    dtype={\n",
    "        \"id\": String,\n",
    "        \"title\": String,\n",
    "        \"genre\": ARRAY(Integer),\n",
    "        \"keywords\": ARRAY(Integer),\n",
    "        \"overview\": ARRAY(Integer),\n",
    "    },\n",
    ")"
   ],
   "metadata": {
    "collapsed": false,
    "ExecuteTime": {
     "end_time": "2024-01-10T19:30:00.940762785Z",
     "start_time": "2024-01-10T19:16:07.977631160Z"
    }
   },
   "id": "ca6abf507950e93a",
   "execution_count": 26
  },
  {
   "cell_type": "code",
   "outputs": [],
   "source": [
    "df_netflix_movies = df_netflix_movies[[\"id\", \"title_dated\", \"vote_average\"]]"
   ],
   "metadata": {
    "collapsed": false,
    "ExecuteTime": {
     "end_time": "2024-01-10T19:30:00.946280477Z",
     "start_time": "2024-01-10T19:30:00.940575683Z"
    }
   },
   "id": "d842fa4c3379c66f",
   "execution_count": 27
  },
  {
   "cell_type": "code",
   "outputs": [],
   "source": [
    "df_netflix_movies = df_netflix_movies.rename(\n",
    "    columns={\"title_dated\": \"title\", \"vote_average\": \"review_score\"}\n",
    ")"
   ],
   "metadata": {
    "collapsed": false,
    "ExecuteTime": {
     "end_time": "2024-01-10T19:30:00.955678498Z",
     "start_time": "2024-01-10T19:30:00.942343015Z"
    }
   },
   "id": "5046c1ff9f5bd077",
   "execution_count": 28
  },
  {
   "cell_type": "code",
   "outputs": [],
   "source": [
    "df_netflix_movies[\"review_score\"] = (df_netflix_movies[\"review_score\"] * 10).astype(int)"
   ],
   "metadata": {
    "collapsed": false,
    "ExecuteTime": {
     "end_time": "2024-01-10T19:30:00.957982718Z",
     "start_time": "2024-01-10T19:30:00.953479330Z"
    }
   },
   "id": "508f0f3550ff20f5",
   "execution_count": 29
  },
  {
   "cell_type": "code",
   "outputs": [],
   "source": [
    "df_netflix_movies"
   ],
   "metadata": {
    "collapsed": false
   },
   "id": "f456b03bfb95682c",
   "execution_count": null
  },
  {
   "cell_type": "code",
   "outputs": [
    {
     "data": {
      "text/plain": "1723"
     },
     "execution_count": 30,
     "metadata": {},
     "output_type": "execute_result"
    }
   ],
   "source": [
    "df_netflix_movies.to_sql(\n",
    "    \"netflix\",\n",
    "    engine,\n",
    "    method=\"multi\",\n",
    "    index=True,\n",
    "    if_exists=\"replace\",\n",
    "    dtype={\"index\": Integer, \"id\": String, \"title\": String, \"vote_average\": Integer},\n",
    ")"
   ],
   "metadata": {
    "collapsed": false,
    "ExecuteTime": {
     "end_time": "2024-01-10T19:30:08.297323910Z",
     "start_time": "2024-01-10T19:30:01.003638420Z"
    }
   },
   "id": "61a684838730ee0b",
   "execution_count": 30
  },
  {
   "cell_type": "code",
   "outputs": [],
   "source": [
    "with engine.connect() as con:\n",
    "    stuff = con.execute(\n",
    "        text(\n",
    "            \"\"\"\n",
    "                        SELECT keywords, genre, overview\n",
    "                        FROM movies_scores\n",
    "                        WHERE movies_scores.id = '315946'\n",
    "                        \"\"\"\n",
    "        )\n",
    "    )"
   ],
   "metadata": {
    "collapsed": false,
    "ExecuteTime": {
     "end_time": "2024-01-10T19:30:17.691493299Z",
     "start_time": "2024-01-10T19:30:08.298901290Z"
    }
   },
   "id": "179e87e23dbbbe7f",
   "execution_count": 31
  },
  {
   "cell_type": "code",
   "outputs": [],
   "source": [
    "test = np.array(stuff.fetchone())"
   ],
   "metadata": {
    "collapsed": false,
    "ExecuteTime": {
     "end_time": "2024-01-10T19:30:31.734076792Z",
     "start_time": "2024-01-10T19:30:31.728453039Z"
    }
   },
   "id": "b6f2b7a09fa19102",
   "execution_count": 32
  },
  {
   "cell_type": "code",
   "outputs": [],
   "source": [
    "top_ten = list(np.sum(test, axis=0).argsort()[-10:].astype(str))"
   ],
   "metadata": {
    "collapsed": false,
    "ExecuteTime": {
     "end_time": "2024-01-10T19:30:32.582604617Z",
     "start_time": "2024-01-10T19:30:32.581516683Z"
    }
   },
   "id": "6a8832f7292c3069",
   "execution_count": 33
  },
  {
   "cell_type": "code",
   "outputs": [
    {
     "data": {
      "text/plain": "['1507', '1279', '1201', '1652', '1298', '1565', '1358', '1236', '548', '1489']"
     },
     "execution_count": 34,
     "metadata": {},
     "output_type": "execute_result"
    }
   ],
   "source": [
    "top_ten"
   ],
   "metadata": {
    "collapsed": false,
    "ExecuteTime": {
     "end_time": "2024-01-10T19:30:32.929680462Z",
     "start_time": "2024-01-10T19:30:32.926102355Z"
    }
   },
   "id": "9e3194c07b7c3020",
   "execution_count": 34
  },
  {
   "cell_type": "code",
   "outputs": [
    {
     "data": {
      "text/plain": "array([24, 19, 28, 26, 33, 23, 27, 19, 41, 30])"
     },
     "execution_count": 35,
     "metadata": {},
     "output_type": "execute_result"
    }
   ],
   "source": [
    "test[0, list(np.sum(test, axis=0).argsort()[-10:])]"
   ],
   "metadata": {
    "collapsed": false,
    "ExecuteTime": {
     "end_time": "2024-01-10T19:30:33.520273347Z",
     "start_time": "2024-01-10T19:30:33.514688144Z"
    }
   },
   "id": "d3addc025f1be166",
   "execution_count": 35
  },
  {
   "cell_type": "code",
   "outputs": [],
   "source": [
    "with engine.connect() as con:\n",
    "    stuff = con.execute(\n",
    "        text(\n",
    "            f\"\"\"\n",
    "                        SELECT title\n",
    "                        FROM netflix\n",
    "                        WHERE netflix.index in ({\",\".join(top_ten)})\n",
    "                        \"\"\"\n",
    "        )\n",
    "    )"
   ],
   "metadata": {
    "collapsed": false,
    "ExecuteTime": {
     "end_time": "2024-01-10T19:30:35.974807099Z",
     "start_time": "2024-01-10T19:30:35.810906998Z"
    }
   },
   "id": "dc62d36bd54ead40",
   "execution_count": 36
  },
  {
   "cell_type": "code",
   "outputs": [
    {
     "data": {
      "text/plain": "[('The Pixar Story',),\n ('Raiders!: The Story of the Greatest Fan Film Ever Made',),\n ('Catching the Sun',),\n ('Miss Sharon Jones!',),\n ('Elstree 1976',),\n ('Sky Ladder: The Art of Cai Guo-Qiang',),\n ('Into the Inferno',),\n ('Silicon Cowboys',),\n ('Harry Benson: Shoot First',),\n ('Chasing Coral',)]"
     },
     "execution_count": 37,
     "metadata": {},
     "output_type": "execute_result"
    }
   ],
   "source": [
    "stuff.all()"
   ],
   "metadata": {
    "collapsed": false,
    "ExecuteTime": {
     "end_time": "2024-01-10T19:30:36.787769142Z",
     "start_time": "2024-01-10T19:30:36.783581838Z"
    }
   },
   "id": "b2bf8c683518920e",
   "execution_count": 37
  },
  {
   "cell_type": "code",
   "outputs": [],
   "source": [],
   "metadata": {
    "collapsed": false
   },
   "id": "f3dca7a770f30bdb"
  }
 ],
 "metadata": {
  "kernelspec": {
   "display_name": "Python 3",
   "language": "python",
   "name": "python3"
  },
  "language_info": {
   "codemirror_mode": {
    "name": "ipython",
    "version": 2
   },
   "file_extension": ".py",
   "mimetype": "text/x-python",
   "name": "python",
   "nbconvert_exporter": "python",
   "pygments_lexer": "ipython2",
   "version": "2.7.6"
  }
 },
 "nbformat": 4,
 "nbformat_minor": 5
}
