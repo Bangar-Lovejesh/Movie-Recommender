{
 "cells": [
  {
   "cell_type": "markdown",
   "source": [
    "# Data preparation notebook for recommender project"
   ],
   "metadata": {
    "collapsed": false
   },
   "id": "756f42ea9db3e076"
  },
  {
   "cell_type": "code",
   "outputs": [],
   "source": [
    "import ast\n",
    "from pathlib import Path\n",
    "\n",
    "import numpy as np\n",
    "\n",
    "# You need a kaggle account to use this\n",
    "# https://pypi.org/project/opendatasets/\n",
    "import opendatasets as od\n",
    "import pandas as pd\n",
    "from sentence_transformers import SentenceTransformer, util\n",
    "from sklearn.metrics.pairwise import cosine_similarity\n",
    "from sklearn.preprocessing import MultiLabelBinarizer"
   ],
   "metadata": {
    "collapsed": false,
    "ExecuteTime": {
     "end_time": "2024-05-22T18:04:19.909614700Z",
     "start_time": "2024-05-22T18:04:19.896738300Z"
    }
   },
   "id": "8286ccb0b1c61341",
   "execution_count": 2
  },
  {
   "cell_type": "code",
   "outputs": [],
   "source": [
    "od.download(\"https://www.kaggle.com/datasets/shivamb/netflix-shows\")\n",
    "od.download(\"https://www.kaggle.com/datasets/rounakbanik/the-movies-dataset\")"
   ],
   "metadata": {
    "collapsed": false,
    "is_executing": true
   },
   "id": "be3ca0c5c71695d6",
   "execution_count": null
  },
  {
   "cell_type": "code",
   "outputs": [],
   "source": [
    "netflix_movies = pd.read_csv(\n",
    "    \"./netflix-shows/netflix_titles.csv\", usecols=[\"title\", \"type\", \"release_year\"]\n",
    ")\n",
    "netflix_movies = netflix_movies[netflix_movies[\"type\"] == \"Movie\"]"
   ],
   "metadata": {
    "collapsed": false,
    "ExecuteTime": {
     "end_time": "2024-05-22T18:07:44.995219600Z",
     "start_time": "2024-05-22T18:07:44.852020Z"
    }
   },
   "id": "69677dd4746f9f93",
   "execution_count": 4
  },
  {
   "cell_type": "code",
   "outputs": [
    {
     "ename": "FileNotFoundError",
     "evalue": "[Errno 2] No such file or directory: './the-movies-dataset/movies_metadata.csv'",
     "output_type": "error",
     "traceback": [
      "\u001B[1;31m---------------------------------------------------------------------------\u001B[0m",
      "\u001B[1;31mFileNotFoundError\u001B[0m                         Traceback (most recent call last)",
      "Cell \u001B[1;32mIn[5], line 10\u001B[0m\n\u001B[0;32m      1\u001B[0m cols_to_read \u001B[38;5;241m=\u001B[39m [\n\u001B[0;32m      2\u001B[0m     \u001B[38;5;124m\"\u001B[39m\u001B[38;5;124mid\u001B[39m\u001B[38;5;124m\"\u001B[39m,\n\u001B[0;32m      3\u001B[0m     \u001B[38;5;124m\"\u001B[39m\u001B[38;5;124mtitle\u001B[39m\u001B[38;5;124m\"\u001B[39m,\n\u001B[1;32m   (...)\u001B[0m\n\u001B[0;32m      8\u001B[0m     \u001B[38;5;124m\"\u001B[39m\u001B[38;5;124mvote_average\u001B[39m\u001B[38;5;124m\"\u001B[39m,\n\u001B[0;32m      9\u001B[0m ]\n\u001B[1;32m---> 10\u001B[0m df_raw \u001B[38;5;241m=\u001B[39m \u001B[43mpd\u001B[49m\u001B[38;5;241;43m.\u001B[39;49m\u001B[43mread_csv\u001B[49m\u001B[43m(\u001B[49m\n\u001B[0;32m     11\u001B[0m \u001B[43m    \u001B[49m\u001B[38;5;124;43m\"\u001B[39;49m\u001B[38;5;124;43m./the-movies-dataset/movies_metadata.csv\u001B[39;49m\u001B[38;5;124;43m\"\u001B[39;49m\u001B[43m,\u001B[49m\u001B[43m \u001B[49m\u001B[43musecols\u001B[49m\u001B[38;5;241;43m=\u001B[39;49m\u001B[43mcols_to_read\u001B[49m\n\u001B[0;32m     12\u001B[0m \u001B[43m)\u001B[49m\u001B[38;5;241m.\u001B[39mloc[\n\u001B[0;32m     13\u001B[0m     :,\n\u001B[0;32m     14\u001B[0m     [\n\u001B[0;32m     15\u001B[0m         \u001B[38;5;124m\"\u001B[39m\u001B[38;5;124mid\u001B[39m\u001B[38;5;124m\"\u001B[39m,\n\u001B[0;32m     16\u001B[0m         \u001B[38;5;124m\"\u001B[39m\u001B[38;5;124mtitle\u001B[39m\u001B[38;5;124m\"\u001B[39m,\n\u001B[0;32m     17\u001B[0m         \u001B[38;5;124m\"\u001B[39m\u001B[38;5;124mrelease_date\u001B[39m\u001B[38;5;124m\"\u001B[39m,\n\u001B[0;32m     18\u001B[0m         \u001B[38;5;124m\"\u001B[39m\u001B[38;5;124moriginal_language\u001B[39m\u001B[38;5;124m\"\u001B[39m,\n\u001B[0;32m     19\u001B[0m         \u001B[38;5;124m\"\u001B[39m\u001B[38;5;124mgenres\u001B[39m\u001B[38;5;124m\"\u001B[39m,\n\u001B[0;32m     20\u001B[0m         \u001B[38;5;124m\"\u001B[39m\u001B[38;5;124moverview\u001B[39m\u001B[38;5;124m\"\u001B[39m,\n\u001B[0;32m     21\u001B[0m         \u001B[38;5;124m\"\u001B[39m\u001B[38;5;124mvote_average\u001B[39m\u001B[38;5;124m\"\u001B[39m,\n\u001B[0;32m     22\u001B[0m     ],\n\u001B[0;32m     23\u001B[0m ]\n\u001B[0;32m     25\u001B[0m df \u001B[38;5;241m=\u001B[39m df_raw\u001B[38;5;241m.\u001B[39mcopy()[\u001B[38;5;241m~\u001B[39mdf_raw\u001B[38;5;241m.\u001B[39mduplicated()]\n",
      "File \u001B[1;32mW:\\Projects\\python\\ML\\Movie-Recommender\\.venv\\lib\\site-packages\\pandas\\io\\parsers\\readers.py:948\u001B[0m, in \u001B[0;36mread_csv\u001B[1;34m(filepath_or_buffer, sep, delimiter, header, names, index_col, usecols, dtype, engine, converters, true_values, false_values, skipinitialspace, skiprows, skipfooter, nrows, na_values, keep_default_na, na_filter, verbose, skip_blank_lines, parse_dates, infer_datetime_format, keep_date_col, date_parser, date_format, dayfirst, cache_dates, iterator, chunksize, compression, thousands, decimal, lineterminator, quotechar, quoting, doublequote, escapechar, comment, encoding, encoding_errors, dialect, on_bad_lines, delim_whitespace, low_memory, memory_map, float_precision, storage_options, dtype_backend)\u001B[0m\n\u001B[0;32m    935\u001B[0m kwds_defaults \u001B[38;5;241m=\u001B[39m _refine_defaults_read(\n\u001B[0;32m    936\u001B[0m     dialect,\n\u001B[0;32m    937\u001B[0m     delimiter,\n\u001B[1;32m   (...)\u001B[0m\n\u001B[0;32m    944\u001B[0m     dtype_backend\u001B[38;5;241m=\u001B[39mdtype_backend,\n\u001B[0;32m    945\u001B[0m )\n\u001B[0;32m    946\u001B[0m kwds\u001B[38;5;241m.\u001B[39mupdate(kwds_defaults)\n\u001B[1;32m--> 948\u001B[0m \u001B[38;5;28;01mreturn\u001B[39;00m \u001B[43m_read\u001B[49m\u001B[43m(\u001B[49m\u001B[43mfilepath_or_buffer\u001B[49m\u001B[43m,\u001B[49m\u001B[43m \u001B[49m\u001B[43mkwds\u001B[49m\u001B[43m)\u001B[49m\n",
      "File \u001B[1;32mW:\\Projects\\python\\ML\\Movie-Recommender\\.venv\\lib\\site-packages\\pandas\\io\\parsers\\readers.py:611\u001B[0m, in \u001B[0;36m_read\u001B[1;34m(filepath_or_buffer, kwds)\u001B[0m\n\u001B[0;32m    608\u001B[0m _validate_names(kwds\u001B[38;5;241m.\u001B[39mget(\u001B[38;5;124m\"\u001B[39m\u001B[38;5;124mnames\u001B[39m\u001B[38;5;124m\"\u001B[39m, \u001B[38;5;28;01mNone\u001B[39;00m))\n\u001B[0;32m    610\u001B[0m \u001B[38;5;66;03m# Create the parser.\u001B[39;00m\n\u001B[1;32m--> 611\u001B[0m parser \u001B[38;5;241m=\u001B[39m TextFileReader(filepath_or_buffer, \u001B[38;5;241m*\u001B[39m\u001B[38;5;241m*\u001B[39mkwds)\n\u001B[0;32m    613\u001B[0m \u001B[38;5;28;01mif\u001B[39;00m chunksize \u001B[38;5;129;01mor\u001B[39;00m iterator:\n\u001B[0;32m    614\u001B[0m     \u001B[38;5;28;01mreturn\u001B[39;00m parser\n",
      "File \u001B[1;32mW:\\Projects\\python\\ML\\Movie-Recommender\\.venv\\lib\\site-packages\\pandas\\io\\parsers\\readers.py:1448\u001B[0m, in \u001B[0;36mTextFileReader.__init__\u001B[1;34m(self, f, engine, **kwds)\u001B[0m\n\u001B[0;32m   1445\u001B[0m     \u001B[38;5;28mself\u001B[39m\u001B[38;5;241m.\u001B[39moptions[\u001B[38;5;124m\"\u001B[39m\u001B[38;5;124mhas_index_names\u001B[39m\u001B[38;5;124m\"\u001B[39m] \u001B[38;5;241m=\u001B[39m kwds[\u001B[38;5;124m\"\u001B[39m\u001B[38;5;124mhas_index_names\u001B[39m\u001B[38;5;124m\"\u001B[39m]\n\u001B[0;32m   1447\u001B[0m \u001B[38;5;28mself\u001B[39m\u001B[38;5;241m.\u001B[39mhandles: IOHandles \u001B[38;5;241m|\u001B[39m \u001B[38;5;28;01mNone\u001B[39;00m \u001B[38;5;241m=\u001B[39m \u001B[38;5;28;01mNone\u001B[39;00m\n\u001B[1;32m-> 1448\u001B[0m \u001B[38;5;28mself\u001B[39m\u001B[38;5;241m.\u001B[39m_engine \u001B[38;5;241m=\u001B[39m \u001B[38;5;28;43mself\u001B[39;49m\u001B[38;5;241;43m.\u001B[39;49m\u001B[43m_make_engine\u001B[49m\u001B[43m(\u001B[49m\u001B[43mf\u001B[49m\u001B[43m,\u001B[49m\u001B[43m \u001B[49m\u001B[38;5;28;43mself\u001B[39;49m\u001B[38;5;241;43m.\u001B[39;49m\u001B[43mengine\u001B[49m\u001B[43m)\u001B[49m\n",
      "File \u001B[1;32mW:\\Projects\\python\\ML\\Movie-Recommender\\.venv\\lib\\site-packages\\pandas\\io\\parsers\\readers.py:1705\u001B[0m, in \u001B[0;36mTextFileReader._make_engine\u001B[1;34m(self, f, engine)\u001B[0m\n\u001B[0;32m   1703\u001B[0m     \u001B[38;5;28;01mif\u001B[39;00m \u001B[38;5;124m\"\u001B[39m\u001B[38;5;124mb\u001B[39m\u001B[38;5;124m\"\u001B[39m \u001B[38;5;129;01mnot\u001B[39;00m \u001B[38;5;129;01min\u001B[39;00m mode:\n\u001B[0;32m   1704\u001B[0m         mode \u001B[38;5;241m+\u001B[39m\u001B[38;5;241m=\u001B[39m \u001B[38;5;124m\"\u001B[39m\u001B[38;5;124mb\u001B[39m\u001B[38;5;124m\"\u001B[39m\n\u001B[1;32m-> 1705\u001B[0m \u001B[38;5;28mself\u001B[39m\u001B[38;5;241m.\u001B[39mhandles \u001B[38;5;241m=\u001B[39m \u001B[43mget_handle\u001B[49m\u001B[43m(\u001B[49m\n\u001B[0;32m   1706\u001B[0m \u001B[43m    \u001B[49m\u001B[43mf\u001B[49m\u001B[43m,\u001B[49m\n\u001B[0;32m   1707\u001B[0m \u001B[43m    \u001B[49m\u001B[43mmode\u001B[49m\u001B[43m,\u001B[49m\n\u001B[0;32m   1708\u001B[0m \u001B[43m    \u001B[49m\u001B[43mencoding\u001B[49m\u001B[38;5;241;43m=\u001B[39;49m\u001B[38;5;28;43mself\u001B[39;49m\u001B[38;5;241;43m.\u001B[39;49m\u001B[43moptions\u001B[49m\u001B[38;5;241;43m.\u001B[39;49m\u001B[43mget\u001B[49m\u001B[43m(\u001B[49m\u001B[38;5;124;43m\"\u001B[39;49m\u001B[38;5;124;43mencoding\u001B[39;49m\u001B[38;5;124;43m\"\u001B[39;49m\u001B[43m,\u001B[49m\u001B[43m \u001B[49m\u001B[38;5;28;43;01mNone\u001B[39;49;00m\u001B[43m)\u001B[49m\u001B[43m,\u001B[49m\n\u001B[0;32m   1709\u001B[0m \u001B[43m    \u001B[49m\u001B[43mcompression\u001B[49m\u001B[38;5;241;43m=\u001B[39;49m\u001B[38;5;28;43mself\u001B[39;49m\u001B[38;5;241;43m.\u001B[39;49m\u001B[43moptions\u001B[49m\u001B[38;5;241;43m.\u001B[39;49m\u001B[43mget\u001B[49m\u001B[43m(\u001B[49m\u001B[38;5;124;43m\"\u001B[39;49m\u001B[38;5;124;43mcompression\u001B[39;49m\u001B[38;5;124;43m\"\u001B[39;49m\u001B[43m,\u001B[49m\u001B[43m \u001B[49m\u001B[38;5;28;43;01mNone\u001B[39;49;00m\u001B[43m)\u001B[49m\u001B[43m,\u001B[49m\n\u001B[0;32m   1710\u001B[0m \u001B[43m    \u001B[49m\u001B[43mmemory_map\u001B[49m\u001B[38;5;241;43m=\u001B[39;49m\u001B[38;5;28;43mself\u001B[39;49m\u001B[38;5;241;43m.\u001B[39;49m\u001B[43moptions\u001B[49m\u001B[38;5;241;43m.\u001B[39;49m\u001B[43mget\u001B[49m\u001B[43m(\u001B[49m\u001B[38;5;124;43m\"\u001B[39;49m\u001B[38;5;124;43mmemory_map\u001B[39;49m\u001B[38;5;124;43m\"\u001B[39;49m\u001B[43m,\u001B[49m\u001B[43m \u001B[49m\u001B[38;5;28;43;01mFalse\u001B[39;49;00m\u001B[43m)\u001B[49m\u001B[43m,\u001B[49m\n\u001B[0;32m   1711\u001B[0m \u001B[43m    \u001B[49m\u001B[43mis_text\u001B[49m\u001B[38;5;241;43m=\u001B[39;49m\u001B[43mis_text\u001B[49m\u001B[43m,\u001B[49m\n\u001B[0;32m   1712\u001B[0m \u001B[43m    \u001B[49m\u001B[43merrors\u001B[49m\u001B[38;5;241;43m=\u001B[39;49m\u001B[38;5;28;43mself\u001B[39;49m\u001B[38;5;241;43m.\u001B[39;49m\u001B[43moptions\u001B[49m\u001B[38;5;241;43m.\u001B[39;49m\u001B[43mget\u001B[49m\u001B[43m(\u001B[49m\u001B[38;5;124;43m\"\u001B[39;49m\u001B[38;5;124;43mencoding_errors\u001B[39;49m\u001B[38;5;124;43m\"\u001B[39;49m\u001B[43m,\u001B[49m\u001B[43m \u001B[49m\u001B[38;5;124;43m\"\u001B[39;49m\u001B[38;5;124;43mstrict\u001B[39;49m\u001B[38;5;124;43m\"\u001B[39;49m\u001B[43m)\u001B[49m\u001B[43m,\u001B[49m\n\u001B[0;32m   1713\u001B[0m \u001B[43m    \u001B[49m\u001B[43mstorage_options\u001B[49m\u001B[38;5;241;43m=\u001B[39;49m\u001B[38;5;28;43mself\u001B[39;49m\u001B[38;5;241;43m.\u001B[39;49m\u001B[43moptions\u001B[49m\u001B[38;5;241;43m.\u001B[39;49m\u001B[43mget\u001B[49m\u001B[43m(\u001B[49m\u001B[38;5;124;43m\"\u001B[39;49m\u001B[38;5;124;43mstorage_options\u001B[39;49m\u001B[38;5;124;43m\"\u001B[39;49m\u001B[43m,\u001B[49m\u001B[43m \u001B[49m\u001B[38;5;28;43;01mNone\u001B[39;49;00m\u001B[43m)\u001B[49m\u001B[43m,\u001B[49m\n\u001B[0;32m   1714\u001B[0m \u001B[43m\u001B[49m\u001B[43m)\u001B[49m\n\u001B[0;32m   1715\u001B[0m \u001B[38;5;28;01massert\u001B[39;00m \u001B[38;5;28mself\u001B[39m\u001B[38;5;241m.\u001B[39mhandles \u001B[38;5;129;01mis\u001B[39;00m \u001B[38;5;129;01mnot\u001B[39;00m \u001B[38;5;28;01mNone\u001B[39;00m\n\u001B[0;32m   1716\u001B[0m f \u001B[38;5;241m=\u001B[39m \u001B[38;5;28mself\u001B[39m\u001B[38;5;241m.\u001B[39mhandles\u001B[38;5;241m.\u001B[39mhandle\n",
      "File \u001B[1;32mW:\\Projects\\python\\ML\\Movie-Recommender\\.venv\\lib\\site-packages\\pandas\\io\\common.py:863\u001B[0m, in \u001B[0;36mget_handle\u001B[1;34m(path_or_buf, mode, encoding, compression, memory_map, is_text, errors, storage_options)\u001B[0m\n\u001B[0;32m    858\u001B[0m \u001B[38;5;28;01melif\u001B[39;00m \u001B[38;5;28misinstance\u001B[39m(handle, \u001B[38;5;28mstr\u001B[39m):\n\u001B[0;32m    859\u001B[0m     \u001B[38;5;66;03m# Check whether the filename is to be opened in binary mode.\u001B[39;00m\n\u001B[0;32m    860\u001B[0m     \u001B[38;5;66;03m# Binary mode does not support 'encoding' and 'newline'.\u001B[39;00m\n\u001B[0;32m    861\u001B[0m     \u001B[38;5;28;01mif\u001B[39;00m ioargs\u001B[38;5;241m.\u001B[39mencoding \u001B[38;5;129;01mand\u001B[39;00m \u001B[38;5;124m\"\u001B[39m\u001B[38;5;124mb\u001B[39m\u001B[38;5;124m\"\u001B[39m \u001B[38;5;129;01mnot\u001B[39;00m \u001B[38;5;129;01min\u001B[39;00m ioargs\u001B[38;5;241m.\u001B[39mmode:\n\u001B[0;32m    862\u001B[0m         \u001B[38;5;66;03m# Encoding\u001B[39;00m\n\u001B[1;32m--> 863\u001B[0m         handle \u001B[38;5;241m=\u001B[39m \u001B[38;5;28;43mopen\u001B[39;49m\u001B[43m(\u001B[49m\n\u001B[0;32m    864\u001B[0m \u001B[43m            \u001B[49m\u001B[43mhandle\u001B[49m\u001B[43m,\u001B[49m\n\u001B[0;32m    865\u001B[0m \u001B[43m            \u001B[49m\u001B[43mioargs\u001B[49m\u001B[38;5;241;43m.\u001B[39;49m\u001B[43mmode\u001B[49m\u001B[43m,\u001B[49m\n\u001B[0;32m    866\u001B[0m \u001B[43m            \u001B[49m\u001B[43mencoding\u001B[49m\u001B[38;5;241;43m=\u001B[39;49m\u001B[43mioargs\u001B[49m\u001B[38;5;241;43m.\u001B[39;49m\u001B[43mencoding\u001B[49m\u001B[43m,\u001B[49m\n\u001B[0;32m    867\u001B[0m \u001B[43m            \u001B[49m\u001B[43merrors\u001B[49m\u001B[38;5;241;43m=\u001B[39;49m\u001B[43merrors\u001B[49m\u001B[43m,\u001B[49m\n\u001B[0;32m    868\u001B[0m \u001B[43m            \u001B[49m\u001B[43mnewline\u001B[49m\u001B[38;5;241;43m=\u001B[39;49m\u001B[38;5;124;43m\"\u001B[39;49m\u001B[38;5;124;43m\"\u001B[39;49m\u001B[43m,\u001B[49m\n\u001B[0;32m    869\u001B[0m \u001B[43m        \u001B[49m\u001B[43m)\u001B[49m\n\u001B[0;32m    870\u001B[0m     \u001B[38;5;28;01melse\u001B[39;00m:\n\u001B[0;32m    871\u001B[0m         \u001B[38;5;66;03m# Binary mode\u001B[39;00m\n\u001B[0;32m    872\u001B[0m         handle \u001B[38;5;241m=\u001B[39m \u001B[38;5;28mopen\u001B[39m(handle, ioargs\u001B[38;5;241m.\u001B[39mmode)\n",
      "\u001B[1;31mFileNotFoundError\u001B[0m: [Errno 2] No such file or directory: './the-movies-dataset/movies_metadata.csv'"
     ]
    }
   ],
   "source": [
    "cols_to_read = [\n",
    "    \"id\",\n",
    "    \"title\",\n",
    "    \"overview\",\n",
    "    \"release_date\",\n",
    "    \"original_language\",\n",
    "    \"genres\",\n",
    "    \"vote_average\",\n",
    "]\n",
    "df_raw = pd.read_csv(\n",
    "    \"./the-movies-dataset/movies_metadata.csv\", usecols=cols_to_read\n",
    ").loc[\n",
    "    :,\n",
    "    [\n",
    "        \"id\",\n",
    "        \"title\",\n",
    "        \"release_date\",\n",
    "        \"original_language\",\n",
    "        \"genres\",\n",
    "        \"overview\",\n",
    "        \"vote_average\",\n",
    "    ],\n",
    "]\n",
    "\n",
    "df = df_raw.copy()[~df_raw.duplicated()]"
   ],
   "metadata": {
    "collapsed": false,
    "ExecuteTime": {
     "end_time": "2024-05-22T18:07:53.304826900Z",
     "start_time": "2024-05-22T18:07:53.128240300Z"
    }
   },
   "id": "6ad0a3c49a746305",
   "execution_count": 5
  },
  {
   "cell_type": "code",
   "outputs": [
    {
     "data": {
      "text/plain": "(45436, 7)"
     },
     "execution_count": 5,
     "metadata": {},
     "output_type": "execute_result"
    }
   ],
   "source": [
    "df.shape"
   ],
   "metadata": {
    "collapsed": false,
    "ExecuteTime": {
     "end_time": "2024-01-07T00:09:17.880057332Z",
     "start_time": "2024-01-07T00:09:17.878702956Z"
    }
   },
   "id": "7d11aeaa89c5d6b0",
   "execution_count": 5
  },
  {
   "cell_type": "code",
   "outputs": [],
   "source": [
    "df[\"release_date\"] = pd.to_datetime(df[\"release_date\"], errors=\"coerce\").dropna()\n",
    "df[\"release_year\"] = df[\"release_date\"].dt.strftime(\"%Y\")"
   ],
   "metadata": {
    "collapsed": false,
    "ExecuteTime": {
     "end_time": "2024-01-07T00:09:18.009574562Z",
     "start_time": "2024-01-07T00:09:17.879692398Z"
    }
   },
   "id": "2ba1a23302fc5e85",
   "execution_count": 6
  },
  {
   "cell_type": "code",
   "outputs": [],
   "source": [
    "def get_genre_values(row):\n",
    "    row = ast.literal_eval(row)\n",
    "    genre_list = [val[\"name\"] for val in row]\n",
    "    if len(genre_list) == 0:\n",
    "        return [\"Unknown\"]\n",
    "    return genre_list"
   ],
   "metadata": {
    "collapsed": false,
    "ExecuteTime": {
     "end_time": "2024-01-07T00:09:18.015825750Z",
     "start_time": "2024-01-07T00:09:18.011737599Z"
    }
   },
   "id": "61bb0372f85dbb1e",
   "execution_count": 7
  },
  {
   "cell_type": "code",
   "outputs": [],
   "source": [
    "df = df.loc[df[cols_to_read[:-1]].dropna().index].reset_index(drop=True)\n",
    "\n",
    "df[\"id\"] = df[\"id\"].astype(int)"
   ],
   "metadata": {
    "collapsed": false,
    "ExecuteTime": {
     "end_time": "2024-01-07T00:09:18.061015948Z",
     "start_time": "2024-01-07T00:09:18.013600042Z"
    }
   },
   "id": "7b661feed9a61e33",
   "execution_count": 8
  },
  {
   "cell_type": "code",
   "outputs": [
    {
     "data": {
      "text/plain": "(44395, 8)"
     },
     "execution_count": 9,
     "metadata": {},
     "output_type": "execute_result"
    }
   ],
   "source": [
    "df.shape"
   ],
   "metadata": {
    "collapsed": false,
    "ExecuteTime": {
     "end_time": "2024-01-07T00:09:18.108958501Z",
     "start_time": "2024-01-07T00:09:18.107863157Z"
    }
   },
   "id": "48c08267d13f15d5",
   "execution_count": 9
  },
  {
   "cell_type": "code",
   "outputs": [
    {
     "data": {
      "text/plain": "(44395, 9)"
     },
     "execution_count": 10,
     "metadata": {},
     "output_type": "execute_result"
    }
   ],
   "source": [
    "df = pd.merge(\n",
    "    df,\n",
    "    pd.read_csv(\"./the-movies-dataset/keywords.csv\").drop_duplicates(),\n",
    "    how=\"left\",\n",
    "    on=[\"id\"],\n",
    ")\n",
    "df[\"keywords\"] = df.keywords.fillna(\"[]\")\n",
    "df.shape"
   ],
   "metadata": {
    "collapsed": false,
    "ExecuteTime": {
     "end_time": "2024-01-07T00:09:18.164092134Z",
     "start_time": "2024-01-07T00:09:18.108190311Z"
    }
   },
   "id": "eeb761209d05d248",
   "execution_count": 10
  },
  {
   "cell_type": "code",
   "outputs": [],
   "source": [
    "df[\"genres\"] = df[\"genres\"].apply(get_genre_values)"
   ],
   "metadata": {
    "collapsed": false,
    "ExecuteTime": {
     "end_time": "2024-01-07T00:09:20.766317859Z",
     "start_time": "2024-01-07T00:09:20.042340254Z"
    }
   },
   "id": "f23724a7db826bad",
   "execution_count": 11
  },
  {
   "cell_type": "code",
   "outputs": [],
   "source": [
    "df[\"keywords\"] = df[\"keywords\"].apply(get_genre_values)"
   ],
   "metadata": {
    "collapsed": false,
    "ExecuteTime": {
     "end_time": "2024-01-07T00:09:28.483704508Z",
     "start_time": "2024-01-07T00:09:27.308055508Z"
    }
   },
   "id": "f8ce3a65ab77bb3b",
   "execution_count": 12
  },
  {
   "cell_type": "code",
   "outputs": [],
   "source": [
    "df[\"keywords\"] = df.loc[:, [\"keywords\"]].apply(\n",
    "    lambda x: \", \".join(x.keywords) if \"Unknown\" not in x.keywords else \"\",\n",
    "    axis=1,\n",
    ")\n",
    "\n",
    "idx_no_kw = df[df[\"keywords\"] == \"\"].index"
   ],
   "metadata": {
    "collapsed": false,
    "ExecuteTime": {
     "end_time": "2024-01-07T00:09:29.668792279Z",
     "start_time": "2024-01-07T00:09:29.275130365Z"
    }
   },
   "id": "1323476c73a663d2",
   "execution_count": 13
  },
  {
   "cell_type": "code",
   "outputs": [
    {
     "data": {
      "text/plain": "      id                        title release_date original_language  \\\n0    862                    Toy Story   1995-10-30                en   \n1   8844                      Jumanji   1995-12-15                en   \n2  15602             Grumpier Old Men   1995-12-22                en   \n3  31357            Waiting to Exhale   1995-12-22                en   \n4  11862  Father of the Bride Part II   1995-02-10                en   \n\n                         genres  \\\n0   [Animation, Comedy, Family]   \n1  [Adventure, Fantasy, Family]   \n2             [Romance, Comedy]   \n3      [Comedy, Drama, Romance]   \n4                      [Comedy]   \n\n                                            overview  vote_average  \\\n0  Led by Woody, Andy's toys live happily in his ...           7.7   \n1  When siblings Judy and Peter discover an encha...           6.9   \n2  A family wedding reignites the ancient feud be...           6.5   \n3  Cheated on, mistreated and stepped on, the wom...           6.1   \n4  Just when George Banks has recovered from his ...           5.7   \n\n  release_year                                           keywords  \n0         1995  jealousy, toy, boy, friendship, friends, rival...  \n1         1995  board game, disappearance, based on children's...  \n2         1995  fishing, best friend, duringcreditsstinger, ol...  \n3         1995  based on novel, interracial relationship, sing...  \n4         1995  baby, midlife crisis, confidence, aging, daugh...  ",
      "text/html": "<div>\n<style scoped>\n    .dataframe tbody tr th:only-of-type {\n        vertical-align: middle;\n    }\n\n    .dataframe tbody tr th {\n        vertical-align: top;\n    }\n\n    .dataframe thead th {\n        text-align: right;\n    }\n</style>\n<table border=\"1\" class=\"dataframe\">\n  <thead>\n    <tr style=\"text-align: right;\">\n      <th></th>\n      <th>id</th>\n      <th>title</th>\n      <th>release_date</th>\n      <th>original_language</th>\n      <th>genres</th>\n      <th>overview</th>\n      <th>vote_average</th>\n      <th>release_year</th>\n      <th>keywords</th>\n    </tr>\n  </thead>\n  <tbody>\n    <tr>\n      <th>0</th>\n      <td>862</td>\n      <td>Toy Story</td>\n      <td>1995-10-30</td>\n      <td>en</td>\n      <td>[Animation, Comedy, Family]</td>\n      <td>Led by Woody, Andy's toys live happily in his ...</td>\n      <td>7.7</td>\n      <td>1995</td>\n      <td>jealousy, toy, boy, friendship, friends, rival...</td>\n    </tr>\n    <tr>\n      <th>1</th>\n      <td>8844</td>\n      <td>Jumanji</td>\n      <td>1995-12-15</td>\n      <td>en</td>\n      <td>[Adventure, Fantasy, Family]</td>\n      <td>When siblings Judy and Peter discover an encha...</td>\n      <td>6.9</td>\n      <td>1995</td>\n      <td>board game, disappearance, based on children's...</td>\n    </tr>\n    <tr>\n      <th>2</th>\n      <td>15602</td>\n      <td>Grumpier Old Men</td>\n      <td>1995-12-22</td>\n      <td>en</td>\n      <td>[Romance, Comedy]</td>\n      <td>A family wedding reignites the ancient feud be...</td>\n      <td>6.5</td>\n      <td>1995</td>\n      <td>fishing, best friend, duringcreditsstinger, ol...</td>\n    </tr>\n    <tr>\n      <th>3</th>\n      <td>31357</td>\n      <td>Waiting to Exhale</td>\n      <td>1995-12-22</td>\n      <td>en</td>\n      <td>[Comedy, Drama, Romance]</td>\n      <td>Cheated on, mistreated and stepped on, the wom...</td>\n      <td>6.1</td>\n      <td>1995</td>\n      <td>based on novel, interracial relationship, sing...</td>\n    </tr>\n    <tr>\n      <th>4</th>\n      <td>11862</td>\n      <td>Father of the Bride Part II</td>\n      <td>1995-02-10</td>\n      <td>en</td>\n      <td>[Comedy]</td>\n      <td>Just when George Banks has recovered from his ...</td>\n      <td>5.7</td>\n      <td>1995</td>\n      <td>baby, midlife crisis, confidence, aging, daugh...</td>\n    </tr>\n  </tbody>\n</table>\n</div>"
     },
     "execution_count": 14,
     "metadata": {},
     "output_type": "execute_result"
    }
   ],
   "source": [
    "df.head()"
   ],
   "metadata": {
    "collapsed": false,
    "ExecuteTime": {
     "end_time": "2024-01-07T00:09:30.196090864Z",
     "start_time": "2024-01-07T00:09:30.191256783Z"
    }
   },
   "id": "f07434818b996cb7",
   "execution_count": 14
  },
  {
   "cell_type": "code",
   "outputs": [],
   "source": [
    "df = df.sort_values(by=\"release_date\").reset_index(drop=True)\n",
    "df[\"title_dated\"] = df[\"title\"].copy()\n",
    "df.loc[df.title.duplicated(), \"title_dated\"] = df.loc[\n",
    "    df.title.duplicated(), [\"title_dated\"]\n",
    "].apply(\n",
    "    lambda x: \" \".join([x[\"title_dated\"], f\"({str(df['release_year'][x.name])})\"]),\n",
    "    axis=1,\n",
    ")"
   ],
   "metadata": {
    "collapsed": false,
    "is_executing": true
   },
   "id": "d92b71d45b29afc2",
   "execution_count": null
  },
  {
   "cell_type": "code",
   "outputs": [],
   "source": [
    "duplicate_title_and_year = df.loc[df.title.duplicated(), \"title\"].index"
   ],
   "metadata": {
    "collapsed": false,
    "ExecuteTime": {
     "end_time": "2024-01-07T00:09:33.182712287Z",
     "start_time": "2024-01-07T00:09:33.181530031Z"
    }
   },
   "id": "fcb15c59955cda2c",
   "execution_count": 16
  },
  {
   "cell_type": "code",
   "outputs": [],
   "source": [
    "df.loc[df.title.duplicated(), \"title_dated\"] = df.loc[\n",
    "    df.title.duplicated(), [\"title_dated\"]\n",
    "].apply(\n",
    "    lambda x: x[\"title_dated\"].replace(\n",
    "        f\"({str(df['release_year'][x.name])})\",\n",
    "        f\"({str(df['release_date'][x.name].strftime('%Y-%m'))})\",\n",
    "    ),\n",
    "    axis=1,\n",
    ")"
   ],
   "metadata": {
    "collapsed": false,
    "ExecuteTime": {
     "end_time": "2024-01-07T00:09:33.945043809Z",
     "start_time": "2024-01-07T00:09:33.886470913Z"
    }
   },
   "id": "c6e6782d33cf0085",
   "execution_count": 17
  },
  {
   "cell_type": "code",
   "outputs": [],
   "source": [
    "netflix_movies[\"release_year\"] = netflix_movies[\"release_year\"].astype(str)\n",
    "df_combined = pd.merge(\n",
    "    df, netflix_movies[[\"title\", \"release_year\"]], on=[\"title\", \"release_year\"]\n",
    ")\n",
    "df_combined = df_combined[\n",
    "    ~df_combined[[\"title\", \"release_year\", \"overview\"]].duplicated()\n",
    "].reset_index(drop=True)"
   ],
   "metadata": {
    "collapsed": false,
    "ExecuteTime": {
     "end_time": "2024-01-07T00:09:36.955644391Z",
     "start_time": "2024-01-07T00:09:36.921779894Z"
    }
   },
   "id": "b4b9dab746d233c",
   "execution_count": 18
  },
  {
   "cell_type": "code",
   "outputs": [
    {
     "name": "stdout",
     "output_type": "stream",
     "text": [
      "['Documentary', 'War', 'History', 'Drama', 'Comedy', 'Music', 'Romance', 'Adventure', 'Science Fiction', 'Action', 'Crime', 'Thriller', 'Family', 'Horror', 'Mystery', 'Fantasy', 'Western', 'Animation', 'Foreign', 'TV Movie']\n"
     ]
    }
   ],
   "source": [
    "all_genres = list(df_combined[\"genres\"].explode().unique())\n",
    "all_genres.remove(\"Unknown\")\n",
    "print(all_genres)"
   ],
   "metadata": {
    "collapsed": false,
    "ExecuteTime": {
     "end_time": "2024-01-07T00:09:38.993066386Z",
     "start_time": "2024-01-07T00:09:38.989428910Z"
    }
   },
   "id": "d790d0d81a5e459a",
   "execution_count": 19
  },
  {
   "cell_type": "code",
   "outputs": [
    {
     "data": {
      "text/plain": "          id               title release_date original_language  \\\n51    133063  The Haunted Castle   1896-12-24                xx   \n54    104471  The Haunted Castle   1897-01-01                fr   \n378     6793  The Haunted Castle   1921-04-07                en   \n8141  108798  The Haunted Castle   1969-12-20                ja   \n\n                      genres  \\\n51         [Fantasy, Horror]   \n54                  [Horror]   \n378   [Crime, Drama, Horror]   \n8141                [Horror]   \n\n                                               overview  vote_average  \\\n51    A bat flies into an ancient castle and transfo...           6.7   \n54    A man has an encounter with several spooky app...           5.6   \n378   The sinister Count Oetsch scandalizes the aris...           6.2   \n8141  The film takes place during the rule of the ei...           5.0   \n\n     release_year                                           keywords  \\\n51           1896  supernatural, silent film, georges melies, ear...   \n54           1897  french, horror, silent film, ghost, georges me...   \n378          1921          castle, hunt, fratricide, uninvited guest   \n8141         1969                                                      \n\n                       title_dated  \n51              The Haunted Castle  \n54    The Haunted Castle (1897-01)  \n378   The Haunted Castle (1921-04)  \n8141  The Haunted Castle (1969-12)  ",
      "text/html": "<div>\n<style scoped>\n    .dataframe tbody tr th:only-of-type {\n        vertical-align: middle;\n    }\n\n    .dataframe tbody tr th {\n        vertical-align: top;\n    }\n\n    .dataframe thead th {\n        text-align: right;\n    }\n</style>\n<table border=\"1\" class=\"dataframe\">\n  <thead>\n    <tr style=\"text-align: right;\">\n      <th></th>\n      <th>id</th>\n      <th>title</th>\n      <th>release_date</th>\n      <th>original_language</th>\n      <th>genres</th>\n      <th>overview</th>\n      <th>vote_average</th>\n      <th>release_year</th>\n      <th>keywords</th>\n      <th>title_dated</th>\n    </tr>\n  </thead>\n  <tbody>\n    <tr>\n      <th>51</th>\n      <td>133063</td>\n      <td>The Haunted Castle</td>\n      <td>1896-12-24</td>\n      <td>xx</td>\n      <td>[Fantasy, Horror]</td>\n      <td>A bat flies into an ancient castle and transfo...</td>\n      <td>6.7</td>\n      <td>1896</td>\n      <td>supernatural, silent film, georges melies, ear...</td>\n      <td>The Haunted Castle</td>\n    </tr>\n    <tr>\n      <th>54</th>\n      <td>104471</td>\n      <td>The Haunted Castle</td>\n      <td>1897-01-01</td>\n      <td>fr</td>\n      <td>[Horror]</td>\n      <td>A man has an encounter with several spooky app...</td>\n      <td>5.6</td>\n      <td>1897</td>\n      <td>french, horror, silent film, ghost, georges me...</td>\n      <td>The Haunted Castle (1897-01)</td>\n    </tr>\n    <tr>\n      <th>378</th>\n      <td>6793</td>\n      <td>The Haunted Castle</td>\n      <td>1921-04-07</td>\n      <td>en</td>\n      <td>[Crime, Drama, Horror]</td>\n      <td>The sinister Count Oetsch scandalizes the aris...</td>\n      <td>6.2</td>\n      <td>1921</td>\n      <td>castle, hunt, fratricide, uninvited guest</td>\n      <td>The Haunted Castle (1921-04)</td>\n    </tr>\n    <tr>\n      <th>8141</th>\n      <td>108798</td>\n      <td>The Haunted Castle</td>\n      <td>1969-12-20</td>\n      <td>ja</td>\n      <td>[Horror]</td>\n      <td>The film takes place during the rule of the ei...</td>\n      <td>5.0</td>\n      <td>1969</td>\n      <td></td>\n      <td>The Haunted Castle (1969-12)</td>\n    </tr>\n  </tbody>\n</table>\n</div>"
     },
     "execution_count": 21,
     "metadata": {},
     "output_type": "execute_result"
    }
   ],
   "source": [
    "df[df.title == \"The Haunted Castle\"]"
   ],
   "metadata": {
    "collapsed": false,
    "ExecuteTime": {
     "end_time": "2024-01-07T00:09:52.552304241Z",
     "start_time": "2024-01-07T00:09:52.509489643Z"
    }
   },
   "id": "7884d757e33db931",
   "execution_count": 21
  },
  {
   "cell_type": "code",
   "outputs": [
    {
     "name": "stderr",
     "output_type": "stream",
     "text": [
      "/home/ubunbu/PycharmProjects/Movie-Recommender/venv/lib/python3.10/site-packages/sklearn/preprocessing/_label.py:900: UserWarning: unknown class(es) ['Unknown'] will be ignored\n",
      "  warnings.warn(\n"
     ]
    }
   ],
   "source": [
    "mlb = MultiLabelBinarizer(classes=all_genres)\n",
    "binary_labels_all = mlb.fit_transform(df[\"genres\"])\n",
    "\n",
    "\n",
    "mlb = MultiLabelBinarizer(classes=all_genres)\n",
    "binary_labels_netflix = mlb.fit_transform(df_combined[\"genres\"])\n",
    "genres = mlb.classes_"
   ],
   "metadata": {
    "collapsed": false,
    "ExecuteTime": {
     "end_time": "2024-01-06T17:56:37.282031340Z",
     "start_time": "2024-01-06T17:56:37.016819895Z"
    }
   },
   "id": "e0f157ade52ba120",
   "execution_count": 21
  },
  {
   "cell_type": "code",
   "outputs": [],
   "source": [
    "similarity_genre = cosine_similarity(binary_labels_all, binary_labels_netflix)"
   ],
   "metadata": {
    "collapsed": false,
    "ExecuteTime": {
     "end_time": "2024-01-06T17:56:37.378635988Z",
     "start_time": "2024-01-06T17:56:37.067076351Z"
    }
   },
   "id": "71a454f0c0eb702",
   "execution_count": 22
  },
  {
   "cell_type": "code",
   "outputs": [
    {
     "data": {
      "text/plain": "Batches:   0%|          | 0/1388 [00:00<?, ?it/s]",
      "application/vnd.jupyter.widget-view+json": {
       "version_major": 2,
       "version_minor": 0,
       "model_id": "ead4186ca17e42b38f8f0c6060062feb"
      }
     },
     "metadata": {},
     "output_type": "display_data"
    },
    {
     "data": {
      "text/plain": "Batches:   0%|          | 0/1388 [00:00<?, ?it/s]",
      "application/vnd.jupyter.widget-view+json": {
       "version_major": 2,
       "version_minor": 0,
       "model_id": "d28a1d8c76ff454d9efdb6b3c7984db5"
      }
     },
     "metadata": {},
     "output_type": "display_data"
    }
   ],
   "source": [
    "model = SentenceTransformer(\"all-mpnet-base-v2\")\n",
    "embeddings_overview = model.encode(\n",
    "    df.overview.to_numpy().astype(str), show_progress_bar=True, convert_to_numpy=True\n",
    ")\n",
    "embeddings_keywords = model.encode(\n",
    "    df.keywords.to_numpy().astype(str), show_progress_bar=True, convert_to_numpy=True\n",
    ")"
   ],
   "metadata": {
    "collapsed": false,
    "ExecuteTime": {
     "end_time": "2024-01-06T17:58:03.074217526Z",
     "start_time": "2024-01-06T17:56:37.298804342Z"
    }
   },
   "id": "577a339496c5fe7",
   "execution_count": 23
  },
  {
   "cell_type": "code",
   "outputs": [
    {
     "name": "stdout",
     "output_type": "stream",
     "text": [
      "(44395, 768) (44395, 768)\n"
     ]
    }
   ],
   "source": [
    "print(embeddings_overview.shape, embeddings_keywords.shape)"
   ],
   "metadata": {
    "collapsed": false,
    "ExecuteTime": {
     "end_time": "2024-01-06T17:58:03.121634471Z",
     "start_time": "2024-01-06T17:58:03.078273267Z"
    }
   },
   "id": "84bf1fb5153b88ae",
   "execution_count": 24
  },
  {
   "cell_type": "code",
   "outputs": [],
   "source": [
    "indices_shared = df[df.id.isin(df_combined.id)].index\n",
    "embeddings_overview_netflix = embeddings_overview[indices_shared]\n",
    "embeddings_keywords_netflix = embeddings_keywords[indices_shared]\n",
    "similarity_netflix = similarity_genre[indices_shared]"
   ],
   "metadata": {
    "collapsed": false,
    "ExecuteTime": {
     "end_time": "2024-01-06T17:58:03.125548580Z",
     "start_time": "2024-01-06T17:58:03.120591313Z"
    }
   },
   "id": "efd4faab186b7686",
   "execution_count": 25
  },
  {
   "cell_type": "code",
   "outputs": [],
   "source": [
    "similarity_embedding_overview = util.cos_sim(\n",
    "    embeddings_overview, embeddings_overview_netflix\n",
    ")\n",
    "similarity_embedding_keywords = util.cos_sim(\n",
    "    embeddings_keywords, embeddings_keywords_netflix\n",
    ")"
   ],
   "metadata": {
    "collapsed": false,
    "ExecuteTime": {
     "end_time": "2024-01-06T17:58:03.885287122Z",
     "start_time": "2024-01-06T17:58:03.121391699Z"
    }
   },
   "id": "c3f8da5d28597512",
   "execution_count": 26
  },
  {
   "cell_type": "code",
   "outputs": [],
   "source": [
    "similarity_embedding_keywords[idx_no_kw] = 0\n",
    "for idx_combined, idx_df in enumerate(indices_shared):\n",
    "    similarity_embedding_overview[idx_df][idx_combined] = -100\n",
    "    similarity_embedding_overview[idx_df][idx_combined] = -100\n",
    "    similarity_embedding_keywords[idx_df][idx_combined] = -100\n",
    "    similarity_embedding_keywords[idx_df][idx_combined] = -100\n",
    "    similarity_genre[idx_df][idx_combined] = -100"
   ],
   "metadata": {
    "collapsed": false,
    "ExecuteTime": {
     "end_time": "2024-01-06T17:58:03.930248709Z",
     "start_time": "2024-01-06T17:58:03.902667897Z"
    }
   },
   "id": "42874f39d26df499",
   "execution_count": 27
  },
  {
   "cell_type": "code",
   "outputs": [],
   "source": [
    "with open(r\"./similarity_genre.npy\", \"wb\") as f:\n",
    "    np.save(f, similarity_genre)\n",
    "with open(r\"./embeddings_keywords.npy\", \"wb\") as f:\n",
    "    np.save(f, embeddings_keywords)\n",
    "with open(r\"./embeddings_overview.npy\", \"wb\") as f:\n",
    "    np.save(f, embeddings_overview)\n",
    "with open(r\"./similarity_embedding_overview.npy\", \"wb\") as f:\n",
    "    np.save(f, similarity_embedding_overview)\n",
    "with open(r\"./similarity_embedding_keywords.npy\", \"wb\") as f:\n",
    "    np.save(f, similarity_embedding_keywords)"
   ],
   "metadata": {
    "collapsed": false,
    "ExecuteTime": {
     "end_time": "2024-01-06T17:58:05.292772662Z",
     "start_time": "2024-01-06T17:58:03.932699417Z"
    }
   },
   "id": "558140e7633aa6e7",
   "execution_count": 28
  },
  {
   "cell_type": "code",
   "outputs": [],
   "source": [
    "# with open(r\"./embeddings_keywords.npy\", \"rb\") as f:\n",
    "#     embeddings_keywords = np.load(f)\n",
    "# with open(r\"./embeddings_overview.npy\", \"rb\") as f:\n",
    "#     embeddings_overview = np.load(f)\n",
    "# with open(r\"./similarity_embedding_overview.npy\", \"rb\") as f:\n",
    "# similarity_embedding_overview = np.load(f)\n",
    "# with open(r\"./similarity_embedding_keywords.npy\", \"rb\") as f:\n",
    "# similarity_embedding_keywords = np.load(f)\n",
    "# with open(r\"./similarity_genre.npy\", \"rb\") as f:\n",
    "#     similarity_genre = np.load(f)"
   ],
   "metadata": {
    "collapsed": false,
    "ExecuteTime": {
     "end_time": "2024-01-06T17:58:05.294452254Z",
     "start_time": "2024-01-06T17:58:05.293101794Z"
    }
   },
   "id": "dbe9bdac09ab538d",
   "execution_count": 29
  },
  {
   "cell_type": "code",
   "outputs": [],
   "source": [
    "Path(\"./custom_csv\").mkdir(parents=True, exist_ok=True)\n",
    "df.to_csv(\"./custom_csv/movies_cleaned.csv\")\n",
    "df_combined.to_csv(\"./custom_csv/movies_combined.csv\")\n",
    "# df = pd.read_csv(\"./custom_csv/movies_cleaned.csv\")\n",
    "# df_combined = pd.read_csv(\"./custom_csv/movies_combined.csv\")"
   ],
   "metadata": {
    "collapsed": false,
    "ExecuteTime": {
     "end_time": "2024-01-06T17:58:05.727150050Z",
     "start_time": "2024-01-06T17:58:05.295246640Z"
    }
   },
   "id": "3ba3b97ad4df8c59",
   "execution_count": 30
  },
  {
   "cell_type": "code",
   "outputs": [
    {
     "data": {
      "text/plain": "           id         title release_date original_language  \\\n40199  157336  Interstellar   2014-11-05                en   \n\n                                    genres  \\\n40199  [Adventure, Drama, Science Fiction]   \n\n                                                overview  vote_average  \\\n40199  Interstellar chronicles the adventures of a gr...           8.1   \n\n      release_year                                           keywords  \\\n40199         2014  saving the world, artificial intelligence, fat...   \n\n        title_dated  \n40199  Interstellar  ",
      "text/html": "<div>\n<style scoped>\n    .dataframe tbody tr th:only-of-type {\n        vertical-align: middle;\n    }\n\n    .dataframe tbody tr th {\n        vertical-align: top;\n    }\n\n    .dataframe thead th {\n        text-align: right;\n    }\n</style>\n<table border=\"1\" class=\"dataframe\">\n  <thead>\n    <tr style=\"text-align: right;\">\n      <th></th>\n      <th>id</th>\n      <th>title</th>\n      <th>release_date</th>\n      <th>original_language</th>\n      <th>genres</th>\n      <th>overview</th>\n      <th>vote_average</th>\n      <th>release_year</th>\n      <th>keywords</th>\n      <th>title_dated</th>\n    </tr>\n  </thead>\n  <tbody>\n    <tr>\n      <th>40199</th>\n      <td>157336</td>\n      <td>Interstellar</td>\n      <td>2014-11-05</td>\n      <td>en</td>\n      <td>[Adventure, Drama, Science Fiction]</td>\n      <td>Interstellar chronicles the adventures of a gr...</td>\n      <td>8.1</td>\n      <td>2014</td>\n      <td>saving the world, artificial intelligence, fat...</td>\n      <td>Interstellar</td>\n    </tr>\n  </tbody>\n</table>\n</div>"
     },
     "execution_count": 31,
     "metadata": {},
     "output_type": "execute_result"
    }
   ],
   "source": [
    "df[df.title == \"Interstellar\"]"
   ],
   "metadata": {
    "collapsed": false,
    "ExecuteTime": {
     "end_time": "2024-01-06T17:58:05.738734540Z",
     "start_time": "2024-01-06T17:58:05.736453852Z"
    }
   },
   "id": "d2448806117dc067",
   "execution_count": 31
  },
  {
   "cell_type": "code",
   "outputs": [],
   "source": [
    "movie_number = 40199"
   ],
   "metadata": {
    "collapsed": false,
    "ExecuteTime": {
     "end_time": "2024-01-06T17:58:05.744519035Z",
     "start_time": "2024-01-06T17:58:05.738901481Z"
    }
   },
   "id": "3f63529058f753f8",
   "execution_count": 32
  },
  {
   "cell_type": "code",
   "outputs": [
    {
     "name": "stdout",
     "output_type": "stream",
     "text": [
      "Interstellar \n",
      "====\n",
      " ['Adventure', 'Drama', 'Science Fiction'] \n",
      "====\n",
      " saving the world, artificial intelligence, father son relationship, single parent, nasa, expedition, wormhole, space travel, famine, black hole, dystopia, race against time, quantum mechanics, spaceship, space, rescue, family relationships, farmhouse, robot, astronaut, scientist, father daughter relationship, single father, farmer, space station, imax, astrophysics, zero gravity, courage, time paradox, relativity \n",
      "====\n",
      " Interstellar chronicles the adventures of a group of explorers who make use of a newly discovered wormhole to surpass the limitations on human space travel and conquer the vast distances involved in an interstellar voyage. \n",
      "====\n"
     ]
    },
    {
     "data": {
      "text/plain": "          id               title release_date original_language  \\\n1703  313943              Revolt   2017-07-01                en   \n221     8413       Event Horizon   1997-08-15                en   \n217      607        Men in Black   1997-07-02                en   \n10       830    Forbidden Planet   1956-03-15                en   \n316     9397           Evolution   2001-06-08                en   \n...      ...                 ...          ...               ...   \n1214  329135    O Kadhal Kanmani   2015-04-17                ta   \n162    53163    Love on Delivery   1994-02-04                cn   \n795    51450  Santa's Apprentice   2010-11-24                fr   \n1165  320882      The Seven Five   2014-11-14                en   \n373    41901          Ishq Vishk   2003-04-10                en   \n\n                                            genres  \\\n1703                             [Science Fiction]   \n221             [Horror, Science Fiction, Mystery]   \n217   [Action, Adventure, Comedy, Science Fiction]   \n10            [Adventure, Science Fiction, Action]   \n316              [Action, Comedy, Science Fiction]   \n...                                            ...   \n1214                      [Drama, Family, Romance]   \n162                               [Comedy, Action]   \n795                            [Family, Animation]   \n1165                                 [Documentary]   \n373                       [Drama, Comedy, Romance]   \n\n                                               overview  vote_average  \\\n1703  The story of humankind's last stand against a ...           6.0   \n221   In the year 2047 a group of astronauts are sen...           6.4   \n217   Men in Black follows the exploits of agents Ka...           6.9   \n10    Captain Adams and the crew of the Starship C57...           7.2   \n316   A comedy that follows the chaos that ensues wh...           5.7   \n...                                                 ...           ...   \n1214  Adhi and Tara are in a live-in relationship an...           5.8   \n162   Ho Kam-An is a love struck dim-sum delivery bo...           6.1   \n795   Santa doesn't want to retire, but rules are ru...           4.9   \n1165  Meet the dirtiest cop in NYC history. Michael ...           7.8   \n373   Rajiv Mathur decides to go conditionally stead...           5.2   \n\n     release_year                                           keywords  \\\n1703         2017                                     alien invasion   \n221          1997  space marine, nudity, nightmare, hallucination...   \n217          1997  secret identity, sun glasses, undercover, spac...   \n10           1956  lasergun, monster, space marine, loss of fathe...   \n316          2001  grand canyon, governor, shampoo, high school t...   \n...           ...                                                ...   \n1214         2015  living together, love, open relationship, sexu...   \n162          1994                                                      \n795          2010                 santa claus, gift, snow, christmas   \n1165         2014  new york, corruption, mafia, mobster, police c...   \n373          2003                                                      \n\n             title_dated  \n1703              Revolt  \n221        Event Horizon  \n217         Men in Black  \n10      Forbidden Planet  \n316            Evolution  \n...                  ...  \n1214    O Kadhal Kanmani  \n162     Love on Delivery  \n795   Santa's Apprentice  \n1165      The Seven Five  \n373           Ishq Vishk  \n\n[1723 rows x 10 columns]",
      "text/html": "<div>\n<style scoped>\n    .dataframe tbody tr th:only-of-type {\n        vertical-align: middle;\n    }\n\n    .dataframe tbody tr th {\n        vertical-align: top;\n    }\n\n    .dataframe thead th {\n        text-align: right;\n    }\n</style>\n<table border=\"1\" class=\"dataframe\">\n  <thead>\n    <tr style=\"text-align: right;\">\n      <th></th>\n      <th>id</th>\n      <th>title</th>\n      <th>release_date</th>\n      <th>original_language</th>\n      <th>genres</th>\n      <th>overview</th>\n      <th>vote_average</th>\n      <th>release_year</th>\n      <th>keywords</th>\n      <th>title_dated</th>\n    </tr>\n  </thead>\n  <tbody>\n    <tr>\n      <th>1703</th>\n      <td>313943</td>\n      <td>Revolt</td>\n      <td>2017-07-01</td>\n      <td>en</td>\n      <td>[Science Fiction]</td>\n      <td>The story of humankind's last stand against a ...</td>\n      <td>6.0</td>\n      <td>2017</td>\n      <td>alien invasion</td>\n      <td>Revolt</td>\n    </tr>\n    <tr>\n      <th>221</th>\n      <td>8413</td>\n      <td>Event Horizon</td>\n      <td>1997-08-15</td>\n      <td>en</td>\n      <td>[Horror, Science Fiction, Mystery]</td>\n      <td>In the year 2047 a group of astronauts are sen...</td>\n      <td>6.4</td>\n      <td>1997</td>\n      <td>space marine, nudity, nightmare, hallucination...</td>\n      <td>Event Horizon</td>\n    </tr>\n    <tr>\n      <th>217</th>\n      <td>607</td>\n      <td>Men in Black</td>\n      <td>1997-07-02</td>\n      <td>en</td>\n      <td>[Action, Adventure, Comedy, Science Fiction]</td>\n      <td>Men in Black follows the exploits of agents Ka...</td>\n      <td>6.9</td>\n      <td>1997</td>\n      <td>secret identity, sun glasses, undercover, spac...</td>\n      <td>Men in Black</td>\n    </tr>\n    <tr>\n      <th>10</th>\n      <td>830</td>\n      <td>Forbidden Planet</td>\n      <td>1956-03-15</td>\n      <td>en</td>\n      <td>[Adventure, Science Fiction, Action]</td>\n      <td>Captain Adams and the crew of the Starship C57...</td>\n      <td>7.2</td>\n      <td>1956</td>\n      <td>lasergun, monster, space marine, loss of fathe...</td>\n      <td>Forbidden Planet</td>\n    </tr>\n    <tr>\n      <th>316</th>\n      <td>9397</td>\n      <td>Evolution</td>\n      <td>2001-06-08</td>\n      <td>en</td>\n      <td>[Action, Comedy, Science Fiction]</td>\n      <td>A comedy that follows the chaos that ensues wh...</td>\n      <td>5.7</td>\n      <td>2001</td>\n      <td>grand canyon, governor, shampoo, high school t...</td>\n      <td>Evolution</td>\n    </tr>\n    <tr>\n      <th>...</th>\n      <td>...</td>\n      <td>...</td>\n      <td>...</td>\n      <td>...</td>\n      <td>...</td>\n      <td>...</td>\n      <td>...</td>\n      <td>...</td>\n      <td>...</td>\n      <td>...</td>\n    </tr>\n    <tr>\n      <th>1214</th>\n      <td>329135</td>\n      <td>O Kadhal Kanmani</td>\n      <td>2015-04-17</td>\n      <td>ta</td>\n      <td>[Drama, Family, Romance]</td>\n      <td>Adhi and Tara are in a live-in relationship an...</td>\n      <td>5.8</td>\n      <td>2015</td>\n      <td>living together, love, open relationship, sexu...</td>\n      <td>O Kadhal Kanmani</td>\n    </tr>\n    <tr>\n      <th>162</th>\n      <td>53163</td>\n      <td>Love on Delivery</td>\n      <td>1994-02-04</td>\n      <td>cn</td>\n      <td>[Comedy, Action]</td>\n      <td>Ho Kam-An is a love struck dim-sum delivery bo...</td>\n      <td>6.1</td>\n      <td>1994</td>\n      <td></td>\n      <td>Love on Delivery</td>\n    </tr>\n    <tr>\n      <th>795</th>\n      <td>51450</td>\n      <td>Santa's Apprentice</td>\n      <td>2010-11-24</td>\n      <td>fr</td>\n      <td>[Family, Animation]</td>\n      <td>Santa doesn't want to retire, but rules are ru...</td>\n      <td>4.9</td>\n      <td>2010</td>\n      <td>santa claus, gift, snow, christmas</td>\n      <td>Santa's Apprentice</td>\n    </tr>\n    <tr>\n      <th>1165</th>\n      <td>320882</td>\n      <td>The Seven Five</td>\n      <td>2014-11-14</td>\n      <td>en</td>\n      <td>[Documentary]</td>\n      <td>Meet the dirtiest cop in NYC history. Michael ...</td>\n      <td>7.8</td>\n      <td>2014</td>\n      <td>new york, corruption, mafia, mobster, police c...</td>\n      <td>The Seven Five</td>\n    </tr>\n    <tr>\n      <th>373</th>\n      <td>41901</td>\n      <td>Ishq Vishk</td>\n      <td>2003-04-10</td>\n      <td>en</td>\n      <td>[Drama, Comedy, Romance]</td>\n      <td>Rajiv Mathur decides to go conditionally stead...</td>\n      <td>5.2</td>\n      <td>2003</td>\n      <td></td>\n      <td>Ishq Vishk</td>\n    </tr>\n  </tbody>\n</table>\n<p>1723 rows × 10 columns</p>\n</div>"
     },
     "execution_count": 33,
     "metadata": {},
     "output_type": "execute_result"
    }
   ],
   "source": [
    "top_ten = reversed(similarity_embedding_overview[movie_number].argsort())\n",
    "print(\n",
    "    df[\"title\"][movie_number],\n",
    "    \"\\n====\\n\",\n",
    "    df[\"genres\"][movie_number],\n",
    "    \"\\n====\\n\",\n",
    "    df[\"keywords\"][movie_number],\n",
    "    \"\\n====\\n\",\n",
    "    df[\"overview\"][movie_number],\n",
    "    \"\\n====\\n\",\n",
    ")\n",
    "\n",
    "df_combined.loc[top_ten]"
   ],
   "metadata": {
    "collapsed": false,
    "ExecuteTime": {
     "end_time": "2024-01-06T17:58:05.780199670Z",
     "start_time": "2024-01-06T17:58:05.743644288Z"
    }
   },
   "id": "4a63d477ce225658",
   "execution_count": 33
  }
 ],
 "metadata": {
  "kernelspec": {
   "display_name": "Python 3",
   "language": "python",
   "name": "python3"
  },
  "language_info": {
   "codemirror_mode": {
    "name": "ipython",
    "version": 2
   },
   "file_extension": ".py",
   "mimetype": "text/x-python",
   "name": "python",
   "nbconvert_exporter": "python",
   "pygments_lexer": "ipython2",
   "version": "2.7.6"
  }
 },
 "nbformat": 4,
 "nbformat_minor": 5
}
